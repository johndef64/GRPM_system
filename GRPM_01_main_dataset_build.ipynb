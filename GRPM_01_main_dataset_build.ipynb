{
 "cells": [
  {
   "cell_type": "markdown",
   "metadata": {},
   "source": [
    "# GRPM Dataset Builder 2.0 (LitVar2 Patch)\n",
    "\n",
    "This notebook is designed to retrieve genetic polymorphism data from multiple sources. It uses the LitVar API to extract polymorphisms for each human gene within the LitVar2 database along with all associated PubMed Identifiers (PMIDs). These PMIDs are then employed as queries on PubMed to obtain MEDLINE data (parsed though the 'nbib' package). All collected data are ultimately consolidated into a single CSV file, known as the \"GRPM Dataset\", which serves as the primary source against which MeSH term queries can be launched to retrieve genes and polymorphisms associated with specific contexts.  \n",
    "\n",
    "**Updates** : \n",
    "\n",
    "The GRPM Dataset available on Zenodo is a snapshot of [LitVar1](https://www.ncbi.nlm.nih.gov/CBBresearch/Lu/Demo/LitVar/help.html). LitVar1 is now <u>**deprecated**</u> and has been fully replaced by [LitVar2](https://www.ncbi.nlm.nih.gov/research/litvar2/). This module \n",
    "([Dataset Builder](https://github.com/johndef64/GRPM_system/blob/main/GRPM_01_dataset_builder.ipynb)) has been updated to retrieve data from LitVar2. The subsequent modules in the pipeline remain functional and can be tested using the original version of the GRPM Dataset available on Zenodo."
   ]
  },
  {
   "cell_type": "markdown",
   "metadata": {},
   "source": [
    "# Import Requirements and Functions"
   ]
  },
  {
   "cell_type": "code",
   "execution_count": 1,
   "metadata": {
    "collapsed": false,
    "ExecuteTime": {
     "end_time": "2025-02-16T20:40:16.401148400Z",
     "start_time": "2025-02-16T20:40:06.645117500Z"
    }
   },
   "outputs": [
    {
     "name": "stderr",
     "output_type": "stream",
     "text": [
      "C:\\Users\\Utente\\anaconda3\\envs\\newenv\\lib\\site-packages\\sentence_transformers\\cross_encoder\\CrossEncoder.py:13: TqdmExperimentalWarning: Using `tqdm.autonotebook.tqdm` in notebook mode. Use `tqdm.tqdm` instead to force console mode (e.g. in jupyter console)\n",
      "  from tqdm.autonotebook import tqdm, trange\n"
     ]
    }
   ],
   "source": [
    "import importlib\n",
    "import subprocess\n",
    "\n",
    "try:\n",
    "    importlib.import_module('pygrpm')\n",
    "except ImportError:\n",
    "    subprocess.check_call([\"pip\", \"install\", \"git+https://github.com/johndef64/GRPM_system.git\"])\n",
    "\n",
    "from pygrpm import *\n",
    "from pygrpm.data_retrieval import *\n",
    "from pygrpm.utils import *\n",
    "\n",
    "# requirements = ['nbib', 'requests', \"biopython\", \"matplotlib\", \"bs4\", \"pandas\"]\n",
    "# check_and_install_requirements(requirements)\n",
    "\n",
    "\n",
    "# Import Requirements ================\n",
    "import os\n",
    "import ast\n",
    "import time\n",
    "import nbib\n",
    "import pandas as pd\n",
    "import requests as rq\n",
    "import matplotlib.pyplot as plt\n",
    "from datetime import datetime\n",
    "from io import StringIO\n",
    "from Bio import Entrez\n",
    "\n",
    "Entrez.email = \"your_email@example.com\"\n",
    "\n",
    "request_counter = 0\n",
    "gene_counter = 0"
   ]
  },
  {
   "cell_type": "markdown",
   "source": [
    "# Get required data from Zenodo"
   ],
   "metadata": {}
  },
  {
   "cell_type": "code",
   "outputs": [
    {
     "name": "stdout",
     "output_type": "stream",
     "text": [
      "Ensembl genes:\n",
      "protein_coding_genes_list = 19318\n",
      "RNA_genes_list            = 11452\n",
      "pseudo_genes_list         = 9866\n"
     ]
    }
   ],
   "source": [
    "if not os.path.exists('human_genes.csv'):\n",
    "    get_from_zenodo('human_genes.csv')\n",
    "\n",
    "# Load Human Gene list ---------------------------------\n",
    "h_genes= pd.read_csv('human_genes.csv', index_col=0)\n",
    "\n",
    "protein_coding_genes = h_genes[h_genes['Type code']==\"PCG\"  ].reset_index(drop=True)\n",
    "IG_TR_genes          = h_genes[h_genes['Type code']==\"IG_TR\"].reset_index(drop=True)\n",
    "RNA_genes            = h_genes[h_genes['Type code']==\"RNA\"  ].reset_index(drop=True)\n",
    "pseudo_genes         = h_genes[h_genes['Type code']==\"PSD\"  ].reset_index(drop=True)\n",
    "misc_genes           = h_genes[h_genes['Type code']==\"MISC\" ].reset_index(drop=True)\n",
    "\n",
    "#First: protein coding genes:\n",
    "protein_coding_genes_list = protein_coding_genes['Gene name'].dropna().tolist()\n",
    "RNA_genes_list            = RNA_genes['Gene name'].dropna().tolist()\n",
    "pseudo_genes_list         = pseudo_genes['Gene name'].dropna().tolist()\n",
    "\n",
    "print('Ensembl genes:')\n",
    "print('protein_coding_genes_list =',len(protein_coding_genes_list))\n",
    "print('RNA_genes_list            =',len(RNA_genes_list))\n",
    "print('pseudo_genes_list         =',len(pseudo_genes_list))"
   ],
   "metadata": {
    "collapsed": false,
    "ExecuteTime": {
     "end_time": "2025-02-16T20:40:22.715148400Z",
     "start_time": "2025-02-16T20:40:22.479146700Z"
    }
   },
   "execution_count": 2
  },
  {
   "cell_type": "markdown",
   "metadata": {},
   "source": [
    "# Whole genome forecast"
   ]
  },
  {
   "cell_type": "code",
   "execution_count": 3,
   "metadata": {
    "collapsed": false,
    "ExecuteTime": {
     "end_time": "2025-02-16T20:40:25.790148Z",
     "start_time": "2025-02-16T20:40:25.726148100Z"
    }
   },
   "outputs": [
    {
     "name": "stdout",
     "output_type": "stream",
     "text": [
      "Forecast:\n",
      "max genes/day=  2352\n",
      "for 19318 genes:\n",
      "    request counter = 82101.5 requests\n",
      "    whole genome runtime = 34.13 hours\n",
      "    whole genome runtime overnight = 40.03\n",
      "    db table size 7669.25 MB\n"
     ]
    }
   ],
   "source": [
    "#Statistics based on 150 random genes:\n",
    "time_sleep = 0.4\n",
    "runtime_gene = 6.36 #sec/gene\n",
    "genes_hour = 566 #genes/hour\n",
    "request_counter_gene = 4.25 #request/gene (with base sleep (0.4))\n",
    "sleep_request_base = 0.4 #time sleep each request\n",
    "sleep_request_overnight_plus = 1.1 # for an overnight job\n",
    "\n",
    "print('Forecast:')\n",
    "max_genes = int(10000/request_counter_gene)\n",
    "table_size_db_gene = 0.496 #MB\n",
    "table_size_gene = 0.397 #MB\n",
    "png_size_db_gene = 0.47 #KB\n",
    "\n",
    "#Forecast:\n",
    "genes = protein_coding_genes_list\n",
    "nruntime = len(genes) * runtime_gene\n",
    "#print('runtime, '+str(len(genes)), nruntime)\n",
    "nrequest_counter = len(genes) * request_counter_gene\n",
    "\n",
    "tempo_ore = round(nruntime/3600, 2)\n",
    "tempo_ore_overnight = round((nruntime+(sleep_request_overnight_plus*len(genes)))/3600, 2)\n",
    "\n",
    "print('max genes/day= ',max_genes)\n",
    "print('for',str(int(len(genes))),'genes:')\n",
    "print('    request counter =', nrequest_counter,'requests')\n",
    "print('    whole genome runtime =', tempo_ore,'hours')\n",
    "print('    whole genome runtime overnight =', tempo_ore_overnight)\n",
    "\n",
    "db_table_size = len(genes) * table_size_gene\n",
    "print('    db table size', round(db_table_size,2),'MB')"
   ]
  },
  {
   "cell_type": "markdown",
   "metadata": {},
   "source": [
    "# Load Human Genes"
   ]
  },
  {
   "cell_type": "code",
   "execution_count": 4,
   "metadata": {
    "collapsed": false,
    "ExecuteTime": {
     "end_time": "2025-02-16T20:40:28.305147900Z",
     "start_time": "2025-02-16T20:40:28.243147800Z"
    }
   },
   "outputs": [
    {
     "name": "stdout",
     "output_type": "stream",
     "text": [
      "protein_coding_genes 19318 \n",
      "IG_TR_genes 641 \n",
      "RNA_genes 11452 \n",
      "pseudo_genes 9866 \n",
      "misc_genes 22\n",
      "\n",
      "recommended job lenght for pcg: 1073\n"
     ]
    }
   ],
   "source": [
    "# Load Human Gene list ---------------------------------\n",
    "\n",
    "# create gene lists:\n",
    "protein_coding_genes_list = protein_coding_genes['Gene name'].dropna().tolist()\n",
    "rna_genes_list = RNA_genes['Gene name'].dropna().tolist()\n",
    "pseudo_genes_list = pseudo_genes['Gene name'].dropna().tolist()\n",
    "\n",
    "\n",
    "# Split job packages:----------------------------------\n",
    "\n",
    "# (1) protein coding genes:\n",
    "gene_range = int(len(protein_coding_genes_list)/18)\n",
    "genes = [protein_coding_genes_list[i * gene_range : (i + 1) * gene_range] for i in range(0, 18)]\n",
    "pcg_chunks = genes[:18]\n",
    "\n",
    "# (2) RNA genes:\n",
    "rna_gene_range = int(len(rna_genes_list)/5)\n",
    "genes = [rna_genes_list[i * rna_gene_range : (i + 1) * rna_gene_range] for i in range(0, 8)]\n",
    "rna_chunks = genes[:5]\n",
    "\n",
    "# (3) pseudo genes:\n",
    "pseudo_gene_range = int(len(pseudo_genes_list)/2)\n",
    "genes = [rna_genes_list[i * pseudo_gene_range : (i + 1) * pseudo_gene_range] for i in range(0, 8)]\n",
    "pseudo_chunks = genes[:2]\n",
    "\n",
    "print('protein_coding_genes',len(protein_coding_genes['Gene name'].dropna()),\n",
    "      '\\nIG_TR_genes',len(IG_TR_genes['Gene name'].dropna()),\n",
    "      '\\nRNA_genes',len(RNA_genes['Gene name'].dropna()),\n",
    "      '\\npseudo_genes',len(pseudo_genes['Gene name'].dropna()),\n",
    "      '\\nmisc_genes',len(misc_genes['Gene name'].dropna()))\n",
    "\n",
    "print('\\nrecommended job lenght for pcg:',int(len(protein_coding_genes_list)/18))"
   ]
  },
  {
   "cell_type": "markdown",
   "metadata": {},
   "source": [
    "# Set options and import building dataset"
   ]
  },
  {
   "cell_type": "code",
   "execution_count": 5,
   "metadata": {
    "collapsed": false,
    "ExecuteTime": {
     "end_time": "2025-02-16T20:40:33.951145700Z",
     "start_time": "2025-02-16T20:40:33.890149300Z"
    }
   },
   "outputs": [
    {
     "name": "stdout",
     "output_type": "stream",
     "text": [
      "time load 0:00:00.004001\n",
      "empty dataset\n",
      "empty dataset\n"
     ]
    }
   ],
   "source": [
    "# set main path:--------------------------------\n",
    "db_path = 'grpm_dataset/'\n",
    "if not os.path.exists(db_path):\n",
    "    os.makedirs(db_path)\n",
    "#------------------------------------------------\n",
    "\n",
    "\n",
    "#import checkpoint datasets:\n",
    "time_a = datetime.now()\n",
    "if os.path.isfile(db_path+'/grpm_dataset.parquet'):\n",
    "    complete_df = pd.read_parquet(db_path+'/grpm_dataset.parquet', engine='auto', columns=None)\n",
    "    restart = True\n",
    "else:\n",
    "    complete_df = pd.DataFrame()\n",
    "    restart = False\n",
    "\n",
    "if os.path.isfile(db_path+'/grpm_nbib.parquet'):\n",
    "    grpm_nbib = pd.read_parquet(db_path+'/grpm_nbib.parquet', engine='auto', columns=None)\n",
    "\n",
    "else:\n",
    "    grpm_nbib = pd.DataFrame()\n",
    "time_b = datetime.now()\n",
    "\n",
    "print('time load',time_b-time_a)\n",
    "\n",
    "## check saved data:\n",
    "if os.path.isfile(db_path+'/grpm_dataset.parquet'):\n",
    "    gene_db_count =  complete_df.gene.nunique()\n",
    "    print('complete_df gene count:',gene_db_count,'on', len(protein_coding_genes_list))\n",
    "    if gene_db_count >= 15519:\n",
    "        print('grpm db already contains all available genes on litvar1')\n",
    "\n",
    "    print('\\ngrpm_dataset.csv size'  ,round(os.path.getsize(db_path+'/grpm_dataset.parquet')/(1024*1024),3),'MB')\n",
    "    print('grpm_nbib.csv size',round(os.path.getsize(db_path+'/grpm_nbib.parquet')/(1024*1024),3),'MB')\n",
    "    print('memory_usage_complete_df'     ,round(complete_df.memory_usage().sum()/(1024*1024),3))\n",
    "    print('memory_usage_complete_nbib_df',round(grpm_nbib.memory_usage().sum()/(1024*1024),3))\n",
    "else:\n",
    "    print('empty dataset')\n",
    "    print('empty dataset')"
   ]
  },
  {
   "cell_type": "markdown",
   "metadata": {},
   "source": [
    "# Run Job"
   ]
  },
  {
   "cell_type": "markdown",
   "metadata": {},
   "source": [
    "## Set gene-range for this job"
   ]
  },
  {
   "cell_type": "code",
   "execution_count": 6,
   "metadata": {
    "collapsed": false,
    "ExecuteTime": {
     "end_time": "2025-02-16T20:40:40.203145600Z",
     "start_time": "2025-02-16T20:40:36.407147800Z"
    }
   },
   "outputs": [
    {
     "name": "stdout",
     "output_type": "stream",
     "text": [
      "sample size: 2\n",
      "saving checkpoint each 10 genes\n"
     ]
    }
   ],
   "source": [
    "# Set the gene list ----------------\n",
    "\n",
    "#1. Set gene-range [whole genome build]\n",
    "gene_chunk = pcg_chunks[0]\n",
    "            # pcg_chunks[0:17]\n",
    "            # rna_chunks[0:4]\n",
    "            # pseudo_chunks[0:1]\n",
    "\n",
    "# run a sample?\n",
    "run_sample = simple_bool('Do you want to run a chunk sample for testing?')\n",
    "if run_sample:\n",
    "    sample_size = int(input('sample size? \\nnum:'))\n",
    "    print(f'sample size: {sample_size}')\n",
    "\n",
    "\n",
    "#2. place here your custom gene list [custom build]\n",
    "if not run_sample:\n",
    "    custom_genes = ['APOA1', 'FFC1', 'ERH', 'USP53']\n",
    "    custom_list = simple_bool('Do you want to run the custom gene list?')\n",
    "else:\n",
    "    custom_list = False\n",
    "\n",
    "#if stucked, store skipped_genes and run custom list later:\n",
    "skipped_genes =  []\n",
    "\n",
    "# Set save interval checkpoint frequency\n",
    "checkpoint = 10\n",
    "print(f'saving checkpoint each {checkpoint} genes')"
   ]
  },
  {
   "cell_type": "markdown",
   "metadata": {},
   "source": [
    "## Run Job"
   ]
  },
  {
   "cell_type": "code",
   "execution_count": 7,
   "metadata": {
    "collapsed": false,
    "ExecuteTime": {
     "end_time": "2025-02-16T20:40:50.378145100Z",
     "start_time": "2025-02-16T20:40:42.743148100Z"
    }
   },
   "outputs": [
    {
     "name": "stdout",
     "output_type": "stream",
     "text": [
      "Start at  2025-02-16 21:40:42.746147\n",
      "ADAMTS12_runtime: 0:00:03.634034\n",
      "LILRA6_runtime: 0:00:03.634001\n",
      "saved checkpoint\n",
      "\n",
      "Job Statistics:\n",
      "gene batch: 2\n",
      "time batch: 0:00:07\n",
      "runtime/gene: 0:00:03.803499\n",
      "request_counter: 4  (limit: 10.000/day)\n",
      "requests/gene: 2.0\n",
      "2025-02-16 21:40:50.353145\n"
     ]
    }
   ],
   "source": [
    "# set options:--------------------------------\n",
    "save_plot           = False\n",
    "save_studytype_data = False\n",
    "save_accessory_data = False\n",
    "\n",
    "\n",
    "# Run Job -------------------------\n",
    "if run_sample:\n",
    "    genes = pd.Series(gene_chunk).sample(sample_size).reset_index(drop=True).to_list()\n",
    "    restart = False\n",
    "else:\n",
    "    genes = pd.Series(gene_chunk).to_list()\n",
    "\n",
    "if restart:\n",
    "    restart_from = complete_df.gene.nunique()\n",
    "    gene_start = restart_from\n",
    "    print('search restarted from '+str(restart_from))\n",
    "else:\n",
    "    gene_start = 0\n",
    "\n",
    "if custom_list:\n",
    "    genes = custom_genes\n",
    "    gene_start = 0\n",
    "\n",
    "\n",
    "#=========================================================================\n",
    "time_start = datetime.now()\n",
    "print('Start at ',time_start)\n",
    "\n",
    "for gene in genes[gene_start:]:\n",
    "\n",
    "    #LitVar2 \"Variants for Gene\" API request\n",
    "    if request_counter > 9950:\n",
    "        print('Request limit reached. Please, wait \\'till tomorrow!')\n",
    "\n",
    "    time_alpha = datetime.now()\n",
    "    url = \"https://www.ncbi.nlm.nih.gov/research/litvar2-api/variant/search/gene/\" + gene\n",
    "    response = (rq.get(url)).text\n",
    "\n",
    "    # Build Dataframe from response\n",
    "    data = \"[\" + transform_string(response) + \"]\"\n",
    "    df = pd.read_json(StringIO(data))\n",
    "\n",
    "    if 'rsid' in df.columns and len(df.rsid)>1:\n",
    "        # Creating a df without the clingen entry\n",
    "        dfb = df[['_id','pmids_count','rsid']]\n",
    "        dfa = dfb[~dfb['_id'].str.contains('@CA')].drop_duplicates().reset_index(drop=True)\n",
    "        dfn = dfa.dropna(subset=['rsid'])\n",
    "\n",
    "        #handle = Entrez.esearch(db=\"snp\", term=gene)\n",
    "        #record = Entrez.read(handle)\n",
    "        #request_counter += 1\n",
    "\n",
    "        NCBI_dbSNP = 'na' #record[\"Count\"]\n",
    "        lit2_variant = len(dfa['_id'].drop_duplicates())\n",
    "        lit2_variant_norsid = len(dfa.loc[df['rsid'].isna()])\n",
    "        lit2_rsid = len(dfn.rsid.drop_duplicates())\n",
    "\n",
    "        # remove rsid with pmid_count = 1\n",
    "        df2 = dfn.loc[df.pmids_count !=1]\n",
    "        lit2_rsid_f = len(df2)\n",
    "\n",
    "        # accessory data\n",
    "        dfsort = df.sort_values(by='pmids_count',ascending=False).reset_index(drop=True)\n",
    "        df2sort = df2.sort_values(by='pmids_count',ascending=False).reset_index(drop=True)\n",
    "      \n",
    "\n",
    "        for rsid in df2.rsid[0:1]:\n",
    "            url=\"https://www.ncbi.nlm.nih.gov/research/litvar2-api/variant/get/litvar@\"+rsid+\"%23%23/publications\"\n",
    "            response = (rq.get(url)).text\n",
    "            response_dict = ast.literal_eval(response)\n",
    "            rsid_pubs = pd.DataFrame({key: pd.Series(value) for key, value in response_dict.items()})\n",
    "            \n",
    "            #Display-------------------------------------------------------\n",
    "            pmid_mesh_spost = pd.DataFrame(rsid_pubs)\n",
    "            if 'pmids' in pmid_mesh_spost.columns and len(pmid_mesh_spost.pmids_count)>1:\n",
    "                lit1_rsid = 0\n",
    "    \n",
    "                # Creating the simple list [rsid-pmid]========================\n",
    "                rsidpmid = pmid_mesh_spost[['pmids']].copy()\n",
    "                rsidpmid['rsid'] = str(rsid)\n",
    "                rsidpmid['pmids'] = rsidpmid['pmids'].astype('str')\n",
    "                \n",
    "                #report data:\n",
    "                lit1_rsid_pmid = len(rsidpmid)\n",
    "                lit1_pmid = len(rsidpmid.drop_duplicates(subset='pmids'))\n",
    "    \n",
    "    \n",
    "                #### [MODULE: groupby.describe]\n",
    "                # applicare groupby ad rsidpmid per avere tabella pmid count\n",
    "                rsidpmidcount = rsidpmid.groupby('rsid').describe().reset_index()\n",
    "                rsidpmidcount.columns = rsidpmidcount.columns.to_flat_index()\n",
    "                new_column_names = ['rsid', 'pmid_count', 'pmid_unique','pmid_top','pmid_freq']\n",
    "                rsidpmidcount.columns = new_column_names\n",
    "                rsidpmidcountf = rsidpmidcount[['rsid','pmid_unique']]\n",
    "    \n",
    "                #report data:-------------------------------------------------------------\n",
    "                lit1_rsid_f = len(rsidpmidcountf[rsidpmidcountf.pmid_unique!=1])\n",
    "                lit1_rsid_m = len(rsidpmidcountf[rsidpmidcountf.pmid_unique==1])\n",
    "    \n",
    "                rsidpmidcountfsort = rsidpmidcountf.sort_values('pmid_unique',ascending=False).reset_index(drop=True)\n",
    "    \n",
    "    \n",
    "                #Filter pmid for rsid with pmid>1------------------------------------------\n",
    "                outless = rsidpmidcountfsort[rsidpmidcountfsort.pmid_unique>1]\n",
    "                #creare una mask isin su rsidpmid con outless.rsid\n",
    "                mask = rsidpmid['rsid'].isin(outless.rsid)\n",
    "                rsidpmidless = rsidpmid[mask]\n",
    "                lit1_pmid_f = len(rsidpmidless.pmids.drop_duplicates())\n",
    "\n",
    "\n",
    "                # PubMed Request =====================================================\n",
    "                \n",
    "                # PubMed queries Build:\n",
    "                pmid_l = rsidpmid.pmids.drop_duplicates().tolist()\n",
    "                query = build_pubmed_query(pmid_l, limit = 1300)\n",
    "                \n",
    "                ## Get PubMed data:     \n",
    "                time1 = datetime.now()\n",
    "                pages = ((len(pmid_l)//200)+1)+1\n",
    "                if len(pmid_l) % 200 == 0:\n",
    "                    pages = pages -1\n",
    "                fullnbib = str()\n",
    "                for d in query:\n",
    "                    for i in range(1, pages):\n",
    "                        nbib01 = GetPubmedData(i, d)                        \n",
    "                        fullnbib += nbib01\n",
    "                        request_counter += pages\n",
    "                        time.sleep(1.5)\n",
    "    \n",
    "                time2 = datetime.now()\n",
    "                timestamp = time2.strftime('%Y%m%d%H%M%S')\n",
    "                runtime = time2-time1\n",
    "                duration = str(runtime).split('.')[0]\n",
    "                hours, minutes, seconds = duration.split(':')\n",
    "                compact_duration = '{}:{}:{}'.format(hours, minutes, seconds)\n",
    "    \n",
    "                # nbib parsing:\n",
    "                timea = datetime.now()\n",
    "                ref = nbib.read(fullnbib)\n",
    "                dfbib = pd.DataFrame(ref)\n",
    "                if 'descriptors' in dfbib.columns and len(dfbib['descriptors'])>1:\n",
    "                    dfbibdes = dfbib[['pubmed_id','descriptors']].dropna().reset_index(drop=True)\n",
    "                    nbib_objects = len(dfbib)\n",
    "                    nbib_objects_withdescriptors = len(dfbibdes)\n",
    "                    #print('nibib objects:',nbib_objects)\n",
    "                    #print('nibib objects with descriptors:',len(dfbibdes))\n",
    "                    timeb = datetime.now()\n",
    "                    #print('runtime:', timeb-timea)\n",
    "    \n",
    "                    # Statistics:\n",
    "                    pubmed_pmid_nbib = len(dfbib.pubmed_id.drop_duplicates())\n",
    "                    pubmed_pmid_nbib_yesmesh = len(dfbibdes.pubmed_id.drop_duplicates())\n",
    "                    pubmed_pmid_nbib_nomesh = len(dfbib.pubmed_id.drop_duplicates())-len(dfbibdes.pubmed_id.drop_duplicates())\n",
    "    \n",
    "                    # refine MESH\n",
    "                    pmid_mesh = []\n",
    "                    for i in range(len(dfbibdes)):\n",
    "                        for mesh in dfbibdes['descriptors'][i]:\n",
    "                            out = dfbibdes['pubmed_id'][i], mesh\n",
    "                            pmid_mesh.append(out)\n",
    "                    MESH = pd.DataFrame(pmid_mesh).rename(columns={0: 'pmid',1:'mesh'})\n",
    "    \n",
    "                    # dataframe parsing splitting three fields\n",
    "                    MESH_split =[]\n",
    "                    for i in range(len(MESH)):\n",
    "                        mg = MESH.mesh[i].get('descriptor')\n",
    "                        mg2 = MESH.mesh[i].get('qualifier')\n",
    "                        mg3 = MESH.mesh[i].get('major')\n",
    "                        mgg = MESH.pmid[i], mg, mg2, mg3\n",
    "                        MESH_split.append(mgg)\n",
    "    \n",
    "                    dfmesh = pd.DataFrame(MESH_split).rename(columns={0: 'pmid',1:'mesh',2:'qualifier',3:'major'}).drop_duplicates()\n",
    "    \n",
    "                    # statistics\n",
    "                    pubmed_pmidmesh = len(dfmesh[['pmid','mesh']].drop_duplicates())\n",
    "                    pubmed_mesh_qualifier_major = len(MESH.mesh.drop_duplicates())\n",
    "                    pubmed_mesh = len(dfmesh.mesh.drop_duplicates())\n",
    "    \n",
    "                    pmidmesh = dfmesh[['pmid','mesh']].drop_duplicates()\n",
    "                    pmidmesh['pmid'] = pmidmesh['pmid'].astype(str) #convert pmid type in str\n",
    "    \n",
    "    \n",
    "                    #Analyze enrichment with groupby.describe method-------------------------------\n",
    "                    #Add rsid column con merge\n",
    "                    rsidpmid = rsidpmid.rename(columns={\"pmids\": \"pmid\"})\n",
    "                    rspmidmesh_merge = pd.merge(pmidmesh, rsidpmid, on= 'pmid', how='inner').drop_duplicates().reindex(columns=['pmid', 'rsid', 'mesh'])\n",
    "                    #rspmidmesh_merge['pmid'] = rspmidmesh_merge['pmid'].astype(str)\n",
    "    \n",
    "                    ### groupby.describe analysis by mesh\n",
    "                    meshrspmidmerge_count = rspmidmesh_merge.groupby('mesh').describe().reset_index()\n",
    "                    meshrspmidmerge_count.columns = meshrspmidmerge_count.columns.to_flat_index()\n",
    "                    #to handle generate df.groupby.describe, convert Multicolumn to single column https://datascientyst.com/flatten-multiindex-in-pandas/\n",
    "                    new_column_names = ['mesh', 'pmid-count', 'pmid-unique','pmid-top','pmid-freq','rsid-count', 'rsid-unique','rsid-top','rsid-freq']\n",
    "                    meshrspmidmerge_count.columns = new_column_names\n",
    "    \n",
    "                    meshrspmidmerge_count_short = meshrspmidmerge_count[['mesh','pmid-unique','rsid-unique']]\n",
    "\n",
    "    \n",
    "                    # add frequency\n",
    "                    totalpmid_count = len(pmidmesh.pmid.drop_duplicates())\n",
    "                    meshrspmidmerge_count_short_freq = meshrspmidmerge_count_short.copy()\n",
    "                    meshb_frq = meshrspmidmerge_count_short_freq.loc[:,'pmid-unique'].astype(float)/totalpmid_count\n",
    "                    meshrspmidmerge_count_short_freq.loc[:,'mesh frequency'] = round(meshb_frq,3)#*100\n",
    "                    meshrspmidmerge_count_short_freq_sort = meshrspmidmerge_count_short_freq.sort_values(by='pmid-unique',ascending=False).reset_index(drop=True)\n",
    "    \n",
    "                    top10mesh_all = meshrspmidmerge_count_short_freq_sort['mesh'][:10].tolist()\n",
    "                    #display(meshrspmidmerge_count_short_freq_sort.head(20))\n",
    "    \n",
    "                    ### groupby.describe analysis by rsid------------------\n",
    "                    rspmidmeshmerge_count = rspmidmesh_merge.groupby('rsid').describe().reset_index()\n",
    "                    rspmidmeshmerge_count.columns = rspmidmeshmerge_count.columns.to_flat_index()\n",
    "                    new_column_names = ['rsid', 'pmid-count', 'pmid-unique','pmid-top','pmid-freq','mesh-count', 'mesh-unique','mesh-top','mesh-freq']\n",
    "                    rspmidmeshmerge_count.columns = new_column_names\n",
    "    \n",
    "                    rsid_pmid10 = len(rspmidmeshmerge_count[rspmidmeshmerge_count['pmid-unique']>10])\n",
    "                    rsid_pmid50 = len(rspmidmeshmerge_count[rspmidmeshmerge_count['pmid-unique']>50])\n",
    "                    rsid_pmid100 = len(rspmidmeshmerge_count[rspmidmeshmerge_count['pmid-unique']>100])\n",
    "                                        \n",
    "    \n",
    "                    rspmidmeshmerge_count_short = rspmidmeshmerge_count[['rsid','pmid-unique','mesh-unique']]\n",
    "                    rspmidmeshmerge_count_short_sort = rspmidmeshmerge_count_short.sort_values(by='pmid-unique', ascending= False).reset_index(drop=True)\n",
    "                    top10rsid_all = rspmidmeshmerge_count_short_sort['rsid'].iloc[:10].tolist()\n",
    "\n",
    "                    # create a scatter plot-----------------------------------------\n",
    "                    if save_plot:\n",
    "                        plot_retrieval_data(meshrspmidmerge_count_short_freq_sort, timestamp, db_path, gene)\n",
    " \n",
    "                    # GET STUDY TYPE from NBIB----------------------------------------\n",
    "                    if save_studytype_data:\n",
    "                        get_studytype_data(ref, gene, db_path)\n",
    "    \n",
    "    \n",
    "                    #SAVE DATA========================================================\n",
    "                    timestamp = time2.strftime('%Y%m%d%H%M%S')\n",
    "                    # save accessory data:\n",
    "                    if save_accessory_data:\n",
    "                        dfsort[[\"_id\",\"rsid\",\"pmids_count\"]].to_csv(db_path+'/'+gene+'_litvar2_variants4gene.csv')\n",
    "                        rsidpmid.to_csv(db_path+'/'+gene+'_litvar1_rsids2pmids.csv') #lit1 [rsid-pmid]\n",
    "                        #rsidpmidcountfsort #lit1 pmid count\n",
    "    \n",
    "                        meshrspmidmerge_count_short_freq_sort.to_csv(db_path+'/'+gene+'_mesh_pmidrsid_count.csv')\n",
    "    \n",
    "                    #complete_df with concat:\n",
    "                    dfmesh['pmid'] = dfmesh['pmid'].astype(str)\n",
    "                    rsidpmid['pmid'] = rsidpmid['pmid'].astype(str)\n",
    "    \n",
    "                    # add a rsid-merger to dfmesh\n",
    "                    gene_rsidpmidmesh = pd.merge(rsidpmid, dfmesh, on='pmid')\n",
    "                    gene_rsidpmidmesh['gene'] = gene\n",
    "    \n",
    "                    gene_df = pd.DataFrame(gene_rsidpmidmesh)\n",
    "                    complete_df = pd.concat([complete_df, gene_rsidpmidmesh])\n",
    "    \n",
    "                    #grpm_nbib with concat:\n",
    "                    dfbib['gene'] = gene\n",
    "                    grpm_nbib = pd.concat([grpm_nbib, dfbib])\n",
    "    \n",
    "                    # save checkpoint----------------------\n",
    "                    if genes.index(gene) > 1 and genes.index(gene) % checkpoint == 0:\n",
    "                        save_checkpoint(complete_df, grpm_nbib, db_path)\n",
    "                    else:\n",
    "                        pass\n",
    "\n",
    "    \n",
    "                    # Build REPORT-------------------------------------------------\n",
    "                    time_omega = datetime.now()\n",
    "                    full_runtime = time_omega - time_alpha\n",
    "                    print(gene + '_runtime:', full_runtime)\n",
    "                    nbib_seconds = runtime.total_seconds()\n",
    "                    total_seconds = full_runtime.total_seconds()\n",
    "                    full_runtime_str = str(full_runtime).split('.')[0]\n",
    "    \n",
    "                    report = {'type': h_genes.loc[h_genes['Gene name'] == gene, 'Type code'].values[0],\n",
    "                              'ncbi_dbsnp': NCBI_dbSNP,\n",
    "                              'lit2_variant': lit2_variant,\n",
    "                              'lit2_variant_norsid': lit2_variant_norsid,\n",
    "                              'lit2_rsid': lit2_rsid,\n",
    "                              'lit2_rsid_plus1': lit2_rsid_f,\n",
    "                              'lit1_rsid': lit1_rsid,\n",
    "                              #'lit1_raw_pmid': lit1_raw_pmid,\n",
    "                              #'lit1_rsid_pmid': lit1_rsid_pmid,\n",
    "                              'lit1_rsid_pmid_plus1': lit1_rsid_f,\n",
    "                              #lit1_rsid_pmid=1': lit1_rsid_m,\n",
    "                              'lit1_pmid': lit1_pmid,\n",
    "                              'lit1_pmid_pmid_plus1': lit1_pmid_f,\n",
    "                              'pubmed_pmid_query': len(pmid_l),\n",
    "                              'nbib_objects': nbib_objects,\n",
    "                              'nbib_objects_withdescriptors': nbib_objects_withdescriptors,\n",
    "                              'pubmed_pmid': pubmed_pmid_nbib,\n",
    "                              'pubmed_pmid_withmesh': pubmed_pmid_nbib_yesmesh,\n",
    "                              #'pubmed_pmid_nomesh':pubmed_pmid_nbib_nomesh,\n",
    "                              'pubmed_pmidmesh': pubmed_pmidmesh,\n",
    "                              'pubmed_mesh_qualifier_major': pubmed_mesh_qualifier_major,\n",
    "                              'pubmed_mesh': pubmed_mesh,\n",
    "                              'rsid_pmid10': rsid_pmid10,\n",
    "                              'rsid_pmid50': rsid_pmid50,\n",
    "                              'rsid_pmid100': rsid_pmid100,\n",
    "                              'top10mesh_all': str(top10mesh_all),\n",
    "                              'top10rsid_all': str(top10rsid_all),\n",
    "                              'pubmed_runtime': duration,\n",
    "                              'total_runtime': full_runtime_str,\n",
    "                              'time_stamp': time2\n",
    "                              }\n",
    "    \n",
    "                    df_report = pd.DataFrame(report, index=[gene])#.transpose()\n",
    "    \n",
    "                    # generate fist report.csv\n",
    "                    if os.path.isfile(db_path+'/grpm_report.parquet'):\n",
    "                        #dfL = pd.read_csv(db_path+'/grpm_report.csv', index_col=0)\n",
    "                        dfL = pd.read_parquet(db_path+'/grpm_report.parquet')#, index_col=0)\n",
    "                        dfL = pd.concat([dfL, df_report])#, axis=1)\n",
    "                        dfL.to_parquet(db_path+'/grpm_report.parquet')\n",
    "                    else:\n",
    "                        df_report.to_parquet(db_path+'/grpm_report.parquet')  # solo la prima volta\n",
    "    \n",
    "                    #Update gene values\n",
    "                    #grpm_report = pd.read_csv(db_path+'/grpm_report.csv', index_col=0)\n",
    "                    grpm_report =  pd.read_parquet(db_path+'/grpm_report.parquet', engine='pyarrow')\n",
    "                    if gene + '.1' in grpm_report.columns:\n",
    "                        grpm_report = grpm_report.drop(columns=gene)\n",
    "                        grpm_report = grpm_report.rename(columns={gene + '.1': gene})\n",
    "                        grpm_report.to_csv(db_path+'/grpm_report.csv')\n",
    "                        print(gene,'already in db')\n",
    "                else:\n",
    "                    print(gene + ' no descriptors in NBIB')\n",
    "                    time.sleep(0.8)\n",
    "                    pass\n",
    "            else:\n",
    "                print(gene + ' no results on litvar2 (rsid2pmids)')\n",
    "                time.sleep(0.8)\n",
    "                pass\n",
    "    else:\n",
    "        print(gene + ' no results on litvar2 (gene2pmidcount)')\n",
    "        pass\n",
    "\n",
    "    if request_counter > 9000:\n",
    "        dada = 2\n",
    "        #print('Allert! Reaching pubmed request limit')\n",
    "    if request_counter > 9950:\n",
    "        #print('Request limit reached. Wait \\'till tomorrow!')\n",
    "        time_finish = datetime.now()\n",
    "        time_batch = time_finish - time_start\n",
    "        time_batch_str = str(time_batch).split('.')[0]\n",
    "        #print('time batch:', time_batch_str)\n",
    "        #break\n",
    "\n",
    "# Save Data\n",
    "save_checkpoint(complete_df, grpm_nbib, db_path)\n",
    "\n",
    "# Print Job Statistics\n",
    "time_finish = datetime.now()\n",
    "time_batch = time_finish - time_start\n",
    "time_batch_str = str(time_batch).split('.')[0]\n",
    "print('\\nJob Statistics:')\n",
    "print('gene batch:', len(genes))\n",
    "print('time batch:', time_batch_str)\n",
    "print('runtime/gene:', time_batch/len(genes))\n",
    "print('request_counter:', request_counter,' (limit: 10.000/day)')\n",
    "gene_counter += len(genes)\n",
    "print('requests/gene:', request_counter/gene_counter)\n",
    "print(time_finish)\n",
    "\n",
    "### notes:\n",
    "# LIMITS PubMed Programming Utilities (PMU)\n",
    "# 10 requests/second\n",
    "# 10,000 requests/day"
   ]
  },
  {
   "cell_type": "code",
   "execution_count": 8,
   "metadata": {
    "collapsed": false,
    "ExecuteTime": {
     "end_time": "2025-02-16T20:40:52.831145900Z",
     "start_time": "2025-02-16T20:40:52.709148400Z"
    }
   },
   "outputs": [
    {
     "name": "stdout",
     "output_type": "stream",
     "text": [
      "GRPM report:\n"
     ]
    },
    {
     "data": {
      "text/plain": "      index type ncbi_dbsnp  lit2_variant  lit2_variant_norsid  lit2_rsid  \\\n0  ADAMTS12  PCG         na           954                    4        943   \n1    LILRA6  PCG         na           292                    1        291   \n\n   lit2_rsid_plus1  lit1_rsid  lit1_rsid_pmid_plus1  lit1_pmid  ...  \\\n0              346          0                     1          2  ...   \n1              132          0                     1         14  ...   \n\n   pubmed_mesh_qualifier_major  pubmed_mesh  rsid_pmid10  rsid_pmid50  \\\n0                           33           28            0            0   \n1                          132          106            1            0   \n\n   rsid_pmid100                                      top10mesh_all  \\\n0             0  ['Genetic Variation', 'Humans', 'Age Factors',...   \n1             0  ['Humans', 'Mutation', 'Male', 'High-Throughpu...   \n\n   top10rsid_all  pubmed_runtime  total_runtime                 time_stamp  \n0   ['rs997598']         0:00:01        0:00:03 2025-02-16 21:40:46.286157  \n1  ['rs8105096']         0:00:02        0:00:03 2025-02-16 21:40:49.770180  \n\n[2 rows x 27 columns]",
      "text/html": "<div>\n<style scoped>\n    .dataframe tbody tr th:only-of-type {\n        vertical-align: middle;\n    }\n\n    .dataframe tbody tr th {\n        vertical-align: top;\n    }\n\n    .dataframe thead th {\n        text-align: right;\n    }\n</style>\n<table border=\"1\" class=\"dataframe\">\n  <thead>\n    <tr style=\"text-align: right;\">\n      <th></th>\n      <th>index</th>\n      <th>type</th>\n      <th>ncbi_dbsnp</th>\n      <th>lit2_variant</th>\n      <th>lit2_variant_norsid</th>\n      <th>lit2_rsid</th>\n      <th>lit2_rsid_plus1</th>\n      <th>lit1_rsid</th>\n      <th>lit1_rsid_pmid_plus1</th>\n      <th>lit1_pmid</th>\n      <th>...</th>\n      <th>pubmed_mesh_qualifier_major</th>\n      <th>pubmed_mesh</th>\n      <th>rsid_pmid10</th>\n      <th>rsid_pmid50</th>\n      <th>rsid_pmid100</th>\n      <th>top10mesh_all</th>\n      <th>top10rsid_all</th>\n      <th>pubmed_runtime</th>\n      <th>total_runtime</th>\n      <th>time_stamp</th>\n    </tr>\n  </thead>\n  <tbody>\n    <tr>\n      <th>0</th>\n      <td>ADAMTS12</td>\n      <td>PCG</td>\n      <td>na</td>\n      <td>954</td>\n      <td>4</td>\n      <td>943</td>\n      <td>346</td>\n      <td>0</td>\n      <td>1</td>\n      <td>2</td>\n      <td>...</td>\n      <td>33</td>\n      <td>28</td>\n      <td>0</td>\n      <td>0</td>\n      <td>0</td>\n      <td>['Genetic Variation', 'Humans', 'Age Factors',...</td>\n      <td>['rs997598']</td>\n      <td>0:00:01</td>\n      <td>0:00:03</td>\n      <td>2025-02-16 21:40:46.286157</td>\n    </tr>\n    <tr>\n      <th>1</th>\n      <td>LILRA6</td>\n      <td>PCG</td>\n      <td>na</td>\n      <td>292</td>\n      <td>1</td>\n      <td>291</td>\n      <td>132</td>\n      <td>0</td>\n      <td>1</td>\n      <td>14</td>\n      <td>...</td>\n      <td>132</td>\n      <td>106</td>\n      <td>1</td>\n      <td>0</td>\n      <td>0</td>\n      <td>['Humans', 'Mutation', 'Male', 'High-Throughpu...</td>\n      <td>['rs8105096']</td>\n      <td>0:00:02</td>\n      <td>0:00:03</td>\n      <td>2025-02-16 21:40:49.770180</td>\n    </tr>\n  </tbody>\n</table>\n<p>2 rows × 27 columns</p>\n</div>"
     },
     "metadata": {},
     "output_type": "display_data"
    },
    {
     "name": "stdout",
     "output_type": "stream",
     "text": [
      "\n",
      "GRPM genes gathered: 2\n",
      "\n",
      "NBIB table:\n"
     ]
    },
    {
     "data": {
      "text/plain": "       gene  pubmed_id citation_owner          nlm_status last_revision_date  \\\n0  ADAMTS12   25326100            NLM             MEDLINE         2022-12-07   \n1  ADAMTS12   24058506            NLM             MEDLINE         2021-10-21   \n0    LILRA6   37012232            NLM             MEDLINE         2024-05-15   \n1    LILRA6   29118384            NLM             MEDLINE         2022-12-07   \n2    LILRA6   36075891            NLM  PubMed-not-MEDLINE         2023-01-11   \n\n  electronic_issn linking_issn journal_volume journal_issue publication_date  \\\n0       1744-4292    1744-4292             10            10      2014 Oct 16   \n1       1932-6203    1932-6203              8             9             2013   \n0       2041-1723    2041-1723             14             1       2023 Apr 3   \n1       2045-2322    2045-2322              7             1       2017 Nov 8   \n2       2054-345X    2054-345X              9             1       2022 Sep 8   \n\n   ... revised_time accepted_time         pubmed_time        medline_time  \\\n0  ...          NaT           NaT 2014-10-19 06:00:00 2015-02-11 06:00:00   \n1  ...          NaT    2013-07-23 2013-09-24 06:00:00 2014-06-04 06:00:00   \n0  ...          NaT    2023-03-20 2023-04-04 06:00:00 2023-04-05 06:42:00   \n1  ...          NaT    2017-10-23 2017-11-10 06:00:00 2019-07-19 06:00:00   \n2  ...   2022-07-18    2022-07-20 2022-09-09 06:00:00 2022-09-09 06:01:00   \n\n          entrez_time              pii                           doi  \\\n0 2014-10-19 06:00:00             None         10.15252/msb.20145114   \n1 2013-09-24 06:00:00  PONE-D-13-18467  10.1371/journal.pone.0073950   \n0 2023-04-03 23:13:00            37547    10.1038/s41467-023-37547-0   \n1 2017-11-10 06:00:00            15183    10.1038/s41598-017-15183-1   \n2 2022-09-08 23:14:00              208    10.1038/s41439-022-00208-7   \n\n  publication_status print_issn   pages  \n0           epublish  1744-4292     754  \n1           epublish       None  e73950  \n0           epublish       None    1851  \n1           epublish       None   14992  \n2           epublish  2054-345X      31  \n\n[5 rows x 36 columns]",
      "text/html": "<div>\n<style scoped>\n    .dataframe tbody tr th:only-of-type {\n        vertical-align: middle;\n    }\n\n    .dataframe tbody tr th {\n        vertical-align: top;\n    }\n\n    .dataframe thead th {\n        text-align: right;\n    }\n</style>\n<table border=\"1\" class=\"dataframe\">\n  <thead>\n    <tr style=\"text-align: right;\">\n      <th></th>\n      <th>gene</th>\n      <th>pubmed_id</th>\n      <th>citation_owner</th>\n      <th>nlm_status</th>\n      <th>last_revision_date</th>\n      <th>electronic_issn</th>\n      <th>linking_issn</th>\n      <th>journal_volume</th>\n      <th>journal_issue</th>\n      <th>publication_date</th>\n      <th>...</th>\n      <th>revised_time</th>\n      <th>accepted_time</th>\n      <th>pubmed_time</th>\n      <th>medline_time</th>\n      <th>entrez_time</th>\n      <th>pii</th>\n      <th>doi</th>\n      <th>publication_status</th>\n      <th>print_issn</th>\n      <th>pages</th>\n    </tr>\n  </thead>\n  <tbody>\n    <tr>\n      <th>0</th>\n      <td>ADAMTS12</td>\n      <td>25326100</td>\n      <td>NLM</td>\n      <td>MEDLINE</td>\n      <td>2022-12-07</td>\n      <td>1744-4292</td>\n      <td>1744-4292</td>\n      <td>10</td>\n      <td>10</td>\n      <td>2014 Oct 16</td>\n      <td>...</td>\n      <td>NaT</td>\n      <td>NaT</td>\n      <td>2014-10-19 06:00:00</td>\n      <td>2015-02-11 06:00:00</td>\n      <td>2014-10-19 06:00:00</td>\n      <td>None</td>\n      <td>10.15252/msb.20145114</td>\n      <td>epublish</td>\n      <td>1744-4292</td>\n      <td>754</td>\n    </tr>\n    <tr>\n      <th>1</th>\n      <td>ADAMTS12</td>\n      <td>24058506</td>\n      <td>NLM</td>\n      <td>MEDLINE</td>\n      <td>2021-10-21</td>\n      <td>1932-6203</td>\n      <td>1932-6203</td>\n      <td>8</td>\n      <td>9</td>\n      <td>2013</td>\n      <td>...</td>\n      <td>NaT</td>\n      <td>2013-07-23</td>\n      <td>2013-09-24 06:00:00</td>\n      <td>2014-06-04 06:00:00</td>\n      <td>2013-09-24 06:00:00</td>\n      <td>PONE-D-13-18467</td>\n      <td>10.1371/journal.pone.0073950</td>\n      <td>epublish</td>\n      <td>None</td>\n      <td>e73950</td>\n    </tr>\n    <tr>\n      <th>0</th>\n      <td>LILRA6</td>\n      <td>37012232</td>\n      <td>NLM</td>\n      <td>MEDLINE</td>\n      <td>2024-05-15</td>\n      <td>2041-1723</td>\n      <td>2041-1723</td>\n      <td>14</td>\n      <td>1</td>\n      <td>2023 Apr 3</td>\n      <td>...</td>\n      <td>NaT</td>\n      <td>2023-03-20</td>\n      <td>2023-04-04 06:00:00</td>\n      <td>2023-04-05 06:42:00</td>\n      <td>2023-04-03 23:13:00</td>\n      <td>37547</td>\n      <td>10.1038/s41467-023-37547-0</td>\n      <td>epublish</td>\n      <td>None</td>\n      <td>1851</td>\n    </tr>\n    <tr>\n      <th>1</th>\n      <td>LILRA6</td>\n      <td>29118384</td>\n      <td>NLM</td>\n      <td>MEDLINE</td>\n      <td>2022-12-07</td>\n      <td>2045-2322</td>\n      <td>2045-2322</td>\n      <td>7</td>\n      <td>1</td>\n      <td>2017 Nov 8</td>\n      <td>...</td>\n      <td>NaT</td>\n      <td>2017-10-23</td>\n      <td>2017-11-10 06:00:00</td>\n      <td>2019-07-19 06:00:00</td>\n      <td>2017-11-10 06:00:00</td>\n      <td>15183</td>\n      <td>10.1038/s41598-017-15183-1</td>\n      <td>epublish</td>\n      <td>None</td>\n      <td>14992</td>\n    </tr>\n    <tr>\n      <th>2</th>\n      <td>LILRA6</td>\n      <td>36075891</td>\n      <td>NLM</td>\n      <td>PubMed-not-MEDLINE</td>\n      <td>2023-01-11</td>\n      <td>2054-345X</td>\n      <td>2054-345X</td>\n      <td>9</td>\n      <td>1</td>\n      <td>2022 Sep 8</td>\n      <td>...</td>\n      <td>2022-07-18</td>\n      <td>2022-07-20</td>\n      <td>2022-09-09 06:00:00</td>\n      <td>2022-09-09 06:01:00</td>\n      <td>2022-09-08 23:14:00</td>\n      <td>208</td>\n      <td>10.1038/s41439-022-00208-7</td>\n      <td>epublish</td>\n      <td>2054-345X</td>\n      <td>31</td>\n    </tr>\n  </tbody>\n</table>\n<p>5 rows × 36 columns</p>\n</div>"
     },
     "metadata": {},
     "output_type": "display_data"
    }
   ],
   "source": [
    "print('GRPM report:')\n",
    "report = pd.read_parquet(db_path+'/grpm_report.parquet', engine='pyarrow').reset_index()\n",
    "display(report.head())\n",
    "dataset = pd.read_parquet(db_path+'/grpm_dataset.parquet', engine='pyarrow')\n",
    "\n",
    "print('\\nGRPM genes gathered:', len(dataset.gene.drop_duplicates()))\n",
    "#display(dataset.gene.drop_duplicates())\n",
    "\n",
    "print('\\nNBIB table:')\n",
    "nbib_data = pd.read_parquet(db_path+'/grpm_nbib.parquet', engine='pyarrow' )\n",
    "display(nbib_data.head())"
   ]
  },
  {
   "cell_type": "markdown",
   "metadata": {},
   "source": [
    "# Show saved report"
   ]
  },
  {
   "cell_type": "code",
   "execution_count": 9,
   "metadata": {
    "collapsed": false,
    "ExecuteTime": {
     "end_time": "2025-02-16T20:41:01.484145400Z",
     "start_time": "2025-02-16T20:41:01.426146300Z"
    }
   },
   "outputs": [
    {
     "data": {
      "text/plain": "      index type ncbi_dbsnp  lit2_variant  lit2_variant_norsid  lit2_rsid  \\\n1    LILRA6  PCG         na           292                    1        291   \n0  ADAMTS12  PCG         na           954                    4        943   \n\n   lit2_rsid_plus1  lit1_rsid  lit1_rsid_pmid_plus1  lit1_pmid  ...  \\\n1              132          0                     1         14  ...   \n0              346          0                     1          2  ...   \n\n   pubmed_mesh_qualifier_major  pubmed_mesh  rsid_pmid10  rsid_pmid50  \\\n1                          132          106            1            0   \n0                           33           28            0            0   \n\n   rsid_pmid100                                      top10mesh_all  \\\n1             0  ['Humans', 'Mutation', 'Male', 'High-Throughpu...   \n0             0  ['Genetic Variation', 'Humans', 'Age Factors',...   \n\n   top10rsid_all  pubmed_runtime  total_runtime                 time_stamp  \n1  ['rs8105096']         0:00:02        0:00:03 2025-02-16 21:40:49.770180  \n0   ['rs997598']         0:00:01        0:00:03 2025-02-16 21:40:46.286157  \n\n[2 rows x 27 columns]",
      "text/html": "<div>\n<style scoped>\n    .dataframe tbody tr th:only-of-type {\n        vertical-align: middle;\n    }\n\n    .dataframe tbody tr th {\n        vertical-align: top;\n    }\n\n    .dataframe thead th {\n        text-align: right;\n    }\n</style>\n<table border=\"1\" class=\"dataframe\">\n  <thead>\n    <tr style=\"text-align: right;\">\n      <th></th>\n      <th>index</th>\n      <th>type</th>\n      <th>ncbi_dbsnp</th>\n      <th>lit2_variant</th>\n      <th>lit2_variant_norsid</th>\n      <th>lit2_rsid</th>\n      <th>lit2_rsid_plus1</th>\n      <th>lit1_rsid</th>\n      <th>lit1_rsid_pmid_plus1</th>\n      <th>lit1_pmid</th>\n      <th>...</th>\n      <th>pubmed_mesh_qualifier_major</th>\n      <th>pubmed_mesh</th>\n      <th>rsid_pmid10</th>\n      <th>rsid_pmid50</th>\n      <th>rsid_pmid100</th>\n      <th>top10mesh_all</th>\n      <th>top10rsid_all</th>\n      <th>pubmed_runtime</th>\n      <th>total_runtime</th>\n      <th>time_stamp</th>\n    </tr>\n  </thead>\n  <tbody>\n    <tr>\n      <th>1</th>\n      <td>LILRA6</td>\n      <td>PCG</td>\n      <td>na</td>\n      <td>292</td>\n      <td>1</td>\n      <td>291</td>\n      <td>132</td>\n      <td>0</td>\n      <td>1</td>\n      <td>14</td>\n      <td>...</td>\n      <td>132</td>\n      <td>106</td>\n      <td>1</td>\n      <td>0</td>\n      <td>0</td>\n      <td>['Humans', 'Mutation', 'Male', 'High-Throughpu...</td>\n      <td>['rs8105096']</td>\n      <td>0:00:02</td>\n      <td>0:00:03</td>\n      <td>2025-02-16 21:40:49.770180</td>\n    </tr>\n    <tr>\n      <th>0</th>\n      <td>ADAMTS12</td>\n      <td>PCG</td>\n      <td>na</td>\n      <td>954</td>\n      <td>4</td>\n      <td>943</td>\n      <td>346</td>\n      <td>0</td>\n      <td>1</td>\n      <td>2</td>\n      <td>...</td>\n      <td>33</td>\n      <td>28</td>\n      <td>0</td>\n      <td>0</td>\n      <td>0</td>\n      <td>['Genetic Variation', 'Humans', 'Age Factors',...</td>\n      <td>['rs997598']</td>\n      <td>0:00:01</td>\n      <td>0:00:03</td>\n      <td>2025-02-16 21:40:46.286157</td>\n    </tr>\n  </tbody>\n</table>\n<p>2 rows × 27 columns</p>\n</div>"
     },
     "execution_count": 9,
     "metadata": {},
     "output_type": "execute_result"
    }
   ],
   "source": [
    "# Visualize grpm_report.csv\n",
    "grpm_report = pd.read_parquet(db_path+'/grpm_report.parquet', engine='pyarrow').reset_index()\n",
    "\n",
    "# Sort Values\n",
    "grpm_report.sort_values(by='lit1_pmid',ascending = False)"
   ]
  },
  {
   "cell_type": "code",
   "execution_count": 14,
   "metadata": {
    "collapsed": false,
    "ExecuteTime": {
     "end_time": "2025-02-16T19:22:02.658309400Z",
     "start_time": "2025-02-16T19:22:01.394310400Z"
    }
   },
   "outputs": [
    {
     "data": {
      "text/plain": "<Figure size 400x800 with 1 Axes>",
      "image/png": "[encoded data removed]"
     },
     "metadata": {},
     "output_type": "display_data"
    }
   ],
   "source": [
    "# Show Bar Graph\n",
    "grpm_report_sort = grpm_report.sort_values(by= 'pubmed_pmid',ascending=False)\n",
    "\n",
    "x = grpm_report_sort['index'].iloc[:40]\n",
    "y = grpm_report_sort['pubmed_pmid'].iloc[:40]\n",
    "plt.figure(figsize=(4, 8))\n",
    "plt.title('PMIDs in Dataset', loc='center',pad=10)\n",
    "\n",
    "plt.barh(x,y)\n",
    "plt.gca().invert_yaxis()\n",
    "plt.tick_params(axis='x', which='both', top=True, bottom=False, labeltop=True, labelbottom=False)\n",
    "#plt.xlabel('pmid count', position=(0.5, 1.08))\n",
    "plt.ylabel('gene')\n",
    "plt.xlabel('pmid count', position=(0.5, 1.08))\n",
    "ax = plt.gca()\n",
    "ax.xaxis.set_label_position('top')\n",
    "#plt.savefig('PMID_filtered.png',dpi=300, bbox_inches = \"tight\")\n",
    "plt.show()"
   ]
  },
  {
   "cell_type": "markdown",
   "metadata": {},
   "source": [
    "# Debugging"
   ]
  },
  {
   "cell_type": "markdown",
   "metadata": {},
   "source": [
    "## debugging: litvar data"
   ]
  },
  {
   "cell_type": "code",
   "execution_count": null,
   "metadata": {
    "collapsed": false,
    "ExecuteTime": {
     "start_time": "2024-03-14T10:52:32.895096Z"
    }
   },
   "outputs": [],
   "source": [
    "# if stucked check 'data' variable:\n",
    "# replace manually malformed lines\n",
    "data"
   ]
  },
  {
   "cell_type": "markdown",
   "metadata": {},
   "source": [
    "## debugging: nbib"
   ]
  },
  {
   "cell_type": "code",
   "execution_count": null,
   "metadata": {
    "collapsed": false,
    "ExecuteTime": {
     "start_time": "2024-03-14T10:52:32.897093200Z"
    }
   },
   "outputs": [],
   "source": [
    "#NBIB PROBLEM SOLVER---------------------------------\n",
    "# replace malformed lines\n",
    "fullnbib= fullnbib.replace('2007/09/31','2007/09/30') # <= some dates are mispelled in pubmed\n",
    "ref = nbib.read(fullnbib)\n",
    "dfbib = pd.DataFrame(ref)\n",
    "dfbib"
   ]
  },
  {
   "cell_type": "markdown",
   "metadata": {},
   "source": [
    "NBIB PROBLEM SOLVER [History] ---------------------------------\n",
    "with open('nbib report '+gene+'.txt', 'w', encoding='utf-8') as file:\n",
    "    file.write(fullnbib)\n",
    "with open('nbib report '+gene+'_FIXED.txt', 'r', encoding='utf-8') as file:\n",
    "    fullnbib = file.read() # --> not work"
   ]
  },
  {
   "cell_type": "markdown",
   "metadata": {},
   "source": [
    "# extras"
   ]
  },
  {
   "cell_type": "markdown",
   "metadata": {},
   "source": [
    "## Eutils: get study type"
   ]
  },
  {
   "cell_type": "code",
   "execution_count": null,
   "metadata": {
    "collapsed": false,
    "ExecuteTime": {
     "start_time": "2024-03-14T10:52:32.899094600Z"
    }
   },
   "outputs": [],
   "source": [
    "check_and_install_module('biopython')\n",
    "from Bio import Entrez\n",
    "Entrez.email = \"your_email@example.com\""
   ]
  },
  {
   "cell_type": "code",
   "execution_count": null,
   "metadata": {
    "collapsed": false,
    "ExecuteTime": {
     "start_time": "2024-03-14T10:52:32.901094700Z"
    }
   },
   "outputs": [],
   "source": [
    "### EUTILS GET STUDY TYPE MODULE\n",
    "#https://biopython.org/docs/1.76/api/Bio.Entrez.html\n",
    "def get_study_type(pmids):\n",
    "    Entrez.email = 'your_email@your_domain.com'\n",
    "    handle = Entrez.esummary(db='pubmed', id=','.join(pmids), retmode='xml')\n",
    "    records = Entrez.parse(handle)\n",
    "    study_types = []\n",
    "    for record in records:\n",
    "        article_types = record['PubTypeList']\n",
    "        if 'Randomized Controlled Trial' in article_types:\n",
    "            study_types.append('Randomized Controlled Trial')\n",
    "        elif 'Controlled Clinical Trial' in article_types:\n",
    "            study_types.append('Controlled Clinical Trial')\n",
    "        elif 'Cohort Studies' in article_types:\n",
    "            study_types.append('Cohort Study')\n",
    "        elif 'Case-Control Studies' in article_types:\n",
    "            study_types.append('Case-Control Study')\n",
    "        elif 'Review' in article_types:\n",
    "            study_types.append('Review')\n",
    "        elif 'Clinical Trial' in article_types:\n",
    "            study_types.append('Clinical Trial')\n",
    "        elif 'Meta-Analysis' in article_types:\n",
    "            study_types.append('Meta-Analysis')\n",
    "        elif 'Multicenter Study' in article_types:\n",
    "            study_types.append('Multicenter Study')\n",
    "        else:\n",
    "            study_types.append('Unknown')\n",
    "    return study_types\n",
    "\n",
    "pmidlist = list(pmidmesh['pmid'].drop_duplicates())\n",
    "genepmids_str = list(map(str, pmidlist))\n",
    "study_type = get_study_type(genepmids_str)\n",
    "pmids_studytype = pd.DataFrame(list(zip(genepmids_str, study_type)), columns=[gene + '_PMID', 'study type'])\n",
    "request_counter += 1\n",
    "\n",
    "#study type count:\n",
    "pmids_studytype_count = pmids_studytype.groupby('study type').describe().reset_index()\n",
    "pmids_studytype_count.columns = pmids_studytype_count.columns.to_flat_index()\n",
    "new_column_names = ['study_type', 'pmid-count', 'pmid-unique', 'pmid-top', 'pmid-freq']\n",
    "pmids_studytype_count.columns = new_column_names\n",
    "pmids_studytype_countsort = pmids_studytype_count.sort_values(by='pmid-count', ascending=False)"
   ]
  }
 ],
 "metadata": {
  "kernelspec": {
   "display_name": "Python 3 (ipykernel)",
   "language": "python",
   "name": "python3"
  },
  "language_info": {
   "codemirror_mode": {
    "name": "ipython",
    "version": 3
   },
   "file_extension": ".py",
   "mimetype": "text/x-python",
   "name": "python",
   "nbconvert_exporter": "python",
   "pygments_lexer": "ipython3",
   "version": "3.11.3"
  }
 },
 "nbformat": 4,
 "nbformat_minor": 4
}
