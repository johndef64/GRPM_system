{
 "cells": [
  {
   "cell_type": "markdown",
   "metadata": {
    "collapsed": false
   },
   "source": [
    "# GWAS-GRPM Merger\n",
    "\n",
    "This notebook enables the integration of the GWAS catalog dataset into the existing GRPM dataset. It begins by retrieving the GRPM Survey data and applying a Gene Interest (GI) cut-off, which is used to prioritize relevant genes. Next, an alignment process merges the filtered GRPM Survey and the GWAS dataset based on their shared rsIDs (reference SNP id numbers). "
   ]
  },
  {
   "cell_type": "markdown",
   "source": [
    "Allignment between GWAS traits and MeSH terms is achieved by semantic similarity calculated by text embedding based on the BioBERT language model (GPU required)"
   ],
   "metadata": {
    "collapsed": false
   }
  },
  {
   "cell_type": "markdown",
   "source": [
    "An earlier version of the module employed a simple NLP-based method (deprecated):\n",
    "This method uses a correspondence dictionary and the Natural Language Toolkit (NLTK) to align the MeSH terms from GRPM with the GWAS-mapped traits. Lastly, for each rsID, the strongest SNP-risk allele is identified using the correspondence dictionary. This integrated data serves as a preliminary indicator of potential effect alleles and can be useful for further in-silico or clinical studies based on the identified associations."
   ],
   "metadata": {}
  },
  {
   "cell_type": "markdown",
   "metadata": {},
   "source": [
    "# Import Packages"
   ]
  },
  {
   "cell_type": "code",
   "outputs": [
    {
     "name": "stderr",
     "output_type": "stream",
     "text": [
      "C:\\Users\\Utente\\anaconda3\\envs\\newenv\\lib\\site-packages\\sentence_transformers\\cross_encoder\\CrossEncoder.py:13: TqdmExperimentalWarning: Using `tqdm.autonotebook.tqdm` in notebook mode. Use `tqdm.tqdm` instead to force console mode (e.g. in jupyter console)\n",
      "  from tqdm.autonotebook import tqdm, trange\n"
     ]
    },
    {
     "name": "stdout",
     "output_type": "stream",
     "text": [
      "The module 'sentence_transformers' is already installed.\n",
      "The module 'nltk' is already installed.\n"
     ]
    },
    {
     "name": "stderr",
     "output_type": "stream",
     "text": [
      "[nltk_data] Downloading package punkt to\n",
      "[nltk_data]     C:\\Users\\Utente\\AppData\\Roaming\\nltk_data...\n",
      "[nltk_data]   Package punkt is already up-to-date!\n",
      "[nltk_data] Downloading package averaged_perceptron_tagger to\n",
      "[nltk_data]     C:\\Users\\Utente\\AppData\\Roaming\\nltk_data...\n",
      "[nltk_data]   Package averaged_perceptron_tagger is already up-to-\n",
      "[nltk_data]       date!\n"
     ]
    },
    {
     "data": {
      "text/plain": "True"
     },
     "execution_count": 2,
     "metadata": {},
     "output_type": "execute_result"
    }
   ],
   "source": [
    "import importlib\n",
    "import subprocess\n",
    "\n",
    "try:\n",
    "    importlib.import_module('pygrpm')\n",
    "except ImportError:\n",
    "    subprocess.check_call([\"pip\", \"install\", \"git+https://github.com/johndef64/GRPM_system.git\"])\n",
    "\n",
    "from pygrpm import *\n",
    "\n",
    "import os\n",
    "import sys\n",
    "import pandas as pd\n",
    "import seaborn as sns\n",
    "from tqdm import tqdm\n",
    "import matplotlib.pyplot as plt\n",
    "from datetime import datetime\n",
    "if not 'google.colab' in sys.modules:\n",
    "    import pyperclip as pc\n",
    "\n",
    "\n",
    "# Check 'SentenceTransformer'\n",
    "check_and_install_module('sentence_transformers')\n",
    "from sentence_transformers import SentenceTransformer\n",
    "\n",
    "## Check 'NLTK'\n",
    "# get Natural Language Toolkit https://www.nltk.org/\n",
    "check_and_install_module('nltk')\n",
    "import nltk\n",
    "nltk.download('punkt')\n",
    "nltk.download('averaged_perceptron_tagger')"
   ],
   "metadata": {
    "collapsed": false,
    "ExecuteTime": {
     "end_time": "2025-02-16T21:27:40.014723700Z",
     "start_time": "2025-02-16T21:27:28.635624200Z"
    }
   },
   "execution_count": 2
  },
  {
   "cell_type": "markdown",
   "metadata": {},
   "source": [
    "# Get requirements"
   ]
  },
  {
   "cell_type": "markdown",
   "source": [
    "Get GRPM Data"
   ],
   "metadata": {
    "collapsed": false
   }
  },
  {
   "cell_type": "code",
   "outputs": [
    {
     "name": "stdout",
     "output_type": "stream",
     "text": [
      "Downloading nutrigenetic_dataset.zip from https://zenodo.org/record/14052302/files/nutrigenetic_dataset.zip?download=1\n"
     ]
    },
    {
     "name": "stderr",
     "output_type": "stream",
     "text": [
      "Downloading...\n",
      "From: https://zenodo.org/record/14052302/files/nutrigenetic_dataset.zip?download=1\n",
      "To: G:\\Altri computer\\Horizon\\horizon_workspace\\projects\\work\\#computer_science\\GRPM\\GRPM_system\\nutrigenetic_dataset.zip\n",
      "100%|██████████| 16.6M/16.6M [00:03<00:00, 5.21MB/s]\n"
     ]
    },
    {
     "name": "stdout",
     "output_type": "stream",
     "text": [
      "Extracting...\n",
      "ZIP file 'nutrigenetic_dataset.zip' extracted in 'G:\\Altri computer\\Horizon\\horizon_workspace\\projects\\work\\#computer_science\\GRPM\\GRPM_system' successfully.\n",
      "Download and extraction time  0:00:03.923077\n"
     ]
    }
   ],
   "source": [
    "# Get GRPM Dataset from Zenodo Repository\n",
    "#https://zenodo.org/record/8205724  DOI: 10.5281/zenodo.8205724\n",
    "\n",
    "if not os.path.exists('nutrigenetic_dataset/grpm_nutrigen.parquet'):\n",
    "    timea = datetime.now()\n",
    "    get_and_extract('nutrigenetic_dataset')\n",
    "    print('Download and extraction time ',datetime.now()-timea)"
   ],
   "metadata": {
    "collapsed": false,
    "ExecuteTime": {
     "end_time": "2025-02-16T21:27:50.900074500Z",
     "start_time": "2025-02-16T21:27:46.958002400Z"
    }
   },
   "execution_count": 3
  },
  {
   "cell_type": "markdown",
   "metadata": {},
   "source": [
    "Get MESH.csv from 'bioportal.bioontology.org'"
   ]
  },
  {
   "cell_type": "code",
   "execution_count": 5,
   "metadata": {
    "collapsed": false,
    "ExecuteTime": {
     "end_time": "2024-10-18T09:51:40.246344100Z",
     "start_time": "2024-10-18T09:49:50.624223100Z"
    }
   },
   "outputs": [],
   "source": [
    "%%time\n",
    "# Get GWAS dataset at https://www.ebi.ac.uk/gwas/docs/file-downloads\n",
    "\n",
    "if not os.path.exists('gwas_data'):\n",
    "    os.makedirs('gwas_data')\n",
    "\n",
    "if not os.path.exists('gwas_data/gwas_catalog_v1.0.2-associations_e109_r2023-03-27.tsv'):\n",
    "    get_file( url='https://www.ebi.ac.uk/gwas/api/search/downloads/alternative', file_name='gwas_catalog_v1.0.2-associations.tsv', dir = 'gwas_data')"
   ]
  },
  {
   "cell_type": "markdown",
   "metadata": {},
   "source": [
    "Workflow:\n",
    "\n",
    "1. Clean GWAS dataset\n",
    "   (in STRONGEST SNP-RISK ALLEL, drop \"?\")\n",
    "2. retrieve GRPM Survey data\n",
    "3. apply GI cut-off (0.0125) on GRPM Survey\n",
    "4. merge GWAS and GRPM on rsIDs\n",
    "5. align GRPM-MESH vs GWAS-mapped-trait\n",
    "6.  creating corrispondence dictionary\n",
    "    ['PUBMED_MESH','DISEASE/TRAIT']\n",
    "    through Tokenization -> Natural Language Toolkit https://www.nltk.org/\n",
    "7. get the STRONGEST SNP-RISK ALLELE\n"
   ]
  },
  {
   "cell_type": "markdown",
   "metadata": {},
   "source": [
    "# 1. Import GWAS dataset"
   ]
  },
  {
   "cell_type": "code",
   "execution_count": 3,
   "metadata": {
    "collapsed": false,
    "ExecuteTime": {
     "end_time": "2024-11-14T13:58:59.487768400Z",
     "start_time": "2024-11-14T13:58:45.977450100Z"
    }
   },
   "outputs": [
    {
     "name": "stdout",
     "output_type": "stream",
     "text": [
      "MAPPED_GENE:  18741\n",
      "STUDY:  6155\n",
      "SNP_ID:  296839\n",
      "SNPs: 346622\n",
      "DISEASE/TRAIT: 36599\n",
      "MAPPED_TRAIT: 11467\n",
      "Index(['DATE ADDED TO CATALOG', 'PUBMEDID', 'FIRST AUTHOR', 'DATE', 'JOURNAL',\n",
      "       'LINK', 'STUDY', 'DISEASE/TRAIT', 'INITIAL SAMPLE SIZE',\n",
      "       'REPLICATION SAMPLE SIZE', 'REGION', 'CHR_ID', 'CHR_POS',\n",
      "       'REPORTED GENE(S)', 'MAPPED_GENE', 'UPSTREAM_GENE_ID',\n",
      "       'DOWNSTREAM_GENE_ID', 'SNP_GENE_IDS', 'UPSTREAM_GENE_DISTANCE',\n",
      "       'DOWNSTREAM_GENE_DISTANCE', 'STRONGEST SNP-RISK ALLELE', 'SNPS',\n",
      "       'MERGED', 'SNP_ID_CURRENT', 'CONTEXT', 'INTERGENIC',\n",
      "       'RISK ALLELE FREQUENCY', 'P-VALUE', 'PVALUE_MLOG', 'P-VALUE (TEXT)',\n",
      "       'OR or BETA', '95% CI (TEXT)', 'PLATFORM [SNPS PASSING QC]', 'CNV',\n",
      "       'MAPPED_TRAIT', 'MAPPED_TRAIT_URI', 'STUDY ACCESSION',\n",
      "       'GENOTYPING TECHNOLOGY'],\n",
      "      dtype='object')\n",
      "CPU times: total: 12.6 s\n",
      "Wall time: 13.5 s\n"
     ]
    },
    {
     "data": {
      "text/plain": "       MAPPED_GENE           DISEASE/TRAIT            MAPPED_TRAIT  \\\n0          SHROOM2         Prostate cancer      prostate carcinoma   \n1             TAB3         Prostate cancer      prostate carcinoma   \n2        LINC01496         Prostate cancer      prostate carcinoma   \n3             OTX1         Prostate cancer      prostate carcinoma   \n4             MLPH         Prostate cancer      prostate carcinoma   \n...            ...                     ...                     ...   \n686499      RBFOX1  Educational attainment  educational attainment   \n686500      RBFOX1  Educational attainment  educational attainment   \n686501      RBFOX1  Educational attainment  educational attainment   \n686502      RBFOX1  Educational attainment  educational attainment   \n686503      RBFOX1  Educational attainment  educational attainment   \n\n       SNP_ID_CURRENT STRONGEST SNP-RISK ALLELE RISK ALLELE FREQUENCY  \n0              960417                rs960417-A           0.734063666  \n1             5972255               rs5972255-T           0.241454521  \n2            11338635             rs11338635-GA             0.3676828  \n3            58235267              rs58235267-G                 0.447  \n4            74001374              rs74001374-C                 0.714  \n...               ...                       ...                   ...  \n686499        2343522               rs2343522-T                0.1507  \n686500        8044082               rs8044082-T                0.3995  \n686501         722256                rs722256-C                0.7185  \n686502       10400992              rs10400992-C                0.6904  \n686503        1492376               rs1492376-C                0.7188  \n\n[655893 rows x 6 columns]",
      "text/html": "<div>\n<style scoped>\n    .dataframe tbody tr th:only-of-type {\n        vertical-align: middle;\n    }\n\n    .dataframe tbody tr th {\n        vertical-align: top;\n    }\n\n    .dataframe thead th {\n        text-align: right;\n    }\n</style>\n<table border=\"1\" class=\"dataframe\">\n  <thead>\n    <tr style=\"text-align: right;\">\n      <th></th>\n      <th>MAPPED_GENE</th>\n      <th>DISEASE/TRAIT</th>\n      <th>MAPPED_TRAIT</th>\n      <th>SNP_ID_CURRENT</th>\n      <th>STRONGEST SNP-RISK ALLELE</th>\n      <th>RISK ALLELE FREQUENCY</th>\n    </tr>\n  </thead>\n  <tbody>\n    <tr>\n      <th>0</th>\n      <td>SHROOM2</td>\n      <td>Prostate cancer</td>\n      <td>prostate carcinoma</td>\n      <td>960417</td>\n      <td>rs960417-A</td>\n      <td>0.734063666</td>\n    </tr>\n    <tr>\n      <th>1</th>\n      <td>TAB3</td>\n      <td>Prostate cancer</td>\n      <td>prostate carcinoma</td>\n      <td>5972255</td>\n      <td>rs5972255-T</td>\n      <td>0.241454521</td>\n    </tr>\n    <tr>\n      <th>2</th>\n      <td>LINC01496</td>\n      <td>Prostate cancer</td>\n      <td>prostate carcinoma</td>\n      <td>11338635</td>\n      <td>rs11338635-GA</td>\n      <td>0.3676828</td>\n    </tr>\n    <tr>\n      <th>3</th>\n      <td>OTX1</td>\n      <td>Prostate cancer</td>\n      <td>prostate carcinoma</td>\n      <td>58235267</td>\n      <td>rs58235267-G</td>\n      <td>0.447</td>\n    </tr>\n    <tr>\n      <th>4</th>\n      <td>MLPH</td>\n      <td>Prostate cancer</td>\n      <td>prostate carcinoma</td>\n      <td>74001374</td>\n      <td>rs74001374-C</td>\n      <td>0.714</td>\n    </tr>\n    <tr>\n      <th>...</th>\n      <td>...</td>\n      <td>...</td>\n      <td>...</td>\n      <td>...</td>\n      <td>...</td>\n      <td>...</td>\n    </tr>\n    <tr>\n      <th>686499</th>\n      <td>RBFOX1</td>\n      <td>Educational attainment</td>\n      <td>educational attainment</td>\n      <td>2343522</td>\n      <td>rs2343522-T</td>\n      <td>0.1507</td>\n    </tr>\n    <tr>\n      <th>686500</th>\n      <td>RBFOX1</td>\n      <td>Educational attainment</td>\n      <td>educational attainment</td>\n      <td>8044082</td>\n      <td>rs8044082-T</td>\n      <td>0.3995</td>\n    </tr>\n    <tr>\n      <th>686501</th>\n      <td>RBFOX1</td>\n      <td>Educational attainment</td>\n      <td>educational attainment</td>\n      <td>722256</td>\n      <td>rs722256-C</td>\n      <td>0.7185</td>\n    </tr>\n    <tr>\n      <th>686502</th>\n      <td>RBFOX1</td>\n      <td>Educational attainment</td>\n      <td>educational attainment</td>\n      <td>10400992</td>\n      <td>rs10400992-C</td>\n      <td>0.6904</td>\n    </tr>\n    <tr>\n      <th>686503</th>\n      <td>RBFOX1</td>\n      <td>Educational attainment</td>\n      <td>educational attainment</td>\n      <td>1492376</td>\n      <td>rs1492376-C</td>\n      <td>0.7188</td>\n    </tr>\n  </tbody>\n</table>\n<p>655893 rows × 6 columns</p>\n</div>"
     },
     "execution_count": 3,
     "metadata": {},
     "output_type": "execute_result"
    }
   ],
   "source": [
    "%%time\n",
    "#import dataset\n",
    "# Download gwas_catalog_v1.0.2-associations_e109_r2023-03-27.tsv from: https://www.ebi.ac.uk/gwas/docs/file-downloads\n",
    "\n",
    "df_gwas = pd.read_table('gwas_data/gwas_catalog_v1.0.2-associations.tsv', low_memory=False)\n",
    "df_gwas[['PUBMEDID','SNP_ID_CURRENT']] = df_gwas[['PUBMEDID','SNP_ID_CURRENT']].astype(str)\n",
    "\n",
    "df_gwas['MAPPED_GENE'] = df_gwas['MAPPED_GENE'].astype(str)  # Convert MAPPED_GENE column to string type\n",
    "clean_df_gwas = df_gwas[~df_gwas['MAPPED_GENE'].str.contains('- |,')] # drop readthough transcripts\n",
    "\n",
    "print('MAPPED_GENE: ', clean_df_gwas['MAPPED_GENE'].nunique())\n",
    "print('STUDY: ', len(df_gwas['STUDY'].drop_duplicates()))\n",
    "print('SNP_ID: ', len(df_gwas['SNP_ID_CURRENT'].drop_duplicates()))\n",
    "print('SNPs:',         df_gwas.SNPS            .nunique())\n",
    "print('DISEASE/TRAIT:',df_gwas['DISEASE/TRAIT'].nunique())\n",
    "print('MAPPED_TRAIT:', df_gwas['MAPPED_TRAIT'] .nunique())\n",
    "\n",
    "print(df_gwas.columns)\n",
    "df_gwas[['MAPPED_GENE','DISEASE/TRAIT','MAPPED_TRAIT','SNP_ID_CURRENT','STRONGEST SNP-RISK ALLELE','RISK ALLELE FREQUENCY']].drop_duplicates()"
   ]
  },
  {
   "cell_type": "code",
   "outputs": [
    {
     "data": {
      "text/plain": "MAPPED_TRAIT\nbody height                                                             27453\nblood protein measurement                                               16760\nbody mass index                                                         15537\nhigh density lipoprotein cholesterol measurement                         8536\ntriglyceride measurement                                                 8008\n                                                                        ...  \nviral subtype carrier status                                                1\n10-nonadecenoate 19:1n9 measurement                                         1\npyelonephritis                                                              1\nlevel of bromodomain-containing protein 2 in blood serum                    1\ntrait in response to traditional medicine, drug-induced liver injury        1\nName: count, Length: 11467, dtype: int64"
     },
     "execution_count": 4,
     "metadata": {},
     "output_type": "execute_result"
    }
   ],
   "source": [
    "df_gwas['MAPPED_TRAIT'].value_counts()#.to_csv('MAPPED_TRAIT_value_count.csv')"
   ],
   "metadata": {
    "collapsed": false,
    "ExecuteTime": {
     "end_time": "2024-10-21T09:46:49.800401500Z",
     "start_time": "2024-10-21T09:46:49.745069200Z"
    }
   },
   "execution_count": 4
  },
  {
   "cell_type": "markdown",
   "metadata": {},
   "source": [
    "# 2. Preprocess GWAS dataset (required)"
   ]
  },
  {
   "cell_type": "code",
   "execution_count": 4,
   "metadata": {
    "collapsed": false,
    "ExecuteTime": {
     "end_time": "2024-11-14T14:00:38.015620400Z",
     "start_time": "2024-11-14T14:00:36.901662200Z"
    }
   },
   "outputs": [
    {
     "name": "stdout",
     "output_type": "stream",
     "text": [
      "Drop no risk allele:\n",
      "SNPs: 142639\n",
      "DISEASE/TRAIT: 22140\n",
      "MAPPED_TRAIT: 7927\n"
     ]
    }
   ],
   "source": [
    "import pyarrow\n",
    "data_path = 'gwas_data/gwas_catalog_processed.parquet'\n",
    "if not data_path:\n",
    "    choose_df = clean_df_gwas # or full df_gwas\n",
    "    \n",
    "    # Drop non risk/effect allele:\n",
    "    mask = df_gwas['STRONGEST SNP-RISK ALLELE'].str.contains(\"\\?\")\n",
    "    df_gwas_drop = choose_df[-mask].reset_index(drop=True)\n",
    "    \n",
    "    # Drop complementary base allele (risk allele freq missing)\n",
    "    df_gwas_drop_nonan = df_gwas_drop.dropna(subset=['RISK ALLELE FREQUENCY'],axis=0).reset_index(drop=True)\n",
    "    df_gwas_drop_nonan.to_parquet(data_path, engine= 'pyarrow', index=False)\n",
    "    df_gwas_ = df_gwas_drop_nonan\n",
    "else:\n",
    "    df_gwas_drop_nonan = pd.read_parquet(data_path, engine= 'pyarrow')\n",
    "    df_gwas_ = df_gwas_drop_nonan\n",
    "    \n",
    "print('Drop no risk allele:')\n",
    "print('SNPs:',len(df_gwas_drop_nonan.SNPS.drop_duplicates()))\n",
    "print('DISEASE/TRAIT:',len(df_gwas_drop_nonan['DISEASE/TRAIT'].drop_duplicates()))\n",
    "print('MAPPED_TRAIT:',len(df_gwas_drop_nonan['MAPPED_TRAIT'].drop_duplicates()))"
   ]
  },
  {
   "cell_type": "code",
   "outputs": [
    {
     "data": {
      "text/plain": "Index(['DATE ADDED TO CATALOG', 'PUBMEDID', 'FIRST AUTHOR', 'DATE', 'JOURNAL',\n       'LINK', 'STUDY', 'DISEASE/TRAIT', 'INITIAL SAMPLE SIZE',\n       'REPLICATION SAMPLE SIZE', 'REGION', 'CHR_ID', 'CHR_POS',\n       'REPORTED GENE(S)', 'MAPPED_GENE', 'UPSTREAM_GENE_ID',\n       'DOWNSTREAM_GENE_ID', 'SNP_GENE_IDS', 'UPSTREAM_GENE_DISTANCE',\n       'DOWNSTREAM_GENE_DISTANCE', 'STRONGEST SNP-RISK ALLELE', 'SNPS',\n       'MERGED', 'SNP_ID_CURRENT', 'CONTEXT', 'INTERGENIC',\n       'RISK ALLELE FREQUENCY', 'P-VALUE', 'PVALUE_MLOG', 'P-VALUE (TEXT)',\n       'OR or BETA', '95% CI (TEXT)', 'PLATFORM [SNPS PASSING QC]', 'CNV',\n       'MAPPED_TRAIT', 'MAPPED_TRAIT_URI', 'STUDY ACCESSION',\n       'GENOTYPING TECHNOLOGY'],\n      dtype='object')"
     },
     "execution_count": 4,
     "metadata": {},
     "output_type": "execute_result"
    }
   ],
   "source": [
    "df_gwas_.columns"
   ],
   "metadata": {
    "collapsed": false,
    "ExecuteTime": {
     "end_time": "2024-10-29T09:06:14.186842400Z",
     "start_time": "2024-10-29T09:06:14.071269800Z"
    }
   },
   "execution_count": 4
  },
  {
   "cell_type": "markdown",
   "metadata": {},
   "source": [
    "Full dataset:\n",
    "SNPs: 267372\n",
    "DISEASE/TRAIT: 21399\n",
    "MAPPED_TRAIT: 7690"
   ]
  },
  {
   "cell_type": "markdown",
   "metadata": {},
   "source": [
    "# 3. Merge GWAS and Nutrigen-GRPM"
   ]
  },
  {
   "cell_type": "markdown",
   "source": [
    "## BioBERT Semantic Alignment "
   ],
   "metadata": {
    "collapsed": false
   }
  },
  {
   "cell_type": "markdown",
   "source": [
    "### I. Load Nutrigen GRPM "
   ],
   "metadata": {
    "collapsed": false
   }
  },
  {
   "cell_type": "code",
   "outputs": [
    {
     "data": {
      "text/plain": "0                    Body Mass Index\n1          Diabetes Mellitus, Type 2\n2                               Diet\n4            Cardiovascular Diseases\n5                            Obesity\n                     ...            \n1161146         Conjugation, Genetic\n1163895    Absorption, Physiological\n1166849       Ketone Oxidoreductases\n1169431        Mucociliary Clearance\n1169774            Liver Circulation\nName: mesh, Length: 1486, dtype: object"
     },
     "execution_count": 9,
     "metadata": {},
     "output_type": "execute_result"
    }
   ],
   "source": [
    "grpm_nutrigen_int = pd.read_parquet('grpm_nutrigen_int.parquet')\n",
    "grpm_meshs = grpm_nutrigen_int.mesh.drop_duplicates()\n",
    "grpm_nutrigen_int.head(5)\n",
    "grpm_meshs"
   ],
   "metadata": {
    "collapsed": false,
    "ExecuteTime": {
     "end_time": "2024-10-22T12:20:27.895937300Z",
     "start_time": "2024-10-22T12:20:27.384647200Z"
    }
   },
   "execution_count": 9
  },
  {
   "cell_type": "markdown",
   "source": [
    "### II. Get embeddings"
   ],
   "metadata": {
    "collapsed": false
   }
  },
  {
   "cell_type": "code",
   "outputs": [
    {
     "name": "stderr",
     "output_type": "stream",
     "text": [
      "No sentence-transformers model found with name C:\\Users\\Utente/.cache\\torch\\sentence_transformers\\dmis-lab_biobert-v1.1. Creating a new one with MEAN pooling.\n"
     ]
    },
    {
     "data": {
      "text/plain": "Batches:   0%|          | 0/47 [00:00<?, ?it/s]",
      "application/vnd.jupyter.widget-view+json": {
       "version_major": 2,
       "version_minor": 0,
       "model_id": "da1d2414f4bf4458a0f4f25a23832c53"
      }
     },
     "metadata": {},
     "output_type": "display_data"
    }
   ],
   "source": [
    "from sentence_transformers import SentenceTransformer\n",
    "\n",
    "# Choose embedding model\n",
    "language_model = 'dmis-lab/biobert-v1.1'\n",
    "model = SentenceTransformer(language_model)\n",
    "\n",
    "def extract_embedding(input_text):\n",
    "    # Encode the input text to get the embedding\n",
    "    embedding = model.encode(input_text, show_progress_bar=True)\n",
    "    return embedding\n",
    "\n",
    "# Get MeSH embeddings\n",
    "grpm_meshs = grpm_meshs.reset_index(drop=True)\n",
    "mesh_embeddings = extract_embedding(grpm_meshs.to_list())\n",
    "len(mesh_embeddings)"
   ],
   "metadata": {
    "collapsed": false,
    "ExecuteTime": {
     "end_time": "2024-10-18T13:40:46.326048500Z",
     "start_time": "2024-10-18T13:40:36.773569700Z"
    }
   },
   "execution_count": 206
  },
  {
   "cell_type": "code",
   "outputs": [
    {
     "data": {
      "text/plain": "Batches:   0%|          | 0/692 [00:00<?, ?it/s]",
      "application/vnd.jupyter.widget-view+json": {
       "version_major": 2,
       "version_minor": 0,
       "model_id": "649eda7415e0460cabc98abcc8bd346a"
      }
     },
     "metadata": {},
     "output_type": "display_data"
    },
    {
     "data": {
      "text/plain": "0                                           Prostate cancer\n17          Attention deficit hyperactivity disorder (MTAG)\n22                          Autism spectrum disorder (MTAG)\n26                                  Bipolar disorder (MTAG)\n27        Sex hormone-binding globulin levels adjusted f...\n                                ...                        \n285582                   DTI TBSS L1 Cingulum hippocampus R\n285641                                   Neutral fat levels\n285654                                      Globulin levels\n285655                               Albumin-globulin ratio\n285657                      High-density lipoprotein levels\nName: DISEASE/TRAIT, Length: 22140, dtype: object"
     },
     "execution_count": 26,
     "metadata": {},
     "output_type": "execute_result"
    }
   ],
   "source": [
    "# get GWAS embeddings\n",
    "gwas_traits = df_gwas_['DISEASE/TRAIT'].drop_duplicates()\n",
    "gwas_traits = gwas_traits.reset_index(drop=True)\n",
    "gwas_embedding = extract_embedding(gwas_traits.to_list())\n",
    "len(gwas_embedding)"
   ],
   "metadata": {
    "collapsed": false,
    "ExecuteTime": {
     "end_time": "2024-10-18T10:14:55.470101Z",
     "start_time": "2024-10-18T10:13:23.535142500Z"
    }
   },
   "execution_count": 26
  },
  {
   "cell_type": "markdown",
   "source": [
    "### III. Build the GWAS-MESH correspondence table."
   ],
   "metadata": {
    "collapsed": false
   }
  },
  {
   "cell_type": "code",
   "outputs": [
    {
     "name": "stderr",
     "output_type": "stream",
     "text": [
      "100%|██████████| 22140/22140 [05:16<00:00, 69.89it/s]\n"
     ]
    },
    {
     "name": "stdout",
     "output_type": "stream",
     "text": [
      "       gwas_id  mesh_id  Max Value\n",
      "0            0      821   0.827773\n",
      "1            1      401   0.843977\n",
      "2            2      189   0.858547\n",
      "3            3      189   0.854128\n",
      "4            4      271   0.857558\n",
      "...        ...      ...        ...\n",
      "22135    22135      496   0.840492\n",
      "22136    22136      132   0.883530\n",
      "22137    22137     1312   0.873910\n",
      "22138    22138     1338   0.877087\n",
      "22139    22139      126   0.917905\n",
      "\n",
      "[22140 rows x 3 columns]\n",
      "CPU times: total: 5min 10s\n",
      "Wall time: 5min 17s\n"
     ]
    }
   ],
   "source": [
    "%%time\n",
    "import numpy as np\n",
    "import pandas as pd\n",
    "from tqdm import tqdm\n",
    "\n",
    "array2 = mesh_embeddings#[:100]\n",
    "array1 =  gwas_embedding#[:100]\n",
    "\n",
    "# Function to compute cosine similarity\n",
    "def cosine_similarity(vec1, vec2):\n",
    "    dot_product = np.dot(vec1, vec2)\n",
    "    norm_vec1 = np.linalg.norm(vec1)\n",
    "    norm_vec2 = np.linalg.norm(vec2)\n",
    "    return dot_product / (norm_vec1 * norm_vec2)\n",
    "\n",
    "# Calculate the cosine similarities\n",
    "similarities = np.zeros((array1.shape[0], array2.shape[0]))\n",
    "for i in tqdm(range(array1.shape[0])):\n",
    "    for j in range(array2.shape[0]):\n",
    "        similarities[i, j] = cosine_similarity(array1[i], array2[j])\n",
    "\n",
    "# Create a DataFrame with the similarities\n",
    "similarities_df = pd.DataFrame(similarities, index=[i for i in range(array1.shape[0])],\n",
    "                               columns=[j for j in range(array2.shape[0])])\n",
    "\n",
    "# Find the index of the maximum value in each row\n",
    "max_indices = similarities_df.idxmax(axis=1)\n",
    "# Find the maximum value in each row\n",
    "max_values = similarities_df.max(axis=1)\n",
    "\n",
    "# Create a DataFrame with the correspondence between row index and column values\n",
    "correspondence_table_gwas_mesh = pd.DataFrame({\n",
    "    \"gwas_id\": max_indices.index,\n",
    "    \"mesh_id\": max_indices.values,\n",
    "    \"Max Value\": max_values.values\n",
    "})\n",
    "print(correspondence_table_gwas_mesh)"
   ],
   "metadata": {
    "collapsed": false,
    "ExecuteTime": {
     "end_time": "2024-10-18T13:46:32.361912500Z",
     "start_time": "2024-10-18T13:41:15.322889600Z"
    }
   },
   "execution_count": 208
  },
  {
   "cell_type": "code",
   "outputs": [],
   "source": [
    "# Initialize an empty list to hold data for each row\n",
    "\n",
    "data_rows = []  # List to store each row as a dictionary\n",
    "\n",
    "for i in range(len(correspondence_table_gwas_mesh)):  # Loop over index range\n",
    "    mesh_id = correspondence_table_gwas_mesh['mesh_id'][i]\n",
    "    gwas_id = correspondence_table_gwas_mesh['gwas_id'][i]\n",
    "    sim_value = correspondence_table_gwas_mesh['Max Value'][i]\n",
    "\n",
    "    # Create a dictionary for the new row\n",
    "    new_row = {\n",
    "        'gwas_trait': gwas_traits[gwas_id],\n",
    "        'mesh': grpm_meshs[mesh_id],\n",
    "        'similarity': sim_value\n",
    "    }\n",
    "\n",
    "    data_rows.append(new_row)  # Append to list of rows\n",
    "\n",
    "# Create a DataFrame directly from the list of data rows\n",
    "gwas_mesh_df = pd.DataFrame(data_rows)"
   ],
   "metadata": {
    "collapsed": false,
    "ExecuteTime": {
     "end_time": "2024-10-18T13:47:36.259441100Z",
     "start_time": "2024-10-18T13:47:35.162330800Z"
    }
   },
   "execution_count": 210
  },
  {
   "cell_type": "code",
   "outputs": [
    {
     "data": {
      "text/plain": "<Figure size 1000x600 with 1 Axes>",
      "image/png": "[encoded data removed]"
     },
     "metadata": {},
     "output_type": "display_data"
    }
   ],
   "source": [
    "# Show Similarity Distribution\n",
    "import pandas as pd\n",
    "import matplotlib.pyplot as plt\n",
    "import seaborn as sns\n",
    "df = gwas_mesh_df\n",
    "df_sorted = df.sort_values(by='similarity')#[:20]\n",
    "# Plot the distribution of the 'similarity' values\n",
    "plt.figure(figsize=(10, 6))\n",
    "sns.histplot(df_sorted['similarity'], bins=50, kde=True)\n",
    "plt.title('Distribution of Similarity Values')\n",
    "plt.xlabel('Similarity')\n",
    "plt.ylabel('Frequency')\n",
    "plt.show()"
   ],
   "metadata": {
    "collapsed": false,
    "ExecuteTime": {
     "end_time": "2024-10-18T13:47:39.605242900Z",
     "start_time": "2024-10-18T13:47:38.127920700Z"
    }
   },
   "execution_count": 211
  },
  {
   "cell_type": "code",
   "outputs": [],
   "source": [
    "if simple_bool('save corr table?'): gwas_mesh_df.to_csv('gwas_data/gwas_mesh_correspondance_nutrigen.csv', index=False)\n",
    "\n",
    "if simple_bool('load corr table?'): gwas_mesh_df = pd.read_csv('gwas_data/gwas_mesh_correspondance_nutrigen.csv')"
   ],
   "metadata": {
    "collapsed": false,
    "ExecuteTime": {
     "end_time": "2024-10-22T12:32:23.411870200Z",
     "start_time": "2024-10-22T12:32:18.147131100Z"
    }
   },
   "execution_count": 30
  },
  {
   "cell_type": "code",
   "outputs": [
    {
     "data": {
      "text/plain": "0                      Body Mass Index\n2                                 Diet\n4              Cardiovascular Diseases\n5                              Obesity\n6                     Body Composition\n                      ...             \n1113483                     Metabolism\n1116003            Adenoma, Liver Cell\n1116127                  Glycosylation\n1144395    NADH, NADPH Oxidoreductases\n1166849         Ketone Oxidoreductases\nName: mesh, Length: 376, dtype: object"
     },
     "execution_count": 13,
     "metadata": {},
     "output_type": "execute_result"
    }
   ],
   "source": [
    "gwas_mesh_df_threshold = gwas_mesh_df[gwas_mesh_df.similarity>=0.9]\n",
    "gwas_mesh_df_threshold[gwas_mesh_df_threshold.mesh.isin(grpm_meshs)]\n",
    "grpm_meshs[grpm_meshs.isin(gwas_mesh_df_threshold.mesh)]"
   ],
   "metadata": {
    "collapsed": false,
    "ExecuteTime": {
     "end_time": "2024-10-21T10:01:34.565897Z",
     "start_time": "2024-10-21T10:01:34.478753600Z"
    }
   },
   "execution_count": 13
  },
  {
   "cell_type": "raw",
   "source": [
    "# Alternative Cos Similarity methods\n",
    "%%time\n",
    "from scipy.spatial import distance\n",
    "from sklearn.metrics.pairwise import cosine_similarity\n",
    "import numpy as np\n",
    "from tqdm import tqdm\n",
    "\n",
    "def get_cosine_distance_list(embeddings, ref_embedding, use_scipy=True, print_all=False, decimal=3):\n",
    "    similarity_list=[]\n",
    "    for embedding in embeddings:\n",
    "        if use_scipy:\n",
    "            cosine = distance.cosine(embedding, ref_embedding)\n",
    "            similarity = round((1-cosine)*100,decimal)\n",
    "        else:\n",
    "            cosine = cosine_similarity(np.array(embedding).reshape(1, -1),\n",
    "                                       np.array(ref_embedding).reshape(1, -1))\n",
    "            similarity = round((cosine[0][0])*100,decimal)\n",
    "        similarity_list.append(similarity)\n",
    "        if print_all:\n",
    "            print('Similarity of two sentences are equal to',similarity,'%')\n",
    "            print(similarity)\n",
    "    return similarity_list"
   ],
   "metadata": {
    "collapsed": false
   }
  },
  {
   "cell_type": "markdown",
   "source": [
    "### IV. Merge Nutrigen-GRPM and GWAS"
   ],
   "metadata": {
    "collapsed": false
   }
  },
  {
   "cell_type": "code",
   "outputs": [
    {
     "name": "stdout",
     "output_type": "stream",
     "text": [
      "Index(['DATE ADDED TO CATALOG', 'PUBMEDID', 'FIRST AUTHOR', 'DATE', 'JOURNAL',\n",
      "       'LINK', 'STUDY', 'DISEASE/TRAIT', 'INITIAL SAMPLE SIZE',\n",
      "       'REPLICATION SAMPLE SIZE', 'REGION', 'CHR_ID', 'CHR_POS',\n",
      "       'REPORTED GENE(S)', 'MAPPED_GENE', 'UPSTREAM_GENE_ID',\n",
      "       'DOWNSTREAM_GENE_ID', 'SNP_GENE_IDS', 'UPSTREAM_GENE_DISTANCE',\n",
      "       'DOWNSTREAM_GENE_DISTANCE', 'STRONGEST SNP-RISK ALLELE', 'SNPS',\n",
      "       'MERGED', 'SNP_ID_CURRENT', 'CONTEXT', 'INTERGENIC',\n",
      "       'RISK ALLELE FREQUENCY', 'P-VALUE', 'PVALUE_MLOG', 'P-VALUE (TEXT)',\n",
      "       'OR or BETA', '95% CI (TEXT)', 'PLATFORM [SNPS PASSING QC]', 'CNV',\n",
      "       'MAPPED_TRAIT', 'MAPPED_TRAIT_URI', 'STUDY ACCESSION',\n",
      "       'GENOTYPING TECHNOLOGY'],\n",
      "      dtype='object')\n"
     ]
    },
    {
     "data": {
      "text/plain": "       DATE ADDED TO CATALOG  PUBMEDID      FIRST AUTHOR        DATE  \\\n21940             2020-12-14  32042192           Ruth KS  2020-02-10   \n130537            2022-04-27  35213538     Richardson TG  2022-02-25   \n88172             2019-03-25  30804566           Lane JM  2019-02-25   \n223439            2022-08-19  35872910  Carcel-Marquez J  2022-07-08   \n46380             2020-05-21  31969693       Coleman JRI  2020-01-23   \n253699            2022-12-14  36477530      Saunders GRB  2022-12-07   \n100807            2023-01-10  29875488            Sun BB  2018-06-06   \n150925            2017-08-30  27863252          Astle WJ  2016-11-17   \n229822            2024-02-08  36357675       Surendran P  2022-11-10   \n290048            2022-07-01  35361970           Okbay A  2022-03-31   \n202953            2022-11-14  35347128             Yin X  2022-03-28   \n164144            2021-08-24  34021172    Christakoudi S  2021-05-21   \n233541            2022-12-21  36477530      Saunders GRB  2022-12-07   \n76893             2019-07-05  31152163          Wuttke M  2019-05-31   \n77503             2019-07-05  30698716       de Vries PS  2019-01-29   \n273459            2023-10-25  37596262          Akbari P  2023-08-18   \n37971             2021-07-07  33002292       Shinohara T  2020-10-01   \n201520            2022-08-24  35762941       Plotnikov D  2022-06-01   \n181218            2021-07-07  34111113          Green HD  2021-06-10   \n48295             2020-09-21  32888493           Chen MH  2020-09-01   \n\n                          JOURNAL                                  LINK  \\\n21940                     Nat Med  www.ncbi.nlm.nih.gov/pubmed/32042192   \n130537                  PLoS Biol  www.ncbi.nlm.nih.gov/pubmed/35213538   \n88172                   Nat Genet  www.ncbi.nlm.nih.gov/pubmed/30804566   \n223439       Front Cardiovasc Med  www.ncbi.nlm.nih.gov/pubmed/35872910   \n46380              Mol Psychiatry  www.ncbi.nlm.nih.gov/pubmed/31969693   \n253699                     Nature  www.ncbi.nlm.nih.gov/pubmed/36477530   \n100807                     Nature  www.ncbi.nlm.nih.gov/pubmed/29875488   \n150925                       Cell  www.ncbi.nlm.nih.gov/pubmed/27863252   \n229822                    Nat Med  www.ncbi.nlm.nih.gov/pubmed/36357675   \n290048                  Nat Genet  www.ncbi.nlm.nih.gov/pubmed/35361970   \n202953                 Nat Commun  www.ncbi.nlm.nih.gov/pubmed/35347128   \n164144                    Sci Rep  www.ncbi.nlm.nih.gov/pubmed/34021172   \n233541                     Nature  www.ncbi.nlm.nih.gov/pubmed/36477530   \n76893                   Nat Genet  www.ncbi.nlm.nih.gov/pubmed/31152163   \n77503              Am J Epidemiol  www.ncbi.nlm.nih.gov/pubmed/30698716   \n273459                 Nat Commun  www.ncbi.nlm.nih.gov/pubmed/37596262   \n37971              J Cell Mol Med  www.ncbi.nlm.nih.gov/pubmed/33002292   \n201520  Invest Ophthalmol Vis Sci  www.ncbi.nlm.nih.gov/pubmed/35762941   \n181218                 PLoS Genet  www.ncbi.nlm.nih.gov/pubmed/34111113   \n48295                        Cell  www.ncbi.nlm.nih.gov/pubmed/32888493   \n\n                                                    STUDY  \\\n21940   Using human genetics to understand the disease...   \n130537  Characterising metabolomic signatures of lipid...   \n88172   Biological and clinical insights from genetics...   \n223439  A Polygenic Risk Score Based on a Cardioemboli...   \n46380   Genome-wide gene-environment analyses of major...   \n253699  Genetic diversity fuels gene discovery for tob...   \n100807        Genomic atlas of the human plasma proteome.   \n150925  The Allelic Landscape of Human Blood Cell Trai...   \n229822  Rare and common genetic determinants of metabo...   \n290048  Polygenic prediction of educational attainment...   \n202953  Genome-wide association studies of metabolites...   \n164144  GWAS of allometric body-shape indices in UK Bi...   \n233541  Genetic diversity fuels gene discovery for tob...   \n76893   A catalog of genetic loci associated with kidn...   \n77503   Multi-Ancestry Genome-Wide Association Study o...   \n273459  A genome-wide association study of blood cell ...   \n37971   Inherited genetic variants associated with glu...   \n201520  High Blood Pressure and Intraocular Pressure: ...   \n181218  A genome-wide association study identifies 5 l...   \n48295   Trans-ethnic and Ancestry-Specific Blood-Cell ...   \n\n                                            DISEASE/TRAIT  \\\n21940   Sex hormone-binding globulin levels adjusted f...   \n130537                                     Glucose levels   \n88172        Insomnia symptoms (never/rarely vs. usually)   \n223439                        Cardioembolic stroke (MTAG)   \n46380   Major depressive disorder in trauma-unexposed ...   \n253699                                 Smoking initiation   \n100807  Carbonyl reductase [NADPH] 3 levels (CBR3.1409...   \n150925                        Mean corpuscular hemoglobin   \n229822                        Imidazole propionate levels   \n290048                             Educational attainment   \n202953  1-palmitoyl-2-palmitoleoyl-gpc (16:0/16:1) levels   \n164144   Waist circumference adjusted for body mass index   \n233541                                 Smoking initiation   \n76893                          Blood urea nitrogen levels   \n77503   LDL cholesterol levels x alcohol consumption (...   \n273459                              Platelet side scatter   \n37971   prednisolone sensitivity in B-cell precursor a...   \n201520                           Diastolic blood pressure   \n181218                                    Frozen shoulder   \n48295                                Mean platelet volume   \n\n                                      INITIAL SAMPLE SIZE  \\\n21940                       180,094 European ancestry men   \n130537              114,870 European ancestry individuals   \n88172   129,270 European ancestry cases, 108,357 Europ...   \n223439              362,661 European ancestry individuals   \n46380   9,487 European ancestry cases, 39,677 European...   \n253699  3,382,012 European ancestry, East Asian ancest...   \n100807                3,301 European ancestry individuals   \n150925              172,332 European ancestry individuals   \n229822               14,296 European ancestry individuals   \n290048            3,037,499 European ancestry individuals   \n202953                 6,136 Finnish ancestry individuals   \n164144                       186,825 British ancestry men   \n233541            2,669,029 European ancestry individuals   \n76893   416,178 European and unknown ancestry individuals   \n77503   56,505 European ancestry current drinkers, 9,8...   \n273459               29,675 European ancestry individuals   \n37971           72 Japanese ancestry leukaemic cell lines   \n201520              526,001 European ancestry individuals   \n181218              627,998 European ancestry individuals   \n48295   484,042 African American or Afro-Caribbean, Af...   \n\n                                  REPLICATION SAMPLE SIZE  ... PVALUE_MLOG  \\\n21940                                                None  ...   10.154902   \n130537                                               None  ...    9.698970   \n88172   17,140 European ancestry cases, 61,850 Europea...  ...   11.154902   \n223439                                               None  ...   11.000000   \n46380                                                None  ...    6.000000   \n253699                                               None  ...   18.522879   \n100807                                               None  ...   45.397940   \n150925                                               None  ...   99.698970   \n229822                5,698 European ancestry individuals  ...   33.000000   \n290048                                               None  ...    8.397940   \n202953                                               None  ...   10.301030   \n164144                                               None  ...    9.522879   \n233541                                               None  ...    9.397940   \n76893                                                None  ...    7.000000   \n77503   107,548 European ancestry current drinkers, 2,...  ...  212.301030   \n273459                                               None  ...    9.000000   \n37971                                                None  ...    5.698970   \n201520                                               None  ...    9.000000   \n181218                                               None  ...   36.096910   \n48295                                                None  ...  629.301030   \n\n       P-VALUE (TEXT) OR or BETA                    95% CI (TEXT)  \\\n21940            None   0.007926    [0.0055-0.0104] unit increase   \n130537           None   0.026057      [0.018-0.034] unit decrease   \n88172            None   1.020000                      [1.01-1.03]   \n223439           None   6.790000                 z score increase   \n46380            None   1.152074                      [1.09-1.21]   \n253699           None   0.010400    [0.0082-0.0126] unit increase   \n100807           None   0.560000      [-0.48--0.64] unit decrease   \n150925           None   0.217082         [0.2-0.24] unit decrease   \n229822           None   0.134375        [0.11-0.16] unit increase   \n290048           None   0.006219    [0.0041-0.0083] unit decrease   \n202953           None   0.130000                    unit decrease   \n164144           None   0.023275      [0.016-0.031] unit decrease   \n233541           None   0.009290    [0.0064-0.0122] unit decrease   \n76893            None   0.004400     [0.0028-0.006] unit decrease   \n77503            (EA)        NaN                             None   \n273459           None   0.098822  [0.067-0.131] SD units increase   \n37971            None        NaN                             None   \n201520           None   0.250600        [0.17-0.33] unit increase   \n181218           None   1.210000                      [1.25-1.18]   \n48295            None        NaN                             None   \n\n                       PLATFORM [SNPS PASSING QC] CNV  \\\n21940             Affymetrix [16582621] (imputed)   N   \n130537                    NR [11722792] (imputed)   N   \n88172             Affymetrix [14661600] (imputed)   N   \n223439               Illumina [6808676] (imputed)   N   \n46380              Affymetrix [7791636] (imputed)   N   \n253699                          NR [NR] (imputed)   N   \n100807            Affymetrix [10572788] (imputed)   N   \n150925           Affymetrix [~ 2500000] (imputed)   N   \n229822                  Affymetrix [NR] (imputed)   N   \n290048              Illumina [10675380] (imputed)   N   \n202953                    NR [16000000] (imputed)   N   \n164144              Affymetrix [321114] (imputed)   N   \n233541                          NR [NR] (imputed)   N   \n76893    Affymetrix, Illumina [8176554] (imputed)   N   \n77503         Affymetrix, Illumina [NR] (imputed)   N   \n273459            Affymetrix [29500000] (imputed)   N   \n37971                           Illumina [331281]   N   \n201520                          NR [NR] (imputed)   N   \n181218                    NR [16689279] (imputed)   N   \n48295   Affymetrix, Illumina [17210439] (imputed)   N   \n\n                                             MAPPED_TRAIT  \\\n21940            sex hormone-binding globulin measurement   \n130537                                glucose measurement   \n88172                                insomnia measurement   \n223439                               cardioembolic stroke   \n46380                           major depressive disorder   \n253699                                 smoking initiation   \n100807           carbonyl reductase [NADPH] 3 measurement   \n150925                        mean corpuscular hemoglobin   \n229822                   imidazole propionate measurement   \n290048                             educational attainment   \n202953  1-palmitoyl-2-palmitoleoyl-GPC(16:0/16:1) meas...   \n164144                   BMI-adjusted waist circumference   \n233541                                 smoking initiation   \n76893                     blood urea nitrogen measurement   \n77503   low density lipoprotein cholesterol measuremen...   \n273459                               platelet measurement   \n37971                   trait in response to prednisolone   \n201520                           diastolic blood pressure   \n181218                                    frozen shoulder   \n48295                                mean platelet volume   \n\n                                         MAPPED_TRAIT_URI  STUDY ACCESSION  \\\n21940                http://www.ebi.ac.uk/efo/EFO_0004696     GCST90012108   \n130537               http://www.ebi.ac.uk/efo/EFO_0004468     GCST90092819   \n88172                http://www.ebi.ac.uk/efo/EFO_0007876       GCST007388   \n223439               http://www.ebi.ac.uk/efo/EFO_1001976     GCST90132228   \n46380        http://purl.obolibrary.org/obo/MONDO_0002009       GCST009981   \n253699               http://www.ebi.ac.uk/efo/EFO_0005670     GCST90243985   \n100807               http://www.ebi.ac.uk/efo/EFO_0803315     GCST90240594   \n150925               http://www.ebi.ac.uk/efo/EFO_0004527       GCST004630   \n229822               http://www.ebi.ac.uk/efo/EFO_0800062     GCST90245258   \n290048               http://www.ebi.ac.uk/efo/EFO_0011015     GCST90105038   \n202953               http://www.ebi.ac.uk/efo/EFO_0800406     GCST90139965   \n164144               http://www.ebi.ac.uk/efo/EFO_0007789       GCST012226   \n233541               http://www.ebi.ac.uk/efo/EFO_0005670     GCST90243968   \n76893                http://www.ebi.ac.uk/efo/EFO_0004741       GCST008062   \n77503   http://www.ebi.ac.uk/efo/EFO_0004611, http://w...       GCST008079   \n273459               http://www.ebi.ac.uk/efo/EFO_0005036     GCST90281192   \n37971          http://purl.obolibrary.org/obo/OBA_2040133       GCST011997   \n201520               http://www.ebi.ac.uk/efo/EFO_0006336     GCST90132904   \n181218               http://www.ebi.ac.uk/efo/EFO_1000941     GCST90000513   \n48295                http://www.ebi.ac.uk/efo/EFO_0004584     GCST90002349   \n\n                                    GENOTYPING TECHNOLOGY  \n21940                        Genome-wide genotyping array  \n130537                       Genome-wide genotyping array  \n88172                        Genome-wide genotyping array  \n223439                       Genome-wide genotyping array  \n46380                        Genome-wide genotyping array  \n253699  Genome-wide genotyping array, Genome-wide sequ...  \n100807                       Genome-wide genotyping array  \n150925                       Genome-wide genotyping array  \n229822                       Genome-wide genotyping array  \n290048                       Genome-wide genotyping array  \n202953  Genome-wide genotyping array, Genome-wide sequ...  \n164144                       Genome-wide genotyping array  \n233541  Genome-wide genotyping array, Genome-wide sequ...  \n76893                        Genome-wide genotyping array  \n77503                        Genome-wide genotyping array  \n273459                       Genome-wide genotyping array  \n37971                        Genome-wide genotyping array  \n201520                       Genome-wide genotyping array  \n181218                       Genome-wide genotyping array  \n48295                        Genome-wide genotyping array  \n\n[20 rows x 38 columns]",
      "text/html": "<div>\n<style scoped>\n    .dataframe tbody tr th:only-of-type {\n        vertical-align: middle;\n    }\n\n    .dataframe tbody tr th {\n        vertical-align: top;\n    }\n\n    .dataframe thead th {\n        text-align: right;\n    }\n</style>\n<table border=\"1\" class=\"dataframe\">\n  <thead>\n    <tr style=\"text-align: right;\">\n      <th></th>\n      <th>DATE ADDED TO CATALOG</th>\n      <th>PUBMEDID</th>\n      <th>FIRST AUTHOR</th>\n      <th>DATE</th>\n      <th>JOURNAL</th>\n      <th>LINK</th>\n      <th>STUDY</th>\n      <th>DISEASE/TRAIT</th>\n      <th>INITIAL SAMPLE SIZE</th>\n      <th>REPLICATION SAMPLE SIZE</th>\n      <th>...</th>\n      <th>PVALUE_MLOG</th>\n      <th>P-VALUE (TEXT)</th>\n      <th>OR or BETA</th>\n      <th>95% CI (TEXT)</th>\n      <th>PLATFORM [SNPS PASSING QC]</th>\n      <th>CNV</th>\n      <th>MAPPED_TRAIT</th>\n      <th>MAPPED_TRAIT_URI</th>\n      <th>STUDY ACCESSION</th>\n      <th>GENOTYPING TECHNOLOGY</th>\n    </tr>\n  </thead>\n  <tbody>\n    <tr>\n      <th>21940</th>\n      <td>2020-12-14</td>\n      <td>32042192</td>\n      <td>Ruth KS</td>\n      <td>2020-02-10</td>\n      <td>Nat Med</td>\n      <td>www.ncbi.nlm.nih.gov/pubmed/32042192</td>\n      <td>Using human genetics to understand the disease...</td>\n      <td>Sex hormone-binding globulin levels adjusted f...</td>\n      <td>180,094 European ancestry men</td>\n      <td>None</td>\n      <td>...</td>\n      <td>10.154902</td>\n      <td>None</td>\n      <td>0.007926</td>\n      <td>[0.0055-0.0104] unit increase</td>\n      <td>Affymetrix [16582621] (imputed)</td>\n      <td>N</td>\n      <td>sex hormone-binding globulin measurement</td>\n      <td>http://www.ebi.ac.uk/efo/EFO_0004696</td>\n      <td>GCST90012108</td>\n      <td>Genome-wide genotyping array</td>\n    </tr>\n    <tr>\n      <th>130537</th>\n      <td>2022-04-27</td>\n      <td>35213538</td>\n      <td>Richardson TG</td>\n      <td>2022-02-25</td>\n      <td>PLoS Biol</td>\n      <td>www.ncbi.nlm.nih.gov/pubmed/35213538</td>\n      <td>Characterising metabolomic signatures of lipid...</td>\n      <td>Glucose levels</td>\n      <td>114,870 European ancestry individuals</td>\n      <td>None</td>\n      <td>...</td>\n      <td>9.698970</td>\n      <td>None</td>\n      <td>0.026057</td>\n      <td>[0.018-0.034] unit decrease</td>\n      <td>NR [11722792] (imputed)</td>\n      <td>N</td>\n      <td>glucose measurement</td>\n      <td>http://www.ebi.ac.uk/efo/EFO_0004468</td>\n      <td>GCST90092819</td>\n      <td>Genome-wide genotyping array</td>\n    </tr>\n    <tr>\n      <th>88172</th>\n      <td>2019-03-25</td>\n      <td>30804566</td>\n      <td>Lane JM</td>\n      <td>2019-02-25</td>\n      <td>Nat Genet</td>\n      <td>www.ncbi.nlm.nih.gov/pubmed/30804566</td>\n      <td>Biological and clinical insights from genetics...</td>\n      <td>Insomnia symptoms (never/rarely vs. usually)</td>\n      <td>129,270 European ancestry cases, 108,357 Europ...</td>\n      <td>17,140 European ancestry cases, 61,850 Europea...</td>\n      <td>...</td>\n      <td>11.154902</td>\n      <td>None</td>\n      <td>1.020000</td>\n      <td>[1.01-1.03]</td>\n      <td>Affymetrix [14661600] (imputed)</td>\n      <td>N</td>\n      <td>insomnia measurement</td>\n      <td>http://www.ebi.ac.uk/efo/EFO_0007876</td>\n      <td>GCST007388</td>\n      <td>Genome-wide genotyping array</td>\n    </tr>\n    <tr>\n      <th>223439</th>\n      <td>2022-08-19</td>\n      <td>35872910</td>\n      <td>Carcel-Marquez J</td>\n      <td>2022-07-08</td>\n      <td>Front Cardiovasc Med</td>\n      <td>www.ncbi.nlm.nih.gov/pubmed/35872910</td>\n      <td>A Polygenic Risk Score Based on a Cardioemboli...</td>\n      <td>Cardioembolic stroke (MTAG)</td>\n      <td>362,661 European ancestry individuals</td>\n      <td>None</td>\n      <td>...</td>\n      <td>11.000000</td>\n      <td>None</td>\n      <td>6.790000</td>\n      <td>z score increase</td>\n      <td>Illumina [6808676] (imputed)</td>\n      <td>N</td>\n      <td>cardioembolic stroke</td>\n      <td>http://www.ebi.ac.uk/efo/EFO_1001976</td>\n      <td>GCST90132228</td>\n      <td>Genome-wide genotyping array</td>\n    </tr>\n    <tr>\n      <th>46380</th>\n      <td>2020-05-21</td>\n      <td>31969693</td>\n      <td>Coleman JRI</td>\n      <td>2020-01-23</td>\n      <td>Mol Psychiatry</td>\n      <td>www.ncbi.nlm.nih.gov/pubmed/31969693</td>\n      <td>Genome-wide gene-environment analyses of major...</td>\n      <td>Major depressive disorder in trauma-unexposed ...</td>\n      <td>9,487 European ancestry cases, 39,677 European...</td>\n      <td>None</td>\n      <td>...</td>\n      <td>6.000000</td>\n      <td>None</td>\n      <td>1.152074</td>\n      <td>[1.09-1.21]</td>\n      <td>Affymetrix [7791636] (imputed)</td>\n      <td>N</td>\n      <td>major depressive disorder</td>\n      <td>http://purl.obolibrary.org/obo/MONDO_0002009</td>\n      <td>GCST009981</td>\n      <td>Genome-wide genotyping array</td>\n    </tr>\n    <tr>\n      <th>253699</th>\n      <td>2022-12-14</td>\n      <td>36477530</td>\n      <td>Saunders GRB</td>\n      <td>2022-12-07</td>\n      <td>Nature</td>\n      <td>www.ncbi.nlm.nih.gov/pubmed/36477530</td>\n      <td>Genetic diversity fuels gene discovery for tob...</td>\n      <td>Smoking initiation</td>\n      <td>3,382,012 European ancestry, East Asian ancest...</td>\n      <td>None</td>\n      <td>...</td>\n      <td>18.522879</td>\n      <td>None</td>\n      <td>0.010400</td>\n      <td>[0.0082-0.0126] unit increase</td>\n      <td>NR [NR] (imputed)</td>\n      <td>N</td>\n      <td>smoking initiation</td>\n      <td>http://www.ebi.ac.uk/efo/EFO_0005670</td>\n      <td>GCST90243985</td>\n      <td>Genome-wide genotyping array, Genome-wide sequ...</td>\n    </tr>\n    <tr>\n      <th>100807</th>\n      <td>2023-01-10</td>\n      <td>29875488</td>\n      <td>Sun BB</td>\n      <td>2018-06-06</td>\n      <td>Nature</td>\n      <td>www.ncbi.nlm.nih.gov/pubmed/29875488</td>\n      <td>Genomic atlas of the human plasma proteome.</td>\n      <td>Carbonyl reductase [NADPH] 3 levels (CBR3.1409...</td>\n      <td>3,301 European ancestry individuals</td>\n      <td>None</td>\n      <td>...</td>\n      <td>45.397940</td>\n      <td>None</td>\n      <td>0.560000</td>\n      <td>[-0.48--0.64] unit decrease</td>\n      <td>Affymetrix [10572788] (imputed)</td>\n      <td>N</td>\n      <td>carbonyl reductase [NADPH] 3 measurement</td>\n      <td>http://www.ebi.ac.uk/efo/EFO_0803315</td>\n      <td>GCST90240594</td>\n      <td>Genome-wide genotyping array</td>\n    </tr>\n    <tr>\n      <th>150925</th>\n      <td>2017-08-30</td>\n      <td>27863252</td>\n      <td>Astle WJ</td>\n      <td>2016-11-17</td>\n      <td>Cell</td>\n      <td>www.ncbi.nlm.nih.gov/pubmed/27863252</td>\n      <td>The Allelic Landscape of Human Blood Cell Trai...</td>\n      <td>Mean corpuscular hemoglobin</td>\n      <td>172,332 European ancestry individuals</td>\n      <td>None</td>\n      <td>...</td>\n      <td>99.698970</td>\n      <td>None</td>\n      <td>0.217082</td>\n      <td>[0.2-0.24] unit decrease</td>\n      <td>Affymetrix [~ 2500000] (imputed)</td>\n      <td>N</td>\n      <td>mean corpuscular hemoglobin</td>\n      <td>http://www.ebi.ac.uk/efo/EFO_0004527</td>\n      <td>GCST004630</td>\n      <td>Genome-wide genotyping array</td>\n    </tr>\n    <tr>\n      <th>229822</th>\n      <td>2024-02-08</td>\n      <td>36357675</td>\n      <td>Surendran P</td>\n      <td>2022-11-10</td>\n      <td>Nat Med</td>\n      <td>www.ncbi.nlm.nih.gov/pubmed/36357675</td>\n      <td>Rare and common genetic determinants of metabo...</td>\n      <td>Imidazole propionate levels</td>\n      <td>14,296 European ancestry individuals</td>\n      <td>5,698 European ancestry individuals</td>\n      <td>...</td>\n      <td>33.000000</td>\n      <td>None</td>\n      <td>0.134375</td>\n      <td>[0.11-0.16] unit increase</td>\n      <td>Affymetrix [NR] (imputed)</td>\n      <td>N</td>\n      <td>imidazole propionate measurement</td>\n      <td>http://www.ebi.ac.uk/efo/EFO_0800062</td>\n      <td>GCST90245258</td>\n      <td>Genome-wide genotyping array</td>\n    </tr>\n    <tr>\n      <th>290048</th>\n      <td>2022-07-01</td>\n      <td>35361970</td>\n      <td>Okbay A</td>\n      <td>2022-03-31</td>\n      <td>Nat Genet</td>\n      <td>www.ncbi.nlm.nih.gov/pubmed/35361970</td>\n      <td>Polygenic prediction of educational attainment...</td>\n      <td>Educational attainment</td>\n      <td>3,037,499 European ancestry individuals</td>\n      <td>None</td>\n      <td>...</td>\n      <td>8.397940</td>\n      <td>None</td>\n      <td>0.006219</td>\n      <td>[0.0041-0.0083] unit decrease</td>\n      <td>Illumina [10675380] (imputed)</td>\n      <td>N</td>\n      <td>educational attainment</td>\n      <td>http://www.ebi.ac.uk/efo/EFO_0011015</td>\n      <td>GCST90105038</td>\n      <td>Genome-wide genotyping array</td>\n    </tr>\n    <tr>\n      <th>202953</th>\n      <td>2022-11-14</td>\n      <td>35347128</td>\n      <td>Yin X</td>\n      <td>2022-03-28</td>\n      <td>Nat Commun</td>\n      <td>www.ncbi.nlm.nih.gov/pubmed/35347128</td>\n      <td>Genome-wide association studies of metabolites...</td>\n      <td>1-palmitoyl-2-palmitoleoyl-gpc (16:0/16:1) levels</td>\n      <td>6,136 Finnish ancestry individuals</td>\n      <td>None</td>\n      <td>...</td>\n      <td>10.301030</td>\n      <td>None</td>\n      <td>0.130000</td>\n      <td>unit decrease</td>\n      <td>NR [16000000] (imputed)</td>\n      <td>N</td>\n      <td>1-palmitoyl-2-palmitoleoyl-GPC(16:0/16:1) meas...</td>\n      <td>http://www.ebi.ac.uk/efo/EFO_0800406</td>\n      <td>GCST90139965</td>\n      <td>Genome-wide genotyping array, Genome-wide sequ...</td>\n    </tr>\n    <tr>\n      <th>164144</th>\n      <td>2021-08-24</td>\n      <td>34021172</td>\n      <td>Christakoudi S</td>\n      <td>2021-05-21</td>\n      <td>Sci Rep</td>\n      <td>www.ncbi.nlm.nih.gov/pubmed/34021172</td>\n      <td>GWAS of allometric body-shape indices in UK Bi...</td>\n      <td>Waist circumference adjusted for body mass index</td>\n      <td>186,825 British ancestry men</td>\n      <td>None</td>\n      <td>...</td>\n      <td>9.522879</td>\n      <td>None</td>\n      <td>0.023275</td>\n      <td>[0.016-0.031] unit decrease</td>\n      <td>Affymetrix [321114] (imputed)</td>\n      <td>N</td>\n      <td>BMI-adjusted waist circumference</td>\n      <td>http://www.ebi.ac.uk/efo/EFO_0007789</td>\n      <td>GCST012226</td>\n      <td>Genome-wide genotyping array</td>\n    </tr>\n    <tr>\n      <th>233541</th>\n      <td>2022-12-21</td>\n      <td>36477530</td>\n      <td>Saunders GRB</td>\n      <td>2022-12-07</td>\n      <td>Nature</td>\n      <td>www.ncbi.nlm.nih.gov/pubmed/36477530</td>\n      <td>Genetic diversity fuels gene discovery for tob...</td>\n      <td>Smoking initiation</td>\n      <td>2,669,029 European ancestry individuals</td>\n      <td>None</td>\n      <td>...</td>\n      <td>9.397940</td>\n      <td>None</td>\n      <td>0.009290</td>\n      <td>[0.0064-0.0122] unit decrease</td>\n      <td>NR [NR] (imputed)</td>\n      <td>N</td>\n      <td>smoking initiation</td>\n      <td>http://www.ebi.ac.uk/efo/EFO_0005670</td>\n      <td>GCST90243968</td>\n      <td>Genome-wide genotyping array, Genome-wide sequ...</td>\n    </tr>\n    <tr>\n      <th>76893</th>\n      <td>2019-07-05</td>\n      <td>31152163</td>\n      <td>Wuttke M</td>\n      <td>2019-05-31</td>\n      <td>Nat Genet</td>\n      <td>www.ncbi.nlm.nih.gov/pubmed/31152163</td>\n      <td>A catalog of genetic loci associated with kidn...</td>\n      <td>Blood urea nitrogen levels</td>\n      <td>416,178 European and unknown ancestry individuals</td>\n      <td>None</td>\n      <td>...</td>\n      <td>7.000000</td>\n      <td>None</td>\n      <td>0.004400</td>\n      <td>[0.0028-0.006] unit decrease</td>\n      <td>Affymetrix, Illumina [8176554] (imputed)</td>\n      <td>N</td>\n      <td>blood urea nitrogen measurement</td>\n      <td>http://www.ebi.ac.uk/efo/EFO_0004741</td>\n      <td>GCST008062</td>\n      <td>Genome-wide genotyping array</td>\n    </tr>\n    <tr>\n      <th>77503</th>\n      <td>2019-07-05</td>\n      <td>30698716</td>\n      <td>de Vries PS</td>\n      <td>2019-01-29</td>\n      <td>Am J Epidemiol</td>\n      <td>www.ncbi.nlm.nih.gov/pubmed/30698716</td>\n      <td>Multi-Ancestry Genome-Wide Association Study o...</td>\n      <td>LDL cholesterol levels x alcohol consumption (...</td>\n      <td>56,505 European ancestry current drinkers, 9,8...</td>\n      <td>107,548 European ancestry current drinkers, 2,...</td>\n      <td>...</td>\n      <td>212.301030</td>\n      <td>(EA)</td>\n      <td>NaN</td>\n      <td>None</td>\n      <td>Affymetrix, Illumina [NR] (imputed)</td>\n      <td>N</td>\n      <td>low density lipoprotein cholesterol measuremen...</td>\n      <td>http://www.ebi.ac.uk/efo/EFO_0004611, http://w...</td>\n      <td>GCST008079</td>\n      <td>Genome-wide genotyping array</td>\n    </tr>\n    <tr>\n      <th>273459</th>\n      <td>2023-10-25</td>\n      <td>37596262</td>\n      <td>Akbari P</td>\n      <td>2023-08-18</td>\n      <td>Nat Commun</td>\n      <td>www.ncbi.nlm.nih.gov/pubmed/37596262</td>\n      <td>A genome-wide association study of blood cell ...</td>\n      <td>Platelet side scatter</td>\n      <td>29,675 European ancestry individuals</td>\n      <td>None</td>\n      <td>...</td>\n      <td>9.000000</td>\n      <td>None</td>\n      <td>0.098822</td>\n      <td>[0.067-0.131] SD units increase</td>\n      <td>Affymetrix [29500000] (imputed)</td>\n      <td>N</td>\n      <td>platelet measurement</td>\n      <td>http://www.ebi.ac.uk/efo/EFO_0005036</td>\n      <td>GCST90281192</td>\n      <td>Genome-wide genotyping array</td>\n    </tr>\n    <tr>\n      <th>37971</th>\n      <td>2021-07-07</td>\n      <td>33002292</td>\n      <td>Shinohara T</td>\n      <td>2020-10-01</td>\n      <td>J Cell Mol Med</td>\n      <td>www.ncbi.nlm.nih.gov/pubmed/33002292</td>\n      <td>Inherited genetic variants associated with glu...</td>\n      <td>prednisolone sensitivity in B-cell precursor a...</td>\n      <td>72 Japanese ancestry leukaemic cell lines</td>\n      <td>None</td>\n      <td>...</td>\n      <td>5.698970</td>\n      <td>None</td>\n      <td>NaN</td>\n      <td>None</td>\n      <td>Illumina [331281]</td>\n      <td>N</td>\n      <td>trait in response to prednisolone</td>\n      <td>http://purl.obolibrary.org/obo/OBA_2040133</td>\n      <td>GCST011997</td>\n      <td>Genome-wide genotyping array</td>\n    </tr>\n    <tr>\n      <th>201520</th>\n      <td>2022-08-24</td>\n      <td>35762941</td>\n      <td>Plotnikov D</td>\n      <td>2022-06-01</td>\n      <td>Invest Ophthalmol Vis Sci</td>\n      <td>www.ncbi.nlm.nih.gov/pubmed/35762941</td>\n      <td>High Blood Pressure and Intraocular Pressure: ...</td>\n      <td>Diastolic blood pressure</td>\n      <td>526,001 European ancestry individuals</td>\n      <td>None</td>\n      <td>...</td>\n      <td>9.000000</td>\n      <td>None</td>\n      <td>0.250600</td>\n      <td>[0.17-0.33] unit increase</td>\n      <td>NR [NR] (imputed)</td>\n      <td>N</td>\n      <td>diastolic blood pressure</td>\n      <td>http://www.ebi.ac.uk/efo/EFO_0006336</td>\n      <td>GCST90132904</td>\n      <td>Genome-wide genotyping array</td>\n    </tr>\n    <tr>\n      <th>181218</th>\n      <td>2021-07-07</td>\n      <td>34111113</td>\n      <td>Green HD</td>\n      <td>2021-06-10</td>\n      <td>PLoS Genet</td>\n      <td>www.ncbi.nlm.nih.gov/pubmed/34111113</td>\n      <td>A genome-wide association study identifies 5 l...</td>\n      <td>Frozen shoulder</td>\n      <td>627,998 European ancestry individuals</td>\n      <td>None</td>\n      <td>...</td>\n      <td>36.096910</td>\n      <td>None</td>\n      <td>1.210000</td>\n      <td>[1.25-1.18]</td>\n      <td>NR [16689279] (imputed)</td>\n      <td>N</td>\n      <td>frozen shoulder</td>\n      <td>http://www.ebi.ac.uk/efo/EFO_1000941</td>\n      <td>GCST90000513</td>\n      <td>Genome-wide genotyping array</td>\n    </tr>\n    <tr>\n      <th>48295</th>\n      <td>2020-09-21</td>\n      <td>32888493</td>\n      <td>Chen MH</td>\n      <td>2020-09-01</td>\n      <td>Cell</td>\n      <td>www.ncbi.nlm.nih.gov/pubmed/32888493</td>\n      <td>Trans-ethnic and Ancestry-Specific Blood-Cell ...</td>\n      <td>Mean platelet volume</td>\n      <td>484,042 African American or Afro-Caribbean, Af...</td>\n      <td>None</td>\n      <td>...</td>\n      <td>629.301030</td>\n      <td>None</td>\n      <td>NaN</td>\n      <td>None</td>\n      <td>Affymetrix, Illumina [17210439] (imputed)</td>\n      <td>N</td>\n      <td>mean platelet volume</td>\n      <td>http://www.ebi.ac.uk/efo/EFO_0004584</td>\n      <td>GCST90002349</td>\n      <td>Genome-wide genotyping array</td>\n    </tr>\n  </tbody>\n</table>\n<p>20 rows × 38 columns</p>\n</div>"
     },
     "execution_count": 18,
     "metadata": {},
     "output_type": "execute_result"
    }
   ],
   "source": [
    "df_gwas_.sample(20)"
   ],
   "metadata": {
    "collapsed": false,
    "ExecuteTime": {
     "end_time": "2024-10-22T12:24:21.992302100Z",
     "start_time": "2024-10-22T12:24:21.694464800Z"
    }
   },
   "execution_count": 18
  },
  {
   "cell_type": "code",
   "outputs": [
    {
     "data": {
      "text/plain": "              SNPS         CONTEXT           DISEASE/TRAIT  \\\n0         rs960417  intron_variant         Prostate cancer   \n1        rs5972255  intron_variant         Prostate cancer   \n2       rs11338635  intron_variant         Prostate cancer   \n3       rs58235267  intron_variant         Prostate cancer   \n4       rs74001374  intron_variant         Prostate cancer   \n...            ...             ...                     ...   \n292103   rs2343522  intron_variant  Educational attainment   \n292104   rs8044082  intron_variant  Educational attainment   \n292105    rs722256  intron_variant  Educational attainment   \n292106  rs10400992  intron_variant  Educational attainment   \n292107   rs1492376  intron_variant  Educational attainment   \n\n                  MAPPED_TRAIT STRONGEST SNP-RISK ALLELE MAPPED_GENE  \\\n0           prostate carcinoma                rs960417-A     SHROOM2   \n1           prostate carcinoma               rs5972255-T        TAB3   \n2           prostate carcinoma             rs11338635-GA   LINC01496   \n3           prostate carcinoma              rs58235267-G        OTX1   \n4           prostate carcinoma              rs74001374-C        MLPH   \n...                        ...                       ...         ...   \n292103  educational attainment               rs2343522-T      RBFOX1   \n292104  educational attainment               rs8044082-T      RBFOX1   \n292105  educational attainment                rs722256-C      RBFOX1   \n292106  educational attainment              rs10400992-C      RBFOX1   \n292107  educational attainment               rs1492376-C      RBFOX1   \n\n        OR or BETA                                              STUDY  \\\n0         1.074788  Trans-ancestry genome-wide association meta-an...   \n1         1.067790  Trans-ancestry genome-wide association meta-an...   \n2         1.083639  Trans-ancestry genome-wide association meta-an...   \n3         1.122000  Trans-ancestry genome-wide association meta-an...   \n4         1.147000  Trans-ancestry genome-wide association meta-an...   \n...            ...                                                ...   \n292103    0.008107  Polygenic prediction of educational attainment...   \n292104    0.007181  Polygenic prediction of educational attainment...   \n292105    0.006546  Polygenic prediction of educational attainment...   \n292106    0.006071  Polygenic prediction of educational attainment...   \n292107    0.005260  Polygenic prediction of educational attainment...   \n\n       STUDY ACCESSION  \n0           GCST011048  \n1           GCST011048  \n2           GCST011048  \n3           GCST011047  \n4           GCST011047  \n...                ...  \n292103    GCST90105038  \n292104    GCST90105038  \n292105    GCST90105038  \n292106    GCST90105038  \n292107    GCST90105038  \n\n[291006 rows x 9 columns]",
      "text/html": "<div>\n<style scoped>\n    .dataframe tbody tr th:only-of-type {\n        vertical-align: middle;\n    }\n\n    .dataframe tbody tr th {\n        vertical-align: top;\n    }\n\n    .dataframe thead th {\n        text-align: right;\n    }\n</style>\n<table border=\"1\" class=\"dataframe\">\n  <thead>\n    <tr style=\"text-align: right;\">\n      <th></th>\n      <th>SNPS</th>\n      <th>CONTEXT</th>\n      <th>DISEASE/TRAIT</th>\n      <th>MAPPED_TRAIT</th>\n      <th>STRONGEST SNP-RISK ALLELE</th>\n      <th>MAPPED_GENE</th>\n      <th>OR or BETA</th>\n      <th>STUDY</th>\n      <th>STUDY ACCESSION</th>\n    </tr>\n  </thead>\n  <tbody>\n    <tr>\n      <th>0</th>\n      <td>rs960417</td>\n      <td>intron_variant</td>\n      <td>Prostate cancer</td>\n      <td>prostate carcinoma</td>\n      <td>rs960417-A</td>\n      <td>SHROOM2</td>\n      <td>1.074788</td>\n      <td>Trans-ancestry genome-wide association meta-an...</td>\n      <td>GCST011048</td>\n    </tr>\n    <tr>\n      <th>1</th>\n      <td>rs5972255</td>\n      <td>intron_variant</td>\n      <td>Prostate cancer</td>\n      <td>prostate carcinoma</td>\n      <td>rs5972255-T</td>\n      <td>TAB3</td>\n      <td>1.067790</td>\n      <td>Trans-ancestry genome-wide association meta-an...</td>\n      <td>GCST011048</td>\n    </tr>\n    <tr>\n      <th>2</th>\n      <td>rs11338635</td>\n      <td>intron_variant</td>\n      <td>Prostate cancer</td>\n      <td>prostate carcinoma</td>\n      <td>rs11338635-GA</td>\n      <td>LINC01496</td>\n      <td>1.083639</td>\n      <td>Trans-ancestry genome-wide association meta-an...</td>\n      <td>GCST011048</td>\n    </tr>\n    <tr>\n      <th>3</th>\n      <td>rs58235267</td>\n      <td>intron_variant</td>\n      <td>Prostate cancer</td>\n      <td>prostate carcinoma</td>\n      <td>rs58235267-G</td>\n      <td>OTX1</td>\n      <td>1.122000</td>\n      <td>Trans-ancestry genome-wide association meta-an...</td>\n      <td>GCST011047</td>\n    </tr>\n    <tr>\n      <th>4</th>\n      <td>rs74001374</td>\n      <td>intron_variant</td>\n      <td>Prostate cancer</td>\n      <td>prostate carcinoma</td>\n      <td>rs74001374-C</td>\n      <td>MLPH</td>\n      <td>1.147000</td>\n      <td>Trans-ancestry genome-wide association meta-an...</td>\n      <td>GCST011047</td>\n    </tr>\n    <tr>\n      <th>...</th>\n      <td>...</td>\n      <td>...</td>\n      <td>...</td>\n      <td>...</td>\n      <td>...</td>\n      <td>...</td>\n      <td>...</td>\n      <td>...</td>\n      <td>...</td>\n    </tr>\n    <tr>\n      <th>292103</th>\n      <td>rs2343522</td>\n      <td>intron_variant</td>\n      <td>Educational attainment</td>\n      <td>educational attainment</td>\n      <td>rs2343522-T</td>\n      <td>RBFOX1</td>\n      <td>0.008107</td>\n      <td>Polygenic prediction of educational attainment...</td>\n      <td>GCST90105038</td>\n    </tr>\n    <tr>\n      <th>292104</th>\n      <td>rs8044082</td>\n      <td>intron_variant</td>\n      <td>Educational attainment</td>\n      <td>educational attainment</td>\n      <td>rs8044082-T</td>\n      <td>RBFOX1</td>\n      <td>0.007181</td>\n      <td>Polygenic prediction of educational attainment...</td>\n      <td>GCST90105038</td>\n    </tr>\n    <tr>\n      <th>292105</th>\n      <td>rs722256</td>\n      <td>intron_variant</td>\n      <td>Educational attainment</td>\n      <td>educational attainment</td>\n      <td>rs722256-C</td>\n      <td>RBFOX1</td>\n      <td>0.006546</td>\n      <td>Polygenic prediction of educational attainment...</td>\n      <td>GCST90105038</td>\n    </tr>\n    <tr>\n      <th>292106</th>\n      <td>rs10400992</td>\n      <td>intron_variant</td>\n      <td>Educational attainment</td>\n      <td>educational attainment</td>\n      <td>rs10400992-C</td>\n      <td>RBFOX1</td>\n      <td>0.006071</td>\n      <td>Polygenic prediction of educational attainment...</td>\n      <td>GCST90105038</td>\n    </tr>\n    <tr>\n      <th>292107</th>\n      <td>rs1492376</td>\n      <td>intron_variant</td>\n      <td>Educational attainment</td>\n      <td>educational attainment</td>\n      <td>rs1492376-C</td>\n      <td>RBFOX1</td>\n      <td>0.005260</td>\n      <td>Polygenic prediction of educational attainment...</td>\n      <td>GCST90105038</td>\n    </tr>\n  </tbody>\n</table>\n<p>291006 rows × 9 columns</p>\n</div>"
     },
     "metadata": {},
     "output_type": "display_data"
    },
    {
     "data": {
      "text/plain": "  gene       rsid     pmids                       mesh              topic  \\\n0  FTO  rs9972653  32393786            Body Mass Index  General Nutrition   \n1  FTO  rs9972653  32393786  Diabetes Mellitus, Type 2  General Nutrition   \n2  FTO  rs9972653  32393786                       Diet  General Nutrition   \n3  FTO  rs9972653  33128006            Body Mass Index  General Nutrition   \n4  FTO  rs9972653  33128006    Cardiovascular Diseases  General Nutrition   \n\n   interest_index  \n0             1.0  \n1             1.0  \n2             1.0  \n3             1.0  \n4             1.0  ",
      "text/html": "<div>\n<style scoped>\n    .dataframe tbody tr th:only-of-type {\n        vertical-align: middle;\n    }\n\n    .dataframe tbody tr th {\n        vertical-align: top;\n    }\n\n    .dataframe thead th {\n        text-align: right;\n    }\n</style>\n<table border=\"1\" class=\"dataframe\">\n  <thead>\n    <tr style=\"text-align: right;\">\n      <th></th>\n      <th>gene</th>\n      <th>rsid</th>\n      <th>pmids</th>\n      <th>mesh</th>\n      <th>topic</th>\n      <th>interest_index</th>\n    </tr>\n  </thead>\n  <tbody>\n    <tr>\n      <th>0</th>\n      <td>FTO</td>\n      <td>rs9972653</td>\n      <td>32393786</td>\n      <td>Body Mass Index</td>\n      <td>General Nutrition</td>\n      <td>1.0</td>\n    </tr>\n    <tr>\n      <th>1</th>\n      <td>FTO</td>\n      <td>rs9972653</td>\n      <td>32393786</td>\n      <td>Diabetes Mellitus, Type 2</td>\n      <td>General Nutrition</td>\n      <td>1.0</td>\n    </tr>\n    <tr>\n      <th>2</th>\n      <td>FTO</td>\n      <td>rs9972653</td>\n      <td>32393786</td>\n      <td>Diet</td>\n      <td>General Nutrition</td>\n      <td>1.0</td>\n    </tr>\n    <tr>\n      <th>3</th>\n      <td>FTO</td>\n      <td>rs9972653</td>\n      <td>33128006</td>\n      <td>Body Mass Index</td>\n      <td>General Nutrition</td>\n      <td>1.0</td>\n    </tr>\n    <tr>\n      <th>4</th>\n      <td>FTO</td>\n      <td>rs9972653</td>\n      <td>33128006</td>\n      <td>Cardiovascular Diseases</td>\n      <td>General Nutrition</td>\n      <td>1.0</td>\n    </tr>\n  </tbody>\n</table>\n</div>"
     },
     "metadata": {},
     "output_type": "display_data"
    }
   ],
   "source": [
    "df_gwas_small = df_gwas_[['SNPS','CONTEXT','DISEASE/TRAIT','MAPPED_TRAIT', 'STRONGEST SNP-RISK ALLELE', 'MAPPED_GENE', 'OR or BETA', 'STUDY','STUDY ACCESSION']].drop_duplicates()\n",
    "\n",
    "display(df_gwas_small)\n",
    "display(grpm_nutrigen_int.head())"
   ],
   "metadata": {
    "collapsed": false,
    "ExecuteTime": {
     "end_time": "2024-10-22T12:30:58.819835400Z",
     "start_time": "2024-10-22T12:30:58.275203300Z"
    }
   },
   "execution_count": 27
  },
  {
   "cell_type": "code",
   "outputs": [],
   "source": [
    "def typestr(df):\n",
    "    df[['pmid','PUBMEDID']] = df[['pmid','PUBMEDID']].astype(str)\n",
    "\n",
    "#df_grpmx_th_int = df_grpmx_th_int.sort_values(by=['interest_index','rsid','mesh'], ascending =False).reset_index(drop=True)\n",
    "\n",
    "# Merge two df on rsid:\n",
    "df_merged_th = pd.merge(grpm_nutrigen_int,\n",
    "                        df_gwas_small, left_on='rsid', right_on='SNPS')"
   ],
   "metadata": {
    "collapsed": false,
    "ExecuteTime": {
     "end_time": "2024-10-22T12:31:12.456070600Z",
     "start_time": "2024-10-22T12:31:04.721006800Z"
    }
   },
   "execution_count": 28
  },
  {
   "cell_type": "code",
   "outputs": [],
   "source": [
    "df_merged_th[['rsid', 'SNPS', 'mesh', 'DISEASE/TRAIT', 'STRONGEST SNP-RISK ALLELE']].sample(20)"
   ],
   "metadata": {
    "collapsed": false
   },
   "execution_count": null
  },
  {
   "cell_type": "code",
   "outputs": [
    {
     "data": {
      "text/plain": "             gene         rsid     pmids                               mesh  \\\n6946728      APOE       rs7412  23919842                      Dyslipidemias   \n16616135   FCGR3A     rs396991  26736041                   Immunoglobulin G   \n12297924      AGT        rs699  17298481                       Hypertension   \n16702421   PNPLA3     rs738409  23226254                        Fatty Liver   \n7461612      APOE     rs429358  11425239                  Apolipoproteins E   \n1649298    TM6SF2   rs58542926  34384788                   Lipid Metabolism   \n13697347     APOB     rs676210  31132756                  Lipoproteins, LDL   \n4229935       FTO    rs1121980  26722565          Polycystic Ovary Syndrome   \n7510604      APOE     rs429358  28686695                  Apolipoproteins E   \n76799       MTHFR    rs1801133  21960995                      Blood Glucose   \n11268386     APOE       rs7412  32200711                Electrocardiography   \n1820891    TM6SF2  rs187429064  29632382          Diabetes Mellitus, Type 2   \n5998051     PCSK9   rs11591147  31758270          Diabetes Mellitus, Type 2   \n17385349     GCKR    rs1260326  32712221  Non-alcoholic Fatty Liver Disease   \n2765896      APOE       rs7412  34061824                           Exercise   \n13887011   TM6SF2   rs58542926  25893821                             Lipase   \n1659842    TM6SF2   rs58542926  32525256  Non-alcoholic Fatty Liver Disease   \n1376764       LPL        rs328  30667137                       Inflammation   \n8536306   SLC30A8   rs13266634  21103332                      Blood Glucose   \n453584     KCNJ11       rs5219  30467975                        Adiponectin   \n\n                                                     topic  interest_index  \\\n6946728   Diabetes Mellitus Type II and Metabolic Syndrome         0.59909   \n16616135                                    Food Allergies         0.33372   \n12297924        Cardiovascular Health and Lipid Metabolism         0.59079   \n16702421                            Xenobiotics Metabolism         1.00000   \n7461612   Diabetes Mellitus Type II and Metabolic Syndrome         0.59909   \n1649298                                  General Nutrition         0.27377   \n13697347        Cardiovascular Health and Lipid Metabolism         0.35086   \n4229935      Obesity, Weight Control and Compulsive Eating         1.00000   \n7510604   Diabetes Mellitus Type II and Metabolic Syndrome         0.59909   \n76799                                    General Nutrition         0.84255   \n11268386        Cardiovascular Health and Lipid Metabolism         0.76281   \n1820891                                  General Nutrition         0.27377   \n5998051      Obesity, Weight Control and Compulsive Eating         0.02709   \n17385349                            Xenobiotics Metabolism         0.06577   \n2765896                                  General Nutrition         0.16966   \n13887011        Cardiovascular Health and Lipid Metabolism         0.32652   \n1659842                                  General Nutrition         0.27377   \n1376764                                  General Nutrition         0.33770   \n8536306   Diabetes Mellitus Type II and Metabolic Syndrome         0.37389   \n453584                                   General Nutrition         0.49355   \n\n                 SNPS                                      DISEASE/TRAIT  \\\n6946728        rs7412  Triglycerides to total lipids ratio in very sm...   \n16616135     rs396991  Low affinity immunoglobulin gamma Fc region re...   \n12297924        rs699                           Diastolic blood pressure   \n16702421     rs738409                                     Platelet count   \n7461612      rs429358  Platelet-activating factor acetylhydrolase levels   \n1649298    rs58542926                               Linoleic acid levels   \n13697347     rs676210                   Cholesterol levels in large VLDL   \n4229935     rs1121980        High density lipoprotein cholesterol levels   \n7510604      rs429358                      Free cholesterol in large HDL   \n76799       rs1801133                                Homocysteine levels   \n11268386       rs7412  Cholesteryl esters to total lipids ratio in ch...   \n1820891   rs187429064  Triglycerides in large VLDL (UKB data field 23...   \n5998051    rs11591147  Cholesterol to total lipids ratio in very larg...   \n17385349    rs1260326  Sex hormone-binding globulin levels in premeno...   \n2765896        rs7412                    Serum levels of protein C5orf38   \n13887011   rs58542926  Familial combined hyperlipidemia defined by Du...   \n1659842    rs58542926  Triglycerides to total lipids ratio in medium HDL   \n1376764         rs328  Triglycerides in medium VLDL (UKB data field 2...   \n8536306    rs13266634                              Hemoglobin A1c levels   \n453584         rs5219                             Mean arterial pressure   \n\n                                               MAPPED_TRAIT  \\\n6946728   triglycerides:total lipids ratio, very low den...   \n16616135  level of low affinity immunoglobulin gamma Fc ...   \n12297924                           diastolic blood pressure   \n16702421                                     platelet count   \n7461612                                 protein measurement   \n1649298                           linoleic acid measurement   \n13697347  total cholesterol measurement, very low densit...   \n4229935    high density lipoprotein cholesterol measurement   \n7510604           free cholesterol in large HDL measurement   \n76799                              homocysteine measurement   \n11268386  chylomicron measurement, very low density lipo...   \n1820891             triglycerides in large VLDL measurement   \n5998051   very low density lipoprotein cholesterol measu...   \n17385349           sex hormone-binding globulin measurement   \n2765896                           blood protein measurement   \n13887011                            familial hyperlipidemia   \n1659842   triglycerides:total lipids ratio, high density...   \n1376764            triglycerides in medium VLDL measurement   \n8536306                                   HbA1c measurement   \n453584                               mean arterial pressure   \n\n         STRONGEST SNP-RISK ALLELE  \n6946728                   rs7412-T  \n16616135                rs396991-C  \n12297924                   rs699-A  \n16702421                rs738409-C  \n7461612                 rs429358-T  \n1649298               rs58542926-C  \n13697347                rs676210-G  \n4229935                rs1121980-G  \n7510604                 rs429358-T  \n76799                  rs1801133-A  \n11268386                  rs7412-T  \n1820891              rs187429064-G  \n5998051               rs11591147-G  \n17385349               rs1260326-T  \n2765896                   rs7412-T  \n13887011              rs58542926-C  \n1659842               rs58542926-T  \n1376764                    rs328-G  \n8536306               rs13266634-T  \n453584                    rs5219-T  ",
      "text/html": "<div>\n<style scoped>\n    .dataframe tbody tr th:only-of-type {\n        vertical-align: middle;\n    }\n\n    .dataframe tbody tr th {\n        vertical-align: top;\n    }\n\n    .dataframe thead th {\n        text-align: right;\n    }\n</style>\n<table border=\"1\" class=\"dataframe\">\n  <thead>\n    <tr style=\"text-align: right;\">\n      <th></th>\n      <th>gene</th>\n      <th>rsid</th>\n      <th>pmids</th>\n      <th>mesh</th>\n      <th>topic</th>\n      <th>interest_index</th>\n      <th>SNPS</th>\n      <th>DISEASE/TRAIT</th>\n      <th>MAPPED_TRAIT</th>\n      <th>STRONGEST SNP-RISK ALLELE</th>\n    </tr>\n  </thead>\n  <tbody>\n    <tr>\n      <th>6946728</th>\n      <td>APOE</td>\n      <td>rs7412</td>\n      <td>23919842</td>\n      <td>Dyslipidemias</td>\n      <td>Diabetes Mellitus Type II and Metabolic Syndrome</td>\n      <td>0.59909</td>\n      <td>rs7412</td>\n      <td>Triglycerides to total lipids ratio in very sm...</td>\n      <td>triglycerides:total lipids ratio, very low den...</td>\n      <td>rs7412-T</td>\n    </tr>\n    <tr>\n      <th>16616135</th>\n      <td>FCGR3A</td>\n      <td>rs396991</td>\n      <td>26736041</td>\n      <td>Immunoglobulin G</td>\n      <td>Food Allergies</td>\n      <td>0.33372</td>\n      <td>rs396991</td>\n      <td>Low affinity immunoglobulin gamma Fc region re...</td>\n      <td>level of low affinity immunoglobulin gamma Fc ...</td>\n      <td>rs396991-C</td>\n    </tr>\n    <tr>\n      <th>12297924</th>\n      <td>AGT</td>\n      <td>rs699</td>\n      <td>17298481</td>\n      <td>Hypertension</td>\n      <td>Cardiovascular Health and Lipid Metabolism</td>\n      <td>0.59079</td>\n      <td>rs699</td>\n      <td>Diastolic blood pressure</td>\n      <td>diastolic blood pressure</td>\n      <td>rs699-A</td>\n    </tr>\n    <tr>\n      <th>16702421</th>\n      <td>PNPLA3</td>\n      <td>rs738409</td>\n      <td>23226254</td>\n      <td>Fatty Liver</td>\n      <td>Xenobiotics Metabolism</td>\n      <td>1.00000</td>\n      <td>rs738409</td>\n      <td>Platelet count</td>\n      <td>platelet count</td>\n      <td>rs738409-C</td>\n    </tr>\n    <tr>\n      <th>7461612</th>\n      <td>APOE</td>\n      <td>rs429358</td>\n      <td>11425239</td>\n      <td>Apolipoproteins E</td>\n      <td>Diabetes Mellitus Type II and Metabolic Syndrome</td>\n      <td>0.59909</td>\n      <td>rs429358</td>\n      <td>Platelet-activating factor acetylhydrolase levels</td>\n      <td>protein measurement</td>\n      <td>rs429358-T</td>\n    </tr>\n    <tr>\n      <th>1649298</th>\n      <td>TM6SF2</td>\n      <td>rs58542926</td>\n      <td>34384788</td>\n      <td>Lipid Metabolism</td>\n      <td>General Nutrition</td>\n      <td>0.27377</td>\n      <td>rs58542926</td>\n      <td>Linoleic acid levels</td>\n      <td>linoleic acid measurement</td>\n      <td>rs58542926-C</td>\n    </tr>\n    <tr>\n      <th>13697347</th>\n      <td>APOB</td>\n      <td>rs676210</td>\n      <td>31132756</td>\n      <td>Lipoproteins, LDL</td>\n      <td>Cardiovascular Health and Lipid Metabolism</td>\n      <td>0.35086</td>\n      <td>rs676210</td>\n      <td>Cholesterol levels in large VLDL</td>\n      <td>total cholesterol measurement, very low densit...</td>\n      <td>rs676210-G</td>\n    </tr>\n    <tr>\n      <th>4229935</th>\n      <td>FTO</td>\n      <td>rs1121980</td>\n      <td>26722565</td>\n      <td>Polycystic Ovary Syndrome</td>\n      <td>Obesity, Weight Control and Compulsive Eating</td>\n      <td>1.00000</td>\n      <td>rs1121980</td>\n      <td>High density lipoprotein cholesterol levels</td>\n      <td>high density lipoprotein cholesterol measurement</td>\n      <td>rs1121980-G</td>\n    </tr>\n    <tr>\n      <th>7510604</th>\n      <td>APOE</td>\n      <td>rs429358</td>\n      <td>28686695</td>\n      <td>Apolipoproteins E</td>\n      <td>Diabetes Mellitus Type II and Metabolic Syndrome</td>\n      <td>0.59909</td>\n      <td>rs429358</td>\n      <td>Free cholesterol in large HDL</td>\n      <td>free cholesterol in large HDL measurement</td>\n      <td>rs429358-T</td>\n    </tr>\n    <tr>\n      <th>76799</th>\n      <td>MTHFR</td>\n      <td>rs1801133</td>\n      <td>21960995</td>\n      <td>Blood Glucose</td>\n      <td>General Nutrition</td>\n      <td>0.84255</td>\n      <td>rs1801133</td>\n      <td>Homocysteine levels</td>\n      <td>homocysteine measurement</td>\n      <td>rs1801133-A</td>\n    </tr>\n    <tr>\n      <th>11268386</th>\n      <td>APOE</td>\n      <td>rs7412</td>\n      <td>32200711</td>\n      <td>Electrocardiography</td>\n      <td>Cardiovascular Health and Lipid Metabolism</td>\n      <td>0.76281</td>\n      <td>rs7412</td>\n      <td>Cholesteryl esters to total lipids ratio in ch...</td>\n      <td>chylomicron measurement, very low density lipo...</td>\n      <td>rs7412-T</td>\n    </tr>\n    <tr>\n      <th>1820891</th>\n      <td>TM6SF2</td>\n      <td>rs187429064</td>\n      <td>29632382</td>\n      <td>Diabetes Mellitus, Type 2</td>\n      <td>General Nutrition</td>\n      <td>0.27377</td>\n      <td>rs187429064</td>\n      <td>Triglycerides in large VLDL (UKB data field 23...</td>\n      <td>triglycerides in large VLDL measurement</td>\n      <td>rs187429064-G</td>\n    </tr>\n    <tr>\n      <th>5998051</th>\n      <td>PCSK9</td>\n      <td>rs11591147</td>\n      <td>31758270</td>\n      <td>Diabetes Mellitus, Type 2</td>\n      <td>Obesity, Weight Control and Compulsive Eating</td>\n      <td>0.02709</td>\n      <td>rs11591147</td>\n      <td>Cholesterol to total lipids ratio in very larg...</td>\n      <td>very low density lipoprotein cholesterol measu...</td>\n      <td>rs11591147-G</td>\n    </tr>\n    <tr>\n      <th>17385349</th>\n      <td>GCKR</td>\n      <td>rs1260326</td>\n      <td>32712221</td>\n      <td>Non-alcoholic Fatty Liver Disease</td>\n      <td>Xenobiotics Metabolism</td>\n      <td>0.06577</td>\n      <td>rs1260326</td>\n      <td>Sex hormone-binding globulin levels in premeno...</td>\n      <td>sex hormone-binding globulin measurement</td>\n      <td>rs1260326-T</td>\n    </tr>\n    <tr>\n      <th>2765896</th>\n      <td>APOE</td>\n      <td>rs7412</td>\n      <td>34061824</td>\n      <td>Exercise</td>\n      <td>General Nutrition</td>\n      <td>0.16966</td>\n      <td>rs7412</td>\n      <td>Serum levels of protein C5orf38</td>\n      <td>blood protein measurement</td>\n      <td>rs7412-T</td>\n    </tr>\n    <tr>\n      <th>13887011</th>\n      <td>TM6SF2</td>\n      <td>rs58542926</td>\n      <td>25893821</td>\n      <td>Lipase</td>\n      <td>Cardiovascular Health and Lipid Metabolism</td>\n      <td>0.32652</td>\n      <td>rs58542926</td>\n      <td>Familial combined hyperlipidemia defined by Du...</td>\n      <td>familial hyperlipidemia</td>\n      <td>rs58542926-C</td>\n    </tr>\n    <tr>\n      <th>1659842</th>\n      <td>TM6SF2</td>\n      <td>rs58542926</td>\n      <td>32525256</td>\n      <td>Non-alcoholic Fatty Liver Disease</td>\n      <td>General Nutrition</td>\n      <td>0.27377</td>\n      <td>rs58542926</td>\n      <td>Triglycerides to total lipids ratio in medium HDL</td>\n      <td>triglycerides:total lipids ratio, high density...</td>\n      <td>rs58542926-T</td>\n    </tr>\n    <tr>\n      <th>1376764</th>\n      <td>LPL</td>\n      <td>rs328</td>\n      <td>30667137</td>\n      <td>Inflammation</td>\n      <td>General Nutrition</td>\n      <td>0.33770</td>\n      <td>rs328</td>\n      <td>Triglycerides in medium VLDL (UKB data field 2...</td>\n      <td>triglycerides in medium VLDL measurement</td>\n      <td>rs328-G</td>\n    </tr>\n    <tr>\n      <th>8536306</th>\n      <td>SLC30A8</td>\n      <td>rs13266634</td>\n      <td>21103332</td>\n      <td>Blood Glucose</td>\n      <td>Diabetes Mellitus Type II and Metabolic Syndrome</td>\n      <td>0.37389</td>\n      <td>rs13266634</td>\n      <td>Hemoglobin A1c levels</td>\n      <td>HbA1c measurement</td>\n      <td>rs13266634-T</td>\n    </tr>\n    <tr>\n      <th>453584</th>\n      <td>KCNJ11</td>\n      <td>rs5219</td>\n      <td>30467975</td>\n      <td>Adiponectin</td>\n      <td>General Nutrition</td>\n      <td>0.49355</td>\n      <td>rs5219</td>\n      <td>Mean arterial pressure</td>\n      <td>mean arterial pressure</td>\n      <td>rs5219-T</td>\n    </tr>\n  </tbody>\n</table>\n</div>"
     },
     "execution_count": 15,
     "metadata": {},
     "output_type": "execute_result"
    }
   ],
   "source": [
    "df_merged_th.sample(20)"
   ],
   "metadata": {
    "collapsed": false,
    "ExecuteTime": {
     "end_time": "2024-10-22T12:22:20.906588800Z",
     "start_time": "2024-10-22T12:22:18.335374800Z"
    }
   },
   "execution_count": 15
  },
  {
   "cell_type": "markdown",
   "source": [
    "### V. Filer Joint DF by Semantic Similarity"
   ],
   "metadata": {
    "collapsed": false
   }
  },
  {
   "cell_type": "markdown",
   "source": [
    "['SNPS','CONTEXT','DISEASE/TRAIT','MAPPED_TRAIT', 'STRONGEST SNP-RISK ALLELE', 'MAPPED_GENE', 'OR or BETA', 'STUDY','STUDY ACCESSION']"
   ],
   "metadata": {
    "collapsed": false
   }
  },
  {
   "cell_type": "code",
   "outputs": [
    {
     "name": "stdout",
     "output_type": "stream",
     "text": [
      "Unique elements count in each column:\n",
      "gene                          385\n",
      "rsid                          944\n",
      "pmids                        7278\n",
      "mesh                          126\n",
      "topic                          10\n",
      "interest_index                835\n",
      "SNPS                          944\n",
      "CONTEXT                        12\n",
      "DISEASE/TRAIT                 588\n",
      "MAPPED_TRAIT                  316\n",
      "STRONGEST SNP-RISK ALLELE    1211\n",
      "MAPPED_GENE                   383\n",
      "OR or BETA                   3911\n",
      "STUDY                         380\n",
      "STUDY ACCESSION              1140\n",
      "gwas_trait                    588\n",
      "similarity                    578\n",
      "dtype: int64\n"
     ]
    }
   ],
   "source": [
    "# Load correspodance tabel\n",
    "if 'gwas_mesh_df_threshold' not in globals():\n",
    "    gwas_mesh_df = pd.read_csv('gwas_data/gwas_mesh_correspondance_nutrigen.csv')\n",
    "    gwas_mesh_df_threshold = gwas_mesh_df[gwas_mesh_df.similarity>=0.9]\n",
    "\n",
    "# First, merge the two dataframes on the specified combinations\n",
    "merged_df = df_merged_th.merge(\n",
    "    gwas_mesh_df_threshold,\n",
    "    left_on=['DISEASE/TRAIT', 'mesh'],\n",
    "    right_on=['gwas_trait', 'mesh'],\n",
    "    how='inner'\n",
    ")\n",
    "\n",
    "# Generate a report of the count of unique elements in each column\n",
    "report = merged_df.nunique()\n",
    "\n",
    "# Print the report count of unique elements in the DataFrame\n",
    "print(\"Unique elements count in each column:\")\n",
    "print(report)\n",
    "#merged_df.groupby('gene').describe(include='object').loc[:, (slice(None), 'unique')]"
   ],
   "metadata": {
    "collapsed": false,
    "ExecuteTime": {
     "end_time": "2024-10-22T12:33:46.649247800Z",
     "start_time": "2024-10-22T12:33:41.337779Z"
    }
   },
   "execution_count": 33
  },
  {
   "cell_type": "code",
   "outputs": [],
   "source": [
    "# Refine Datset\n",
    "dict_ = {'gene' :   'GRPM_GENE', \n",
    "         'rsid' :   'GRPM_RSID', \n",
    "         'pmid':   'GRPM_PMID', \n",
    "         'mesh' :   'GRPM_MESH',\n",
    "         'topic':  'GRPM_TOPIC',\n",
    "         'interest_index': 'GRPM_GI',\n",
    "         'similarity': 'SEMANTIC_SIMILARITY',\n",
    "         'DISEASE/TRAIT': 'GWAS_DISEASE/TRAIT',\n",
    "         'MAPPED_TRAIT': 'GWAS_MAPPED_TRAIT',\n",
    "         'MAPPED_GENE': 'GWAS_MAPPED_GENE',\n",
    "         #'SNPS': 'GWAS_SNPS',\n",
    "        'CONTEXT': 'GWAS_CONTEXT',\n",
    "        'STRONGEST SNP-RISK ALLELE': 'GWAS_STRONGEST_SNP-RISK_ALLELE',\n",
    "        'OR or BETA': 'GWAS_OR-BETA',\n",
    "        'STUDY': 'GWAS_STUDY',\n",
    "        'STUDY ACCESSION': 'GWAS_STUDY_ID',\n",
    "        #'gwas_trait',\n",
    "        }\n",
    "\n",
    "merged_df.rename(columns=dict_, inplace=True)\n",
    "merged_df = merged_df[dict_.values()]"
   ],
   "metadata": {
    "collapsed": false,
    "ExecuteTime": {
     "end_time": "2024-10-22T13:02:48.718599900Z",
     "start_time": "2024-10-22T13:02:48.490789500Z"
    }
   },
   "execution_count": 64
  },
  {
   "cell_type": "code",
   "outputs": [],
   "source": [
    "if simple_bool('Save merge output?'): merged_df.to_parquet('nutrigenetic_dataset/grpm_nutrigen_int_gwas.parquet', engine='pyarrow', index=False)"
   ],
   "metadata": {
    "collapsed": false,
    "ExecuteTime": {
     "end_time": "2024-10-22T13:03:04.884314800Z",
     "start_time": "2024-10-22T13:03:02.255316100Z"
    }
   },
   "execution_count": 67
  },
  {
   "cell_type": "code",
   "outputs": [
    {
     "data": {
      "text/plain": "GRPM_GENE                          385\nGRPM_RSID                          944\nGRPM_PMID                         7278\nGRPM_MESH                          126\nGRPM_TOPIC                          10\nGRPM_GI                            835\nSEMANTIC_SIMILARITY                578\nGWAS_DISEASE/TRAIT                 588\nGWAS_MAPPED_TRAIT                  316\nGWAS_MAPPED_GENE                   383\nGWAS_CONTEXT                        12\nGWAS_STRONGEST_SNP-RISK_ALLELE    1211\nGWAS_OR-BETA                      3911\nGWAS_STUDY                         380\nGWAS_STUDY_ID                     1140\ndtype: int64"
     },
     "execution_count": 73,
     "metadata": {},
     "output_type": "execute_result"
    }
   ],
   "source": [
    "merged_df = pd.read_parquet('nutrigenetic_dataset/grpm_nutrigen_int_gwas.parquet')#.describe(include= object).T\n",
    "merged_df.nunique()#.describe(include=object).T"
   ],
   "metadata": {
    "collapsed": false,
    "ExecuteTime": {
     "end_time": "2024-10-22T13:07:47.218808400Z",
     "start_time": "2024-10-22T13:07:46.763391400Z"
    }
   },
   "execution_count": 73
  },
  {
   "cell_type": "markdown",
   "source": [
    "GRPM-GWAS Nutrigentic Dataset:\n",
    "Genes\t: 385\n",
    "variations\t: 944\n",
    "pmid  : 7278\n",
    "mesh : 126\n",
    "\n",
    "GRPM Nutrigentic Dataset:\n",
    "Genes\t: 1773\n",
    "variations\t: 63.581\n",
    "pmid  : 99.759\n",
    "mesh : 1486\n",
    "\n",
    "NutriGenDB Statistics\n",
    "Genes\t: 161\n",
    "variations\t: 248\n"
   ],
   "metadata": {
    "collapsed": false
   }
  },
  {
   "cell_type": "code",
   "outputs": [
    {
     "data": {
      "text/plain": "gene               1773\nrsid              63581\npmids             99759\nmesh               1486\ntopic                10\ninterest_index     2635\ndtype: int64"
     },
     "execution_count": 74,
     "metadata": {},
     "output_type": "execute_result"
    }
   ],
   "source": [
    "nutri_df = pd.read_parquet('nutrigenetic_dataset/grpm_nutrigen_int.parquet')#.describe(include= object).T\n",
    "nutri_df.nunique()#.describe(include=object).T"
   ],
   "metadata": {
    "collapsed": false,
    "ExecuteTime": {
     "end_time": "2024-10-22T13:12:29.266603200Z",
     "start_time": "2024-10-22T13:12:26.568280900Z"
    }
   },
   "execution_count": 74
  },
  {
   "cell_type": "markdown",
   "source": [],
   "metadata": {
    "collapsed": false
   }
  },
  {
   "cell_type": "code",
   "outputs": [
    {
     "data": {
      "text/plain": "Empty DataFrame\nColumns: [GRPM_GENE, GRPM_RSID, GRPM_PMID, GRPM_MESH, GRPM_TOPIC, GRPM_GI, SEMANTIC_SIMILARITY, GWAS_DISEASE/TRAIT, GWAS_MAPPED_TRAIT, GWAS_MAPPED_GENE, GWAS_SNPS, GWAS_CONTEXT, GWAS_STRONGEST_SNP-RISK_ALLELE, GWAS_OR-BETA, GWAS_STUDY, GWAS_STUDY_ID]\nIndex: []",
      "text/html": "<div>\n<style scoped>\n    .dataframe tbody tr th:only-of-type {\n        vertical-align: middle;\n    }\n\n    .dataframe tbody tr th {\n        vertical-align: top;\n    }\n\n    .dataframe thead th {\n        text-align: right;\n    }\n</style>\n<table border=\"1\" class=\"dataframe\">\n  <thead>\n    <tr style=\"text-align: right;\">\n      <th></th>\n      <th>GRPM_GENE</th>\n      <th>GRPM_RSID</th>\n      <th>GRPM_PMID</th>\n      <th>GRPM_MESH</th>\n      <th>GRPM_TOPIC</th>\n      <th>GRPM_GI</th>\n      <th>SEMANTIC_SIMILARITY</th>\n      <th>GWAS_DISEASE/TRAIT</th>\n      <th>GWAS_MAPPED_TRAIT</th>\n      <th>GWAS_MAPPED_GENE</th>\n      <th>GWAS_SNPS</th>\n      <th>GWAS_CONTEXT</th>\n      <th>GWAS_STRONGEST_SNP-RISK_ALLELE</th>\n      <th>GWAS_OR-BETA</th>\n      <th>GWAS_STUDY</th>\n      <th>GWAS_STUDY_ID</th>\n    </tr>\n  </thead>\n  <tbody>\n  </tbody>\n</table>\n</div>"
     },
     "execution_count": 62,
     "metadata": {},
     "output_type": "execute_result"
    }
   ],
   "source": [
    "merged_df.loc[merged_df['GRPM_GENE'] == merged_df['GWAS_MAPPED_GENE'], ['GRPM_GENE', 'GWAS_MAPPED_GENE']].drop_duplicates()\n",
    "#merged_df[['GRPM_GENE']].drop_duplicates()\n",
    "\n",
    "merged_df.loc[merged_df['GRPM_GENE'] != merged_df['GWAS_MAPPED_GENE']]\n",
    "merged_df.loc[merged_df['GRPM_RSID'] != merged_df['GWAS_SNPS']]"
   ],
   "metadata": {
    "collapsed": false,
    "ExecuteTime": {
     "end_time": "2024-10-22T13:01:46.569212600Z",
     "start_time": "2024-10-22T13:01:46.315700500Z"
    }
   },
   "execution_count": 62
  },
  {
   "cell_type": "markdown",
   "source": [],
   "metadata": {
    "collapsed": false
   }
  },
  {
   "cell_type": "markdown",
   "source": [],
   "metadata": {
    "collapsed": false
   }
  },
  {
   "cell_type": "markdown",
   "source": [
    "## NLP-based Method [DEPRECATED]"
   ],
   "metadata": {
    "collapsed": false
   }
  },
  {
   "cell_type": "markdown",
   "metadata": {},
   "source": [
    "### I. choose and load GRPM survey to merge"
   ]
  },
  {
   "cell_type": "code",
   "execution_count": null,
   "metadata": {
    "collapsed": false
   },
   "outputs": [],
   "source": [
    "# choose db\n",
    "db_tag = 'pcg'\n",
    "# pcg    = protein coding genes = grpm_db_pcg\n",
    "# rna    = rna genes            = grpm_db_rna\n",
    "# pseudo = pseudogenes          = grpm_db_pseudo\n",
    "#-------------------------------------------------\n",
    "\n",
    "survey_path = 'grpm_surveys/'\n",
    "\n",
    "# Create an empty list to store folder names\n",
    "folder_names = []\n",
    "current_dir = os.getcwd()+'/'+survey_path\n",
    "# Iterate over the directories in the workspace\n",
    "for root, dirs, files in os.walk(current_dir):\n",
    "    for dir_name in dirs:\n",
    "        # Check if the folder name contains the string 'survey'\n",
    "        if 'survey' in dir_name:\n",
    "            folder_names.append(dir_name)\n",
    "\n",
    "# Create a pandas Series from the list of folder names\n",
    "folder_series = pd.Series(folder_names)\n",
    "print('Available survey repositories:\\n')\n",
    "folder_series = folder_series.str.replace('grpm_survey_'+db_tag+'_','')\n",
    "# Print the resulting Series\n",
    "print(folder_series)"
   ]
  },
  {
   "cell_type": "code",
   "execution_count": null,
   "metadata": {
    "collapsed": false
   },
   "outputs": [],
   "source": [
    "# load my GRPMx Data from survey folder\n",
    "tag = 'nutri'\n",
    "directory = survey_path+'grpm_survey_pcg_'+tag\n",
    "df_grpmx = pd.read_csv(directory+'/grpmx_filtered_output.csv', index_col=0)\n",
    "df_grpmx_repo = pd.read_csv(directory+'/GRPMX_report_int.csv')\n",
    "\n",
    "# add mesh synonyms\n",
    "mesh_df = pd.read_csv('ref-mesh/MESH_STY_LITVAR1.csv')[['Preferred Label', 'Synonyms']]\n",
    "df_grpmx = pd.merge(df_grpmx,\n",
    "                            mesh_df, left_on='mesh',right_on='Preferred Label')\n",
    "mesh_df = None\n",
    "\n",
    "df_grpmx = df_grpmx.drop('Preferred Label', axis = 1)\n",
    "df_grpmx['all_mesh'] = df_grpmx['mesh'] + ', ' + df_grpmx['Synonyms']\n",
    "\n",
    "\n",
    "#def function: filter for int threshold:\n",
    "def filter_int(df_repo, threshold ):\n",
    "    df_grpmx_repo_int = df_repo[df_repo.interest_index >= threshold]\n",
    "    return df_grpmx[df_grpmx.gene.isin(df_grpmx_repo_int.gene)]\n",
    "\n",
    "#filter for 0.95 quantile\n",
    "df_grpmx_95 = filter_int(df_grpmx_repo, threshold=df_grpmx_repo.interest_index.quantile(0.95))\n",
    "\n",
    "#filter for int threshold:\n",
    "df_grpmx_int = filter_int(df_grpmx_repo, threshold=0.0125)\n",
    "\n",
    "print('df_grpmx_95 genes:', df_grpmx_95.gene.nunique())\n",
    "print('df_grpmx_int genes:', df_grpmx_int.gene.nunique())\n",
    "\n",
    "df_grpmx_int"
   ]
  },
  {
   "cell_type": "markdown",
   "metadata": {},
   "source": [
    "### II. set Gene Interest threshold"
   ]
  },
  {
   "cell_type": "code",
   "execution_count": null,
   "metadata": {
    "collapsed": false
   },
   "outputs": [],
   "source": [
    "#threshold\n",
    "#df_grpmx_th = df_grpmx_95\n",
    "df_grpmx_th = df_grpmx_int\n",
    "\n",
    "df_grpmx_int = pd.DataFrame()\n",
    "df_grpmx_th_int = pd.DataFrame()\n",
    "\n",
    "## ADD gene-interest index as common sorting handle\n",
    "small_dummy = df_grpmx_repo[['gene','interest_index']]\n",
    "df_grpmx_int =    pd.merge(df_grpmx,    small_dummy, left_on='gene', right_on='gene')\n",
    "df_grpmx_th_int = pd.merge(df_grpmx_th, small_dummy, left_on='gene', right_on='gene')\n",
    "\n",
    "print('GRPMX threshold Statistics:')\n",
    "print('genes:', df_grpmx_th.gene.nunique())\n",
    "print('rsid:',  df_grpmx_th .rsid.nunique())\n",
    "print('mesh:',  df_grpmx_th .mesh.nunique())\n",
    "\n",
    "df_grpmx_int\n",
    "df_grpmx_th_int"
   ]
  },
  {
   "cell_type": "markdown",
   "metadata": {},
   "source": [
    "### III. merge gwas_df with grpmx dataset"
   ]
  },
  {
   "cell_type": "markdown",
   "metadata": {},
   "source": [
    "#### - complete grpmx merge"
   ]
  },
  {
   "cell_type": "code",
   "execution_count": null,
   "metadata": {
    "collapsed": false
   },
   "outputs": [],
   "source": [
    "merge_with = clean_df_gwas # or full df_gwas\n",
    "\n",
    "#------------------------------------------\n",
    "\n",
    "#merge_with = df_gwas # or full df_gwas\n",
    "def typestr(df):\n",
    "    df[['pmid','PUBMEDID']] = df[['pmid','PUBMEDID']].astype(str)\n",
    "\n",
    "# sort grpmx geeens by interest index:\n",
    "\n",
    "#common handle sort\n",
    "df_grpmx_int = df_grpmx_int.sort_values(by=['interest_index','rsid','mesh'], ascending =False).reset_index(drop=True)\n",
    "\n",
    "timea = datetime.now()\n",
    "print('merging data, please wait... ')\n",
    "# Merge two df on rsid:\n",
    "df_merged = pd.merge(df_grpmx_int,\n",
    "                     merge_with, left_on='rsid', right_on='SNPS')\n",
    "typestr(df_merged)\n",
    "\n",
    "df_merged_drop = pd.merge(df_grpmx_int,\n",
    "                          df_gwas_drop_nonan, left_on='rsid', right_on='SNPS')\n",
    "typestr(df_merged_drop)\n",
    "\n",
    "#rename columns:\n",
    "def rename_col(df):\n",
    "    return df.rename(columns={'gene':'LITVAR_GENE', 'rsid':'LIVAR_RSID', 'pmid':'LITVAR_PMID','mesh':'PUBMED_MESH'}, inplace=True)\n",
    "rename_col(df_merged)\n",
    "rename_col(df_merged_drop)\n",
    "\n",
    "print('runtime:', datetime.now()-timea)\n",
    "df_merged_drop[['LITVAR_GENE','MAPPED_GENE','PUBMED_MESH','all_mesh','DISEASE/TRAIT','MAPPED_TRAIT']].drop_duplicates()"
   ]
  },
  {
   "cell_type": "code",
   "execution_count": null,
   "metadata": {
    "collapsed": false
   },
   "outputs": [],
   "source": [
    "#stats\n",
    "print('Complete grpmx merge Stats\\n')\n",
    "\n",
    "print('grpmx_gene',df_grpmx_int.gene.nunique())\n",
    "print('grpmx_mesh',df_grpmx_int.mesh.nunique())\n",
    "print('grpmx_rsid',df_grpmx_int.rsid.nunique())\n",
    "\n",
    "#print('\\nnonan',len(df_merged_drop),', full:', len(df_merged))\n",
    "df_merged_drop[['LITVAR_GENE','LIVAR_RSID','DISEASE/TRAIT','STRONGEST SNP-RISK ALLELE']].drop_duplicates()\n",
    "print('df merged:')\n",
    "print(df_merged_drop[['LITVAR_GENE','LITVAR_PMID','PUBMED_MESH','LIVAR_RSID','DISEASE/TRAIT','STRONGEST SNP-RISK ALLELE']].nunique())\n",
    "\n",
    "df_merged_drop[['LITVAR_GENE','LIVAR_RSID','PUBMED_MESH','DISEASE/TRAIT','STRONGEST SNP-RISK ALLELE']].drop_duplicates()"
   ]
  },
  {
   "cell_type": "markdown",
   "metadata": {},
   "source": [
    "#### - threshold grpmx merge\n",
    "(it's better top apply threshold downstream, skip this)"
   ]
  },
  {
   "cell_type": "code",
   "execution_count": null,
   "metadata": {
    "collapsed": false
   },
   "outputs": [],
   "source": [
    "# threshold merge on SNPs\n",
    "merge_also_nonan = True\n",
    "\n",
    "def typestr(df):\n",
    "    df[['pmid','PUBMEDID']] = df[['pmid','PUBMEDID']].astype(str)\n",
    "\n",
    "df_grpmx_th_int = df_grpmx_th_int.sort_values(by=['interest_index','rsid','mesh'], ascending =False).reset_index(drop=True)\n",
    "\n",
    "\n",
    "# Merge two df on rsid:\n",
    "if merge_also_nonan == False:\n",
    "    df_merged_th = pd.merge(df_grpmx_th_int,\n",
    "                            df_gwas, left_on='rsid', right_on='SNPS')\n",
    "    typestr(df_merged_th)\n",
    "else:\n",
    "    df_merged_th = pd.merge(df_grpmx_th_int,\n",
    "                            df_gwas, left_on='rsid', right_on='SNPS')\n",
    "    typestr(df_merged_th)\n",
    "\n",
    "    df_merged_th_drop = pd.merge(df_grpmx_th_int,\n",
    "                                 df_gwas_drop_nonan, left_on='rsid', right_on='SNPS')\n",
    "    typestr(df_merged_th_drop)\n",
    "\n",
    "#rename columns:\n",
    "def rename_col(df):\n",
    "    return df.rename(columns={'gene':'LITVAR_GENE', 'rsid':'LIVAR_RSID', 'pmid':'LITVAR_PMID','mesh':'PUBMED_MESH'}, inplace=True)\n",
    "rename_col(df_merged_th_drop)\n",
    "rename_col(df_merged_th)\n",
    "\n",
    "print('genes merged:', df_merged_th_drop.LITVAR_GENE.nunique())\n",
    "df_merged_th_drop"
   ]
  },
  {
   "cell_type": "code",
   "execution_count": null,
   "metadata": {
    "collapsed": false
   },
   "outputs": [],
   "source": [
    "#stats\n",
    "print('Threshold grpmx merge Statistics:\\n')\n",
    "print('grpmx_gene',df_grpmx_th_int.gene.nunique())\n",
    "print('grpmx_mesh',df_grpmx_th_int.mesh.nunique())\n",
    "print('grpmx_rsid',df_grpmx_th_int.rsid.nunique())\n",
    "\n",
    "print('\\nfull threshold merge pmids:',df_merged_th.LITVAR_PMID.nunique(),\n",
    "      'threshold pmids:',df_merged_th_drop.LITVAR_PMID.nunique())\n",
    "#df_merged_95_drop[['gene','rsid','mesh','DISEASE/TRAIT','STRONGEST SNP-RISK ALLELE']].drop_duplicates()\n",
    "print('\\ngrpm merged with gwas stats:')\n",
    "print(df_merged_th_drop[['LITVAR_GENE','LITVAR_PMID','PUBMED_MESH','LIVAR_RSID','DISEASE/TRAIT','STRONGEST SNP-RISK ALLELE']].nunique())"
   ]
  },
  {
   "cell_type": "code",
   "execution_count": null,
   "metadata": {
    "collapsed": false
   },
   "outputs": [],
   "source": [
    "import matplotlib.pyplot as plt\n",
    "\n",
    "def visualize_unique_values(df):\n",
    "    unique_counts = df.nunique()  # Calculate the number of unique values for each column\n",
    "    plt.figure(figsize=(8,3))\n",
    "    unique_counts.plot(kind='bar')  # Create a bar plot\n",
    "    plt.xlabel('Columns')\n",
    "    plt.ylabel('Unique Values')\n",
    "    plt.title('Number of Unique Values per Column')\n",
    "    plt.show()\n",
    "visualize_unique_values(df_merged_th_drop)"
   ]
  },
  {
   "cell_type": "code",
   "execution_count": null,
   "metadata": {
    "collapsed": false
   },
   "outputs": [],
   "source": [
    "# complete grpmx merge stats:\n",
    "\n",
    "# value counts:\n",
    "print('GWAS TRAIT count in entire GRPM survey')\n",
    "df_merged.value_counts('DISEASE/TRAIT')"
   ]
  },
  {
   "cell_type": "code",
   "execution_count": null,
   "metadata": {
    "collapsed": false
   },
   "outputs": [],
   "source": [
    "print('GWAS TRAIT count (nonan) in entire grpmx')\n",
    "df_merged_drop.value_counts('DISEASE/TRAIT')"
   ]
  },
  {
   "cell_type": "code",
   "execution_count": null,
   "metadata": {
    "collapsed": false
   },
   "outputs": [],
   "source": [
    "#df_merged_drop_nonan.to_csv('gwas_data/df_merged_drop_nonan.csv') # heavy file!\n",
    "def df_usage(df):\n",
    "    return (df.memory_usage()/1048576).sum()\n",
    "\n",
    "print(df_usage(df_merged))\n",
    "print(df_usage(df_merged_th_drop))"
   ]
  },
  {
   "cell_type": "markdown",
   "metadata": {},
   "source": [
    "### IV. Filter for lexical match"
   ]
  },
  {
   "cell_type": "markdown",
   "metadata": {},
   "source": [
    "#### - create correspondence GWAS-GRPM df\n",
    "['PUBMED_MESH','DISEASE/TRAIT']"
   ]
  },
  {
   "cell_type": "code",
   "execution_count": null,
   "metadata": {
    "collapsed": false
   },
   "outputs": [],
   "source": [
    "print(df_merged_drop[['LITVAR_GENE','MAPPED_GENE']].nunique())\n",
    "print('')\n",
    "# choosing 'DISEASE/TRAIT' or 'MAPPED_TRAIT'\n",
    "print(df_merged_drop[['DISEASE/TRAIT','MAPPED_TRAIT','PUBMED_MESH' ]].nunique())\n",
    "df_merged_drop[['DISEASE/TRAIT','MAPPED_TRAIT' ]].drop_duplicates()"
   ]
  },
  {
   "cell_type": "code",
   "execution_count": null,
   "metadata": {
    "collapsed": false
   },
   "outputs": [],
   "source": [
    "# create correspondence GWAS-GRPM df\n",
    "mesh_col = 'all_mesh'\n",
    "corr_df_all = df_merged_drop[[mesh_col,'MAPPED_TRAIT' ]].drop_duplicates().reset_index(drop= True).dropna()\n",
    "print('PUBMED_MESH',   corr_df_all[mesh_col].nunique())\n",
    "print('MAPPED_TRAIT' , corr_df_all['MAPPED_TRAIT' ].nunique())\n",
    "print('rows' ,     len(corr_df_all))\n",
    "#print(corr_df.sort_values(by= mesh_col))\n",
    "\n",
    "mesh_col = 'PUBMED_MESH'\n",
    "corr_df = df_merged_drop[[mesh_col,'MAPPED_TRAIT' ]].drop_duplicates().reset_index(drop= True)\n",
    "print('\\nPUBMED_MESH',   corr_df[mesh_col].nunique())\n",
    "print(  'MAPPED_TRAIT' , corr_df['MAPPED_TRAIT' ].nunique())\n",
    "print(  'rows' ,         len(corr_df))"
   ]
  },
  {
   "cell_type": "code",
   "execution_count": null,
   "metadata": {
    "collapsed": false
   },
   "outputs": [],
   "source": [
    "corr_df.sort_values(by= 'PUBMED_MESH')"
   ]
  },
  {
   "cell_type": "code",
   "execution_count": null,
   "metadata": {
    "collapsed": false
   },
   "outputs": [],
   "source": [
    "#corr_df[mesh_col].drop_duplicates()\n",
    "df_merged_drop\n",
    "#mesh  363"
   ]
  },
  {
   "cell_type": "markdown",
   "metadata": {},
   "source": [
    "#### - build a common Dictionary"
   ]
  },
  {
   "cell_type": "code",
   "execution_count": null,
   "metadata": {
    "collapsed": false
   },
   "outputs": [],
   "source": [
    "mesh_col = 'PUBMED_MESH'\n",
    "meshes = corr_df.sort_values(by= mesh_col)[mesh_col].drop_duplicates()\n",
    "mesh_corr_df = corr_df[corr_df[mesh_col] == meshes.iloc[100]]\n",
    "\n",
    "# Correspondence through AI  (trial)\n",
    "if simple_bool('Try Correspondence through AI?'):\n",
    "    import pychatgpt as op\n",
    "    mess = \"analyze and filter the csv below, creating another csv keeping only the rows where the 'PUBMED_MESH' and 'MAPPED_TRAIT' are the exact same biological entity even though it could be written differently:\\n\\n\"+mesh_corr_df.to_csv(index=None)\n",
    "    op.ask_gpt(mess)#, maxtoken=1500)\n",
    "    mesh_corr_df"
   ]
  },
  {
   "cell_type": "markdown",
   "metadata": {},
   "source": [
    "#### - through Tokenization (nltk)"
   ]
  },
  {
   "cell_type": "code",
   "execution_count": null,
   "metadata": {
    "collapsed": false
   },
   "outputs": [],
   "source": [
    "# Correspondence dictionary through Tokenization:\n",
    "\n",
    "from nltk.tokenize import word_tokenize\n",
    "\n",
    "# choose df:\n",
    "df = corr_df_all\n",
    "mesh_col = 'all_mesh'\n",
    "\n",
    "if False: #(pseudo-code)\n",
    "    # Function to tokenize a string into individual words\n",
    "    def tokenize_string(text):\n",
    "        return set(word_tokenize(text.lower()))\n",
    "\n",
    "    # Filter the DataFrame based on the condition that the intersection of tokenized \"PUBMED MESH\" and \"MAPPED_TRAIT\" is not empty\n",
    "    filtered_df = df[df.apply(lambda row: bool(tokenize_string(row[mesh_col]) & tokenize_string(row['MAPPED_TRAIT'])), axis=1)]\n",
    "\n",
    "    tokenize_string(corr_df[mesh_col][2])\n",
    "    n =55\n",
    "    bool(tokenize_string(corr_df[mesh_col][n]) & tokenize_string(corr_df['MAPPED_TRAIT'][n]))\n",
    "    print(tokenize_string_trial(corr_df[mesh_col][n]))\n",
    "    print(tokenize_string(corr_df[mesh_col][n]))\n",
    "#-------------\n",
    "\n",
    "print('tokenization in progress, please wait...')\n",
    "# choosen token TAGs:\n",
    "def tokenize_string_trial(text):\n",
    "    tokens = set(word_tokenize(text.lower()))\n",
    "    tagged_tokens = nltk.pos_tag(tokens)\n",
    "    desired_tags = ['NN', 'NNS', 'JJ']\n",
    "    filtered_tokens = [token for token, pos in tagged_tokens if pos in desired_tags]\n",
    "    return set(filtered_tokens)\n",
    "\n",
    "timea = datetime.now()\n",
    "filtered_df = df[df.apply(lambda row: bool(tokenize_string_trial(row[mesh_col]) & tokenize_string_trial(row['MAPPED_TRAIT'])), axis=1)]\n",
    "timeb= datetime.now()\n",
    "print('runtime:', timeb-timea)\n",
    "\n",
    "filtered_df"
   ]
  },
  {
   "cell_type": "markdown",
   "metadata": {},
   "source": [
    "### V. merging Dictionay to GWAS_GRPM_df"
   ]
  },
  {
   "cell_type": "code",
   "execution_count": null,
   "metadata": {
    "collapsed": false
   },
   "outputs": [],
   "source": [
    "df_merged_drop.all_mesh\n",
    "filtered_df.all_mesh"
   ]
  },
  {
   "cell_type": "code",
   "execution_count": null,
   "metadata": {
    "collapsed": false
   },
   "outputs": [],
   "source": [
    "# filtering merge:\n",
    "mesh_col = 'all_mesh'\n",
    "merge_grpm_gwas_fliter = df_merged_drop.merge(filtered_df, on=[mesh_col,'MAPPED_TRAIT'])\n",
    "df_show = merge_grpm_gwas_fliter[['LITVAR_GENE','LIVAR_RSID', 'LITVAR_PMID', 'PUBMED_MESH', 'Synonyms','interest_index','MAPPED_GENE','PUBMED_MESH','DISEASE/TRAIT','MAPPED_TRAIT', 'STRONGEST SNP-RISK ALLELE','P-VALUE', 'OR or BETA']].drop_duplicates().reset_index(drop= True)\n",
    "df_show = df_show.loc[:, ~df_show.columns.duplicated()]\n",
    "df_show"
   ]
  },
  {
   "cell_type": "code",
   "execution_count": null,
   "metadata": {
    "collapsed": false
   },
   "outputs": [],
   "source": [
    "df_show.to_csv('gwas_data/merge_grpm_gwas_fliter_nutri_0725.csv')\n",
    "pd.read_csv('gwas_data/merge_grpm_gwas_fliter_nutri_0725.csv')\n",
    "\n",
    "#statistics\n",
    "print(df_show[['LITVAR_GENE','LIVAR_RSID','LITVAR_PMID','PUBMED_MESH','MAPPED_TRAIT','DISEASE/TRAIT','STRONGEST SNP-RISK ALLELE']].nunique())"
   ]
  },
  {
   "cell_type": "markdown",
   "metadata": {},
   "source": [
    "### apply GI threshold"
   ]
  },
  {
   "cell_type": "code",
   "execution_count": null,
   "metadata": {
    "collapsed": false
   },
   "outputs": [],
   "source": [
    "# filtering fot threshold GI:\n",
    "threshold = 0.0125\n",
    "df_show_th = df_show[df_show.interest_index >= threshold]\n",
    "\n",
    "df_show_th.to_csv('gwas_data/merge_grpm_gwas_fliter_nutri_th0136.csv')\n",
    "print('merged GWAS-GRPMX threshold:', threshold,'\\n')\n",
    "print(df_show_th[['LITVAR_GENE','MAPPED_GENE','PUBMED_MESH','MAPPED_TRAIT','DISEASE/TRAIT','STRONGEST SNP-RISK ALLELE']].nunique())\n",
    "\n",
    "df_thr_short= df_show_th[['LITVAR_GENE','LIVAR_RSID','LITVAR_PMID','PUBMED_MESH','MAPPED_TRAIT','DISEASE/TRAIT','STRONGEST SNP-RISK ALLELE']]\n",
    "df_thr_short#.to_csv(r'file_name.csv')\n",
    "df_show_th.columns"
   ]
  },
  {
   "cell_type": "code",
   "execution_count": null,
   "metadata": {
    "collapsed": false
   },
   "outputs": [],
   "source": [
    "df_thr_short.drop_duplicates(subset='LITVAR_GENE').sample(frac=1)#.to_csv('file_name.csv')"
   ]
  },
  {
   "cell_type": "code",
   "execution_count": null,
   "metadata": {
    "collapsed": false
   },
   "outputs": [],
   "source": [
    "if simple_bool('Save merged output?'): df_thr_short.to_parquet('nutrigenetic_dataset/grpm_nutrigen_int_gwas_nlp.parquet', engine='pyarrow', index=False)"
   ]
  },
  {
   "cell_type": "markdown",
   "metadata": {},
   "source": [
    "# 4. Scoping GWAS Dataset (general)"
   ]
  },
  {
   "cell_type": "markdown",
   "metadata": {},
   "source": [
    "## Define Mother Dataframe:"
   ]
  },
  {
   "cell_type": "code",
   "execution_count": 75,
   "metadata": {
    "collapsed": false,
    "ExecuteTime": {
     "end_time": "2024-10-22T13:54:57.747661600Z",
     "start_time": "2024-10-22T13:54:55.642290500Z"
    }
   },
   "outputs": [],
   "source": [
    "if simple_bool('Load merge output?'): merged_df = pd.read_parquet('nutrigenetic_dataset/grpm_nutrigen_int_gwas.parquet', engine='pyarrow')"
   ]
  },
  {
   "cell_type": "markdown",
   "source": [
    "## - Query GWAS for rsid"
   ],
   "metadata": {
    "collapsed": false
   }
  },
  {
   "cell_type": "code",
   "outputs": [
    {
     "data": {
      "text/plain": "STRONGEST SNP-RISK ALLELE\nrs1421085-C    39\nrs1421085-T    21\nrs1421085-A     1\nName: count, dtype: int64"
     },
     "execution_count": 25,
     "metadata": {},
     "output_type": "execute_result"
    }
   ],
   "source": [
    "# LOOKUP FOR SINGLE RSID\n",
    "rsid_mask = df_gwas_drop_nonan['SNPS'].str.contains('rs1421085')\n",
    "df_gwas_drop_nonan_rsid = df_gwas_drop_nonan[rsid_mask]\n",
    "df_gwas_drop_nonan_rsid[['MAPPED_GENE','DISEASE/TRAIT','MAPPED_TRAIT','SNP_ID_CURRENT','STRONGEST SNP-RISK ALLELE','RISK ALLELE FREQUENCY']].drop_duplicates()\n",
    "df_gwas_drop_nonan_rsid.value_counts('DISEASE/TRAIT')\n",
    "df_gwas_drop_nonan_rsid.value_counts('STRONGEST SNP-RISK ALLELE')"
   ],
   "metadata": {
    "collapsed": false,
    "ExecuteTime": {
     "end_time": "2024-10-21T10:13:13.069993500Z",
     "start_time": "2024-10-21T10:13:12.916548200Z"
    }
   },
   "execution_count": 25
  },
  {
   "cell_type": "code",
   "outputs": [],
   "source": [
    "# Display and to clipboard\n",
    "df_gwas_drop_nonan[['MAPPED_GENE', 'DISEASE/TRAIT', 'SNPS','STRONGEST SNP-RISK ALLELE', 'RISK ALLELE FREQUENCY']].drop_duplicates()#to_clipboard()"
   ],
   "metadata": {
    "collapsed": false
   },
   "execution_count": 0
  },
  {
   "cell_type": "code",
   "outputs": [
    {
     "data": {
      "text/plain": "       MAPPED_GENE                                      DISEASE/TRAIT  \\\n2678           FTO                          Total testosterone levels   \n7293           FTO                                 Hand grip strength   \n11358          FTO                                         Chronotype   \n12542          FTO                                     Morning person   \n14326          FTO                                    Type 2 diabetes   \n15701          FTO                                Alcohol consumption   \n19243          FTO                                    Type 2 diabetes   \n19522          FTO  Bone mineral density or leg lean mass (pleiotr...   \n19523          FTO                                      Leg lean mass   \n21682          FTO                                Body size at age 10   \n23521          FTO                                            Obesity   \n23523          FTO                                            Obesity   \n24215          FTO                      Obesity (early onset extreme)   \n26536          FTO                       Dietary macronutrient intake   \n29055          FTO      Medication use (HMG CoA reductase inhibitors)   \n38281          FTO                     Problematic alcohol use (MTAG)   \n39476          FTO                                    Type 2 diabetes   \n40615          FTO                                    Type 2 diabetes   \n42301          FTO            Preeclampsia (maternal genotype effect)   \n42643          FTO                                    Type 2 diabetes   \n50505          FTO                               Alcohol use disorder   \n51001          FTO                                            Obesity   \n60817          FTO                          Childhood body mass index   \n81268          FTO                       Dietary macronutrient intake   \n88026          FTO                                        Morningness   \n106228         FTO                                    Body mass index   \n109127         FTO                                     Pulse pressure   \n113700         FTO                           Age at adiposity rebound   \n114646         FTO                                    Type 2 diabetes   \n114665         FTO                                    Body mass index   \n116971         FTO                                    Fasting insulin   \n136745         FTO                                             Weight   \n146999         FTO                        Mean corpuscular hemoglobin   \n158418         FTO                                    Type 2 diabetes   \n194595         FTO                                Waist circumference   \n195644         FTO                                Body fat percentage   \n208640         FTO      Principal component-derived dietary pattern 1   \n223300         FTO  Ideal cardiovascular health score (clinical an...   \n228387         FTO  Abdominal adipose tissue volumes to gluteofemo...   \n231336         FTO                   C-reactive protein levels (MTAG)   \n234553         FTO                        Surgical hip osteoarthritis   \n237718         FTO                   Cigarettes smoked per day (MTAG)   \n241101         FTO             High-density lipoprotein levels (MTAG)   \n242512         FTO              Abdominal subcutaneous adipose tissue   \n242561         FTO   Abdominal subcutaneous adipose tissue normalized   \n253183         FTO                              Left ventricular mass   \n257920         FTO                                    Drinks per week   \n261663         FTO                             Weight-to-muscle ratio   \n261664         FTO                                Abdominal fat ratio   \n264153         FTO                                    Body mass index   \n267433         FTO  Body mass index or hip osteoarthritis (pleiotr...   \n268369         FTO                          Preeclampsia or eclampsia   \n273212         FTO                               Alcohol use disorder   \n274373         FTO                          Childhood body mass index   \n276256         FTO            Preeclampsia (maternal genotype effect)   \n281218         FTO    Whole body fat free mass (UKB data field 23101)   \n\n             SNPS STRONGEST SNP-RISK ALLELE RISK ALLELE FREQUENCY  \n2678    rs1421085               rs1421085-T              0.594668  \n7293    rs1421085               rs1421085-C                   0.4  \n11358   rs1421085               rs1421085-C                0.4065  \n12542   rs1421085               rs1421085-C                0.4065  \n14326   rs1421085               rs1421085-C                 0.367  \n15701   rs1421085               rs1421085-T                   0.6  \n19243   rs1421085               rs1421085-C                   0.2  \n19522   rs1421085               rs1421085-T                  0.59  \n19523   rs1421085               rs1421085-T                  0.59  \n21682   rs1421085               rs1421085-T              0.596552  \n23521   rs1421085               rs1421085-C                   0.4  \n23523   rs1421085               rs1421085-C                  0.41  \n24215   rs1421085               rs1421085-C                  0.41  \n26536   rs1421085               rs1421085-C                  0.42  \n29055   rs1421085               rs1421085-C              0.403509  \n38281   rs1421085               rs1421085-C                0.4067  \n39476   rs1421085               rs1421085-C                0.2018  \n40615   rs1421085               rs1421085-C                0.4142  \n42301   rs1421085               rs1421085-C                  0.39  \n42643   rs1421085               rs1421085-C                 0.167  \n50505   rs1421085               rs1421085-T                  0.67  \n51001   rs1421085               rs1421085-C                 0.125  \n60817   rs1421085               rs1421085-C                  0.41  \n81268   rs1421085               rs1421085-C                   0.4  \n88026   rs1421085               rs1421085-T                0.5961  \n106228  rs1421085               rs1421085-C                    NR  \n109127  rs1421085               rs1421085-T                0.7995  \n113700  rs1421085               rs1421085-C                  0.25  \n114646  rs1421085               rs1421085-C                 0.415  \n114665  rs1421085               rs1421085-A                    NR  \n116971  rs1421085               rs1421085-T              0.578326  \n136745  rs1421085               rs1421085-C                    NR  \n146999  rs1421085               rs1421085-C                    NR  \n158418  rs1421085               rs1421085-C                    NR  \n194595  rs1421085               rs1421085-C                    NR  \n195644  rs1421085               rs1421085-C                    NR  \n208640  rs1421085               rs1421085-T              0.596875  \n223300  rs1421085               rs1421085-T                  0.37  \n228387  rs1421085               rs1421085-T                 0.603  \n231336  rs1421085               rs1421085-T                    NR  \n234553  rs1421085               rs1421085-C                 0.408  \n237718  rs1421085               rs1421085-T                    NR  \n241101  rs1421085               rs1421085-T                    NR  \n242512  rs1421085               rs1421085-C                  0.43  \n242561  rs1421085               rs1421085-C                  0.43  \n253183  rs1421085               rs1421085-T                   0.6  \n257920  rs1421085               rs1421085-C                  0.38  \n261663  rs1421085               rs1421085-C                  0.43  \n261664  rs1421085               rs1421085-C                  0.43  \n264153  rs1421085               rs1421085-T                  0.55  \n267433  rs1421085               rs1421085-T                    NR  \n268369  rs1421085               rs1421085-C                    NR  \n273212  rs1421085               rs1421085-T                0.6649  \n274373  rs1421085               rs1421085-T                    NR  \n276256  rs1421085               rs1421085-C                  0.41  \n281218  rs1421085               rs1421085-C                    NR  ",
      "text/html": "<div>\n<style scoped>\n    .dataframe tbody tr th:only-of-type {\n        vertical-align: middle;\n    }\n\n    .dataframe tbody tr th {\n        vertical-align: top;\n    }\n\n    .dataframe thead th {\n        text-align: right;\n    }\n</style>\n<table border=\"1\" class=\"dataframe\">\n  <thead>\n    <tr style=\"text-align: right;\">\n      <th></th>\n      <th>MAPPED_GENE</th>\n      <th>DISEASE/TRAIT</th>\n      <th>SNPS</th>\n      <th>STRONGEST SNP-RISK ALLELE</th>\n      <th>RISK ALLELE FREQUENCY</th>\n    </tr>\n  </thead>\n  <tbody>\n    <tr>\n      <th>2678</th>\n      <td>FTO</td>\n      <td>Total testosterone levels</td>\n      <td>rs1421085</td>\n      <td>rs1421085-T</td>\n      <td>0.594668</td>\n    </tr>\n    <tr>\n      <th>7293</th>\n      <td>FTO</td>\n      <td>Hand grip strength</td>\n      <td>rs1421085</td>\n      <td>rs1421085-C</td>\n      <td>0.4</td>\n    </tr>\n    <tr>\n      <th>11358</th>\n      <td>FTO</td>\n      <td>Chronotype</td>\n      <td>rs1421085</td>\n      <td>rs1421085-C</td>\n      <td>0.4065</td>\n    </tr>\n    <tr>\n      <th>12542</th>\n      <td>FTO</td>\n      <td>Morning person</td>\n      <td>rs1421085</td>\n      <td>rs1421085-C</td>\n      <td>0.4065</td>\n    </tr>\n    <tr>\n      <th>14326</th>\n      <td>FTO</td>\n      <td>Type 2 diabetes</td>\n      <td>rs1421085</td>\n      <td>rs1421085-C</td>\n      <td>0.367</td>\n    </tr>\n    <tr>\n      <th>15701</th>\n      <td>FTO</td>\n      <td>Alcohol consumption</td>\n      <td>rs1421085</td>\n      <td>rs1421085-T</td>\n      <td>0.6</td>\n    </tr>\n    <tr>\n      <th>19243</th>\n      <td>FTO</td>\n      <td>Type 2 diabetes</td>\n      <td>rs1421085</td>\n      <td>rs1421085-C</td>\n      <td>0.2</td>\n    </tr>\n    <tr>\n      <th>19522</th>\n      <td>FTO</td>\n      <td>Bone mineral density or leg lean mass (pleiotr...</td>\n      <td>rs1421085</td>\n      <td>rs1421085-T</td>\n      <td>0.59</td>\n    </tr>\n    <tr>\n      <th>19523</th>\n      <td>FTO</td>\n      <td>Leg lean mass</td>\n      <td>rs1421085</td>\n      <td>rs1421085-T</td>\n      <td>0.59</td>\n    </tr>\n    <tr>\n      <th>21682</th>\n      <td>FTO</td>\n      <td>Body size at age 10</td>\n      <td>rs1421085</td>\n      <td>rs1421085-T</td>\n      <td>0.596552</td>\n    </tr>\n    <tr>\n      <th>23521</th>\n      <td>FTO</td>\n      <td>Obesity</td>\n      <td>rs1421085</td>\n      <td>rs1421085-C</td>\n      <td>0.4</td>\n    </tr>\n    <tr>\n      <th>23523</th>\n      <td>FTO</td>\n      <td>Obesity</td>\n      <td>rs1421085</td>\n      <td>rs1421085-C</td>\n      <td>0.41</td>\n    </tr>\n    <tr>\n      <th>24215</th>\n      <td>FTO</td>\n      <td>Obesity (early onset extreme)</td>\n      <td>rs1421085</td>\n      <td>rs1421085-C</td>\n      <td>0.41</td>\n    </tr>\n    <tr>\n      <th>26536</th>\n      <td>FTO</td>\n      <td>Dietary macronutrient intake</td>\n      <td>rs1421085</td>\n      <td>rs1421085-C</td>\n      <td>0.42</td>\n    </tr>\n    <tr>\n      <th>29055</th>\n      <td>FTO</td>\n      <td>Medication use (HMG CoA reductase inhibitors)</td>\n      <td>rs1421085</td>\n      <td>rs1421085-C</td>\n      <td>0.403509</td>\n    </tr>\n    <tr>\n      <th>38281</th>\n      <td>FTO</td>\n      <td>Problematic alcohol use (MTAG)</td>\n      <td>rs1421085</td>\n      <td>rs1421085-C</td>\n      <td>0.4067</td>\n    </tr>\n    <tr>\n      <th>39476</th>\n      <td>FTO</td>\n      <td>Type 2 diabetes</td>\n      <td>rs1421085</td>\n      <td>rs1421085-C</td>\n      <td>0.2018</td>\n    </tr>\n    <tr>\n      <th>40615</th>\n      <td>FTO</td>\n      <td>Type 2 diabetes</td>\n      <td>rs1421085</td>\n      <td>rs1421085-C</td>\n      <td>0.4142</td>\n    </tr>\n    <tr>\n      <th>42301</th>\n      <td>FTO</td>\n      <td>Preeclampsia (maternal genotype effect)</td>\n      <td>rs1421085</td>\n      <td>rs1421085-C</td>\n      <td>0.39</td>\n    </tr>\n    <tr>\n      <th>42643</th>\n      <td>FTO</td>\n      <td>Type 2 diabetes</td>\n      <td>rs1421085</td>\n      <td>rs1421085-C</td>\n      <td>0.167</td>\n    </tr>\n    <tr>\n      <th>50505</th>\n      <td>FTO</td>\n      <td>Alcohol use disorder</td>\n      <td>rs1421085</td>\n      <td>rs1421085-T</td>\n      <td>0.67</td>\n    </tr>\n    <tr>\n      <th>51001</th>\n      <td>FTO</td>\n      <td>Obesity</td>\n      <td>rs1421085</td>\n      <td>rs1421085-C</td>\n      <td>0.125</td>\n    </tr>\n    <tr>\n      <th>60817</th>\n      <td>FTO</td>\n      <td>Childhood body mass index</td>\n      <td>rs1421085</td>\n      <td>rs1421085-C</td>\n      <td>0.41</td>\n    </tr>\n    <tr>\n      <th>81268</th>\n      <td>FTO</td>\n      <td>Dietary macronutrient intake</td>\n      <td>rs1421085</td>\n      <td>rs1421085-C</td>\n      <td>0.4</td>\n    </tr>\n    <tr>\n      <th>88026</th>\n      <td>FTO</td>\n      <td>Morningness</td>\n      <td>rs1421085</td>\n      <td>rs1421085-T</td>\n      <td>0.5961</td>\n    </tr>\n    <tr>\n      <th>106228</th>\n      <td>FTO</td>\n      <td>Body mass index</td>\n      <td>rs1421085</td>\n      <td>rs1421085-C</td>\n      <td>NR</td>\n    </tr>\n    <tr>\n      <th>109127</th>\n      <td>FTO</td>\n      <td>Pulse pressure</td>\n      <td>rs1421085</td>\n      <td>rs1421085-T</td>\n      <td>0.7995</td>\n    </tr>\n    <tr>\n      <th>113700</th>\n      <td>FTO</td>\n      <td>Age at adiposity rebound</td>\n      <td>rs1421085</td>\n      <td>rs1421085-C</td>\n      <td>0.25</td>\n    </tr>\n    <tr>\n      <th>114646</th>\n      <td>FTO</td>\n      <td>Type 2 diabetes</td>\n      <td>rs1421085</td>\n      <td>rs1421085-C</td>\n      <td>0.415</td>\n    </tr>\n    <tr>\n      <th>114665</th>\n      <td>FTO</td>\n      <td>Body mass index</td>\n      <td>rs1421085</td>\n      <td>rs1421085-A</td>\n      <td>NR</td>\n    </tr>\n    <tr>\n      <th>116971</th>\n      <td>FTO</td>\n      <td>Fasting insulin</td>\n      <td>rs1421085</td>\n      <td>rs1421085-T</td>\n      <td>0.578326</td>\n    </tr>\n    <tr>\n      <th>136745</th>\n      <td>FTO</td>\n      <td>Weight</td>\n      <td>rs1421085</td>\n      <td>rs1421085-C</td>\n      <td>NR</td>\n    </tr>\n    <tr>\n      <th>146999</th>\n      <td>FTO</td>\n      <td>Mean corpuscular hemoglobin</td>\n      <td>rs1421085</td>\n      <td>rs1421085-C</td>\n      <td>NR</td>\n    </tr>\n    <tr>\n      <th>158418</th>\n      <td>FTO</td>\n      <td>Type 2 diabetes</td>\n      <td>rs1421085</td>\n      <td>rs1421085-C</td>\n      <td>NR</td>\n    </tr>\n    <tr>\n      <th>194595</th>\n      <td>FTO</td>\n      <td>Waist circumference</td>\n      <td>rs1421085</td>\n      <td>rs1421085-C</td>\n      <td>NR</td>\n    </tr>\n    <tr>\n      <th>195644</th>\n      <td>FTO</td>\n      <td>Body fat percentage</td>\n      <td>rs1421085</td>\n      <td>rs1421085-C</td>\n      <td>NR</td>\n    </tr>\n    <tr>\n      <th>208640</th>\n      <td>FTO</td>\n      <td>Principal component-derived dietary pattern 1</td>\n      <td>rs1421085</td>\n      <td>rs1421085-T</td>\n      <td>0.596875</td>\n    </tr>\n    <tr>\n      <th>223300</th>\n      <td>FTO</td>\n      <td>Ideal cardiovascular health score (clinical an...</td>\n      <td>rs1421085</td>\n      <td>rs1421085-T</td>\n      <td>0.37</td>\n    </tr>\n    <tr>\n      <th>228387</th>\n      <td>FTO</td>\n      <td>Abdominal adipose tissue volumes to gluteofemo...</td>\n      <td>rs1421085</td>\n      <td>rs1421085-T</td>\n      <td>0.603</td>\n    </tr>\n    <tr>\n      <th>231336</th>\n      <td>FTO</td>\n      <td>C-reactive protein levels (MTAG)</td>\n      <td>rs1421085</td>\n      <td>rs1421085-T</td>\n      <td>NR</td>\n    </tr>\n    <tr>\n      <th>234553</th>\n      <td>FTO</td>\n      <td>Surgical hip osteoarthritis</td>\n      <td>rs1421085</td>\n      <td>rs1421085-C</td>\n      <td>0.408</td>\n    </tr>\n    <tr>\n      <th>237718</th>\n      <td>FTO</td>\n      <td>Cigarettes smoked per day (MTAG)</td>\n      <td>rs1421085</td>\n      <td>rs1421085-T</td>\n      <td>NR</td>\n    </tr>\n    <tr>\n      <th>241101</th>\n      <td>FTO</td>\n      <td>High-density lipoprotein levels (MTAG)</td>\n      <td>rs1421085</td>\n      <td>rs1421085-T</td>\n      <td>NR</td>\n    </tr>\n    <tr>\n      <th>242512</th>\n      <td>FTO</td>\n      <td>Abdominal subcutaneous adipose tissue</td>\n      <td>rs1421085</td>\n      <td>rs1421085-C</td>\n      <td>0.43</td>\n    </tr>\n    <tr>\n      <th>242561</th>\n      <td>FTO</td>\n      <td>Abdominal subcutaneous adipose tissue normalized</td>\n      <td>rs1421085</td>\n      <td>rs1421085-C</td>\n      <td>0.43</td>\n    </tr>\n    <tr>\n      <th>253183</th>\n      <td>FTO</td>\n      <td>Left ventricular mass</td>\n      <td>rs1421085</td>\n      <td>rs1421085-T</td>\n      <td>0.6</td>\n    </tr>\n    <tr>\n      <th>257920</th>\n      <td>FTO</td>\n      <td>Drinks per week</td>\n      <td>rs1421085</td>\n      <td>rs1421085-C</td>\n      <td>0.38</td>\n    </tr>\n    <tr>\n      <th>261663</th>\n      <td>FTO</td>\n      <td>Weight-to-muscle ratio</td>\n      <td>rs1421085</td>\n      <td>rs1421085-C</td>\n      <td>0.43</td>\n    </tr>\n    <tr>\n      <th>261664</th>\n      <td>FTO</td>\n      <td>Abdominal fat ratio</td>\n      <td>rs1421085</td>\n      <td>rs1421085-C</td>\n      <td>0.43</td>\n    </tr>\n    <tr>\n      <th>264153</th>\n      <td>FTO</td>\n      <td>Body mass index</td>\n      <td>rs1421085</td>\n      <td>rs1421085-T</td>\n      <td>0.55</td>\n    </tr>\n    <tr>\n      <th>267433</th>\n      <td>FTO</td>\n      <td>Body mass index or hip osteoarthritis (pleiotr...</td>\n      <td>rs1421085</td>\n      <td>rs1421085-T</td>\n      <td>NR</td>\n    </tr>\n    <tr>\n      <th>268369</th>\n      <td>FTO</td>\n      <td>Preeclampsia or eclampsia</td>\n      <td>rs1421085</td>\n      <td>rs1421085-C</td>\n      <td>NR</td>\n    </tr>\n    <tr>\n      <th>273212</th>\n      <td>FTO</td>\n      <td>Alcohol use disorder</td>\n      <td>rs1421085</td>\n      <td>rs1421085-T</td>\n      <td>0.6649</td>\n    </tr>\n    <tr>\n      <th>274373</th>\n      <td>FTO</td>\n      <td>Childhood body mass index</td>\n      <td>rs1421085</td>\n      <td>rs1421085-T</td>\n      <td>NR</td>\n    </tr>\n    <tr>\n      <th>276256</th>\n      <td>FTO</td>\n      <td>Preeclampsia (maternal genotype effect)</td>\n      <td>rs1421085</td>\n      <td>rs1421085-C</td>\n      <td>0.41</td>\n    </tr>\n    <tr>\n      <th>281218</th>\n      <td>FTO</td>\n      <td>Whole body fat free mass (UKB data field 23101)</td>\n      <td>rs1421085</td>\n      <td>rs1421085-C</td>\n      <td>NR</td>\n    </tr>\n  </tbody>\n</table>\n</div>"
     },
     "execution_count": 28,
     "metadata": {},
     "output_type": "execute_result"
    }
   ],
   "source": [
    "df_gwas_drop_nonan_rsid[['MAPPED_GENE', 'DISEASE/TRAIT', 'SNPS','STRONGEST SNP-RISK ALLELE', 'RISK ALLELE FREQUENCY']].drop_duplicates()#.to_clipboard()"
   ],
   "metadata": {
    "collapsed": false,
    "ExecuteTime": {
     "end_time": "2024-10-21T10:14:14.583779800Z",
     "start_time": "2024-10-21T10:14:14.493218200Z"
    }
   },
   "execution_count": 28
  },
  {
   "cell_type": "code",
   "outputs": [
    {
     "data": {
      "text/plain": "          gene        rsid     pmids                      mesh  \\\n0          FTO   rs9941349  22084931                   Obesity   \n1          FTO   rs9941349  20442772                   Obesity   \n2          FTO   rs9941349  24879436                   Obesity   \n3          FTO   rs9941349  21552555                   Obesity   \n4          FTO   rs9941349  25014319                   Obesity   \n...        ...         ...       ...                       ...   \n88385    ALDH2       rs671  22102315           Liver Cirrhosis   \n88386    ALDH2       rs671  27118149           Liver Cirrhosis   \n88387    ALDH2       rs671  31279903           Liver Cirrhosis   \n88388    ALDH2       rs671  34071962           Liver Cirrhosis   \n88389  NADSYN1  rs10898201  28255561  Liver Cirrhosis, Biliary   \n\n                        topic  interest_index        SNPS  \\\n0           General Nutrition         1.00000   rs9941349   \n1           General Nutrition         1.00000   rs9941349   \n2           General Nutrition         1.00000   rs9941349   \n3           General Nutrition         1.00000   rs9941349   \n4           General Nutrition         1.00000   rs9941349   \n...                       ...             ...         ...   \n88385  Xenobiotics Metabolism         0.01714       rs671   \n88386  Xenobiotics Metabolism         0.01714       rs671   \n88387  Xenobiotics Metabolism         0.01714       rs671   \n88388  Xenobiotics Metabolism         0.01714       rs671   \n88389  Xenobiotics Metabolism         0.01594  rs10898201   \n\n                   DISEASE/TRAIT               MAPPED_TRAIT  \\\n0              Obesity (extreme)                    obesity   \n1              Obesity (extreme)                    obesity   \n2              Obesity (extreme)                    obesity   \n3              Obesity (extreme)                    obesity   \n4              Obesity (extreme)                    obesity   \n...                          ...                        ...   \n88385                  Cirrhosis         cirrhosis of liver   \n88386                  Cirrhosis         cirrhosis of liver   \n88387                  Cirrhosis         cirrhosis of liver   \n88388                  Cirrhosis         cirrhosis of liver   \n88389  Primary biliary cirrhosis  primary biliary cirrhosis   \n\n                      gwas_trait  similarity  \n0              Obesity (extreme)    0.909086  \n1              Obesity (extreme)    0.909086  \n2              Obesity (extreme)    0.909086  \n3              Obesity (extreme)    0.909086  \n4              Obesity (extreme)    0.909086  \n...                          ...         ...  \n88385                  Cirrhosis    0.947730  \n88386                  Cirrhosis    0.947730  \n88387                  Cirrhosis    0.947730  \n88388                  Cirrhosis    0.947730  \n88389  Primary biliary cirrhosis    0.943002  \n\n[88390 rows x 11 columns]",
      "text/html": "<div>\n<style scoped>\n    .dataframe tbody tr th:only-of-type {\n        vertical-align: middle;\n    }\n\n    .dataframe tbody tr th {\n        vertical-align: top;\n    }\n\n    .dataframe thead th {\n        text-align: right;\n    }\n</style>\n<table border=\"1\" class=\"dataframe\">\n  <thead>\n    <tr style=\"text-align: right;\">\n      <th></th>\n      <th>gene</th>\n      <th>rsid</th>\n      <th>pmids</th>\n      <th>mesh</th>\n      <th>topic</th>\n      <th>interest_index</th>\n      <th>SNPS</th>\n      <th>DISEASE/TRAIT</th>\n      <th>MAPPED_TRAIT</th>\n      <th>gwas_trait</th>\n      <th>similarity</th>\n    </tr>\n  </thead>\n  <tbody>\n    <tr>\n      <th>0</th>\n      <td>FTO</td>\n      <td>rs9941349</td>\n      <td>22084931</td>\n      <td>Obesity</td>\n      <td>General Nutrition</td>\n      <td>1.00000</td>\n      <td>rs9941349</td>\n      <td>Obesity (extreme)</td>\n      <td>obesity</td>\n      <td>Obesity (extreme)</td>\n      <td>0.909086</td>\n    </tr>\n    <tr>\n      <th>1</th>\n      <td>FTO</td>\n      <td>rs9941349</td>\n      <td>20442772</td>\n      <td>Obesity</td>\n      <td>General Nutrition</td>\n      <td>1.00000</td>\n      <td>rs9941349</td>\n      <td>Obesity (extreme)</td>\n      <td>obesity</td>\n      <td>Obesity (extreme)</td>\n      <td>0.909086</td>\n    </tr>\n    <tr>\n      <th>2</th>\n      <td>FTO</td>\n      <td>rs9941349</td>\n      <td>24879436</td>\n      <td>Obesity</td>\n      <td>General Nutrition</td>\n      <td>1.00000</td>\n      <td>rs9941349</td>\n      <td>Obesity (extreme)</td>\n      <td>obesity</td>\n      <td>Obesity (extreme)</td>\n      <td>0.909086</td>\n    </tr>\n    <tr>\n      <th>3</th>\n      <td>FTO</td>\n      <td>rs9941349</td>\n      <td>21552555</td>\n      <td>Obesity</td>\n      <td>General Nutrition</td>\n      <td>1.00000</td>\n      <td>rs9941349</td>\n      <td>Obesity (extreme)</td>\n      <td>obesity</td>\n      <td>Obesity (extreme)</td>\n      <td>0.909086</td>\n    </tr>\n    <tr>\n      <th>4</th>\n      <td>FTO</td>\n      <td>rs9941349</td>\n      <td>25014319</td>\n      <td>Obesity</td>\n      <td>General Nutrition</td>\n      <td>1.00000</td>\n      <td>rs9941349</td>\n      <td>Obesity (extreme)</td>\n      <td>obesity</td>\n      <td>Obesity (extreme)</td>\n      <td>0.909086</td>\n    </tr>\n    <tr>\n      <th>...</th>\n      <td>...</td>\n      <td>...</td>\n      <td>...</td>\n      <td>...</td>\n      <td>...</td>\n      <td>...</td>\n      <td>...</td>\n      <td>...</td>\n      <td>...</td>\n      <td>...</td>\n      <td>...</td>\n    </tr>\n    <tr>\n      <th>88385</th>\n      <td>ALDH2</td>\n      <td>rs671</td>\n      <td>22102315</td>\n      <td>Liver Cirrhosis</td>\n      <td>Xenobiotics Metabolism</td>\n      <td>0.01714</td>\n      <td>rs671</td>\n      <td>Cirrhosis</td>\n      <td>cirrhosis of liver</td>\n      <td>Cirrhosis</td>\n      <td>0.947730</td>\n    </tr>\n    <tr>\n      <th>88386</th>\n      <td>ALDH2</td>\n      <td>rs671</td>\n      <td>27118149</td>\n      <td>Liver Cirrhosis</td>\n      <td>Xenobiotics Metabolism</td>\n      <td>0.01714</td>\n      <td>rs671</td>\n      <td>Cirrhosis</td>\n      <td>cirrhosis of liver</td>\n      <td>Cirrhosis</td>\n      <td>0.947730</td>\n    </tr>\n    <tr>\n      <th>88387</th>\n      <td>ALDH2</td>\n      <td>rs671</td>\n      <td>31279903</td>\n      <td>Liver Cirrhosis</td>\n      <td>Xenobiotics Metabolism</td>\n      <td>0.01714</td>\n      <td>rs671</td>\n      <td>Cirrhosis</td>\n      <td>cirrhosis of liver</td>\n      <td>Cirrhosis</td>\n      <td>0.947730</td>\n    </tr>\n    <tr>\n      <th>88388</th>\n      <td>ALDH2</td>\n      <td>rs671</td>\n      <td>34071962</td>\n      <td>Liver Cirrhosis</td>\n      <td>Xenobiotics Metabolism</td>\n      <td>0.01714</td>\n      <td>rs671</td>\n      <td>Cirrhosis</td>\n      <td>cirrhosis of liver</td>\n      <td>Cirrhosis</td>\n      <td>0.947730</td>\n    </tr>\n    <tr>\n      <th>88389</th>\n      <td>NADSYN1</td>\n      <td>rs10898201</td>\n      <td>28255561</td>\n      <td>Liver Cirrhosis, Biliary</td>\n      <td>Xenobiotics Metabolism</td>\n      <td>0.01594</td>\n      <td>rs10898201</td>\n      <td>Primary biliary cirrhosis</td>\n      <td>primary biliary cirrhosis</td>\n      <td>Primary biliary cirrhosis</td>\n      <td>0.943002</td>\n    </tr>\n  </tbody>\n</table>\n<p>88390 rows × 11 columns</p>\n</div>"
     },
     "execution_count": 32,
     "metadata": {},
     "output_type": "execute_result"
    }
   ],
   "source": [
    "merged_df\n",
    "#['LITVAR_GENE','LIVAR RSID','MAPPED_GENE','PUBMED_MESH', "
   ],
   "metadata": {
    "collapsed": false,
    "ExecuteTime": {
     "end_time": "2024-10-21T10:15:43.814072500Z",
     "start_time": "2024-10-21T10:15:43.664972900Z"
    }
   },
   "execution_count": 32
  },
  {
   "cell_type": "code",
   "execution_count": 38,
   "metadata": {
    "collapsed": false,
    "ExecuteTime": {
     "end_time": "2024-10-21T10:18:05.380867Z",
     "start_time": "2024-10-21T10:18:05.207878500Z"
    }
   },
   "outputs": [
    {
     "data": {
      "text/plain": "      gene       rsid     pmids              mesh  \\\n1064   FTO  rs1421085  18487448   Body Mass Index   \n1065   FTO  rs1421085  18487448           Obesity   \n1066   FTO  rs1421085  30032228  Body Composition   \n1067   FTO  rs1421085  30032228   Body Mass Index   \n1068   FTO  rs1421085  30032228           Obesity   \n...    ...        ...       ...               ...   \n82448  FTO  rs1421085  22513296              Diet   \n82449  FTO  rs1421085  29540276              Diet   \n82450  FTO  rs1421085  31358974  Alcohol Drinking   \n82451  FTO  rs1421085  31358974  Alcohol Drinking   \n82452  FTO  rs1421085  31358974  Alcohol Drinking   \n\n                                     topic  interest_index       SNPS  \\\n1064                     General Nutrition         1.00000  rs1421085   \n1065                     General Nutrition         1.00000  rs1421085   \n1066                     General Nutrition         1.00000  rs1421085   \n1067                     General Nutrition         1.00000  rs1421085   \n1068                     General Nutrition         1.00000  rs1421085   \n...                                    ...             ...        ...   \n82448  Eating Behavior and Taste Sensation         0.41459  rs1421085   \n82449  Eating Behavior and Taste Sensation         0.41459  rs1421085   \n82450  Eating Behavior and Taste Sensation         0.41459  rs1421085   \n82451  Eating Behavior and Taste Sensation         0.41459  rs1421085   \n82452  Eating Behavior and Taste Sensation         0.41459  rs1421085   \n\n              DISEASE/TRAIT  \\\n1064        Body mass index   \n1065                Obesity   \n1066    Body fat percentage   \n1067        Body mass index   \n1068                Obesity   \n...                     ...   \n82448                Weight   \n82449                Weight   \n82450   Alcohol consumption   \n82451  Alcohol use disorder   \n82452  Alcohol use disorder   \n\n                                            MAPPED_TRAIT  \\\n1064                                     body mass index   \n1065                                             obesity   \n1066                                 body fat percentage   \n1067                                     body mass index   \n1068                                             obesity   \n...                                                  ...   \n82448                                        body weight   \n82449                                        body weight   \n82450                    alcohol consumption measurement   \n82451  alcohol use disorder measurement, alcohol depe...   \n82452                   alcohol use disorder measurement   \n\n                 gwas_trait  similarity  \n1064        Body mass index    0.959477  \n1065                Obesity    1.000000  \n1066    Body fat percentage    0.907502  \n1067        Body mass index    0.959477  \n1068                Obesity    1.000000  \n...                     ...         ...  \n82448                Weight    0.948529  \n82449                Weight    0.948529  \n82450   Alcohol consumption    0.913568  \n82451  Alcohol use disorder    0.903289  \n82452  Alcohol use disorder    0.903289  \n\n[758 rows x 11 columns]",
      "text/html": "<div>\n<style scoped>\n    .dataframe tbody tr th:only-of-type {\n        vertical-align: middle;\n    }\n\n    .dataframe tbody tr th {\n        vertical-align: top;\n    }\n\n    .dataframe thead th {\n        text-align: right;\n    }\n</style>\n<table border=\"1\" class=\"dataframe\">\n  <thead>\n    <tr style=\"text-align: right;\">\n      <th></th>\n      <th>gene</th>\n      <th>rsid</th>\n      <th>pmids</th>\n      <th>mesh</th>\n      <th>topic</th>\n      <th>interest_index</th>\n      <th>SNPS</th>\n      <th>DISEASE/TRAIT</th>\n      <th>MAPPED_TRAIT</th>\n      <th>gwas_trait</th>\n      <th>similarity</th>\n    </tr>\n  </thead>\n  <tbody>\n    <tr>\n      <th>1064</th>\n      <td>FTO</td>\n      <td>rs1421085</td>\n      <td>18487448</td>\n      <td>Body Mass Index</td>\n      <td>General Nutrition</td>\n      <td>1.00000</td>\n      <td>rs1421085</td>\n      <td>Body mass index</td>\n      <td>body mass index</td>\n      <td>Body mass index</td>\n      <td>0.959477</td>\n    </tr>\n    <tr>\n      <th>1065</th>\n      <td>FTO</td>\n      <td>rs1421085</td>\n      <td>18487448</td>\n      <td>Obesity</td>\n      <td>General Nutrition</td>\n      <td>1.00000</td>\n      <td>rs1421085</td>\n      <td>Obesity</td>\n      <td>obesity</td>\n      <td>Obesity</td>\n      <td>1.000000</td>\n    </tr>\n    <tr>\n      <th>1066</th>\n      <td>FTO</td>\n      <td>rs1421085</td>\n      <td>30032228</td>\n      <td>Body Composition</td>\n      <td>General Nutrition</td>\n      <td>1.00000</td>\n      <td>rs1421085</td>\n      <td>Body fat percentage</td>\n      <td>body fat percentage</td>\n      <td>Body fat percentage</td>\n      <td>0.907502</td>\n    </tr>\n    <tr>\n      <th>1067</th>\n      <td>FTO</td>\n      <td>rs1421085</td>\n      <td>30032228</td>\n      <td>Body Mass Index</td>\n      <td>General Nutrition</td>\n      <td>1.00000</td>\n      <td>rs1421085</td>\n      <td>Body mass index</td>\n      <td>body mass index</td>\n      <td>Body mass index</td>\n      <td>0.959477</td>\n    </tr>\n    <tr>\n      <th>1068</th>\n      <td>FTO</td>\n      <td>rs1421085</td>\n      <td>30032228</td>\n      <td>Obesity</td>\n      <td>General Nutrition</td>\n      <td>1.00000</td>\n      <td>rs1421085</td>\n      <td>Obesity</td>\n      <td>obesity</td>\n      <td>Obesity</td>\n      <td>1.000000</td>\n    </tr>\n    <tr>\n      <th>...</th>\n      <td>...</td>\n      <td>...</td>\n      <td>...</td>\n      <td>...</td>\n      <td>...</td>\n      <td>...</td>\n      <td>...</td>\n      <td>...</td>\n      <td>...</td>\n      <td>...</td>\n      <td>...</td>\n    </tr>\n    <tr>\n      <th>82448</th>\n      <td>FTO</td>\n      <td>rs1421085</td>\n      <td>22513296</td>\n      <td>Diet</td>\n      <td>Eating Behavior and Taste Sensation</td>\n      <td>0.41459</td>\n      <td>rs1421085</td>\n      <td>Weight</td>\n      <td>body weight</td>\n      <td>Weight</td>\n      <td>0.948529</td>\n    </tr>\n    <tr>\n      <th>82449</th>\n      <td>FTO</td>\n      <td>rs1421085</td>\n      <td>29540276</td>\n      <td>Diet</td>\n      <td>Eating Behavior and Taste Sensation</td>\n      <td>0.41459</td>\n      <td>rs1421085</td>\n      <td>Weight</td>\n      <td>body weight</td>\n      <td>Weight</td>\n      <td>0.948529</td>\n    </tr>\n    <tr>\n      <th>82450</th>\n      <td>FTO</td>\n      <td>rs1421085</td>\n      <td>31358974</td>\n      <td>Alcohol Drinking</td>\n      <td>Eating Behavior and Taste Sensation</td>\n      <td>0.41459</td>\n      <td>rs1421085</td>\n      <td>Alcohol consumption</td>\n      <td>alcohol consumption measurement</td>\n      <td>Alcohol consumption</td>\n      <td>0.913568</td>\n    </tr>\n    <tr>\n      <th>82451</th>\n      <td>FTO</td>\n      <td>rs1421085</td>\n      <td>31358974</td>\n      <td>Alcohol Drinking</td>\n      <td>Eating Behavior and Taste Sensation</td>\n      <td>0.41459</td>\n      <td>rs1421085</td>\n      <td>Alcohol use disorder</td>\n      <td>alcohol use disorder measurement, alcohol depe...</td>\n      <td>Alcohol use disorder</td>\n      <td>0.903289</td>\n    </tr>\n    <tr>\n      <th>82452</th>\n      <td>FTO</td>\n      <td>rs1421085</td>\n      <td>31358974</td>\n      <td>Alcohol Drinking</td>\n      <td>Eating Behavior and Taste Sensation</td>\n      <td>0.41459</td>\n      <td>rs1421085</td>\n      <td>Alcohol use disorder</td>\n      <td>alcohol use disorder measurement</td>\n      <td>Alcohol use disorder</td>\n      <td>0.903289</td>\n    </tr>\n  </tbody>\n</table>\n<p>758 rows × 11 columns</p>\n</div>"
     },
     "execution_count": 38,
     "metadata": {},
     "output_type": "execute_result"
    }
   ],
   "source": [
    "# LOOKUP FOR SINGLE RSID\n",
    "df_merged_drop_nonan_rsid = merged_df[merged_df['rsid'].str.contains('rs1421085')]\n",
    "df_merged_drop_nonan_rsid"
   ]
  },
  {
   "cell_type": "code",
   "execution_count": null,
   "metadata": {
    "collapsed": false
   },
   "outputs": [],
   "source": [
    "# Display and to clipboard\n",
    "df_merged_drop[['LITVAR_GENE','LIVAR RSID','MAPPED_GENE','PUBMED_MESH', 'DISEASE/TRAIT', 'STRONGEST SNP-RISK ALLELE', 'RISK ALLELE FREQUENCY']].drop_duplicates()\n",
    "df_merged_drop_nonan_rsid[['LITVAR_GENE','LIVAR RSID','MAPPED_GENE','PUBMED_MESH', 'DISEASE/TRAIT', 'STRONGEST SNP-RISK ALLELE', 'RISK ALLELE FREQUENCY']].drop_duplicates()#.to_clipboard()"
   ]
  },
  {
   "cell_type": "code",
   "execution_count": null,
   "metadata": {
    "collapsed": false
   },
   "outputs": [],
   "source": [
    "df_merged_drop_nonan_rsid['PUBMED_MESH'].drop_duplicates()"
   ]
  },
  {
   "cell_type": "markdown",
   "metadata": {},
   "source": [
    "## Get risk Allele list and use it to filter GWAS ds"
   ]
  },
  {
   "cell_type": "code",
   "execution_count": 40,
   "metadata": {
    "collapsed": false,
    "ExecuteTime": {
     "end_time": "2024-10-21T10:18:46.505066500Z",
     "start_time": "2024-10-21T10:18:46.346069800Z"
    }
   },
   "outputs": [
    {
     "data": {
      "text/plain": "SNPS\nrs11591147    8875\nrs738409      8561\nrs7412        5687\nrs429358      5194\nrs1260326     4603\n              ... \nrs3814120        1\nrs3792900        1\nrs3790455        1\nrs3774959        1\nrs472093         1\nName: count, Length: 1030, dtype: int64"
     },
     "execution_count": 40,
     "metadata": {},
     "output_type": "execute_result"
    }
   ],
   "source": [
    "merged_df.value_counts('SNPS')"
   ]
  },
  {
   "cell_type": "code",
   "execution_count": 41,
   "metadata": {
    "collapsed": false,
    "ExecuteTime": {
     "end_time": "2024-10-21T10:18:57.637825800Z",
     "start_time": "2024-10-21T10:18:57.464674800Z"
    }
   },
   "outputs": [
    {
     "ename": "KeyError",
     "evalue": "'LIVAR RSID'",
     "output_type": "error",
     "traceback": [
      "\u001B[1;31m---------------------------------------------------------------------------\u001B[0m",
      "\u001B[1;31mKeyError\u001B[0m                                  Traceback (most recent call last)",
      "File \u001B[1;32m~\\anaconda3\\envs\\torchic\\Lib\\site-packages\\pandas\\core\\indexes\\base.py:3805\u001B[0m, in \u001B[0;36mIndex.get_loc\u001B[1;34m(self, key)\u001B[0m\n\u001B[0;32m   3804\u001B[0m \u001B[38;5;28;01mtry\u001B[39;00m:\n\u001B[1;32m-> 3805\u001B[0m     \u001B[38;5;28;01mreturn\u001B[39;00m \u001B[38;5;28mself\u001B[39m\u001B[38;5;241m.\u001B[39m_engine\u001B[38;5;241m.\u001B[39mget_loc(casted_key)\n\u001B[0;32m   3806\u001B[0m \u001B[38;5;28;01mexcept\u001B[39;00m \u001B[38;5;167;01mKeyError\u001B[39;00m \u001B[38;5;28;01mas\u001B[39;00m err:\n",
      "File \u001B[1;32mindex.pyx:167\u001B[0m, in \u001B[0;36mpandas._libs.index.IndexEngine.get_loc\u001B[1;34m()\u001B[0m\n",
      "File \u001B[1;32mindex.pyx:196\u001B[0m, in \u001B[0;36mpandas._libs.index.IndexEngine.get_loc\u001B[1;34m()\u001B[0m\n",
      "File \u001B[1;32mpandas\\\\_libs\\\\hashtable_class_helper.pxi:7081\u001B[0m, in \u001B[0;36mpandas._libs.hashtable.PyObjectHashTable.get_item\u001B[1;34m()\u001B[0m\n",
      "File \u001B[1;32mpandas\\\\_libs\\\\hashtable_class_helper.pxi:7089\u001B[0m, in \u001B[0;36mpandas._libs.hashtable.PyObjectHashTable.get_item\u001B[1;34m()\u001B[0m\n",
      "\u001B[1;31mKeyError\u001B[0m: 'LIVAR RSID'",
      "\nThe above exception was the direct cause of the following exception:\n",
      "\u001B[1;31mKeyError\u001B[0m                                  Traceback (most recent call last)",
      "Cell \u001B[1;32mIn[41], line 2\u001B[0m\n\u001B[0;32m      1\u001B[0m \u001B[38;5;66;03m#df_merged_drop_rsid_nonan[['STRONGEST SNP-RISK ALLELE','PUBMED_MESH']].groupby('STRONGEST SNP-RISK ALLELE').describe().reset_index()\u001B[39;00m\n\u001B[1;32m----> 2\u001B[0m rsid_mask \u001B[38;5;241m=\u001B[39m merged_df[\u001B[38;5;124m'\u001B[39m\u001B[38;5;124mLIVAR RSID\u001B[39m\u001B[38;5;124m'\u001B[39m]\u001B[38;5;241m.\u001B[39mstr\u001B[38;5;241m.\u001B[39mcontains(\u001B[38;5;124m'\u001B[39m\u001B[38;5;124mrs1421085\u001B[39m\u001B[38;5;124m'\u001B[39m)\n\u001B[0;32m      3\u001B[0m df_merged_drop_nonan_rsid \u001B[38;5;241m=\u001B[39m merged_df[rsid_mask]\n\u001B[0;32m      4\u001B[0m df_merged_drop_nonan_rsid[[\u001B[38;5;124m'\u001B[39m\u001B[38;5;124mLITVAR_GENE\u001B[39m\u001B[38;5;124m'\u001B[39m,\u001B[38;5;124m'\u001B[39m\u001B[38;5;124mLIVAR RSID\u001B[39m\u001B[38;5;124m'\u001B[39m,\u001B[38;5;124m'\u001B[39m\u001B[38;5;124mMAPPED_GENE\u001B[39m\u001B[38;5;124m'\u001B[39m,\u001B[38;5;124m'\u001B[39m\u001B[38;5;124mPUBMED_MESH\u001B[39m\u001B[38;5;124m'\u001B[39m, \u001B[38;5;124m'\u001B[39m\u001B[38;5;124mDISEASE/TRAIT\u001B[39m\u001B[38;5;124m'\u001B[39m, \u001B[38;5;124m'\u001B[39m\u001B[38;5;124mSTRONGEST SNP-RISK ALLELE\u001B[39m\u001B[38;5;124m'\u001B[39m, \u001B[38;5;124m'\u001B[39m\u001B[38;5;124mRISK ALLELE FREQUENCY\u001B[39m\u001B[38;5;124m'\u001B[39m]]\u001B[38;5;241m.\u001B[39mdrop_duplicates()\n",
      "File \u001B[1;32m~\\anaconda3\\envs\\torchic\\Lib\\site-packages\\pandas\\core\\frame.py:4102\u001B[0m, in \u001B[0;36mDataFrame.__getitem__\u001B[1;34m(self, key)\u001B[0m\n\u001B[0;32m   4100\u001B[0m \u001B[38;5;28;01mif\u001B[39;00m \u001B[38;5;28mself\u001B[39m\u001B[38;5;241m.\u001B[39mcolumns\u001B[38;5;241m.\u001B[39mnlevels \u001B[38;5;241m>\u001B[39m \u001B[38;5;241m1\u001B[39m:\n\u001B[0;32m   4101\u001B[0m     \u001B[38;5;28;01mreturn\u001B[39;00m \u001B[38;5;28mself\u001B[39m\u001B[38;5;241m.\u001B[39m_getitem_multilevel(key)\n\u001B[1;32m-> 4102\u001B[0m indexer \u001B[38;5;241m=\u001B[39m \u001B[38;5;28mself\u001B[39m\u001B[38;5;241m.\u001B[39mcolumns\u001B[38;5;241m.\u001B[39mget_loc(key)\n\u001B[0;32m   4103\u001B[0m \u001B[38;5;28;01mif\u001B[39;00m is_integer(indexer):\n\u001B[0;32m   4104\u001B[0m     indexer \u001B[38;5;241m=\u001B[39m [indexer]\n",
      "File \u001B[1;32m~\\anaconda3\\envs\\torchic\\Lib\\site-packages\\pandas\\core\\indexes\\base.py:3812\u001B[0m, in \u001B[0;36mIndex.get_loc\u001B[1;34m(self, key)\u001B[0m\n\u001B[0;32m   3807\u001B[0m     \u001B[38;5;28;01mif\u001B[39;00m \u001B[38;5;28misinstance\u001B[39m(casted_key, \u001B[38;5;28mslice\u001B[39m) \u001B[38;5;129;01mor\u001B[39;00m (\n\u001B[0;32m   3808\u001B[0m         \u001B[38;5;28misinstance\u001B[39m(casted_key, abc\u001B[38;5;241m.\u001B[39mIterable)\n\u001B[0;32m   3809\u001B[0m         \u001B[38;5;129;01mand\u001B[39;00m \u001B[38;5;28many\u001B[39m(\u001B[38;5;28misinstance\u001B[39m(x, \u001B[38;5;28mslice\u001B[39m) \u001B[38;5;28;01mfor\u001B[39;00m x \u001B[38;5;129;01min\u001B[39;00m casted_key)\n\u001B[0;32m   3810\u001B[0m     ):\n\u001B[0;32m   3811\u001B[0m         \u001B[38;5;28;01mraise\u001B[39;00m InvalidIndexError(key)\n\u001B[1;32m-> 3812\u001B[0m     \u001B[38;5;28;01mraise\u001B[39;00m \u001B[38;5;167;01mKeyError\u001B[39;00m(key) \u001B[38;5;28;01mfrom\u001B[39;00m \u001B[38;5;21;01merr\u001B[39;00m\n\u001B[0;32m   3813\u001B[0m \u001B[38;5;28;01mexcept\u001B[39;00m \u001B[38;5;167;01mTypeError\u001B[39;00m:\n\u001B[0;32m   3814\u001B[0m     \u001B[38;5;66;03m# If we have a listlike key, _check_indexing_error will raise\u001B[39;00m\n\u001B[0;32m   3815\u001B[0m     \u001B[38;5;66;03m#  InvalidIndexError. Otherwise we fall through and re-raise\u001B[39;00m\n\u001B[0;32m   3816\u001B[0m     \u001B[38;5;66;03m#  the TypeError.\u001B[39;00m\n\u001B[0;32m   3817\u001B[0m     \u001B[38;5;28mself\u001B[39m\u001B[38;5;241m.\u001B[39m_check_indexing_error(key)\n",
      "\u001B[1;31mKeyError\u001B[0m: 'LIVAR RSID'"
     ]
    }
   ],
   "source": [
    "#df_merged_drop_rsid_nonan[['STRONGEST SNP-RISK ALLELE','PUBMED_MESH']].groupby('STRONGEST SNP-RISK ALLELE').describe().reset_index()\n",
    "rsid_mask = merged_df['LIVAR RSID'].str.contains('rs1421085')\n",
    "df_merged_drop_nonan_rsid = merged_df[rsid_mask]\n",
    "df_merged_drop_nonan_rsid[['LITVAR_GENE','LIVAR RSID','MAPPED_GENE','PUBMED_MESH', 'DISEASE/TRAIT', 'STRONGEST SNP-RISK ALLELE', 'RISK ALLELE FREQUENCY']].drop_duplicates()\n",
    "type(df_merged_drop_nonan_rsid['STRONGEST SNP-RISK ALLELE'].value_counts())#.head(1))\n",
    "risk_allele = df_merged_drop_nonan_rsid['STRONGEST SNP-RISK ALLELE'].value_counts()#.index[0]\n",
    "risk_allele"
   ]
  },
  {
   "cell_type": "code",
   "execution_count": null,
   "metadata": {
    "collapsed": false
   },
   "outputs": [],
   "source": [
    "#---> creare una lista programmaticamente di tutti i 'risk allele' by count and use it to filter mother dataframe with isin module!\n",
    "\n",
    "# get all rsid list\n",
    "rsid_list = df_merged_drop_nonan['LIVAR RSID'].drop_duplicates().to_list()\n",
    "len(rsid_list)"
   ]
  },
  {
   "cell_type": "code",
   "execution_count": null,
   "metadata": {
    "collapsed": false
   },
   "outputs": [],
   "source": [
    "# risk allele pickup (part1)\n",
    "time_start = datetime.now()\n",
    "risk_allele_list = []\n",
    "for i in rsid_list[:2000]:\n",
    "    rsid_mask = df_merged_drop_nonan['LIVAR RSID'].str.contains(i)\n",
    "    df_merged_drop_nonan_rsid = df_merged_drop_nonan[rsid_mask]\n",
    "    risk_allele = df_merged_drop_nonan_rsid['STRONGEST SNP-RISK ALLELE'].value_counts().index[0]\n",
    "    risk_allele_list.append(risk_allele)\n",
    "    #print(str(risk_allele))\n",
    "finish_start = datetime.now()\n",
    "pd.Series(risk_allele_list).to_csv('gwas_data/risk_allele_list_0-2000.csv')"
   ]
  },
  {
   "cell_type": "code",
   "execution_count": null,
   "metadata": {
    "collapsed": false
   },
   "outputs": [],
   "source": [
    "# risk allele pickup (part2)\n",
    "for i in rsid_list[2000:]:\n",
    "    rsid_mask = df_merged_drop_nonan['LIVAR RSID'].str.contains(i)\n",
    "    df_merged_drop_nonan_rsid = df_merged_drop_nonan[rsid_mask]\n",
    "    risk_allele = df_merged_drop_nonan_rsid['STRONGEST SNP-RISK ALLELE'].value_counts().index[0]\n",
    "    risk_allele_list.append(risk_allele)\n",
    "    #print(str(risk_allele))\n",
    "finish_start = datetime.now()\n",
    "print(finish_start - time_start)\n",
    "pd.Series(risk_allele_list).to_csv('gwas_data/risk_allele_list_0-2000.csv')"
   ]
  },
  {
   "cell_type": "code",
   "execution_count": null,
   "metadata": {
    "collapsed": false
   },
   "outputs": [],
   "source": [
    "# import back risk allele list\n",
    "\n",
    "risk_allele_df = pd.read_csv('gwas_data/risk_allele_list_4376.csv', index_col=0)\n",
    "risk_allele_list = risk_allele_df['0'].to_list()\n",
    "risk_allele_list\n",
    "# --> ora filtrare Mother Df per i risk allele and ...BAM!\n",
    "risk_allele_df"
   ]
  },
  {
   "cell_type": "code",
   "execution_count": null,
   "metadata": {
    "collapsed": false
   },
   "outputs": [],
   "source": []
  },
  {
   "cell_type": "code",
   "execution_count": null,
   "metadata": {
    "collapsed": false
   },
   "outputs": [],
   "source": [
    "# genera la merged  with GRPMX dropped!\n",
    "#df_merged_drop_nonan = pd.read_csv('df_merged_drop_nonan.csv', index_col=0)\n",
    "\n",
    "df_merged_drop_less_gwa = df_merged_drop_nonan[['MAPPED_GENE','SNPS', 'DISEASE/TRAIT', 'STRONGEST SNP-RISK ALLELE', 'RISK ALLELE FREQUENCY']].drop_duplicates()\n",
    "#df_merged_drop_less_gwa.to_csv('df_merged_drop_less_gwa.csv')#.SNPS.drop_duplicates()\n",
    "df_merged_drop_less_gwa.SNPS.drop_duplicates().sample(10)"
   ]
  },
  {
   "cell_type": "code",
   "execution_count": null,
   "metadata": {
    "collapsed": false
   },
   "outputs": [],
   "source": [
    "type(df_merged_drop_nonan_rsid['STRONGEST SNP-RISK ALLELE'].value_counts())#.head(1))\n",
    "risk_allele = df_merged_drop_nonan_rsid['STRONGEST SNP-RISK ALLELE'].value_counts()#.index[0]\n",
    "risk_allele"
   ]
  },
  {
   "cell_type": "code",
   "execution_count": null,
   "metadata": {
    "collapsed": false
   },
   "outputs": [],
   "source": [
    "#qualti sono monorischio??\n",
    "rsid_list = df_merged_drop_less_gwa.SNPS.drop_duplicates().to_list()\n",
    "time_start = datetime.now()\n",
    "monorisk_list = []\n",
    "\n",
    "for i in rsid_list:\n",
    "    rsid_mask = df_merged_drop_less_gwa['SNPS'].str.contains(i)\n",
    "    df_merged_drop_less_gwa_rsid = df_merged_drop_less_gwa[rsid_mask].drop_duplicates()\n",
    "    risk_allele = df_merged_drop_less_gwa_rsid['STRONGEST SNP-RISK ALLELE'].value_counts()#.index[0]\n",
    "    if len(risk_allele)==1:\n",
    "            monorisk = risk_allele.index[0]\n",
    "            monorisk_list.append(monorisk)\n",
    "            print(risk_allele)"
   ]
  },
  {
   "cell_type": "code",
   "execution_count": null,
   "metadata": {
    "collapsed": false
   },
   "outputs": [],
   "source": [
    "#print(risk_allele)\n",
    "pd.Series(monorisk_list)#.to_csv('gwas_data/monorisk_list.csv')\n",
    "#len(rsid_list)"
   ]
  },
  {
   "cell_type": "code",
   "execution_count": null,
   "metadata": {
    "collapsed": false
   },
   "outputs": [],
   "source": [
    "# risk allele pickup: ricerca dei valori di conteggio ambigui------------------\n",
    "\n",
    "rsid_list = df_merged_drop_less_gwa.SNPS.drop_duplicates().to_list()\n",
    "time_start = datetime.now()\n",
    "ambiguity_list = []\n",
    "\n",
    "for i in rsid_list:\n",
    "    rsid_mask = df_merged_drop_less_gwa['SNPS'].str.contains(i)\n",
    "    df_merged_drop_less_gwa_rsid = df_merged_drop_less_gwa[rsid_mask].drop_duplicates()\n",
    "    risk_allele = df_merged_drop_less_gwa_rsid['STRONGEST SNP-RISK ALLELE'].value_counts()#.index[0]\n",
    "    if len(risk_allele)>1:\n",
    "        if risk_allele[0] == risk_allele[1]:\n",
    "            ambiguity = risk_allele.index[0]\n",
    "            ambiguity_list.append(ambiguity)\n",
    "            print(risk_allele)\n",
    "\n",
    "print(risk_allele)\n",
    "ambiguity_list"
   ]
  },
  {
   "cell_type": "code",
   "execution_count": null,
   "metadata": {
    "collapsed": false
   },
   "outputs": [],
   "source": [
    "ambiguity_list = []\n",
    "for i in rsid_list:\n",
    "    rsid_mask = df_merged_drop_less_gwa['SNPS'].str.contains(i)\n",
    "    df_merged_drop_less_gwa_rsid = df_merged_drop_less_gwa[rsid_mask].drop_duplicates()\n",
    "    risk_allele = df_merged_drop_less_gwa_rsid['STRONGEST SNP-RISK ALLELE'].value_counts()#.index[0]\n",
    "    if len(risk_allele)>1:\n",
    "        if risk_allele[0] == risk_allele[1]:\n",
    "            ambiguity = risk_allele.index[0], risk_allele[0]\n",
    "            ambiguity_list.append(ambiguity)\n",
    "            #print(risk_allele)\n",
    "ambiguity_df = pd.DataFrame(ambiguity_list)"
   ]
  },
  {
   "cell_type": "code",
   "execution_count": null,
   "metadata": {
    "collapsed": false
   },
   "outputs": [],
   "source": [
    "#ambiguity_df.to_csv('gwas_data/ambiguity_magg1_df.csv')\n",
    "pd.read_csv('gwas_data/ambiguity_1_list.csv')"
   ]
  },
  {
   "cell_type": "code",
   "execution_count": null,
   "metadata": {
    "collapsed": false
   },
   "outputs": [],
   "source": [
    "ambiguity_df"
   ]
  },
  {
   "cell_type": "code",
   "execution_count": null,
   "metadata": {
    "collapsed": false
   },
   "outputs": [],
   "source": [
    "ambiguity_df.groupby(by=1).describe().to_clipboard()"
   ]
  },
  {
   "cell_type": "markdown",
   "metadata": {},
   "source": [
    "## remove ambiguity"
   ]
  },
  {
   "cell_type": "code",
   "execution_count": null,
   "metadata": {
    "collapsed": false
   },
   "outputs": [],
   "source": [
    "risk_allele_df#[0]\n",
    "df_merged_drop_less_gwa\n",
    "type(risk_allele_df.iloc[:,0])"
   ]
  },
  {
   "cell_type": "code",
   "execution_count": null,
   "metadata": {
    "collapsed": false
   },
   "outputs": [],
   "source": [
    "# select just ambiugous count > 1\n",
    "ambiguous_magg1 = pd.read_csv('gwas_data/ambiguity_magg1_df.csv', index_col=0)\n",
    "# Only GWAS\n",
    "mask = df_merged_drop_less_gwa['SNPS'].isin(ambiguous_magg1.rsid)\n",
    "df_merged_drop_less_gwa_ambmagg1 = df_merged_drop_less_gwa[mask]\n",
    "df_merged_drop_less_gwa_ambmagg1#.to_csv('gwas_data/df_merged_drop_less_gwa_ambmagg1.csv')"
   ]
  },
  {
   "cell_type": "code",
   "execution_count": null,
   "metadata": {
    "collapsed": false
   },
   "outputs": [],
   "source": [
    "#GRPMX-GWAS\n",
    "mask = df_merged_drop_nonan['SNPS'].isin(ambiguous_magg1.rsid)\n",
    "df_merged_drop_nonan_ambmagg1 = df_merged_drop_nonan[mask]\n",
    "df_merged_drop_nonan_ambmagg1[['LITVAR_GENE','PUBMED_MESH','DISEASE/TRAIT','STRONGEST SNP-RISK ALLELE','RISK ALLELE FREQUENCY','MAPPED_GENE']]#.to_csv('gwas_data/df_merged_drop_less_gwa_ambmagg1.csv')"
   ]
  },
  {
   "cell_type": "code",
   "execution_count": null,
   "metadata": {
    "collapsed": false
   },
   "outputs": [],
   "source": [
    "df_merged_drop_nonan[['LITVAR_GENE','PUBMED_MESH','DISEASE/TRAIT','STRONGEST SNP-RISK ALLELE','RISK ALLELE FREQUENCY','MAPPED_GENE']]\n",
    "#quanti sono monorisk allele?"
   ]
  },
  {
   "cell_type": "code",
   "execution_count": null,
   "metadata": {
    "collapsed": false
   },
   "outputs": [],
   "source": [
    "# before filter mother df with \"riskallelelist\n",
    "\n",
    "# Only GWAS\n",
    "mask = df_merged_drop_less_gwa['STRONGEST SNP-RISK ALLELE'].isin(risk_allele_df.iloc[:,0])\n",
    "df_merged_drop_less_gwa_riskall = df_merged_drop_less_gwa[mask]\n",
    "#df_merged_drop_less_gwa_riskall.to_csv('gwas_data/df_merged_drop_less_gwa_riskall.csv')\n",
    "df_merged_drop_less_gwa_riskall"
   ]
  },
  {
   "cell_type": "code",
   "execution_count": null,
   "metadata": {
    "collapsed": false
   },
   "outputs": [],
   "source": [
    "# GRPMX-GWAS merged\n",
    "mask2 = df_merged_drop_nonan['STRONGEST SNP-RISK ALLELE'].isin(risk_allele_df.iloc[:,0])\n",
    "df_merged_drop_nonan_riskall = df_merged_drop_nonan[mask2]\n",
    "df_merged_drop_nonan_riskall.to_csv('gwas_data/df_merged_drop_nonan_riskall.csv')"
   ]
  },
  {
   "cell_type": "code",
   "execution_count": null,
   "metadata": {
    "collapsed": false
   },
   "outputs": [],
   "source": [
    "# then remove ambiugous rsids\n",
    "\n",
    "# GRPMX-GWAS merged\n",
    "ambiguous_rsids = pd.read_csv('gwas_data/ambiguous_rsids.csv')\n",
    "mask_amb = df_merged_drop_nonan_riskall.SNPS.isin(ambiguous_rsids['ambiguous_rsids'])\n",
    "df_merged_drop_nonan_riskall_unamb = df_merged_drop_nonan_riskall[-mask_amb]"
   ]
  },
  {
   "cell_type": "code",
   "execution_count": null,
   "metadata": {
    "collapsed": false
   },
   "outputs": [],
   "source": [
    "df_merged_drop_nonan_riskall_unamb.columns"
   ]
  },
  {
   "cell_type": "code",
   "execution_count": null,
   "metadata": {
    "collapsed": false
   },
   "outputs": [],
   "source": [
    "df_merged_drop_nonan_riskall_unamb[['LITVAR_GENE', 'LIVAR RSID', 'LITVAR PMID', 'PUBMED_MESH', 'PUBMEDID', 'DISEASE/TRAIT','MAPPED_GENE','STRONGEST SNP-RISK ALLELE', 'SNPS','RISK ALLELE FREQUENCY', 'P-VALUE','OR or BETA']][300:325].to_clipboard(sep=',')"
   ]
  },
  {
   "cell_type": "code",
   "execution_count": null,
   "metadata": {
    "collapsed": false
   },
   "outputs": [],
   "source": [
    "# Only GWAS\n",
    "mask_amb = df_merged_drop_less_gwa_riskall.SNPS.isin(ambiguous_rsids['ambiguous_rsids'])\n",
    "df_merged_drop_less_gwa_riskall_unamb = df_merged_drop_less_gwa_riskall[-mask_amb]\n",
    "df_merged_drop_less_gwa_riskall_unamb.to_csv('gwas_data/df_merged_drop_less_gwa_unambiguous.csv')"
   ]
  },
  {
   "cell_type": "code",
   "execution_count": null,
   "metadata": {
    "collapsed": false
   },
   "outputs": [],
   "source": [
    "df_merged_drop_less_gwa_riskall_unamb[300:325].to_clipboard(sep=',')"
   ]
  },
  {
   "cell_type": "code",
   "execution_count": null,
   "metadata": {
    "collapsed": false
   },
   "outputs": [],
   "source": [
    "len(df_merged_drop_less_gwa_riskall_unamb.SNPS.drop_duplicates()), len(df_merged_drop_nonan.SNPS.drop_duplicates())\n",
    "unambiguous_rsids = df_merged_drop_less_gwa_riskall_unamb.SNPS.drop_duplicates().reset_index(drop=True)\n",
    "#unambiguous_rsids.to_csv('gwas_data/unambiguous_rsids.csv')\n",
    "#df_merged_drop_nonan_unamb.to_csv('gwas_data/df_merged_drop_nonan_unambiguous.csv')"
   ]
  },
  {
   "cell_type": "code",
   "execution_count": null,
   "metadata": {
    "collapsed": false
   },
   "outputs": [],
   "source": [
    "df_merged_drop_less_gwa_unamb"
   ]
  },
  {
   "cell_type": "code",
   "execution_count": null,
   "metadata": {
    "collapsed": false
   },
   "outputs": [],
   "source": [
    "# LOOKUP FOR SINGLE RSID\n",
    "rsid_mask = df_merged_drop_less_gwa['SNPS'].str.contains('rs1558902')\n",
    "df_merged_drop_less_gwa_rsid = df_merged_drop_less_gwa[rsid_mask]\n",
    "df_merged_drop_less_gwa_rsid.to_clipboard()"
   ]
  },
  {
   "cell_type": "code",
   "execution_count": null,
   "metadata": {
    "collapsed": false
   },
   "outputs": [],
   "source": [
    "# LOOKUP FOR SINGLE ALLELE\n",
    "allele_mask = df_merged_drop_nonan_rsid['STRONGEST SNP-RISK ALLELE'].str.contains('-C')\n",
    "df_merged_drop_rsid_allele = df_merged_drop_nonan_rsid[allele_mask]\n",
    "df_merged_drop_rsid_allele[['LITVAR_GENE','LIVAR RSID','MAPPED_GENE','PUBMED_MESH', 'DISEASE/TRAIT', 'STRONGEST SNP-RISK ALLELE', 'RISK ALLELE FREQUENCY']].drop_duplicates()"
   ]
  },
  {
   "cell_type": "markdown",
   "metadata": {},
   "source": [
    "# Trials"
   ]
  },
  {
   "cell_type": "markdown",
   "metadata": {},
   "source": [
    "## Tokenizing (Trial)"
   ]
  },
  {
   "cell_type": "code",
   "execution_count": null,
   "metadata": {
    "collapsed": false
   },
   "outputs": [],
   "source": [
    "# Tokenizing (Trial)\n",
    "import nltk\n",
    "def tokenize_string_trial(text):\n",
    "    tokens = set(word_tokenize(text.lower()))\n",
    "    tagged_tokens = nltk.pos_tag(tokens)\n",
    "    desired_tags = ['NN', 'NNS', 'JJ','VB']\n",
    "    filtered_tokens = [token for token, pos in tagged_tokens if pos in desired_tags]\n",
    "    return set(filtered_tokens)\n",
    "\n",
    "sentence = \"\"\"The adipokines, or adipocytokines (Greek adipo-, fat; cytos-, cell; and -kinos, movement) are cytokines (cell signaling proteins) secreted by adipose tissue. Some contribute to an obesity-related low-grade state of inflammation or to the development of metabolic syndrome, a constellation of diseases including, but not limited to, type 2 diabetes, cardiovascular disease and atherosclerosis.[1] The first adipokine to be discovered was leptin in 1994.[2] Since that time, hundreds of adipokines have been discovered.[3]\"\"\"\n",
    "tokens = nltk.word_tokenize(corr_df['PUBMED_MESH'][5].lower())\n",
    "tokens = nltk.word_tokenize(sentence)\n",
    "\n",
    "#nltk.download('averaged_perceptron_tagger')\n",
    "tagged = nltk.pos_tag(tokens)\n",
    "tagg= pd.DataFrame(tagged[0:])\n",
    "\n",
    "#print(tagg.groupby(by=1 ).describe())\n",
    "tagg[tagg[1]== 'VBD']\n",
    "print(type(tagged))\n",
    "\n",
    "print('\\n',tokenize_string_trial(sentence))\n",
    "print('\\n',tokenize_string(sentence))\n",
    "#tagg[1].drop_duplicates().to_list()"
   ]
  },
  {
   "cell_type": "code",
   "execution_count": null,
   "metadata": {
    "collapsed": false
   },
   "outputs": [],
   "source": [
    "#!pip install svgling\n",
    "#nltk.download('maxent_ne_chunker')\n",
    "#nltk.download('words')\n",
    "entities = nltk.chunk.ne_chunk(tagged)\n",
    "type(entities)\n",
    "entities"
   ]
  }
 ],
 "metadata": {
  "kernelspec": {
   "display_name": "Python 3 (ipykernel)",
   "language": "python",
   "name": "python3"
  },
  "language_info": {
   "codemirror_mode": {
    "name": "ipython",
    "version": 3
   },
   "file_extension": ".py",
   "mimetype": "text/x-python",
   "name": "python",
   "nbconvert_exporter": "python",
   "pygments_lexer": "ipython3",
   "version": "3.10.9"
  }
 },
 "nbformat": 4,
 "nbformat_minor": 4
}
