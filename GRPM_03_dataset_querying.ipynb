{
 "cells": [
  {
   "cell_type": "markdown",
   "metadata": {},
   "source": [
    "# GRPM MeSH Querying \n",
    "\n",
    "This notebook is engineered to screen the previously retrieved genetic polymorphism data using selected MeSH terms. It works with MeSH sets that are used as hooks to retrieve subsets of genes and polymorphisms from the \"GRPM\" dataset."
   ]
  },
  {
   "cell_type": "markdown",
   "metadata": {},
   "source": [
    "# Import Packages"
   ]
  },
  {
   "cell_type": "code",
   "execution_count": 1,
   "metadata": {
    "collapsed": false,
    "ExecuteTime": {
     "end_time": "2025-02-25T18:54:38.704307800Z",
     "start_time": "2025-02-25T18:54:27.080972Z"
    }
   },
   "outputs": [],
   "source": [
    "import importlib\n",
    "import subprocess\n",
    "\n",
    "try:\n",
    "    importlib.import_module('pygrpm')\n",
    "except ImportError:\n",
    "    subprocess.check_call([\"pip\", \"install\", \"git+https://github.com/johndef64/GRPM_system.git\"])\n",
    "\n",
    "from pygrpm import *\n",
    "\n",
    "import os\n",
    "import glob\n",
    "import random\n",
    "import pandas as pd\n",
    "from datetime import datetime\n",
    "import matplotlib.pyplot as plt\n"
   ]
  },
  {
   "cell_type": "markdown",
   "metadata": {},
   "source": [
    "# Get requirements"
   ]
  },
  {
   "cell_type": "code",
   "execution_count": 3,
   "metadata": {
    "ExecuteTime": {
     "end_time": "2024-11-15T14:23:45.975324600Z",
     "start_time": "2024-11-15T14:23:45.946292400Z"
    },
    "collapsed": false
   },
   "outputs": [],
   "source": [
    "# Get GRPM Dataset from Zenodo Repository\n",
    "#https://zenodo.org/record/8205724  DOI: 10.5281/zenodo.8205724\n",
    "\n",
    "if not os.path.exists(\"grpm_dataset/grpm_dataset.parquet\"):\n",
    "    timea = datetime.now()\n",
    "    get_and_extract('grpm_dataset')\n",
    "    print('Download and extraction time ',datetime.now()-timea)\n",
    "\n",
    "if not os.path.exists(\"ref-mesh/\"):\n",
    "    timea = datetime.now()\n",
    "    get_and_extract('ref-mesh')\n",
    "    get_topic_terms()\n",
    "    print('Download and extraction time ',datetime.now()-timea)"
   ]
  },
  {
   "cell_type": "markdown",
   "metadata": {},
   "source": [
    "## Import GRPM dataset [required]"
   ]
  },
  {
   "cell_type": "code",
   "execution_count": 12,
   "metadata": {
    "collapsed": false,
    "ExecuteTime": {
     "end_time": "2025-02-25T18:57:07.369934Z",
     "start_time": "2025-02-25T18:56:53.962419500Z"
    }
   },
   "outputs": [
    {
     "name": "stdout",
     "output_type": "stream",
     "text": [
      "importing GRPM Dataset...\n",
      "Importing time:  0:00:07.185983\n",
      "pcg: 776.19 MB\n",
      "rna: 58.18 MB\n",
      "pseudo: 1.93 MB\n",
      "time load: 0:00:13.193017\n"
     ]
    }
   ],
   "source": [
    "#Load GRPM db Report-----------------------------------------\n",
    "import pyarrow\n",
    "db_path = 'grpm_dataset/'\n",
    "\n",
    "# choose gene type:\n",
    "gene_types = {'PCG' : \"protein coding genes\",\n",
    "              'RNA' : \"rna genes\",\n",
    "              'PSEUDO' : \"pseudo genes\"}\n",
    "gene_type = 'PCG'\n",
    "\n",
    "\n",
    "#get gene list from grpm report\n",
    "GRPM_report = pd.read_parquet(db_path+'/grpm_report.parquet', engine = 'pyarrow').reset_index().rename(columns={'index':'gene'})\n",
    "cols = ['gene', 'rsid', 'pmid', 'mesh']\n",
    "GRPM_report = GRPM_report[GRPM_report.type == gene_type].reset_index(drop=True)\n",
    "grpm_genes_list = GRPM_report.gene.to_list()\n",
    "\n",
    "#Import GRPM dataset-------------------------------------------\n",
    "print('importing GRPM Dataset...')\n",
    "time_load_1 = datetime.now()\n",
    "pcg_grpm, rna_grpm, pseudo_grpm = grpm_importer()\n",
    "grpm_dataset = pcg_grpm\n",
    "db_tag  = gene_type.lower()\n",
    "\n",
    "#grpm_dataset['pmid'] = grpm_dataset['pmid'].astype(str) #convert pmid type in str\n",
    "time_load_2 = datetime.now()\n",
    "print('time load:',time_load_2-time_load_1)"
   ]
  },
  {
   "cell_type": "markdown",
   "metadata": {
    "collapsed": false
   },
   "source": [
    "# Query GRPM Dataset"
   ]
  },
  {
   "cell_type": "markdown",
   "metadata": {
    "collapsed": false
   },
   "source": [
    "## Set directory & import data\n",
    "Check available ref-MeSH lists\n",
    "    - gene list\n",
    "    - survey directory\n",
    "    - ref-mesh list"
   ]
  },
  {
   "cell_type": "code",
   "execution_count": 13,
   "metadata": {
    "collapsed": false,
    "ExecuteTime": {
     "end_time": "2025-02-25T18:57:32.768553300Z",
     "start_time": "2025-02-25T18:57:28.273515500Z"
    }
   },
   "outputs": [
    {
     "name": "stdout",
     "output_type": "stream",
     "text": [
      "Available reference mesh lists:\n",
      "\n",
      " 0                                 Stearoyl-CoA Desaturase\n",
      "4            Plasma Membrane Calcium-Transporting ATPases\n",
      "8              Glycine Plasma Membrane Transport Proteins\n",
      "12           Serotonin Plasma Membrane Transport Proteins\n",
      "16      Norepinephrine Plasma Membrane Transport Proteins\n",
      "                              ...                        \n",
      "1570                            Neoplasms, Adipose Tissue\n",
      "1571                                       Adipose Tissue\n",
      "1575                                Adipose Tissue, Beige\n",
      "1576                                Adipose Tissue, White\n",
      "1577                                Adipose Tissue, Brown\n",
      "Name: mesh, Length: 528, dtype: object\n"
     ]
    }
   ],
   "source": [
    "#Check avalable refs:\n",
    "ref_path = \"ref-mesh/\"  # Replace with the actual ref mesh path\n",
    "\n",
    "#---------------------------------\n",
    "#use random mesh list?\n",
    "random_mesh = False\n",
    "if random_mesh: ref_path = \"ref-mesh/random_lists/\"\n",
    "#---------------------------------\n",
    "\n",
    "# Create a file path pattern to match CSV files\n",
    "file_pattern = os.path.join(ref_path, \"*.csv\")\n",
    "\n",
    "# Use glob to get a list of file paths matching the pattern\n",
    "csv_files = glob.glob(file_pattern)\n",
    "\n",
    "csv_files_name = []\n",
    "# Print the list of CSV files\n",
    "for file in csv_files:\n",
    "    file_name = os.path.basename(file)\n",
    "    csv_files_name.append(file_name)\n",
    "\n",
    "pd.set_option('display.max_rows', 100)\n",
    "print('Available reference mesh lists:')\n",
    "csv_files_df = pd.Series(csv_files_name)\n",
    "\n",
    "csv_file_tag = pd.DataFrame()\n",
    "if not random_mesh:\n",
    "    csv_file_tag = csv_files_df.str.extract(r'ref_mesh_(.*)\\.csv', expand=False).dropna().reset_index(drop=True)\n",
    "else:\n",
    "    csv_file_tag = csv_files_df.str.extract(r'(.*)\\.csv', expand=False).dropna().reset_index(drop=True)\n",
    "\n",
    "\n",
    "#------------------------------------------------------\n",
    "# define directory folder path:\n",
    "survey_path = 'grpm_surveys/' # keep default to use root path\n",
    "\n",
    "# choose ref_mesh.csv tab:\n",
    "topic_tag   = csv_file_tag[int(input('\\Select index from available ref-mesh list:\\n'+str(csv_file_tag)))]\n",
    "add         = ''    # additional survey directory tag\n",
    "#------------------------------------------------------\n",
    "\n",
    "\n",
    "# (1) Create survey directory:\n",
    "survey_path = survey_path+'grpm_random/' if random_mesh else survey_path\n",
    "directory = survey_path + 'grpm_survey_' + db_tag + '_' + topic_tag + add\n",
    "if not os.path.exists(directory):\n",
    "    os.makedirs(directory)\n",
    "\n",
    "\n",
    "# (2) Import Mesh-reference list:\n",
    "ref_filename = \"ref_mesh_\" + topic_tag + \".csv\" if not random_mesh else topic_tag + \".csv\"\n",
    "ref = pd.read_csv(ref_path + ref_filename, index_col=0)\n",
    "\n",
    "if 'mesh' not in ref.columns:\n",
    "    ref = ref.rename(columns={'Preferred Label': 'mesh'})\n",
    "\n",
    "ref_mesh_n = ref.mesh.nunique()\n",
    "ref_mesh_list = ref['mesh'].drop_duplicates()\n",
    "\n",
    "#----------------------------------------------------------\n",
    "print('\\n', ref_mesh_list)"
   ]
  },
  {
   "cell_type": "markdown",
   "metadata": {
    "collapsed": false
   },
   "source": [
    "## Get GRPM dataset statistics [required]\n"
   ]
  },
  {
   "cell_type": "code",
   "execution_count": 14,
   "metadata": {
    "collapsed": false,
    "ExecuteTime": {
     "end_time": "2025-02-25T18:59:02.732246Z",
     "start_time": "2025-02-25T18:57:54.050812100Z"
    }
   },
   "outputs": [
    {
     "name": "stdout",
     "output_type": "stream",
     "text": [
      "CPU times: total: 0 ns\n",
      "Wall time: 0 ns\n",
      "0:00:02.537021\n",
      "0:01:06.114094\n"
     ]
    },
    {
     "data": {
      "text/plain": "         rsid                           pmid                        mesh  \\\n        count unique          top freq count unique       top freq count   \ngene                                                                       \nA1BG      118      4     rs893184   68   118      7  23690342   40   118   \nA1CF      362      7   rs10821905  185   362     23  29437585   31   362   \nA2M      1160     21        rs669  676  1160     57  32747830   92  1160   \nA2ML1    1065     32  rs863224951  119  1065     13  31009165  575  1065   \nA3GALT2    19      1  rs376200069   19    19      1  28506304   19    19   \n\n                                    pmidmesh         \\\n        unique             top freq    count unique   \ngene                                                  \nA1BG        75    Hypertension    8      118     94   \nA1CF       137          Humans   22      362    318   \nA2M        365          Humans   61     1160    887   \nA2ML1      117    Otitis Media   51     1065    227   \nA3GALT2     11  Adenocarcinoma    3       19     11   \n\n                                             \n                                   top freq  \ngene                                         \nA1BG                     32279138HIV-1    3  \nA1CF      30529582Colorectal Neoplasms    4  \nA2M      24011543Amyloid beta-Peptides    8  \nA2ML1               31009165Adolescent   23  \nA3GALT2         28506304Adenocarcinoma    3  ",
      "text/html": "<div>\n<style scoped>\n    .dataframe tbody tr th:only-of-type {\n        vertical-align: middle;\n    }\n\n    .dataframe tbody tr th {\n        vertical-align: top;\n    }\n\n    .dataframe thead tr th {\n        text-align: left;\n    }\n\n    .dataframe thead tr:last-of-type th {\n        text-align: right;\n    }\n</style>\n<table border=\"1\" class=\"dataframe\">\n  <thead>\n    <tr>\n      <th></th>\n      <th colspan=\"4\" halign=\"left\">rsid</th>\n      <th colspan=\"4\" halign=\"left\">pmid</th>\n      <th colspan=\"4\" halign=\"left\">mesh</th>\n      <th colspan=\"4\" halign=\"left\">pmidmesh</th>\n    </tr>\n    <tr>\n      <th></th>\n      <th>count</th>\n      <th>unique</th>\n      <th>top</th>\n      <th>freq</th>\n      <th>count</th>\n      <th>unique</th>\n      <th>top</th>\n      <th>freq</th>\n      <th>count</th>\n      <th>unique</th>\n      <th>top</th>\n      <th>freq</th>\n      <th>count</th>\n      <th>unique</th>\n      <th>top</th>\n      <th>freq</th>\n    </tr>\n    <tr>\n      <th>gene</th>\n      <th></th>\n      <th></th>\n      <th></th>\n      <th></th>\n      <th></th>\n      <th></th>\n      <th></th>\n      <th></th>\n      <th></th>\n      <th></th>\n      <th></th>\n      <th></th>\n      <th></th>\n      <th></th>\n      <th></th>\n      <th></th>\n    </tr>\n  </thead>\n  <tbody>\n    <tr>\n      <th>A1BG</th>\n      <td>118</td>\n      <td>4</td>\n      <td>rs893184</td>\n      <td>68</td>\n      <td>118</td>\n      <td>7</td>\n      <td>23690342</td>\n      <td>40</td>\n      <td>118</td>\n      <td>75</td>\n      <td>Hypertension</td>\n      <td>8</td>\n      <td>118</td>\n      <td>94</td>\n      <td>32279138HIV-1</td>\n      <td>3</td>\n    </tr>\n    <tr>\n      <th>A1CF</th>\n      <td>362</td>\n      <td>7</td>\n      <td>rs10821905</td>\n      <td>185</td>\n      <td>362</td>\n      <td>23</td>\n      <td>29437585</td>\n      <td>31</td>\n      <td>362</td>\n      <td>137</td>\n      <td>Humans</td>\n      <td>22</td>\n      <td>362</td>\n      <td>318</td>\n      <td>30529582Colorectal Neoplasms</td>\n      <td>4</td>\n    </tr>\n    <tr>\n      <th>A2M</th>\n      <td>1160</td>\n      <td>21</td>\n      <td>rs669</td>\n      <td>676</td>\n      <td>1160</td>\n      <td>57</td>\n      <td>32747830</td>\n      <td>92</td>\n      <td>1160</td>\n      <td>365</td>\n      <td>Humans</td>\n      <td>61</td>\n      <td>1160</td>\n      <td>887</td>\n      <td>24011543Amyloid beta-Peptides</td>\n      <td>8</td>\n    </tr>\n    <tr>\n      <th>A2ML1</th>\n      <td>1065</td>\n      <td>32</td>\n      <td>rs863224951</td>\n      <td>119</td>\n      <td>1065</td>\n      <td>13</td>\n      <td>31009165</td>\n      <td>575</td>\n      <td>1065</td>\n      <td>117</td>\n      <td>Otitis Media</td>\n      <td>51</td>\n      <td>1065</td>\n      <td>227</td>\n      <td>31009165Adolescent</td>\n      <td>23</td>\n    </tr>\n    <tr>\n      <th>A3GALT2</th>\n      <td>19</td>\n      <td>1</td>\n      <td>rs376200069</td>\n      <td>19</td>\n      <td>19</td>\n      <td>1</td>\n      <td>28506304</td>\n      <td>19</td>\n      <td>19</td>\n      <td>11</td>\n      <td>Adenocarcinoma</td>\n      <td>3</td>\n      <td>19</td>\n      <td>11</td>\n      <td>28506304Adenocarcinoma</td>\n      <td>3</td>\n    </tr>\n  </tbody>\n</table>\n</div>"
     },
     "execution_count": 14,
     "metadata": {},
     "output_type": "execute_result"
    }
   ],
   "source": [
    "%time\n",
    "# GET GRPM dataset Stats\n",
    "time_1 = datetime.now()\n",
    "grpm_dataset['pmidmesh'] = grpm_dataset['pmid'] + grpm_dataset['mesh']\n",
    "print(datetime.now() -time_1)\n",
    "grpm_dataset.head()\n",
    "\n",
    "time_1 = datetime.now()\n",
    "grpm_gene_stats = grpm_dataset[['gene', 'rsid', 'pmid', 'mesh', 'pmidmesh']].groupby('gene').describe(include='all')\n",
    "print(datetime.now() -time_1)\n",
    "grpm_gene_stats.head()"
   ]
  },
  {
   "cell_type": "markdown",
   "metadata": {
    "collapsed": false
   },
   "source": [
    "## Execute MeSH Query"
   ]
  },
  {
   "cell_type": "markdown",
   "metadata": {
    "collapsed": false
   },
   "source": [
    "Python Query"
   ]
  },
  {
   "cell_type": "code",
   "execution_count": 21,
   "metadata": {
    "ExecuteTime": {
     "end_time": "2024-11-08T13:34:35.616759200Z",
     "start_time": "2024-11-08T13:34:35.534700300Z"
    },
    "collapsed": false
   },
   "outputs": [
    {
     "data": {
      "text/plain": [
       "['Chorea',\n",
       " 'Multiple Sclerosis, Chronic Progressive',\n",
       " 'Serotonin and Noradrenaline Reuptake Inhibitors',\n",
       " 'Receptors, Histamine H2',\n",
       " 'Long-Term Potentiation',\n",
       " 'GABA-A Receptor Antagonists',\n",
       " 'Brain Mapping',\n",
       " 'Nitric Oxide Synthase Type I',\n",
       " 'Cerebellar Diseases',\n",
       " 'Oligodendroglia']"
      ]
     },
     "execution_count": 21,
     "metadata": {},
     "output_type": "execute_result"
    }
   ],
   "source": [
    "ref_mesh_tuple = tuple(ref_mesh_list)\n",
    "random.sample(ref_mesh_tuple, 10)\n",
    "\n",
    "# Query Example\n",
    "# ref_mesh_tuple = tuple(['Sodium-Coupled Vitamin C Transporters',\n",
    "#                         'Micronutrients',\n",
    "#                         'Biotinidase Deficiency',\n",
    "#                         'Lipid Metabolism Disorders',\n",
    "#                         'Vitamin D-Binding Protein',\n",
    "#                         'Pyridoxal Phosphate',\n",
    "#                         'Choline-Phosphate Cytidylyltransferase',\n",
    "#                         'Vitamin D3 24-Hydroxylase'])"
   ]
  },
  {
   "cell_type": "code",
   "execution_count": 15,
   "metadata": {
    "collapsed": false,
    "ExecuteTime": {
     "end_time": "2025-02-25T18:59:14.242030400Z",
     "start_time": "2025-02-25T18:59:12.312828400Z"
    }
   },
   "outputs": [
    {
     "name": "stdout",
     "output_type": "stream",
     "text": [
      "CPU times: total: 0 ns\n",
      "Wall time: 0 ns\n",
      "0:00:01.891008\n"
     ]
    },
    {
     "data": {
      "text/plain": "             gene type         rsid      pmid                       mesh  \\\n7951660    MTNR1B  PCG   rs61747139  20200315  Diabetes Mellitus, Type 2   \n12772488     POLG  PCG  rs113994098  31147703     Mitochondrial Diseases   \n408211        TNF  PCG    rs1800629  33589701         Metabolic Syndrome   \n5258004     ICAM4  PCG     rs281437  28095483          Diabetes Mellitus   \n16193286  PLA2G2A  PCG     rs876018  27608594         Metabolic Syndrome   \n11767953  PHACTR1  PCG   rs12526453  27612170                     Lipase   \n12685442     JAK3  PCG  rs193922364  23384681         Cell Proliferation   \n16270710    PCSK9  PCG   rs11591147  30445611                Cholesterol   \n15423196    PRKCZ  PCG    rs2503706  18615853  Diabetes Mellitus, Type 2   \n12186536    PPARG  PCG  rs121909244  32852625               Hypertension   \n\n         qualifier  major                           pmidmesh  \n7951660   genetics   True  20200315Diabetes Mellitus, Type 2  \n12772488  genetics   True     31147703Mitochondrial Diseases  \n408211    etiology   True         33589701Metabolic Syndrome  \n5258004   genetics   True          28095483Diabetes Mellitus  \n16193286  genetics   True         27608594Metabolic Syndrome  \n11767953  genetics   True                     27612170Lipase  \n12685442      None  False         23384681Cell Proliferation  \n16270710     blood  False                30445611Cholesterol  \n15423196  genetics   True  18615853Diabetes Mellitus, Type 2  \n12186536      None   True               32852625Hypertension  ",
      "text/html": "<div>\n<style scoped>\n    .dataframe tbody tr th:only-of-type {\n        vertical-align: middle;\n    }\n\n    .dataframe tbody tr th {\n        vertical-align: top;\n    }\n\n    .dataframe thead th {\n        text-align: right;\n    }\n</style>\n<table border=\"1\" class=\"dataframe\">\n  <thead>\n    <tr style=\"text-align: right;\">\n      <th></th>\n      <th>gene</th>\n      <th>type</th>\n      <th>rsid</th>\n      <th>pmid</th>\n      <th>mesh</th>\n      <th>qualifier</th>\n      <th>major</th>\n      <th>pmidmesh</th>\n    </tr>\n  </thead>\n  <tbody>\n    <tr>\n      <th>7951660</th>\n      <td>MTNR1B</td>\n      <td>PCG</td>\n      <td>rs61747139</td>\n      <td>20200315</td>\n      <td>Diabetes Mellitus, Type 2</td>\n      <td>genetics</td>\n      <td>True</td>\n      <td>20200315Diabetes Mellitus, Type 2</td>\n    </tr>\n    <tr>\n      <th>12772488</th>\n      <td>POLG</td>\n      <td>PCG</td>\n      <td>rs113994098</td>\n      <td>31147703</td>\n      <td>Mitochondrial Diseases</td>\n      <td>genetics</td>\n      <td>True</td>\n      <td>31147703Mitochondrial Diseases</td>\n    </tr>\n    <tr>\n      <th>408211</th>\n      <td>TNF</td>\n      <td>PCG</td>\n      <td>rs1800629</td>\n      <td>33589701</td>\n      <td>Metabolic Syndrome</td>\n      <td>etiology</td>\n      <td>True</td>\n      <td>33589701Metabolic Syndrome</td>\n    </tr>\n    <tr>\n      <th>5258004</th>\n      <td>ICAM4</td>\n      <td>PCG</td>\n      <td>rs281437</td>\n      <td>28095483</td>\n      <td>Diabetes Mellitus</td>\n      <td>genetics</td>\n      <td>True</td>\n      <td>28095483Diabetes Mellitus</td>\n    </tr>\n    <tr>\n      <th>16193286</th>\n      <td>PLA2G2A</td>\n      <td>PCG</td>\n      <td>rs876018</td>\n      <td>27608594</td>\n      <td>Metabolic Syndrome</td>\n      <td>genetics</td>\n      <td>True</td>\n      <td>27608594Metabolic Syndrome</td>\n    </tr>\n    <tr>\n      <th>11767953</th>\n      <td>PHACTR1</td>\n      <td>PCG</td>\n      <td>rs12526453</td>\n      <td>27612170</td>\n      <td>Lipase</td>\n      <td>genetics</td>\n      <td>True</td>\n      <td>27612170Lipase</td>\n    </tr>\n    <tr>\n      <th>12685442</th>\n      <td>JAK3</td>\n      <td>PCG</td>\n      <td>rs193922364</td>\n      <td>23384681</td>\n      <td>Cell Proliferation</td>\n      <td>None</td>\n      <td>False</td>\n      <td>23384681Cell Proliferation</td>\n    </tr>\n    <tr>\n      <th>16270710</th>\n      <td>PCSK9</td>\n      <td>PCG</td>\n      <td>rs11591147</td>\n      <td>30445611</td>\n      <td>Cholesterol</td>\n      <td>blood</td>\n      <td>False</td>\n      <td>30445611Cholesterol</td>\n    </tr>\n    <tr>\n      <th>15423196</th>\n      <td>PRKCZ</td>\n      <td>PCG</td>\n      <td>rs2503706</td>\n      <td>18615853</td>\n      <td>Diabetes Mellitus, Type 2</td>\n      <td>genetics</td>\n      <td>True</td>\n      <td>18615853Diabetes Mellitus, Type 2</td>\n    </tr>\n    <tr>\n      <th>12186536</th>\n      <td>PPARG</td>\n      <td>PCG</td>\n      <td>rs121909244</td>\n      <td>32852625</td>\n      <td>Hypertension</td>\n      <td>None</td>\n      <td>True</td>\n      <td>32852625Hypertension</td>\n    </tr>\n  </tbody>\n</table>\n</div>"
     },
     "execution_count": 15,
     "metadata": {},
     "output_type": "execute_result"
    }
   ],
   "source": [
    "%time\n",
    "# Preprocessing: \n",
    "time_1 = datetime.now()\n",
    "genes = grpm_dataset.gene.drop_duplicates().to_list()\n",
    "\n",
    "# Execute the query using pandas\n",
    "def query_dataset(ds, my_tuple, field = 'mesh'):\n",
    "    ds = ds[ds[field].isin(my_tuple)].drop_duplicates()\n",
    "    return ds\n",
    "\n",
    "ref_mesh_tuple = tuple(ref_mesh_list)\n",
    "result = query_dataset(grpm_dataset, ref_mesh_tuple, field = 'mesh') \n",
    "print(datetime.now() -time_1)\n",
    "\n",
    "# save Query Output\n",
    "grpm_match_full = result\n",
    "result.sample(10)"
   ]
  },
  {
   "cell_type": "code",
   "execution_count": null,
   "metadata": {
    "collapsed": false
   },
   "outputs": [],
   "source": [
    "# SAVE\n",
    "if simple_bool('save output?'): \n",
    "    grpm_match_full[['gene', 'rsid', 'pmid', 'mesh']].to_csv(directory+'/grpmx_filtered_output.csv')"
   ]
  },
  {
   "cell_type": "markdown",
   "metadata": {
    "collapsed": false
   },
   "source": [
    "# Extraction Data Report"
   ]
  },
  {
   "cell_type": "markdown",
   "metadata": {
    "collapsed": false
   },
   "source": [
    "## Get GRPM Subset Statistics [required]"
   ]
  },
  {
   "cell_type": "code",
   "execution_count": 61,
   "metadata": {
    "ExecuteTime": {
     "end_time": "2024-11-08T13:55:37.481235200Z",
     "start_time": "2024-11-08T13:54:46.041292100Z"
    },
    "collapsed": false
   },
   "outputs": [
    {
     "name": "stdout",
     "output_type": "stream",
     "text": [
      "CPU times: total: 0 ns\n",
      "Wall time: 0 ns\n",
      "0:00:50.933666\n"
     ]
    },
    {
     "data": {
      "text/html": [
       "<div>\n",
       "<style scoped>\n",
       "    .dataframe tbody tr th:only-of-type {\n",
       "        vertical-align: middle;\n",
       "    }\n",
       "\n",
       "    .dataframe tbody tr th {\n",
       "        vertical-align: top;\n",
       "    }\n",
       "\n",
       "    .dataframe thead tr th {\n",
       "        text-align: left;\n",
       "    }\n",
       "\n",
       "    .dataframe thead tr:last-of-type th {\n",
       "        text-align: right;\n",
       "    }\n",
       "</style>\n",
       "<table border=\"1\" class=\"dataframe\">\n",
       "  <thead>\n",
       "    <tr>\n",
       "      <th></th>\n",
       "      <th colspan=\"4\" halign=\"left\">rsid</th>\n",
       "      <th colspan=\"4\" halign=\"left\">pmid</th>\n",
       "      <th colspan=\"4\" halign=\"left\">mesh</th>\n",
       "      <th colspan=\"4\" halign=\"left\">pmidmesh</th>\n",
       "    </tr>\n",
       "    <tr>\n",
       "      <th></th>\n",
       "      <th>count</th>\n",
       "      <th>unique</th>\n",
       "      <th>top</th>\n",
       "      <th>freq</th>\n",
       "      <th>count</th>\n",
       "      <th>unique</th>\n",
       "      <th>top</th>\n",
       "      <th>freq</th>\n",
       "      <th>count</th>\n",
       "      <th>unique</th>\n",
       "      <th>top</th>\n",
       "      <th>freq</th>\n",
       "      <th>count</th>\n",
       "      <th>unique</th>\n",
       "      <th>top</th>\n",
       "      <th>freq</th>\n",
       "    </tr>\n",
       "    <tr>\n",
       "      <th>gene</th>\n",
       "      <th></th>\n",
       "      <th></th>\n",
       "      <th></th>\n",
       "      <th></th>\n",
       "      <th></th>\n",
       "      <th></th>\n",
       "      <th></th>\n",
       "      <th></th>\n",
       "      <th></th>\n",
       "      <th></th>\n",
       "      <th></th>\n",
       "      <th></th>\n",
       "      <th></th>\n",
       "      <th></th>\n",
       "      <th></th>\n",
       "      <th></th>\n",
       "    </tr>\n",
       "  </thead>\n",
       "  <tbody>\n",
       "    <tr>\n",
       "      <th>A1BG</th>\n",
       "      <td>2</td>\n",
       "      <td>1</td>\n",
       "      <td>rs893184</td>\n",
       "      <td>2</td>\n",
       "      <td>2</td>\n",
       "      <td>1</td>\n",
       "      <td>23690342</td>\n",
       "      <td>2</td>\n",
       "      <td>2</td>\n",
       "      <td>1</td>\n",
       "      <td>Membrane Proteins</td>\n",
       "      <td>2</td>\n",
       "      <td>2</td>\n",
       "      <td>1</td>\n",
       "      <td>23690342Membrane Proteins</td>\n",
       "      <td>2</td>\n",
       "    </tr>\n",
       "    <tr>\n",
       "      <th>A1CF</th>\n",
       "      <td>5</td>\n",
       "      <td>2</td>\n",
       "      <td>rs10821905</td>\n",
       "      <td>3</td>\n",
       "      <td>5</td>\n",
       "      <td>3</td>\n",
       "      <td>30014513</td>\n",
       "      <td>3</td>\n",
       "      <td>5</td>\n",
       "      <td>2</td>\n",
       "      <td>Parkinson Disease</td>\n",
       "      <td>3</td>\n",
       "      <td>5</td>\n",
       "      <td>3</td>\n",
       "      <td>30014513Parkinson Disease</td>\n",
       "      <td>3</td>\n",
       "    </tr>\n",
       "    <tr>\n",
       "      <th>A2M</th>\n",
       "      <td>137</td>\n",
       "      <td>11</td>\n",
       "      <td>rs669</td>\n",
       "      <td>98</td>\n",
       "      <td>137</td>\n",
       "      <td>41</td>\n",
       "      <td>24011543</td>\n",
       "      <td>16</td>\n",
       "      <td>137</td>\n",
       "      <td>29</td>\n",
       "      <td>Alzheimer Disease</td>\n",
       "      <td>46</td>\n",
       "      <td>137</td>\n",
       "      <td>71</td>\n",
       "      <td>24011543Amyloid beta-Peptides</td>\n",
       "      <td>8</td>\n",
       "    </tr>\n",
       "    <tr>\n",
       "      <th>A4GALT</th>\n",
       "      <td>11</td>\n",
       "      <td>6</td>\n",
       "      <td>rs756992490</td>\n",
       "      <td>3</td>\n",
       "      <td>11</td>\n",
       "      <td>4</td>\n",
       "      <td>22241068</td>\n",
       "      <td>3</td>\n",
       "      <td>11</td>\n",
       "      <td>6</td>\n",
       "      <td>Protein Folding</td>\n",
       "      <td>3</td>\n",
       "      <td>11</td>\n",
       "      <td>6</td>\n",
       "      <td>22241068Protein Folding</td>\n",
       "      <td>3</td>\n",
       "    </tr>\n",
       "    <tr>\n",
       "      <th>A4GNT</th>\n",
       "      <td>1</td>\n",
       "      <td>1</td>\n",
       "      <td>rs2246945</td>\n",
       "      <td>1</td>\n",
       "      <td>1</td>\n",
       "      <td>1</td>\n",
       "      <td>21811255</td>\n",
       "      <td>1</td>\n",
       "      <td>1</td>\n",
       "      <td>1</td>\n",
       "      <td>Nuclear Proteins</td>\n",
       "      <td>1</td>\n",
       "      <td>1</td>\n",
       "      <td>1</td>\n",
       "      <td>21811255Nuclear Proteins</td>\n",
       "      <td>1</td>\n",
       "    </tr>\n",
       "  </tbody>\n",
       "</table>\n",
       "</div>"
      ],
      "text/plain": [
       "        rsid                           pmid                        mesh  \\\n",
       "       count unique          top freq count unique       top freq count   \n",
       "gene                                                                      \n",
       "A1BG       2      1     rs893184    2     2      1  23690342    2     2   \n",
       "A1CF       5      2   rs10821905    3     5      3  30014513    3     5   \n",
       "A2M      137     11        rs669   98   137     41  24011543   16   137   \n",
       "A4GALT    11      6  rs756992490    3    11      4  22241068    3    11   \n",
       "A4GNT      1      1    rs2246945    1     1      1  21811255    1     1   \n",
       "\n",
       "                                      pmidmesh         \\\n",
       "       unique                top freq    count unique   \n",
       "gene                                                    \n",
       "A1BG        1  Membrane Proteins    2        2      1   \n",
       "A1CF        2  Parkinson Disease    3        5      3   \n",
       "A2M        29  Alzheimer Disease   46      137     71   \n",
       "A4GALT      6    Protein Folding    3       11      6   \n",
       "A4GNT       1   Nuclear Proteins    1        1      1   \n",
       "\n",
       "                                            \n",
       "                                  top freq  \n",
       "gene                                        \n",
       "A1BG        23690342Membrane Proteins    2  \n",
       "A1CF        30014513Parkinson Disease    3  \n",
       "A2M     24011543Amyloid beta-Peptides    8  \n",
       "A4GALT        22241068Protein Folding    3  \n",
       "A4GNT        21811255Nuclear Proteins    1  "
      ]
     },
     "execution_count": 61,
     "metadata": {},
     "output_type": "execute_result"
    }
   ],
   "source": [
    "%time\n",
    "\n",
    "grpm_match_full['pmidmesh'] = grpm_match_full['pmid']+grpm_match_full['mesh']\n",
    "time_1 = datetime.now()\n",
    "grpm_match_gene_stats = grpm_match_full[['gene', 'rsid', 'pmid', 'mesh', 'pmidmesh']].groupby('gene').describe(include='all')\n",
    "print(datetime.now() -time_1)\n",
    "grpm_match_gene_stats.head()"
   ]
  },
  {
   "cell_type": "markdown",
   "metadata": {
    "collapsed": false
   },
   "source": [
    "## Other Stats [optional]"
   ]
  },
  {
   "cell_type": "code",
   "execution_count": null,
   "metadata": {
    "collapsed": false
   },
   "outputs": [],
   "source": [
    "time_1 = datetime.now()\n",
    "grpm_match_rsid_stats = grpm_match_full[['rsid', 'pmid']].groupby('rsid').describe(include='all')#agg(lambda x: x.unique())\n",
    "print(datetime.now() -time_1)\n",
    "#grpm_match_rsid_stats.head()\n",
    "grpm_match_rsid_stats_sort = grpm_match_rsid_stats.sort_values(by=('pmid','unique'), ascending= False)\n",
    "top10rsid = list(grpm_match_rsid_stats_sort[:10].index)\n",
    "top10rsid"
   ]
  },
  {
   "cell_type": "code",
   "execution_count": null,
   "metadata": {
    "collapsed": false
   },
   "outputs": [],
   "source": [
    "time_1 = datetime.now()\n",
    "grpm_match_mesh_stats = grpm_match_full[['pmid', 'mesh']].groupby('mesh').describe(include='all')#agg(lambda x: x.unique())\n",
    "print(datetime.now() -time_1)\n",
    "#grpm_match_mesh_stats.head()\n",
    "\n",
    "grpm_match_mesh_stats_sort = grpm_match_mesh_stats.sort_values(by=('pmid','unique'), ascending= False)\n",
    "top10mesh = list(grpm_match_mesh_stats_sort[:10].index)\n",
    "top10mesh"
   ]
  },
  {
   "cell_type": "code",
   "execution_count": null,
   "metadata": {
    "collapsed": false
   },
   "outputs": [],
   "source": [
    "time_1 = datetime.now()\n",
    "grpm_match_pmids_stats = grpm_match_full[['gene', 'rsid', 'pmid', 'mesh']].groupby('pmid').describe(include='all')#agg(lambda x: x.unique())\n",
    "print(datetime.now() -time_1)\n",
    "grpm_match_pmids_stats.head()"
   ]
  },
  {
   "cell_type": "markdown",
   "metadata": {
    "collapsed": false
   },
   "source": [
    "## Compile Survey Report \n",
    "Gather Extraction Data\n",
    "(approx. 10 minutes required)"
   ]
  },
  {
   "cell_type": "code",
   "execution_count": 28,
   "metadata": {
    "ExecuteTime": {
     "end_time": "2024-10-22T09:13:51.945169700Z",
     "start_time": "2024-10-22T08:47:57.869196Z"
    },
    "collapsed": false
   },
   "outputs": [
    {
     "name": "stderr",
     "output_type": "stream",
     "text": [
      "100%|██████████| 15519/15519 [25:52<00:00, 10.00it/s] \n"
     ]
    },
    {
     "name": "stdout",
     "output_type": "stream",
     "text": [
      "time batch: 0:25:52.527398\n",
      "runtime/gene: 0:00:00.100040\n"
     ]
    }
   ],
   "source": [
    "from tqdm import tqdm\n",
    "\n",
    "#---------------------------------------------\n",
    "# Edit saving options:\n",
    "checkpoint = 10 # write Report each \"n\" genes\n",
    "\n",
    "include_top10 = True # for a faster job\n",
    "save_plot = False  # only if include_top10 = True\n",
    "\n",
    "run_sample = simple_bool('Run a sample?') # set True just to run a test\n",
    "sample_size = 100\n",
    "\n",
    "df_report_complete = pd.DataFrame()\n",
    "#---------------------------------------------\n",
    "\n",
    "# define gene list\n",
    "import random\n",
    "if run_sample:\n",
    "    genes = random.sample(grpm_genes_list[:], sample_size)\n",
    "else:\n",
    "    genes = grpm_genes_list\n",
    "\n",
    "# Start cycle\n",
    "time_start = datetime.now()\n",
    "for gene in tqdm(genes):\n",
    "\n",
    "    time_alpha = datetime.now()\n",
    "    timestamp = time_alpha.strftime('%Y%m%d%H%M%S')\n",
    "\n",
    "    # Pre-Selection Metrics ===========\n",
    "    grpm_gene_stats_gene = grpm_gene_stats.loc[gene]\n",
    "    starting_pmid        =  grpm_gene_stats_gene.pmid.loc['unique']\n",
    "    starting_mesh        =  grpm_gene_stats_gene.mesh.loc['unique']\n",
    "    lit1_rsid            =  grpm_gene_stats_gene.rsid.loc['unique']\n",
    "    starting_pmidmesh    =  grpm_gene_stats_gene.pmidmesh.loc['unique']\n",
    "    \n",
    "    #  Post-Selection Metrics ===========\n",
    "    if gene in grpm_match_gene_stats.index:\n",
    "        grpm_match_gene_stats_gene = grpm_match_gene_stats.loc[gene]\n",
    "        matching_rsid                = grpm_match_gene_stats_gene.rsid.loc['unique']\n",
    "        dropped_rsid                 = lit1_rsid - matching_rsid\n",
    "        matching_pmids               = grpm_match_gene_stats_gene.pmid.loc['unique']\n",
    "        matching_mesh                = grpm_match_gene_stats_gene.mesh.loc['unique']\n",
    "        matching_pmidmesh            = grpm_match_gene_stats_gene.pmidmesh.loc['unique']\n",
    "    else:\n",
    "        matching_rsid                = 0\n",
    "        dropped_rsid                 = lit1_rsid - 0\n",
    "        matching_pmids               = 0\n",
    "        matching_mesh                = 0\n",
    "        matching_pmidmesh            = 0\n",
    "                \n",
    "\n",
    "    #------------------------\n",
    "    if not include_top10:\n",
    "        matching_rsid_pmid10  = 'na'\n",
    "        matching_rsid_pmid100 = 'na'\n",
    "        top10rsid             = 'na'\n",
    "        top10mesh             = 'na'\n",
    "    else:\n",
    "        #=====================================\n",
    "        # Get gene_grpm (slow step)\n",
    "        grpm_gene = grpm_match_full.loc[grpm_match_full['gene'] == gene]\n",
    "        #print(datetime.now() -time_alpha)\n",
    "    \n",
    "        dfmatch_full = grpm_gene\n",
    "        dfmatch_less = dfmatch_full[['pmid', 'rsid', 'mesh']].drop_duplicates()\n",
    "        #=====================================\n",
    "\n",
    "        #=====================================\n",
    "        ## 1. groupby.describe analysis by [rsid]\n",
    "        dfmatch_less_rsid = dfmatch_less.groupby('rsid').describe().reset_index()\n",
    "        dfmatch_less_rsid.columns = dfmatch_less_rsid.columns.to_flat_index()\n",
    "        new_column_names = ['rsid', 'pmid-count', 'pmid-unique','pmid-top','pmid-freq','mesh-count', 'mesh-unique','mesh-top','mesh-freq']\n",
    "        dfmatch_less_rsid.columns = new_column_names\n",
    "\n",
    "        ### statistics:\n",
    "        #grpm_match_rsid_stats_gene = grpm_match_rsid_stats.loc[gene]\n",
    "        matching_rsid_pmid10 = len(dfmatch_less_rsid[dfmatch_less_rsid['pmid-unique']>10])\n",
    "        matching_rsid_pmid100 = len(dfmatch_less_rsid[dfmatch_less_rsid['pmid-unique']>100])\n",
    "\n",
    "        ### sorting, top10\n",
    "        dfmatch_less_rsidless = dfmatch_less_rsid[['rsid','pmid-unique','mesh-unique']]\n",
    "        dfmatch_less_rsidlesssort = dfmatch_less_rsidless.sort_values(by='pmid-unique', ascending= False).reset_index(drop=True)\n",
    "        top10rsid = dfmatch_less_rsidlesssort['rsid'][:10].tolist()\n",
    "        #==================================\n",
    "        \n",
    "        #==================================\n",
    "        ## 2. groupby.describe analysis by [mesh]\n",
    "        dfmatch_less_mesh = dfmatch_less.groupby('mesh').describe().reset_index()\n",
    "        dfmatch_less_mesh.columns = dfmatch_less_mesh.columns.to_flat_index()\n",
    "        # simplify df.groupby.describe, convert Multicolumn to single column \n",
    "        new_column_names = ['mesh', 'pmid-count', 'pmid-unique','pmid-top','pmid-freq','rsid-count', 'rsid-unique','rsid-top','rsid-freq']\n",
    "        dfmatch_less_mesh.columns = new_column_names\n",
    "        dfmatch_less_mesh_less = dfmatch_less_mesh[['mesh','pmid-unique','rsid-unique']]\n",
    "        \n",
    "        ### add frequency, top10\n",
    "        samplepmid_count = len(dfmatch_less.pmid.drop_duplicates())\n",
    "        dfmatch_less_mesh_less_frq = dfmatch_less_mesh_less.copy()\n",
    "        mesh_frq = dfmatch_less_mesh_less_frq.loc[:,'pmid-unique'].astype(float)/samplepmid_count\n",
    "        dfmatch_less_mesh_less_frq.loc[:,'mesh frequency'] = round(mesh_frq,3)#*100\n",
    "        dfmatch_less_mesh_less_frqsort = dfmatch_less_mesh_less_frq.sort_values(by='pmid-unique',ascending=False).reset_index(drop=True)\n",
    "        top10mesh = dfmatch_less_mesh_less_frqsort['mesh'][:10].tolist()\n",
    "        #==================================\n",
    "\n",
    "        if save_plot:\n",
    "            # create a scatter plot\n",
    "            x = dfmatch_less_mesh_less_frqsort['mesh'].head(30)\n",
    "            y = dfmatch_less_mesh_less_frqsort['pmid-unique'].head(30)\n",
    "            plt.figure(figsize=(5, 8))\n",
    "            plt.title('Scatter Plot: '+gene+' pmid-mesh (filtered)', loc='center',pad=10)\n",
    "            plt.scatter(y, x)\n",
    "            plt.gca().invert_yaxis()\n",
    "            #plt.subplots_adjust(left=0.3, right=0.9, bottom=0.3, top=0.9)\n",
    "            #plt.xticks(rotation=90)\n",
    "            plt.tick_params(axis='x', which='both', top=True, bottom=False, labeltop=True, labelbottom=False)\n",
    "            plt.xlabel('pmid count', position=(0.5, 1.08))\n",
    "            ax = plt.gca()\n",
    "            ax.xaxis.set_label_position('top')\n",
    "            #plt.show()\n",
    "            plt.savefig(directory+'/'+gene+'_mesh_plot_'+timestamp+'_filtered.png',dpi=120, bbox_inches = \"tight\")\n",
    "            plt.close()\n",
    "        else:\n",
    "            pass\n",
    "\n",
    "\n",
    "    # Collect REPORT data ==================================\n",
    "\n",
    "    report = { 'reference_mesh': ref_mesh_n,\n",
    "               'starting_pmidmesh': starting_pmidmesh,\n",
    "               'starting_pmid' : starting_pmid,\n",
    "               'starting_mesh': starting_mesh,\n",
    "               'starting_rsid': lit1_rsid,\n",
    "               'matching_pmidmesh': matching_pmidmesh,\n",
    "               'matching_pmids': matching_pmids,\n",
    "               'matching_mesh': matching_mesh,\n",
    "               'matching_rsid': matching_rsid,\n",
    "               'dropped_rsid': dropped_rsid,\n",
    "               'matching_mesh_ratio': round((matching_mesh/starting_mesh),3),\n",
    "               'matching_pmids_ratio': round((matching_pmids/starting_pmid),3),\n",
    "               'matching_pmidmesh_ratio':  round((matching_pmidmesh/starting_pmidmesh),3),\n",
    "               'matching_rsid_ratio': round((matching_rsid/lit1_rsid),3),\n",
    "               'matching_rsid_pmid10': matching_rsid_pmid10,\n",
    "               'matching_rsid_pmid100': matching_rsid_pmid100,\n",
    "               'matching_top10mesh':str(top10mesh),\n",
    "               'matching_top10rsid':str(top10rsid),\n",
    "               }\n",
    "    \n",
    "    # UPDATE REPORT ------------\n",
    "    df_new_raw = pd.DataFrame(report, index=[gene])\n",
    "    df_report_complete = pd.concat([df_report_complete, df_new_raw])\n",
    "\n",
    "    full_runtime = datetime.now() - time_alpha\n",
    "    #print((gene+'_runtime:').ljust(18)+ str(full_runtime).ljust(15), ' Genes processed:', genes.index(gene), 'on', len(genes))\n",
    "    total_seconds = full_runtime.total_seconds()\n",
    "\n",
    "    # save checkpoint----------------------\n",
    "    if genes.index(gene) > 1 and genes.index(gene) % checkpoint == 0:\n",
    "        df_report_complete.to_csv(directory+'/GRPMX_report.csv')\n",
    "        #print(\"saved checkpoint\")\n",
    "    else:\n",
    "        pass\n",
    "    #==================================\n",
    "\n",
    "\n",
    "# Save report csv  (saving translate version is a code atavism)\n",
    "df_report_complete.to_csv(directory+'/GRPMX_report.csv')\n",
    "\n",
    "\"\"\"\n",
    "# #Update gene values (remove previous gene entry)\n",
    "GRPMX_report = pd.read_csv(directory+'/GRPMX_report.csv', index_col=0)\n",
    "time_load_1 = datetime.now()\n",
    "for gene in grpm_genes_list:\n",
    "    if gene+'.1' in GRPMX_report.columns:\n",
    "        GRPMX_report = GRPMX_report.drop(columns = gene)\n",
    "        GRPMX_report = GRPMX_report.rename(columns={gene+'.1': gene})\n",
    "    else:\n",
    "        pass\n",
    "    \n",
    "print(datetime.now() - time_load_1)\n",
    "GRPMX_report.to_csv(directory+'/GRPMX_report.csv')\n",
    "\"\"\"\n",
    "\n",
    "time_finish = datetime.now()\n",
    "time_batch = time_finish - time_start\n",
    "\n",
    "if os.path.isfile('run_time.txt'):\n",
    "    with open('run_time.txt', 'a') as file:\n",
    "        file.write(topic_tag+':\\n\\ttime batch: '+str(time_batch)+'\\n\\truntime/gene: '+str(time_batch/len(genes))+'\\n\\n')\n",
    "else:\n",
    "    with open('run_time.txt', 'w') as file:\n",
    "        file.write(topic_tag+':\\n\\ttime batch: '+str(time_batch)+'\\n\\truntime/gene: '+str(time_batch/len(genes))+'\\n\\n')\n",
    "\n",
    "print('time batch:',time_batch)\n",
    "print('runtime/gene:', time_batch/len(genes))"
   ]
  },
  {
   "cell_type": "code",
   "execution_count": 29,
   "metadata": {
    "ExecuteTime": {
     "end_time": "2024-10-22T09:17:09.335491900Z",
     "start_time": "2024-10-22T09:17:09.256475700Z"
    },
    "collapsed": false
   },
   "outputs": [
    {
     "data": {
      "text/html": [
       "<div>\n",
       "<style scoped>\n",
       "    .dataframe tbody tr th:only-of-type {\n",
       "        vertical-align: middle;\n",
       "    }\n",
       "\n",
       "    .dataframe tbody tr th {\n",
       "        vertical-align: top;\n",
       "    }\n",
       "\n",
       "    .dataframe thead th {\n",
       "        text-align: right;\n",
       "    }\n",
       "</style>\n",
       "<table border=\"1\" class=\"dataframe\">\n",
       "  <thead>\n",
       "    <tr style=\"text-align: right;\">\n",
       "      <th></th>\n",
       "      <th>reference_mesh</th>\n",
       "      <th>starting_pmidmesh</th>\n",
       "      <th>starting_pmid</th>\n",
       "      <th>starting_mesh</th>\n",
       "      <th>starting_rsid</th>\n",
       "      <th>matching_pmidmesh</th>\n",
       "      <th>matching_pmids</th>\n",
       "      <th>matching_mesh</th>\n",
       "      <th>matching_rsid</th>\n",
       "      <th>dropped_rsid</th>\n",
       "      <th>matching_mesh_ratio</th>\n",
       "      <th>matching_pmids_ratio</th>\n",
       "      <th>matching_pmidmesh_ratio</th>\n",
       "      <th>matching_rsid_ratio</th>\n",
       "      <th>matching_rsid_pmid10</th>\n",
       "      <th>matching_rsid_pmid100</th>\n",
       "      <th>matching_top10mesh</th>\n",
       "      <th>matching_top10rsid</th>\n",
       "    </tr>\n",
       "  </thead>\n",
       "  <tbody>\n",
       "    <tr>\n",
       "      <th>MT-ND1</th>\n",
       "      <td>510</td>\n",
       "      <td>3603</td>\n",
       "      <td>269</td>\n",
       "      <td>764</td>\n",
       "      <td>105</td>\n",
       "      <td>482</td>\n",
       "      <td>240</td>\n",
       "      <td>52</td>\n",
       "      <td>97</td>\n",
       "      <td>8</td>\n",
       "      <td>0.068</td>\n",
       "      <td>0.892</td>\n",
       "      <td>0.134</td>\n",
       "      <td>0.924</td>\n",
       "      <td>6</td>\n",
       "      <td>0</td>\n",
       "      <td>['DNA, Mitochondrial', 'Mitochondria', 'Mitoch...</td>\n",
       "      <td>['rs199476118', 'rs41460449', 'rs397515507', '...</td>\n",
       "    </tr>\n",
       "    <tr>\n",
       "      <th>MT-ND2</th>\n",
       "      <td>510</td>\n",
       "      <td>3958</td>\n",
       "      <td>292</td>\n",
       "      <td>795</td>\n",
       "      <td>123</td>\n",
       "      <td>546</td>\n",
       "      <td>267</td>\n",
       "      <td>57</td>\n",
       "      <td>112</td>\n",
       "      <td>11</td>\n",
       "      <td>0.072</td>\n",
       "      <td>0.914</td>\n",
       "      <td>0.138</td>\n",
       "      <td>0.911</td>\n",
       "      <td>9</td>\n",
       "      <td>0</td>\n",
       "      <td>['DNA, Mitochondrial', 'Mitochondria', 'Mitoch...</td>\n",
       "      <td>['rs199476118', 'rs41460449', 'rs397515507', '...</td>\n",
       "    </tr>\n",
       "    <tr>\n",
       "      <th>MT-CO1</th>\n",
       "      <td>510</td>\n",
       "      <td>2308</td>\n",
       "      <td>163</td>\n",
       "      <td>558</td>\n",
       "      <td>97</td>\n",
       "      <td>351</td>\n",
       "      <td>155</td>\n",
       "      <td>43</td>\n",
       "      <td>93</td>\n",
       "      <td>4</td>\n",
       "      <td>0.077</td>\n",
       "      <td>0.951</td>\n",
       "      <td>0.152</td>\n",
       "      <td>0.959</td>\n",
       "      <td>5</td>\n",
       "      <td>0</td>\n",
       "      <td>['DNA, Mitochondrial', 'Mitochondria', 'Genome...</td>\n",
       "      <td>['rs28357984', 'rs1599988', 'rs3021088', 'rs19...</td>\n",
       "    </tr>\n",
       "    <tr>\n",
       "      <th>MT-CO2</th>\n",
       "      <td>510</td>\n",
       "      <td>1330</td>\n",
       "      <td>94</td>\n",
       "      <td>422</td>\n",
       "      <td>67</td>\n",
       "      <td>206</td>\n",
       "      <td>84</td>\n",
       "      <td>33</td>\n",
       "      <td>63</td>\n",
       "      <td>4</td>\n",
       "      <td>0.078</td>\n",
       "      <td>0.894</td>\n",
       "      <td>0.155</td>\n",
       "      <td>0.940</td>\n",
       "      <td>1</td>\n",
       "      <td>0</td>\n",
       "      <td>['DNA, Mitochondrial', 'Mitochondria', 'Genome...</td>\n",
       "      <td>['rs2000975', 'rs3135028', 'rs200165736', 'rs2...</td>\n",
       "    </tr>\n",
       "    <tr>\n",
       "      <th>MT-ATP8</th>\n",
       "      <td>510</td>\n",
       "      <td>1802</td>\n",
       "      <td>127</td>\n",
       "      <td>518</td>\n",
       "      <td>77</td>\n",
       "      <td>293</td>\n",
       "      <td>118</td>\n",
       "      <td>41</td>\n",
       "      <td>75</td>\n",
       "      <td>2</td>\n",
       "      <td>0.079</td>\n",
       "      <td>0.929</td>\n",
       "      <td>0.163</td>\n",
       "      <td>0.974</td>\n",
       "      <td>4</td>\n",
       "      <td>0</td>\n",
       "      <td>['DNA, Mitochondrial', 'Mitochondria', 'Mitoch...</td>\n",
       "      <td>['rs199476133', 'rs2000975', 'rs2001031', 'rs1...</td>\n",
       "    </tr>\n",
       "    <tr>\n",
       "      <th>...</th>\n",
       "      <td>...</td>\n",
       "      <td>...</td>\n",
       "      <td>...</td>\n",
       "      <td>...</td>\n",
       "      <td>...</td>\n",
       "      <td>...</td>\n",
       "      <td>...</td>\n",
       "      <td>...</td>\n",
       "      <td>...</td>\n",
       "      <td>...</td>\n",
       "      <td>...</td>\n",
       "      <td>...</td>\n",
       "      <td>...</td>\n",
       "      <td>...</td>\n",
       "      <td>...</td>\n",
       "      <td>...</td>\n",
       "      <td>...</td>\n",
       "      <td>...</td>\n",
       "    </tr>\n",
       "    <tr>\n",
       "      <th>CRISP1</th>\n",
       "      <td>510</td>\n",
       "      <td>22</td>\n",
       "      <td>2</td>\n",
       "      <td>19</td>\n",
       "      <td>2</td>\n",
       "      <td>1</td>\n",
       "      <td>1</td>\n",
       "      <td>1</td>\n",
       "      <td>1</td>\n",
       "      <td>1</td>\n",
       "      <td>0.053</td>\n",
       "      <td>0.500</td>\n",
       "      <td>0.045</td>\n",
       "      <td>0.500</td>\n",
       "      <td>0</td>\n",
       "      <td>0</td>\n",
       "      <td>['Protein Folding']</td>\n",
       "      <td>['rs149522268']</td>\n",
       "    </tr>\n",
       "    <tr>\n",
       "      <th>TMC3</th>\n",
       "      <td>510</td>\n",
       "      <td>50</td>\n",
       "      <td>4</td>\n",
       "      <td>40</td>\n",
       "      <td>3</td>\n",
       "      <td>1</td>\n",
       "      <td>1</td>\n",
       "      <td>1</td>\n",
       "      <td>1</td>\n",
       "      <td>2</td>\n",
       "      <td>0.025</td>\n",
       "      <td>0.250</td>\n",
       "      <td>0.020</td>\n",
       "      <td>0.333</td>\n",
       "      <td>0</td>\n",
       "      <td>0</td>\n",
       "      <td>['Parkinson Disease']</td>\n",
       "      <td>['rs3935740']</td>\n",
       "    </tr>\n",
       "    <tr>\n",
       "      <th>MPIG6B</th>\n",
       "      <td>510</td>\n",
       "      <td>210</td>\n",
       "      <td>16</td>\n",
       "      <td>107</td>\n",
       "      <td>7</td>\n",
       "      <td>8</td>\n",
       "      <td>3</td>\n",
       "      <td>8</td>\n",
       "      <td>3</td>\n",
       "      <td>4</td>\n",
       "      <td>0.075</td>\n",
       "      <td>0.188</td>\n",
       "      <td>0.038</td>\n",
       "      <td>0.429</td>\n",
       "      <td>0</td>\n",
       "      <td>0</td>\n",
       "      <td>['Alzheimer Disease', 'Brain Ischemia', 'Intra...</td>\n",
       "      <td>['rs11575848', 'rs117894946', 'rs805294']</td>\n",
       "    </tr>\n",
       "    <tr>\n",
       "      <th>PDP1</th>\n",
       "      <td>510</td>\n",
       "      <td>241</td>\n",
       "      <td>19</td>\n",
       "      <td>179</td>\n",
       "      <td>13</td>\n",
       "      <td>10</td>\n",
       "      <td>7</td>\n",
       "      <td>7</td>\n",
       "      <td>5</td>\n",
       "      <td>8</td>\n",
       "      <td>0.039</td>\n",
       "      <td>0.368</td>\n",
       "      <td>0.041</td>\n",
       "      <td>0.385</td>\n",
       "      <td>0</td>\n",
       "      <td>0</td>\n",
       "      <td>['Brain', 'Cerebellar Diseases', 'Lipid Metabo...</td>\n",
       "      <td>['rs267606938', 'rs755840386', 'rs750529031', ...</td>\n",
       "    </tr>\n",
       "    <tr>\n",
       "      <th>TAS2R60</th>\n",
       "      <td>510</td>\n",
       "      <td>85</td>\n",
       "      <td>6</td>\n",
       "      <td>56</td>\n",
       "      <td>3</td>\n",
       "      <td>2</td>\n",
       "      <td>2</td>\n",
       "      <td>1</td>\n",
       "      <td>2</td>\n",
       "      <td>1</td>\n",
       "      <td>0.018</td>\n",
       "      <td>0.333</td>\n",
       "      <td>0.024</td>\n",
       "      <td>0.667</td>\n",
       "      <td>0</td>\n",
       "      <td>0</td>\n",
       "      <td>['Alzheimer Disease']</td>\n",
       "      <td>['rs10241042', 'rs4595035']</td>\n",
       "    </tr>\n",
       "  </tbody>\n",
       "</table>\n",
       "<p>15519 rows × 18 columns</p>\n",
       "</div>"
      ],
      "text/plain": [
       "         reference_mesh  starting_pmidmesh  starting_pmid  starting_mesh  \\\n",
       "MT-ND1              510               3603            269            764   \n",
       "MT-ND2              510               3958            292            795   \n",
       "MT-CO1              510               2308            163            558   \n",
       "MT-CO2              510               1330             94            422   \n",
       "MT-ATP8             510               1802            127            518   \n",
       "...                 ...                ...            ...            ...   \n",
       "CRISP1              510                 22              2             19   \n",
       "TMC3                510                 50              4             40   \n",
       "MPIG6B              510                210             16            107   \n",
       "PDP1                510                241             19            179   \n",
       "TAS2R60             510                 85              6             56   \n",
       "\n",
       "         starting_rsid  matching_pmidmesh  matching_pmids  matching_mesh  \\\n",
       "MT-ND1             105                482             240             52   \n",
       "MT-ND2             123                546             267             57   \n",
       "MT-CO1              97                351             155             43   \n",
       "MT-CO2              67                206              84             33   \n",
       "MT-ATP8             77                293             118             41   \n",
       "...                ...                ...             ...            ...   \n",
       "CRISP1               2                  1               1              1   \n",
       "TMC3                 3                  1               1              1   \n",
       "MPIG6B               7                  8               3              8   \n",
       "PDP1                13                 10               7              7   \n",
       "TAS2R60              3                  2               2              1   \n",
       "\n",
       "         matching_rsid  dropped_rsid  matching_mesh_ratio  \\\n",
       "MT-ND1              97             8                0.068   \n",
       "MT-ND2             112            11                0.072   \n",
       "MT-CO1              93             4                0.077   \n",
       "MT-CO2              63             4                0.078   \n",
       "MT-ATP8             75             2                0.079   \n",
       "...                ...           ...                  ...   \n",
       "CRISP1               1             1                0.053   \n",
       "TMC3                 1             2                0.025   \n",
       "MPIG6B               3             4                0.075   \n",
       "PDP1                 5             8                0.039   \n",
       "TAS2R60              2             1                0.018   \n",
       "\n",
       "         matching_pmids_ratio  matching_pmidmesh_ratio  matching_rsid_ratio  \\\n",
       "MT-ND1                  0.892                    0.134                0.924   \n",
       "MT-ND2                  0.914                    0.138                0.911   \n",
       "MT-CO1                  0.951                    0.152                0.959   \n",
       "MT-CO2                  0.894                    0.155                0.940   \n",
       "MT-ATP8                 0.929                    0.163                0.974   \n",
       "...                       ...                      ...                  ...   \n",
       "CRISP1                  0.500                    0.045                0.500   \n",
       "TMC3                    0.250                    0.020                0.333   \n",
       "MPIG6B                  0.188                    0.038                0.429   \n",
       "PDP1                    0.368                    0.041                0.385   \n",
       "TAS2R60                 0.333                    0.024                0.667   \n",
       "\n",
       "         matching_rsid_pmid10  matching_rsid_pmid100  \\\n",
       "MT-ND1                      6                      0   \n",
       "MT-ND2                      9                      0   \n",
       "MT-CO1                      5                      0   \n",
       "MT-CO2                      1                      0   \n",
       "MT-ATP8                     4                      0   \n",
       "...                       ...                    ...   \n",
       "CRISP1                      0                      0   \n",
       "TMC3                        0                      0   \n",
       "MPIG6B                      0                      0   \n",
       "PDP1                        0                      0   \n",
       "TAS2R60                     0                      0   \n",
       "\n",
       "                                        matching_top10mesh  \\\n",
       "MT-ND1   ['DNA, Mitochondrial', 'Mitochondria', 'Mitoch...   \n",
       "MT-ND2   ['DNA, Mitochondrial', 'Mitochondria', 'Mitoch...   \n",
       "MT-CO1   ['DNA, Mitochondrial', 'Mitochondria', 'Genome...   \n",
       "MT-CO2   ['DNA, Mitochondrial', 'Mitochondria', 'Genome...   \n",
       "MT-ATP8  ['DNA, Mitochondrial', 'Mitochondria', 'Mitoch...   \n",
       "...                                                    ...   \n",
       "CRISP1                                 ['Protein Folding']   \n",
       "TMC3                                 ['Parkinson Disease']   \n",
       "MPIG6B   ['Alzheimer Disease', 'Brain Ischemia', 'Intra...   \n",
       "PDP1     ['Brain', 'Cerebellar Diseases', 'Lipid Metabo...   \n",
       "TAS2R60                              ['Alzheimer Disease']   \n",
       "\n",
       "                                        matching_top10rsid  \n",
       "MT-ND1   ['rs199476118', 'rs41460449', 'rs397515507', '...  \n",
       "MT-ND2   ['rs199476118', 'rs41460449', 'rs397515507', '...  \n",
       "MT-CO1   ['rs28357984', 'rs1599988', 'rs3021088', 'rs19...  \n",
       "MT-CO2   ['rs2000975', 'rs3135028', 'rs200165736', 'rs2...  \n",
       "MT-ATP8  ['rs199476133', 'rs2000975', 'rs2001031', 'rs1...  \n",
       "...                                                    ...  \n",
       "CRISP1                                     ['rs149522268']  \n",
       "TMC3                                         ['rs3935740']  \n",
       "MPIG6B           ['rs11575848', 'rs117894946', 'rs805294']  \n",
       "PDP1     ['rs267606938', 'rs755840386', 'rs750529031', ...  \n",
       "TAS2R60                        ['rs10241042', 'rs4595035']  \n",
       "\n",
       "[15519 rows x 18 columns]"
      ]
     },
     "execution_count": 29,
     "metadata": {},
     "output_type": "execute_result"
    }
   ],
   "source": [
    "df_report_complete"
   ]
  },
  {
   "cell_type": "markdown",
   "metadata": {
    "collapsed": false
   },
   "source": [
    "GRPM-Survey Version 2.0\n",
    "\n",
    "OB-BMI (full)/\n",
    "time batch: 0:42:36.831920\n",
    "runtime/gene: 0:00:00.164755\n",
    "\n",
    "======================================\n",
    "GRPM-Survey Version 3.0\n",
    "OB-BMI (partial)\n",
    "time batch: 0:00:49.547031\n",
    "runtime/gene: 0:00:00.003193\n",
    "\n",
    "OB-BMI (full)\n",
    "time batch: 0:10:30.102083\n",
    "runtime/gene: 0:00:00.040602\\78/"
   ]
  },
  {
   "cell_type": "code",
   "execution_count": 17,
   "metadata": {
    "collapsed": false,
    "ExecuteTime": {
     "end_time": "2025-02-25T19:03:25.335665200Z",
     "start_time": "2025-02-25T19:03:24.651409300Z"
    }
   },
   "outputs": [
    {
     "ename": "FileNotFoundError",
     "evalue": "[Errno 2] No such file or directory: 'grpm_surveys/grpm_survey_pcg_ng_cvd/GRPMX_report.csv'",
     "output_type": "error",
     "traceback": [
      "\u001B[1;31m---------------------------------------------------------------------------\u001B[0m",
      "\u001B[1;31mFileNotFoundError\u001B[0m                         Traceback (most recent call last)",
      "Cell \u001B[1;32mIn[17], line 1\u001B[0m\n\u001B[1;32m----> 1\u001B[0m GRPMX_report \u001B[38;5;241m=\u001B[39m pd\u001B[38;5;241m.\u001B[39mread_csv(directory\u001B[38;5;241m+\u001B[39m\u001B[38;5;124m'\u001B[39m\u001B[38;5;124m/GRPMX_report.csv\u001B[39m\u001B[38;5;124m'\u001B[39m)\u001B[38;5;241m.\u001B[39mhead(\u001B[38;5;241m20\u001B[39m)\n\u001B[0;32m      2\u001B[0m GRPMX_report\n",
      "File \u001B[1;32m~\\anaconda3\\envs\\GRPM_env\\Lib\\site-packages\\pandas\\io\\parsers\\readers.py:1026\u001B[0m, in \u001B[0;36mread_csv\u001B[1;34m(filepath_or_buffer, sep, delimiter, header, names, index_col, usecols, dtype, engine, converters, true_values, false_values, skipinitialspace, skiprows, skipfooter, nrows, na_values, keep_default_na, na_filter, verbose, skip_blank_lines, parse_dates, infer_datetime_format, keep_date_col, date_parser, date_format, dayfirst, cache_dates, iterator, chunksize, compression, thousands, decimal, lineterminator, quotechar, quoting, doublequote, escapechar, comment, encoding, encoding_errors, dialect, on_bad_lines, delim_whitespace, low_memory, memory_map, float_precision, storage_options, dtype_backend)\u001B[0m\n\u001B[0;32m   1013\u001B[0m kwds_defaults \u001B[38;5;241m=\u001B[39m _refine_defaults_read(\n\u001B[0;32m   1014\u001B[0m     dialect,\n\u001B[0;32m   1015\u001B[0m     delimiter,\n\u001B[1;32m   (...)\u001B[0m\n\u001B[0;32m   1022\u001B[0m     dtype_backend\u001B[38;5;241m=\u001B[39mdtype_backend,\n\u001B[0;32m   1023\u001B[0m )\n\u001B[0;32m   1024\u001B[0m kwds\u001B[38;5;241m.\u001B[39mupdate(kwds_defaults)\n\u001B[1;32m-> 1026\u001B[0m \u001B[38;5;28;01mreturn\u001B[39;00m _read(filepath_or_buffer, kwds)\n",
      "File \u001B[1;32m~\\anaconda3\\envs\\GRPM_env\\Lib\\site-packages\\pandas\\io\\parsers\\readers.py:620\u001B[0m, in \u001B[0;36m_read\u001B[1;34m(filepath_or_buffer, kwds)\u001B[0m\n\u001B[0;32m    617\u001B[0m _validate_names(kwds\u001B[38;5;241m.\u001B[39mget(\u001B[38;5;124m\"\u001B[39m\u001B[38;5;124mnames\u001B[39m\u001B[38;5;124m\"\u001B[39m, \u001B[38;5;28;01mNone\u001B[39;00m))\n\u001B[0;32m    619\u001B[0m \u001B[38;5;66;03m# Create the parser.\u001B[39;00m\n\u001B[1;32m--> 620\u001B[0m parser \u001B[38;5;241m=\u001B[39m TextFileReader(filepath_or_buffer, \u001B[38;5;241m*\u001B[39m\u001B[38;5;241m*\u001B[39mkwds)\n\u001B[0;32m    622\u001B[0m \u001B[38;5;28;01mif\u001B[39;00m chunksize \u001B[38;5;129;01mor\u001B[39;00m iterator:\n\u001B[0;32m    623\u001B[0m     \u001B[38;5;28;01mreturn\u001B[39;00m parser\n",
      "File \u001B[1;32m~\\anaconda3\\envs\\GRPM_env\\Lib\\site-packages\\pandas\\io\\parsers\\readers.py:1620\u001B[0m, in \u001B[0;36mTextFileReader.__init__\u001B[1;34m(self, f, engine, **kwds)\u001B[0m\n\u001B[0;32m   1617\u001B[0m     \u001B[38;5;28mself\u001B[39m\u001B[38;5;241m.\u001B[39moptions[\u001B[38;5;124m\"\u001B[39m\u001B[38;5;124mhas_index_names\u001B[39m\u001B[38;5;124m\"\u001B[39m] \u001B[38;5;241m=\u001B[39m kwds[\u001B[38;5;124m\"\u001B[39m\u001B[38;5;124mhas_index_names\u001B[39m\u001B[38;5;124m\"\u001B[39m]\n\u001B[0;32m   1619\u001B[0m \u001B[38;5;28mself\u001B[39m\u001B[38;5;241m.\u001B[39mhandles: IOHandles \u001B[38;5;241m|\u001B[39m \u001B[38;5;28;01mNone\u001B[39;00m \u001B[38;5;241m=\u001B[39m \u001B[38;5;28;01mNone\u001B[39;00m\n\u001B[1;32m-> 1620\u001B[0m \u001B[38;5;28mself\u001B[39m\u001B[38;5;241m.\u001B[39m_engine \u001B[38;5;241m=\u001B[39m \u001B[38;5;28mself\u001B[39m\u001B[38;5;241m.\u001B[39m_make_engine(f, \u001B[38;5;28mself\u001B[39m\u001B[38;5;241m.\u001B[39mengine)\n",
      "File \u001B[1;32m~\\anaconda3\\envs\\GRPM_env\\Lib\\site-packages\\pandas\\io\\parsers\\readers.py:1880\u001B[0m, in \u001B[0;36mTextFileReader._make_engine\u001B[1;34m(self, f, engine)\u001B[0m\n\u001B[0;32m   1878\u001B[0m     \u001B[38;5;28;01mif\u001B[39;00m \u001B[38;5;124m\"\u001B[39m\u001B[38;5;124mb\u001B[39m\u001B[38;5;124m\"\u001B[39m \u001B[38;5;129;01mnot\u001B[39;00m \u001B[38;5;129;01min\u001B[39;00m mode:\n\u001B[0;32m   1879\u001B[0m         mode \u001B[38;5;241m+\u001B[39m\u001B[38;5;241m=\u001B[39m \u001B[38;5;124m\"\u001B[39m\u001B[38;5;124mb\u001B[39m\u001B[38;5;124m\"\u001B[39m\n\u001B[1;32m-> 1880\u001B[0m \u001B[38;5;28mself\u001B[39m\u001B[38;5;241m.\u001B[39mhandles \u001B[38;5;241m=\u001B[39m get_handle(\n\u001B[0;32m   1881\u001B[0m     f,\n\u001B[0;32m   1882\u001B[0m     mode,\n\u001B[0;32m   1883\u001B[0m     encoding\u001B[38;5;241m=\u001B[39m\u001B[38;5;28mself\u001B[39m\u001B[38;5;241m.\u001B[39moptions\u001B[38;5;241m.\u001B[39mget(\u001B[38;5;124m\"\u001B[39m\u001B[38;5;124mencoding\u001B[39m\u001B[38;5;124m\"\u001B[39m, \u001B[38;5;28;01mNone\u001B[39;00m),\n\u001B[0;32m   1884\u001B[0m     compression\u001B[38;5;241m=\u001B[39m\u001B[38;5;28mself\u001B[39m\u001B[38;5;241m.\u001B[39moptions\u001B[38;5;241m.\u001B[39mget(\u001B[38;5;124m\"\u001B[39m\u001B[38;5;124mcompression\u001B[39m\u001B[38;5;124m\"\u001B[39m, \u001B[38;5;28;01mNone\u001B[39;00m),\n\u001B[0;32m   1885\u001B[0m     memory_map\u001B[38;5;241m=\u001B[39m\u001B[38;5;28mself\u001B[39m\u001B[38;5;241m.\u001B[39moptions\u001B[38;5;241m.\u001B[39mget(\u001B[38;5;124m\"\u001B[39m\u001B[38;5;124mmemory_map\u001B[39m\u001B[38;5;124m\"\u001B[39m, \u001B[38;5;28;01mFalse\u001B[39;00m),\n\u001B[0;32m   1886\u001B[0m     is_text\u001B[38;5;241m=\u001B[39mis_text,\n\u001B[0;32m   1887\u001B[0m     errors\u001B[38;5;241m=\u001B[39m\u001B[38;5;28mself\u001B[39m\u001B[38;5;241m.\u001B[39moptions\u001B[38;5;241m.\u001B[39mget(\u001B[38;5;124m\"\u001B[39m\u001B[38;5;124mencoding_errors\u001B[39m\u001B[38;5;124m\"\u001B[39m, \u001B[38;5;124m\"\u001B[39m\u001B[38;5;124mstrict\u001B[39m\u001B[38;5;124m\"\u001B[39m),\n\u001B[0;32m   1888\u001B[0m     storage_options\u001B[38;5;241m=\u001B[39m\u001B[38;5;28mself\u001B[39m\u001B[38;5;241m.\u001B[39moptions\u001B[38;5;241m.\u001B[39mget(\u001B[38;5;124m\"\u001B[39m\u001B[38;5;124mstorage_options\u001B[39m\u001B[38;5;124m\"\u001B[39m, \u001B[38;5;28;01mNone\u001B[39;00m),\n\u001B[0;32m   1889\u001B[0m )\n\u001B[0;32m   1890\u001B[0m \u001B[38;5;28;01massert\u001B[39;00m \u001B[38;5;28mself\u001B[39m\u001B[38;5;241m.\u001B[39mhandles \u001B[38;5;129;01mis\u001B[39;00m \u001B[38;5;129;01mnot\u001B[39;00m \u001B[38;5;28;01mNone\u001B[39;00m\n\u001B[0;32m   1891\u001B[0m f \u001B[38;5;241m=\u001B[39m \u001B[38;5;28mself\u001B[39m\u001B[38;5;241m.\u001B[39mhandles\u001B[38;5;241m.\u001B[39mhandle\n",
      "File \u001B[1;32m~\\anaconda3\\envs\\GRPM_env\\Lib\\site-packages\\pandas\\io\\common.py:873\u001B[0m, in \u001B[0;36mget_handle\u001B[1;34m(path_or_buf, mode, encoding, compression, memory_map, is_text, errors, storage_options)\u001B[0m\n\u001B[0;32m    868\u001B[0m \u001B[38;5;28;01melif\u001B[39;00m \u001B[38;5;28misinstance\u001B[39m(handle, \u001B[38;5;28mstr\u001B[39m):\n\u001B[0;32m    869\u001B[0m     \u001B[38;5;66;03m# Check whether the filename is to be opened in binary mode.\u001B[39;00m\n\u001B[0;32m    870\u001B[0m     \u001B[38;5;66;03m# Binary mode does not support 'encoding' and 'newline'.\u001B[39;00m\n\u001B[0;32m    871\u001B[0m     \u001B[38;5;28;01mif\u001B[39;00m ioargs\u001B[38;5;241m.\u001B[39mencoding \u001B[38;5;129;01mand\u001B[39;00m \u001B[38;5;124m\"\u001B[39m\u001B[38;5;124mb\u001B[39m\u001B[38;5;124m\"\u001B[39m \u001B[38;5;129;01mnot\u001B[39;00m \u001B[38;5;129;01min\u001B[39;00m ioargs\u001B[38;5;241m.\u001B[39mmode:\n\u001B[0;32m    872\u001B[0m         \u001B[38;5;66;03m# Encoding\u001B[39;00m\n\u001B[1;32m--> 873\u001B[0m         handle \u001B[38;5;241m=\u001B[39m \u001B[38;5;28mopen\u001B[39m(\n\u001B[0;32m    874\u001B[0m             handle,\n\u001B[0;32m    875\u001B[0m             ioargs\u001B[38;5;241m.\u001B[39mmode,\n\u001B[0;32m    876\u001B[0m             encoding\u001B[38;5;241m=\u001B[39mioargs\u001B[38;5;241m.\u001B[39mencoding,\n\u001B[0;32m    877\u001B[0m             errors\u001B[38;5;241m=\u001B[39merrors,\n\u001B[0;32m    878\u001B[0m             newline\u001B[38;5;241m=\u001B[39m\u001B[38;5;124m\"\u001B[39m\u001B[38;5;124m\"\u001B[39m,\n\u001B[0;32m    879\u001B[0m         )\n\u001B[0;32m    880\u001B[0m     \u001B[38;5;28;01melse\u001B[39;00m:\n\u001B[0;32m    881\u001B[0m         \u001B[38;5;66;03m# Binary mode\u001B[39;00m\n\u001B[0;32m    882\u001B[0m         handle \u001B[38;5;241m=\u001B[39m \u001B[38;5;28mopen\u001B[39m(handle, ioargs\u001B[38;5;241m.\u001B[39mmode)\n",
      "\u001B[1;31mFileNotFoundError\u001B[0m: [Errno 2] No such file or directory: 'grpm_surveys/grpm_survey_pcg_ng_cvd/GRPMX_report.csv'"
     ]
    }
   ],
   "source": [
    "GRPMX_report = pd.read_csv(directory+'/GRPMX_report.csv').head(20)\n",
    "GRPMX_report"
   ]
  },
  {
   "cell_type": "code",
   "execution_count": null,
   "metadata": {
    "collapsed": false
   },
   "outputs": [],
   "source": [
    "df_read = pd.read_csv(directory+'/grpmx_filtered_output.csv', index_col=0)\n",
    "print('genes matching:', df_read.gene.nunique())\n",
    "print('mesh matching:', df_read.mesh.nunique())\n",
    "print('apply threshold in Analyzer Module')\n",
    "df_read"
   ]
  },
  {
   "cell_type": "markdown",
   "metadata": {},
   "source": [
    "# Check results"
   ]
  },
  {
   "cell_type": "code",
   "execution_count": 18,
   "metadata": {
    "collapsed": false,
    "ExecuteTime": {
     "end_time": "2025-02-25T19:04:14.867934200Z",
     "start_time": "2025-02-25T19:04:14.698486700Z"
    }
   },
   "outputs": [
    {
     "ename": "FileNotFoundError",
     "evalue": "[Errno 2] No such file or directory: 'grpm_surveys/grpm_survey_pcg_ng_cvd/GRPMX_report.csv'",
     "output_type": "error",
     "traceback": [
      "\u001B[1;31m---------------------------------------------------------------------------\u001B[0m",
      "\u001B[1;31mFileNotFoundError\u001B[0m                         Traceback (most recent call last)",
      "Cell \u001B[1;32mIn[18], line 2\u001B[0m\n\u001B[0;32m      1\u001B[0m \u001B[38;5;66;03m# Visualize GRPMX_report.csv\u001B[39;00m\n\u001B[1;32m----> 2\u001B[0m GRPMX_report \u001B[38;5;241m=\u001B[39m pd\u001B[38;5;241m.\u001B[39mread_csv(directory\u001B[38;5;241m+\u001B[39m\u001B[38;5;124m'\u001B[39m\u001B[38;5;124m/GRPMX_report.csv\u001B[39m\u001B[38;5;124m'\u001B[39m, index_col\u001B[38;5;241m=\u001B[39m\u001B[38;5;241m0\u001B[39m)\u001B[38;5;241m.\u001B[39mrename(columns\u001B[38;5;241m=\u001B[39m{\u001B[38;5;124m'\u001B[39m\u001B[38;5;124mindex\u001B[39m\u001B[38;5;124m'\u001B[39m:\u001B[38;5;124m'\u001B[39m\u001B[38;5;124mgene\u001B[39m\u001B[38;5;124m'\u001B[39m})\n\u001B[0;32m      3\u001B[0m GRPMX_report\u001B[38;5;241m.\u001B[39mgene\u001B[38;5;241m.\u001B[39mdrop_duplicates()\u001B[38;5;241m.\u001B[39mto_clipboard()\n\u001B[0;32m      4\u001B[0m \u001B[38;5;28mprint\u001B[39m(\u001B[38;5;124m'\u001B[39m\u001B[38;5;124mGenes matching:\u001B[39m\u001B[38;5;124m'\u001B[39m,\u001B[38;5;28mlen\u001B[39m(GRPMX_report\u001B[38;5;241m.\u001B[39mgene\u001B[38;5;241m.\u001B[39mdrop_duplicates()))\n",
      "File \u001B[1;32m~\\anaconda3\\envs\\GRPM_env\\Lib\\site-packages\\pandas\\io\\parsers\\readers.py:1026\u001B[0m, in \u001B[0;36mread_csv\u001B[1;34m(filepath_or_buffer, sep, delimiter, header, names, index_col, usecols, dtype, engine, converters, true_values, false_values, skipinitialspace, skiprows, skipfooter, nrows, na_values, keep_default_na, na_filter, verbose, skip_blank_lines, parse_dates, infer_datetime_format, keep_date_col, date_parser, date_format, dayfirst, cache_dates, iterator, chunksize, compression, thousands, decimal, lineterminator, quotechar, quoting, doublequote, escapechar, comment, encoding, encoding_errors, dialect, on_bad_lines, delim_whitespace, low_memory, memory_map, float_precision, storage_options, dtype_backend)\u001B[0m\n\u001B[0;32m   1013\u001B[0m kwds_defaults \u001B[38;5;241m=\u001B[39m _refine_defaults_read(\n\u001B[0;32m   1014\u001B[0m     dialect,\n\u001B[0;32m   1015\u001B[0m     delimiter,\n\u001B[1;32m   (...)\u001B[0m\n\u001B[0;32m   1022\u001B[0m     dtype_backend\u001B[38;5;241m=\u001B[39mdtype_backend,\n\u001B[0;32m   1023\u001B[0m )\n\u001B[0;32m   1024\u001B[0m kwds\u001B[38;5;241m.\u001B[39mupdate(kwds_defaults)\n\u001B[1;32m-> 1026\u001B[0m \u001B[38;5;28;01mreturn\u001B[39;00m _read(filepath_or_buffer, kwds)\n",
      "File \u001B[1;32m~\\anaconda3\\envs\\GRPM_env\\Lib\\site-packages\\pandas\\io\\parsers\\readers.py:620\u001B[0m, in \u001B[0;36m_read\u001B[1;34m(filepath_or_buffer, kwds)\u001B[0m\n\u001B[0;32m    617\u001B[0m _validate_names(kwds\u001B[38;5;241m.\u001B[39mget(\u001B[38;5;124m\"\u001B[39m\u001B[38;5;124mnames\u001B[39m\u001B[38;5;124m\"\u001B[39m, \u001B[38;5;28;01mNone\u001B[39;00m))\n\u001B[0;32m    619\u001B[0m \u001B[38;5;66;03m# Create the parser.\u001B[39;00m\n\u001B[1;32m--> 620\u001B[0m parser \u001B[38;5;241m=\u001B[39m TextFileReader(filepath_or_buffer, \u001B[38;5;241m*\u001B[39m\u001B[38;5;241m*\u001B[39mkwds)\n\u001B[0;32m    622\u001B[0m \u001B[38;5;28;01mif\u001B[39;00m chunksize \u001B[38;5;129;01mor\u001B[39;00m iterator:\n\u001B[0;32m    623\u001B[0m     \u001B[38;5;28;01mreturn\u001B[39;00m parser\n",
      "File \u001B[1;32m~\\anaconda3\\envs\\GRPM_env\\Lib\\site-packages\\pandas\\io\\parsers\\readers.py:1620\u001B[0m, in \u001B[0;36mTextFileReader.__init__\u001B[1;34m(self, f, engine, **kwds)\u001B[0m\n\u001B[0;32m   1617\u001B[0m     \u001B[38;5;28mself\u001B[39m\u001B[38;5;241m.\u001B[39moptions[\u001B[38;5;124m\"\u001B[39m\u001B[38;5;124mhas_index_names\u001B[39m\u001B[38;5;124m\"\u001B[39m] \u001B[38;5;241m=\u001B[39m kwds[\u001B[38;5;124m\"\u001B[39m\u001B[38;5;124mhas_index_names\u001B[39m\u001B[38;5;124m\"\u001B[39m]\n\u001B[0;32m   1619\u001B[0m \u001B[38;5;28mself\u001B[39m\u001B[38;5;241m.\u001B[39mhandles: IOHandles \u001B[38;5;241m|\u001B[39m \u001B[38;5;28;01mNone\u001B[39;00m \u001B[38;5;241m=\u001B[39m \u001B[38;5;28;01mNone\u001B[39;00m\n\u001B[1;32m-> 1620\u001B[0m \u001B[38;5;28mself\u001B[39m\u001B[38;5;241m.\u001B[39m_engine \u001B[38;5;241m=\u001B[39m \u001B[38;5;28mself\u001B[39m\u001B[38;5;241m.\u001B[39m_make_engine(f, \u001B[38;5;28mself\u001B[39m\u001B[38;5;241m.\u001B[39mengine)\n",
      "File \u001B[1;32m~\\anaconda3\\envs\\GRPM_env\\Lib\\site-packages\\pandas\\io\\parsers\\readers.py:1880\u001B[0m, in \u001B[0;36mTextFileReader._make_engine\u001B[1;34m(self, f, engine)\u001B[0m\n\u001B[0;32m   1878\u001B[0m     \u001B[38;5;28;01mif\u001B[39;00m \u001B[38;5;124m\"\u001B[39m\u001B[38;5;124mb\u001B[39m\u001B[38;5;124m\"\u001B[39m \u001B[38;5;129;01mnot\u001B[39;00m \u001B[38;5;129;01min\u001B[39;00m mode:\n\u001B[0;32m   1879\u001B[0m         mode \u001B[38;5;241m+\u001B[39m\u001B[38;5;241m=\u001B[39m \u001B[38;5;124m\"\u001B[39m\u001B[38;5;124mb\u001B[39m\u001B[38;5;124m\"\u001B[39m\n\u001B[1;32m-> 1880\u001B[0m \u001B[38;5;28mself\u001B[39m\u001B[38;5;241m.\u001B[39mhandles \u001B[38;5;241m=\u001B[39m get_handle(\n\u001B[0;32m   1881\u001B[0m     f,\n\u001B[0;32m   1882\u001B[0m     mode,\n\u001B[0;32m   1883\u001B[0m     encoding\u001B[38;5;241m=\u001B[39m\u001B[38;5;28mself\u001B[39m\u001B[38;5;241m.\u001B[39moptions\u001B[38;5;241m.\u001B[39mget(\u001B[38;5;124m\"\u001B[39m\u001B[38;5;124mencoding\u001B[39m\u001B[38;5;124m\"\u001B[39m, \u001B[38;5;28;01mNone\u001B[39;00m),\n\u001B[0;32m   1884\u001B[0m     compression\u001B[38;5;241m=\u001B[39m\u001B[38;5;28mself\u001B[39m\u001B[38;5;241m.\u001B[39moptions\u001B[38;5;241m.\u001B[39mget(\u001B[38;5;124m\"\u001B[39m\u001B[38;5;124mcompression\u001B[39m\u001B[38;5;124m\"\u001B[39m, \u001B[38;5;28;01mNone\u001B[39;00m),\n\u001B[0;32m   1885\u001B[0m     memory_map\u001B[38;5;241m=\u001B[39m\u001B[38;5;28mself\u001B[39m\u001B[38;5;241m.\u001B[39moptions\u001B[38;5;241m.\u001B[39mget(\u001B[38;5;124m\"\u001B[39m\u001B[38;5;124mmemory_map\u001B[39m\u001B[38;5;124m\"\u001B[39m, \u001B[38;5;28;01mFalse\u001B[39;00m),\n\u001B[0;32m   1886\u001B[0m     is_text\u001B[38;5;241m=\u001B[39mis_text,\n\u001B[0;32m   1887\u001B[0m     errors\u001B[38;5;241m=\u001B[39m\u001B[38;5;28mself\u001B[39m\u001B[38;5;241m.\u001B[39moptions\u001B[38;5;241m.\u001B[39mget(\u001B[38;5;124m\"\u001B[39m\u001B[38;5;124mencoding_errors\u001B[39m\u001B[38;5;124m\"\u001B[39m, \u001B[38;5;124m\"\u001B[39m\u001B[38;5;124mstrict\u001B[39m\u001B[38;5;124m\"\u001B[39m),\n\u001B[0;32m   1888\u001B[0m     storage_options\u001B[38;5;241m=\u001B[39m\u001B[38;5;28mself\u001B[39m\u001B[38;5;241m.\u001B[39moptions\u001B[38;5;241m.\u001B[39mget(\u001B[38;5;124m\"\u001B[39m\u001B[38;5;124mstorage_options\u001B[39m\u001B[38;5;124m\"\u001B[39m, \u001B[38;5;28;01mNone\u001B[39;00m),\n\u001B[0;32m   1889\u001B[0m )\n\u001B[0;32m   1890\u001B[0m \u001B[38;5;28;01massert\u001B[39;00m \u001B[38;5;28mself\u001B[39m\u001B[38;5;241m.\u001B[39mhandles \u001B[38;5;129;01mis\u001B[39;00m \u001B[38;5;129;01mnot\u001B[39;00m \u001B[38;5;28;01mNone\u001B[39;00m\n\u001B[0;32m   1891\u001B[0m f \u001B[38;5;241m=\u001B[39m \u001B[38;5;28mself\u001B[39m\u001B[38;5;241m.\u001B[39mhandles\u001B[38;5;241m.\u001B[39mhandle\n",
      "File \u001B[1;32m~\\anaconda3\\envs\\GRPM_env\\Lib\\site-packages\\pandas\\io\\common.py:873\u001B[0m, in \u001B[0;36mget_handle\u001B[1;34m(path_or_buf, mode, encoding, compression, memory_map, is_text, errors, storage_options)\u001B[0m\n\u001B[0;32m    868\u001B[0m \u001B[38;5;28;01melif\u001B[39;00m \u001B[38;5;28misinstance\u001B[39m(handle, \u001B[38;5;28mstr\u001B[39m):\n\u001B[0;32m    869\u001B[0m     \u001B[38;5;66;03m# Check whether the filename is to be opened in binary mode.\u001B[39;00m\n\u001B[0;32m    870\u001B[0m     \u001B[38;5;66;03m# Binary mode does not support 'encoding' and 'newline'.\u001B[39;00m\n\u001B[0;32m    871\u001B[0m     \u001B[38;5;28;01mif\u001B[39;00m ioargs\u001B[38;5;241m.\u001B[39mencoding \u001B[38;5;129;01mand\u001B[39;00m \u001B[38;5;124m\"\u001B[39m\u001B[38;5;124mb\u001B[39m\u001B[38;5;124m\"\u001B[39m \u001B[38;5;129;01mnot\u001B[39;00m \u001B[38;5;129;01min\u001B[39;00m ioargs\u001B[38;5;241m.\u001B[39mmode:\n\u001B[0;32m    872\u001B[0m         \u001B[38;5;66;03m# Encoding\u001B[39;00m\n\u001B[1;32m--> 873\u001B[0m         handle \u001B[38;5;241m=\u001B[39m \u001B[38;5;28mopen\u001B[39m(\n\u001B[0;32m    874\u001B[0m             handle,\n\u001B[0;32m    875\u001B[0m             ioargs\u001B[38;5;241m.\u001B[39mmode,\n\u001B[0;32m    876\u001B[0m             encoding\u001B[38;5;241m=\u001B[39mioargs\u001B[38;5;241m.\u001B[39mencoding,\n\u001B[0;32m    877\u001B[0m             errors\u001B[38;5;241m=\u001B[39merrors,\n\u001B[0;32m    878\u001B[0m             newline\u001B[38;5;241m=\u001B[39m\u001B[38;5;124m\"\u001B[39m\u001B[38;5;124m\"\u001B[39m,\n\u001B[0;32m    879\u001B[0m         )\n\u001B[0;32m    880\u001B[0m     \u001B[38;5;28;01melse\u001B[39;00m:\n\u001B[0;32m    881\u001B[0m         \u001B[38;5;66;03m# Binary mode\u001B[39;00m\n\u001B[0;32m    882\u001B[0m         handle \u001B[38;5;241m=\u001B[39m \u001B[38;5;28mopen\u001B[39m(handle, ioargs\u001B[38;5;241m.\u001B[39mmode)\n",
      "\u001B[1;31mFileNotFoundError\u001B[0m: [Errno 2] No such file or directory: 'grpm_surveys/grpm_survey_pcg_ng_cvd/GRPMX_report.csv'"
     ]
    }
   ],
   "source": [
    "# Visualize GRPMX_report.csv\n",
    "GRPMX_report = pd.read_csv(directory+'/GRPMX_report.csv', index_col=0).rename(columns={'index':'gene'})\n",
    "GRPMX_report.gene.drop_duplicates().to_clipboard()\n",
    "print('Genes matching:',len(GRPMX_report.gene.drop_duplicates()))\n",
    "\n",
    "GRPMX_report[['reference_mesh', 'starting_pmidmesh', 'starting_pmid','starting_mesh','starting_rsid', 'matching_pmidmesh', 'matching_pmids', 'matching_mesh','matching_rsid', 'dropped_rsid']] = GRPMX_report[['reference_mesh', 'starting_pmidmesh', 'starting_pmid','starting_mesh','starting_rsid', 'matching_pmidmesh', 'matching_pmids', 'matching_mesh','matching_rsid', 'dropped_rsid']].astype(int)\n",
    "\n",
    "GRPMX_report[['matching_mesh_ratio', 'matching_pmids_ratio','matching_pmidmesh_ratio', 'matching_rsid_ratio']] = GRPMX_report[['matching_mesh_ratio', 'matching_pmids_ratio','matching_pmidmesh_ratio','matching_rsid_ratio']].astype(float)\n",
    "\n",
    "columns_to_keep = ['matching_pmids','matching_pmids_ratio','matching_mesh','matching_rsid']\n",
    "GRPMX_report_less = GRPMX_report[columns_to_keep]\n",
    "\n",
    "sorting_column = 'matching_pmids'\n",
    "GRPMX_report_sort = GRPMX_report.sort_values(by=sorting_column, ascending=False)\n",
    "\n",
    "columns_to_display = ['gene', 'matching_pmidmesh', 'matching_pmids',\n",
    "                      'matching_mesh', 'matching_rsid', 'dropped_rsid', 'matching_mesh_ratio',\n",
    "                      'matching_pmids_ratio', 'matching_pmidmesh_ratio',\n",
    "                      'matching_rsid_ratio']\n",
    "GRPMX_report_display = GRPMX_report[columns_to_display]\n",
    "GRPMX_report_display"
   ]
  },
  {
   "cell_type": "code",
   "execution_count": null,
   "metadata": {
    "collapsed": false
   },
   "outputs": [],
   "source": [
    "# Matching PMIDs in Database\n",
    "GRPMX_report_sort = GRPMX_report.sort_values(by= 'matching_pmids',ascending=False)\n",
    "\n",
    "x = GRPMX_report_sort.gene.iloc[:40]\n",
    "y = GRPMX_report_sort['matching_pmids'].iloc[:40]\n",
    "plt.figure(figsize=(5, len(x)*0.2))\n",
    "plt.title('Matching PMIDs in Database', loc='center',pad=10)\n",
    "\n",
    "plt.barh(x,y)\n",
    "plt.gca().invert_yaxis()\n",
    "plt.tick_params(axis='x', which='both', top=True, bottom=False, labeltop=True, labelbottom=False)\n",
    "#plt.xlabel('pmid count', position=(0.5, 1.08))\n",
    "plt.ylabel('genes')\n",
    "plt.xlabel('matching pmid', position=(0.5, 1.08))\n",
    "ax = plt.gca()\n",
    "ax.xaxis.set_label_position('top')\n",
    "\n",
    "plt.show()"
   ]
  },
  {
   "cell_type": "code",
   "execution_count": null,
   "metadata": {
    "collapsed": false
   },
   "outputs": [],
   "source": [
    "# Add \"interest value\" to report:----------------------------------------------------------\n",
    "max_match_pmids = int(GRPMX_report['matching_pmids'].max())\n",
    "GRPMX_report_int = GRPMX_report\n",
    "GRPMX_report_int['matching_pmids_score'] = round((GRPMX_report_int['matching_pmids']/max_match_pmids),3)\n",
    "\n",
    "GRPMX_report_int['interest_value'] = round(GRPMX_report_int['matching_pmids_score'] * GRPMX_report_int['matching_pmids_ratio'],3)\n",
    "\n",
    "GRPMX_report_int.set_index('gene').sort_values(by='interest_value')#.T"
   ]
  },
  {
   "cell_type": "code",
   "execution_count": null,
   "metadata": {
    "collapsed": false
   },
   "outputs": [],
   "source": [
    "# Matching PMIDs in Database\n",
    "GRPMX_report_sort = GRPMX_report.sort_values(by= 'matching_pmids_index',ascending=False)\n",
    "\n",
    "x = GRPMX_report_sort.gene.iloc[:100]\n",
    "y = GRPMX_report_sort['matching_pmids_index'].iloc[:100]\n",
    "plt.figure(figsize=(5, len(x)*0.2))\n",
    "plt.title('Matching PMIDs in Database', loc='center',pad=10)\n",
    "\n",
    "plt.barh(x,y)\n",
    "plt.gca().invert_yaxis()\n",
    "plt.tick_params(axis='x', which='both', top=True, bottom=False, labeltop=True, labelbottom=False)\n",
    "#plt.xlabel('pmid count', position=(0.5, 1.08))\n",
    "plt.ylabel('genes')\n",
    "plt.xlabel('matching pmid', position=(0.5, 1.08))\n",
    "ax = plt.gca()\n",
    "ax.xaxis.set_label_position('top')\n",
    "\n",
    "plt.show()"
   ]
  },
  {
   "cell_type": "code",
   "execution_count": null,
   "metadata": {
    "collapsed": false
   },
   "outputs": [],
   "source": []
  },
  {
   "cell_type": "markdown",
   "metadata": {
    "collapsed": false
   },
   "source": [
    "# Extra"
   ]
  },
  {
   "cell_type": "markdown",
   "metadata": {
    "collapsed": false
   },
   "source": [
    "Simple GRPM Subsetting"
   ]
  },
  {
   "cell_type": "code",
   "execution_count": null,
   "metadata": {
    "collapsed": false
   },
   "outputs": [],
   "source": [
    "grpm_dataset.head()"
   ]
  },
  {
   "cell_type": "markdown",
   "metadata": {
    "collapsed": false
   },
   "source": [
    "## filter by mesh"
   ]
  },
  {
   "cell_type": "code",
   "execution_count": null,
   "metadata": {
    "collapsed": false
   },
   "outputs": [],
   "source": [
    "# filtering source dataset\n",
    "import time\n",
    "timea = time.time()\n",
    "\n",
    "my_mesh = 'Heart Failure'\n",
    "#nbib_subset = pd.DataFrame(columns= nbib_dataset.columns)\n",
    "filteres_grpm = grpm_dataset[grpm_dataset.mesh == my_mesh].reset_index(drop=True)\n",
    "\n",
    "print((time.time()-timea)/60,'minutes')\n",
    "filteres_grpm.to_csv('filteres_grpm_heart_fail.csv') #= pd.read_csv(filteres_grpm)\n",
    "filteres_grpm"
   ]
  },
  {
   "cell_type": "code",
   "execution_count": null,
   "metadata": {
    "collapsed": false
   },
   "outputs": [],
   "source": [
    "# import LitVat-PubMed Dataset (GRPM)\n",
    "filteres_grpm = pd.read_csv('filteres_grpm_heart_fail.csv', index_col=0)\n",
    "filteres_grpm.pmid = filteres_grpm.pmid.astype('str')  # convert PMIDs to str\n",
    "filteres_grpm"
   ]
  },
  {
   "cell_type": "code",
   "execution_count": null,
   "metadata": {
    "collapsed": false
   },
   "outputs": [],
   "source": [
    "#Analyze data with \"groupby.describe\" method\n",
    "\n",
    "## 1. groupby.describe analysis by [pmids]\n",
    "filteres_grpm_gene = filteres_grpm.groupby('gene').describe().reset_index()#.reset_index(drop=True)\n",
    "filteres_grpm_gene[['gene','pmid']].sort_values(by=('pmid', 'unique'), ascending=False).reset_index(drop=True)"
   ]
  },
  {
   "cell_type": "markdown",
   "metadata": {
    "collapsed": false
   },
   "source": [
    "## filter by gene"
   ]
  },
  {
   "cell_type": "code",
   "execution_count": null,
   "metadata": {
    "collapsed": false
   },
   "outputs": [],
   "source": [
    "# filtering source dataset\n",
    "import time\n",
    "timea = time.time()\n",
    "my_mesh = ref.mesh[0]\n",
    "my_gene = 'GLA'\n",
    "#nbib_subset = pd.DataFrame(columns= nbib_dataset.columns)\n",
    "filteres_grpm = grpm_dataset[grpm_dataset.gene == my_gene].reset_index(drop=True)\n",
    "print((time.time()-timea)/60,'minutes')\n",
    "\n",
    "filteres_grpm.to_csv('filteres_grpm.csv') #= pd.read_csv(filteres_grpm)"
   ]
  },
  {
   "cell_type": "code",
   "execution_count": null,
   "metadata": {
    "collapsed": false
   },
   "outputs": [],
   "source": [
    "# import LitVat-PubMed Dataset (GRPM)\n",
    "filteres_grpm = pd.read_csv('filteres_grpm.csv', index_col=0)\n",
    "filteres_grpm_sub = filteres_grpm[filteres_grpm.mesh.str.contains('Fabry')].reset_index(drop=True)\n",
    "filteres_grpm_sub.pmid = filteres_grpm.pmid.astype('str')  # convert PMIDs to str\n",
    "filteres_grpm_sub"
   ]
  },
  {
   "cell_type": "code",
   "execution_count": null,
   "metadata": {
    "collapsed": false
   },
   "outputs": [],
   "source": [
    "#Analyze data with \"groupby.describe\" method\n",
    "\n",
    "## 1. groupby.describe analysis by [pmids]\n",
    "filteres_grpm_sub_pmids = filteres_grpm.groupby('pmid').describe().reset_index()\n",
    "filteres_grpm_sub_pmids"
   ]
  },
  {
   "cell_type": "code",
   "execution_count": null,
   "metadata": {
    "collapsed": false
   },
   "outputs": [],
   "source": [
    "## 1. groupby.describe analysis by [rsid]\n",
    "filteres_grpm_sub_rsid = filteres_grpm.groupby('rsid').describe().reset_index()\n",
    "filteres_grpm_sub_rsid"
   ]
  },
  {
   "cell_type": "code",
   "execution_count": null,
   "metadata": {
    "collapsed": false
   },
   "outputs": [],
   "source": [
    "## 1. groupby.describe analysis by [rsid]\n",
    "filteres_grpm_mesh = filteres_grpm.groupby('mesh').describe().reset_index()\n",
    "filteres_grpm_mesh"
   ]
  },
  {
   "cell_type": "code",
   "execution_count": null,
   "metadata": {
    "collapsed": false
   },
   "outputs": [],
   "source": [
    "filteres_grpm[filteres_grpm.mesh.str.contains('Fabry')]"
   ]
  },
  {
   "cell_type": "code",
   "execution_count": null,
   "metadata": {
    "collapsed": false
   },
   "outputs": [],
   "source": [
    "\n",
    "filteres_grpm.columns = filteres_grpm.columns.to_flat_index()\n",
    "#new_column_names = ['rsid', 'pmid-count', 'pmid-unique','pmid-top','pmid-freq','mesh-count', 'mesh-unique','mesh-top','mesh-freq']\n",
    "filteres_grpm.columns = filteres_grpm\n",
    "#------------------\n",
    "filteres_grpm"
   ]
  },
  {
   "cell_type": "markdown",
   "metadata": {
    "collapsed": false
   },
   "source": [
    "## report transposer"
   ]
  },
  {
   "cell_type": "code",
   "execution_count": 0,
   "metadata": {
    "collapsed": false
   },
   "outputs": [],
   "source": [
    "def report_transposer(path):\n",
    "    #pd.read_csv(directory +'/GRPMX_report.csv', index_col=0)\n",
    "    GRPMX_report = pd.read_csv(path, index_col=0).transpose().reset_index()\n",
    "    GRPMX_report.to_csv(path)\n",
    "\n",
    "path = r\"..\\grpm_surveys\\grpm_survey_pcg_cvd\\GRPMX_report.csv\"\n",
    "report_transposer(path)"
   ]
  },
  {
   "cell_type": "code",
   "execution_count": 0,
   "metadata": {
    "collapsed": false
   },
   "outputs": [],
   "source": [
    "for i in ['norep1','norep2','norep3','norep4','norep5','norep6','norep7','norep8','norep9','norep10','norep11']:\n",
    "    path = rf\"..\\grpm_surveys\\grpm_random\\grpm_random_pcg_{i}\\GRPMX_report.csv\"\n",
    "    report_transposer(path)"
   ]
  },
  {
   "cell_type": "markdown",
   "source": [
    "## SQL Query [alternative]"
   ],
   "metadata": {
    "collapsed": false
   }
  },
  {
   "cell_type": "code",
   "outputs": [
    {
     "name": "stdout",
     "output_type": "stream",
     "text": [
      "Requirement already satisfied: pandasql in c:\\users\\utente\\anaconda3\\envs\\grpm_env\\lib\\site-packages (0.7.3)\n",
      "Requirement already satisfied: numpy in c:\\users\\utente\\anaconda3\\envs\\grpm_env\\lib\\site-packages (from pandasql) (1.26.4)\n",
      "Requirement already satisfied: pandas in c:\\users\\utente\\anaconda3\\envs\\grpm_env\\lib\\site-packages (from pandasql) (2.2.3)\n",
      "Requirement already satisfied: sqlalchemy in c:\\users\\utente\\anaconda3\\envs\\grpm_env\\lib\\site-packages (from pandasql) (2.0.38)\n",
      "Requirement already satisfied: python-dateutil>=2.8.2 in c:\\users\\utente\\anaconda3\\envs\\grpm_env\\lib\\site-packages (from pandas->pandasql) (2.9.0.post0)\n",
      "Requirement already satisfied: pytz>=2020.1 in c:\\users\\utente\\anaconda3\\envs\\grpm_env\\lib\\site-packages (from pandas->pandasql) (2024.1)\n",
      "Requirement already satisfied: tzdata>=2022.7 in c:\\users\\utente\\anaconda3\\envs\\grpm_env\\lib\\site-packages (from pandas->pandasql) (2023.3)\n",
      "Requirement already satisfied: greenlet!=0.4.17 in c:\\users\\utente\\anaconda3\\envs\\grpm_env\\lib\\site-packages (from sqlalchemy->pandasql) (3.1.1)\n",
      "Requirement already satisfied: typing-extensions>=4.6.0 in c:\\users\\utente\\anaconda3\\envs\\grpm_env\\lib\\site-packages (from sqlalchemy->pandasql) (4.12.2)\n",
      "Requirement already satisfied: six>=1.5 in c:\\users\\utente\\anaconda3\\envs\\grpm_env\\lib\\site-packages (from python-dateutil>=2.8.2->pandas->pandasql) (1.16.0)\n"
     ]
    },
    {
     "ename": "PendingRollbackError",
     "evalue": "Can't reconnect until invalid transaction is rolled back.  Please rollback() fully before proceeding (Background on this error at: https://sqlalche.me/e/20/8s2b)",
     "output_type": "error",
     "traceback": [
      "\u001B[1;31m---------------------------------------------------------------------------\u001B[0m",
      "\u001B[1;31mPendingRollbackError\u001B[0m                      Traceback (most recent call last)",
      "File \u001B[1;32m<timed exec>:20\u001B[0m\n",
      "File \u001B[1;32m~\\anaconda3\\envs\\GRPM_env\\Lib\\site-packages\\pandasql\\sqldf.py:156\u001B[0m, in \u001B[0;36msqldf\u001B[1;34m(query, env, db_uri)\u001B[0m\n\u001B[0;32m    124\u001B[0m \u001B[38;5;28;01mdef\u001B[39;00m \u001B[38;5;21msqldf\u001B[39m(query, env\u001B[38;5;241m=\u001B[39m\u001B[38;5;28;01mNone\u001B[39;00m, db_uri\u001B[38;5;241m=\u001B[39m\u001B[38;5;124m'\u001B[39m\u001B[38;5;124msqlite:///:memory:\u001B[39m\u001B[38;5;124m'\u001B[39m):\n\u001B[0;32m    125\u001B[0m \u001B[38;5;250m    \u001B[39m\u001B[38;5;124;03m\"\"\"\u001B[39;00m\n\u001B[0;32m    126\u001B[0m \u001B[38;5;124;03m    Query pandas data frames using sql syntax\u001B[39;00m\n\u001B[0;32m    127\u001B[0m \u001B[38;5;124;03m    This function is meant for backward compatibility only. New users are encouraged to use the PandaSQL class.\u001B[39;00m\n\u001B[1;32m   (...)\u001B[0m\n\u001B[0;32m    154\u001B[0m \u001B[38;5;124;03m    >>> sqldf(\"select avg(x) from df;\", locals())\u001B[39;00m\n\u001B[0;32m    155\u001B[0m \u001B[38;5;124;03m    \"\"\"\u001B[39;00m\n\u001B[1;32m--> 156\u001B[0m     \u001B[38;5;28;01mreturn\u001B[39;00m PandaSQL(db_uri)(query, env)\n",
      "File \u001B[1;32m~\\anaconda3\\envs\\GRPM_env\\Lib\\site-packages\\pandasql\\sqldf.py:58\u001B[0m, in \u001B[0;36mPandaSQL.__call__\u001B[1;34m(self, query, env)\u001B[0m\n\u001B[0;32m     56\u001B[0m         \u001B[38;5;28;01mcontinue\u001B[39;00m\n\u001B[0;32m     57\u001B[0m     \u001B[38;5;28mself\u001B[39m\u001B[38;5;241m.\u001B[39mloaded_tables\u001B[38;5;241m.\u001B[39madd(table_name)\n\u001B[1;32m---> 58\u001B[0m     write_table(env[table_name], table_name, conn)\n\u001B[0;32m     60\u001B[0m \u001B[38;5;28;01mtry\u001B[39;00m:\n\u001B[0;32m     61\u001B[0m     result \u001B[38;5;241m=\u001B[39m read_sql(query, conn)\n",
      "File \u001B[1;32m~\\anaconda3\\envs\\GRPM_env\\Lib\\site-packages\\pandasql\\sqldf.py:120\u001B[0m, in \u001B[0;36mwrite_table\u001B[1;34m(df, tablename, conn)\u001B[0m\n\u001B[0;32m    117\u001B[0m \u001B[38;5;28;01mwith\u001B[39;00m catch_warnings():\n\u001B[0;32m    118\u001B[0m     filterwarnings(\u001B[38;5;124m'\u001B[39m\u001B[38;5;124mignore\u001B[39m\u001B[38;5;124m'\u001B[39m,\n\u001B[0;32m    119\u001B[0m                    message\u001B[38;5;241m=\u001B[39m\u001B[38;5;124m'\u001B[39m\u001B[38;5;124mThe provided table name \u001B[39m\u001B[38;5;130;01m\\'\u001B[39;00m\u001B[38;5;132;01m%s\u001B[39;00m\u001B[38;5;130;01m\\'\u001B[39;00m\u001B[38;5;124m is not found exactly as such in the database\u001B[39m\u001B[38;5;124m'\u001B[39m \u001B[38;5;241m%\u001B[39m tablename)\n\u001B[1;32m--> 120\u001B[0m     to_sql(df, name\u001B[38;5;241m=\u001B[39mtablename, con\u001B[38;5;241m=\u001B[39mconn,\n\u001B[0;32m    121\u001B[0m            index\u001B[38;5;241m=\u001B[39m\u001B[38;5;129;01mnot\u001B[39;00m \u001B[38;5;28many\u001B[39m(name \u001B[38;5;129;01mis\u001B[39;00m \u001B[38;5;28;01mNone\u001B[39;00m \u001B[38;5;28;01mfor\u001B[39;00m name \u001B[38;5;129;01min\u001B[39;00m df\u001B[38;5;241m.\u001B[39mindex\u001B[38;5;241m.\u001B[39mnames))\n",
      "File \u001B[1;32m~\\anaconda3\\envs\\GRPM_env\\Lib\\site-packages\\pandas\\io\\sql.py:841\u001B[0m, in \u001B[0;36mto_sql\u001B[1;34m(frame, name, con, schema, if_exists, index, index_label, chunksize, dtype, method, engine, **engine_kwargs)\u001B[0m\n\u001B[0;32m    836\u001B[0m \u001B[38;5;28;01melif\u001B[39;00m \u001B[38;5;129;01mnot\u001B[39;00m \u001B[38;5;28misinstance\u001B[39m(frame, DataFrame):\n\u001B[0;32m    837\u001B[0m     \u001B[38;5;28;01mraise\u001B[39;00m \u001B[38;5;167;01mNotImplementedError\u001B[39;00m(\n\u001B[0;32m    838\u001B[0m         \u001B[38;5;124m\"\u001B[39m\u001B[38;5;124m'\u001B[39m\u001B[38;5;124mframe\u001B[39m\u001B[38;5;124m'\u001B[39m\u001B[38;5;124m argument should be either a Series or a DataFrame\u001B[39m\u001B[38;5;124m\"\u001B[39m\n\u001B[0;32m    839\u001B[0m     )\n\u001B[1;32m--> 841\u001B[0m \u001B[38;5;28;01mwith\u001B[39;00m pandasSQL_builder(con, schema\u001B[38;5;241m=\u001B[39mschema, need_transaction\u001B[38;5;241m=\u001B[39m\u001B[38;5;28;01mTrue\u001B[39;00m) \u001B[38;5;28;01mas\u001B[39;00m pandas_sql:\n\u001B[0;32m    842\u001B[0m     \u001B[38;5;28;01mreturn\u001B[39;00m pandas_sql\u001B[38;5;241m.\u001B[39mto_sql(\n\u001B[0;32m    843\u001B[0m         frame,\n\u001B[0;32m    844\u001B[0m         name,\n\u001B[1;32m   (...)\u001B[0m\n\u001B[0;32m    853\u001B[0m         \u001B[38;5;241m*\u001B[39m\u001B[38;5;241m*\u001B[39mengine_kwargs,\n\u001B[0;32m    854\u001B[0m     )\n",
      "File \u001B[1;32m~\\anaconda3\\envs\\GRPM_env\\Lib\\site-packages\\pandas\\io\\sql.py:1645\u001B[0m, in \u001B[0;36mSQLDatabase.__exit__\u001B[1;34m(self, *args)\u001B[0m\n\u001B[0;32m   1643\u001B[0m \u001B[38;5;28;01mdef\u001B[39;00m \u001B[38;5;21m__exit__\u001B[39m(\u001B[38;5;28mself\u001B[39m, \u001B[38;5;241m*\u001B[39margs) \u001B[38;5;241m-\u001B[39m\u001B[38;5;241m>\u001B[39m \u001B[38;5;28;01mNone\u001B[39;00m:\n\u001B[0;32m   1644\u001B[0m     \u001B[38;5;28;01mif\u001B[39;00m \u001B[38;5;129;01mnot\u001B[39;00m \u001B[38;5;28mself\u001B[39m\u001B[38;5;241m.\u001B[39mreturns_generator:\n\u001B[1;32m-> 1645\u001B[0m         \u001B[38;5;28mself\u001B[39m\u001B[38;5;241m.\u001B[39mexit_stack\u001B[38;5;241m.\u001B[39mclose()\n",
      "File \u001B[1;32m~\\anaconda3\\envs\\GRPM_env\\Lib\\contextlib.py:609\u001B[0m, in \u001B[0;36mExitStack.close\u001B[1;34m(self)\u001B[0m\n\u001B[0;32m    607\u001B[0m \u001B[38;5;28;01mdef\u001B[39;00m \u001B[38;5;21mclose\u001B[39m(\u001B[38;5;28mself\u001B[39m):\n\u001B[0;32m    608\u001B[0m \u001B[38;5;250m    \u001B[39m\u001B[38;5;124;03m\"\"\"Immediately unwind the context stack.\"\"\"\u001B[39;00m\n\u001B[1;32m--> 609\u001B[0m     \u001B[38;5;28mself\u001B[39m\u001B[38;5;241m.\u001B[39m\u001B[38;5;21m__exit__\u001B[39m(\u001B[38;5;28;01mNone\u001B[39;00m, \u001B[38;5;28;01mNone\u001B[39;00m, \u001B[38;5;28;01mNone\u001B[39;00m)\n",
      "File \u001B[1;32m~\\anaconda3\\envs\\GRPM_env\\Lib\\contextlib.py:601\u001B[0m, in \u001B[0;36mExitStack.__exit__\u001B[1;34m(self, *exc_details)\u001B[0m\n\u001B[0;32m    597\u001B[0m \u001B[38;5;28;01mtry\u001B[39;00m:\n\u001B[0;32m    598\u001B[0m     \u001B[38;5;66;03m# bare \"raise exc_details[1]\" replaces our carefully\u001B[39;00m\n\u001B[0;32m    599\u001B[0m     \u001B[38;5;66;03m# set-up context\u001B[39;00m\n\u001B[0;32m    600\u001B[0m     fixed_ctx \u001B[38;5;241m=\u001B[39m exc_details[\u001B[38;5;241m1\u001B[39m]\u001B[38;5;241m.\u001B[39m__context__\n\u001B[1;32m--> 601\u001B[0m     \u001B[38;5;28;01mraise\u001B[39;00m exc_details[\u001B[38;5;241m1\u001B[39m]\n\u001B[0;32m    602\u001B[0m \u001B[38;5;28;01mexcept\u001B[39;00m \u001B[38;5;167;01mBaseException\u001B[39;00m:\n\u001B[0;32m    603\u001B[0m     exc_details[\u001B[38;5;241m1\u001B[39m]\u001B[38;5;241m.\u001B[39m__context__ \u001B[38;5;241m=\u001B[39m fixed_ctx\n",
      "File \u001B[1;32m~\\anaconda3\\envs\\GRPM_env\\Lib\\contextlib.py:586\u001B[0m, in \u001B[0;36mExitStack.__exit__\u001B[1;34m(self, *exc_details)\u001B[0m\n\u001B[0;32m    584\u001B[0m \u001B[38;5;28;01massert\u001B[39;00m is_sync\n\u001B[0;32m    585\u001B[0m \u001B[38;5;28;01mtry\u001B[39;00m:\n\u001B[1;32m--> 586\u001B[0m     \u001B[38;5;28;01mif\u001B[39;00m cb(\u001B[38;5;241m*\u001B[39mexc_details):\n\u001B[0;32m    587\u001B[0m         suppressed_exc \u001B[38;5;241m=\u001B[39m \u001B[38;5;28;01mTrue\u001B[39;00m\n\u001B[0;32m    588\u001B[0m         pending_raise \u001B[38;5;241m=\u001B[39m \u001B[38;5;28;01mFalse\u001B[39;00m\n",
      "File \u001B[1;32m~\\anaconda3\\envs\\GRPM_env\\Lib\\site-packages\\sqlalchemy\\engine\\util.py:147\u001B[0m, in \u001B[0;36mTransactionalContext.__exit__\u001B[1;34m(self, type_, value, traceback)\u001B[0m\n\u001B[0;32m    145\u001B[0m     \u001B[38;5;28mself\u001B[39m\u001B[38;5;241m.\u001B[39mcommit()\n\u001B[0;32m    146\u001B[0m \u001B[38;5;28;01mexcept\u001B[39;00m:\n\u001B[1;32m--> 147\u001B[0m     \u001B[38;5;28;01mwith\u001B[39;00m util\u001B[38;5;241m.\u001B[39msafe_reraise():\n\u001B[0;32m    148\u001B[0m         \u001B[38;5;28;01mif\u001B[39;00m \u001B[38;5;28mself\u001B[39m\u001B[38;5;241m.\u001B[39m_rollback_can_be_called():\n\u001B[0;32m    149\u001B[0m             \u001B[38;5;28mself\u001B[39m\u001B[38;5;241m.\u001B[39mrollback()\n",
      "File \u001B[1;32m~\\anaconda3\\envs\\GRPM_env\\Lib\\site-packages\\sqlalchemy\\util\\langhelpers.py:146\u001B[0m, in \u001B[0;36msafe_reraise.__exit__\u001B[1;34m(self, type_, value, traceback)\u001B[0m\n\u001B[0;32m    144\u001B[0m     \u001B[38;5;28;01massert\u001B[39;00m exc_value \u001B[38;5;129;01mis\u001B[39;00m \u001B[38;5;129;01mnot\u001B[39;00m \u001B[38;5;28;01mNone\u001B[39;00m\n\u001B[0;32m    145\u001B[0m     \u001B[38;5;28mself\u001B[39m\u001B[38;5;241m.\u001B[39m_exc_info \u001B[38;5;241m=\u001B[39m \u001B[38;5;28;01mNone\u001B[39;00m  \u001B[38;5;66;03m# remove potential circular references\u001B[39;00m\n\u001B[1;32m--> 146\u001B[0m     \u001B[38;5;28;01mraise\u001B[39;00m exc_value\u001B[38;5;241m.\u001B[39mwith_traceback(exc_tb)\n\u001B[0;32m    147\u001B[0m \u001B[38;5;28;01melse\u001B[39;00m:\n\u001B[0;32m    148\u001B[0m     \u001B[38;5;28mself\u001B[39m\u001B[38;5;241m.\u001B[39m_exc_info \u001B[38;5;241m=\u001B[39m \u001B[38;5;28;01mNone\u001B[39;00m  \u001B[38;5;66;03m# remove potential circular references\u001B[39;00m\n",
      "File \u001B[1;32m~\\anaconda3\\envs\\GRPM_env\\Lib\\site-packages\\sqlalchemy\\engine\\util.py:145\u001B[0m, in \u001B[0;36mTransactionalContext.__exit__\u001B[1;34m(self, type_, value, traceback)\u001B[0m\n\u001B[0;32m    143\u001B[0m \u001B[38;5;28;01mif\u001B[39;00m type_ \u001B[38;5;129;01mis\u001B[39;00m \u001B[38;5;28;01mNone\u001B[39;00m \u001B[38;5;129;01mand\u001B[39;00m \u001B[38;5;28mself\u001B[39m\u001B[38;5;241m.\u001B[39m_transaction_is_active():\n\u001B[0;32m    144\u001B[0m     \u001B[38;5;28;01mtry\u001B[39;00m:\n\u001B[1;32m--> 145\u001B[0m         \u001B[38;5;28mself\u001B[39m\u001B[38;5;241m.\u001B[39mcommit()\n\u001B[0;32m    146\u001B[0m     \u001B[38;5;28;01mexcept\u001B[39;00m:\n\u001B[0;32m    147\u001B[0m         \u001B[38;5;28;01mwith\u001B[39;00m util\u001B[38;5;241m.\u001B[39msafe_reraise():\n",
      "File \u001B[1;32m~\\anaconda3\\envs\\GRPM_env\\Lib\\site-packages\\sqlalchemy\\engine\\base.py:2629\u001B[0m, in \u001B[0;36mTransaction.commit\u001B[1;34m(self)\u001B[0m\n\u001B[0;32m   2613\u001B[0m \u001B[38;5;250m\u001B[39m\u001B[38;5;124;03m\"\"\"Commit this :class:`.Transaction`.\u001B[39;00m\n\u001B[0;32m   2614\u001B[0m \n\u001B[0;32m   2615\u001B[0m \u001B[38;5;124;03mThe implementation of this may vary based on the type of transaction in\u001B[39;00m\n\u001B[1;32m   (...)\u001B[0m\n\u001B[0;32m   2626\u001B[0m \n\u001B[0;32m   2627\u001B[0m \u001B[38;5;124;03m\"\"\"\u001B[39;00m\n\u001B[0;32m   2628\u001B[0m \u001B[38;5;28;01mtry\u001B[39;00m:\n\u001B[1;32m-> 2629\u001B[0m     \u001B[38;5;28mself\u001B[39m\u001B[38;5;241m.\u001B[39m_do_commit()\n\u001B[0;32m   2630\u001B[0m \u001B[38;5;28;01mfinally\u001B[39;00m:\n\u001B[0;32m   2631\u001B[0m     \u001B[38;5;28;01massert\u001B[39;00m \u001B[38;5;129;01mnot\u001B[39;00m \u001B[38;5;28mself\u001B[39m\u001B[38;5;241m.\u001B[39mis_active\n",
      "File \u001B[1;32m~\\anaconda3\\envs\\GRPM_env\\Lib\\site-packages\\sqlalchemy\\engine\\base.py:2734\u001B[0m, in \u001B[0;36mRootTransaction._do_commit\u001B[1;34m(self)\u001B[0m\n\u001B[0;32m   2731\u001B[0m \u001B[38;5;28;01massert\u001B[39;00m \u001B[38;5;28mself\u001B[39m\u001B[38;5;241m.\u001B[39mconnection\u001B[38;5;241m.\u001B[39m_transaction \u001B[38;5;129;01mis\u001B[39;00m \u001B[38;5;28mself\u001B[39m\n\u001B[0;32m   2733\u001B[0m \u001B[38;5;28;01mtry\u001B[39;00m:\n\u001B[1;32m-> 2734\u001B[0m     \u001B[38;5;28mself\u001B[39m\u001B[38;5;241m.\u001B[39m_connection_commit_impl()\n\u001B[0;32m   2735\u001B[0m \u001B[38;5;28;01mfinally\u001B[39;00m:\n\u001B[0;32m   2736\u001B[0m     \u001B[38;5;66;03m# whether or not commit succeeds, cancel any\u001B[39;00m\n\u001B[0;32m   2737\u001B[0m     \u001B[38;5;66;03m# nested transactions, make this transaction \"inactive\"\u001B[39;00m\n\u001B[0;32m   2738\u001B[0m     \u001B[38;5;66;03m# and remove it as a reset agent\u001B[39;00m\n\u001B[0;32m   2739\u001B[0m     \u001B[38;5;28;01mif\u001B[39;00m \u001B[38;5;28mself\u001B[39m\u001B[38;5;241m.\u001B[39mconnection\u001B[38;5;241m.\u001B[39m_nested_transaction:\n",
      "File \u001B[1;32m~\\anaconda3\\envs\\GRPM_env\\Lib\\site-packages\\sqlalchemy\\engine\\base.py:2705\u001B[0m, in \u001B[0;36mRootTransaction._connection_commit_impl\u001B[1;34m(self)\u001B[0m\n\u001B[0;32m   2704\u001B[0m \u001B[38;5;28;01mdef\u001B[39;00m \u001B[38;5;21m_connection_commit_impl\u001B[39m(\u001B[38;5;28mself\u001B[39m) \u001B[38;5;241m-\u001B[39m\u001B[38;5;241m>\u001B[39m \u001B[38;5;28;01mNone\u001B[39;00m:\n\u001B[1;32m-> 2705\u001B[0m     \u001B[38;5;28mself\u001B[39m\u001B[38;5;241m.\u001B[39mconnection\u001B[38;5;241m.\u001B[39m_commit_impl()\n",
      "File \u001B[1;32m~\\anaconda3\\envs\\GRPM_env\\Lib\\site-packages\\sqlalchemy\\engine\\base.py:1144\u001B[0m, in \u001B[0;36mConnection._commit_impl\u001B[1;34m(self)\u001B[0m\n\u001B[0;32m   1142\u001B[0m     \u001B[38;5;28mself\u001B[39m\u001B[38;5;241m.\u001B[39mengine\u001B[38;5;241m.\u001B[39mdialect\u001B[38;5;241m.\u001B[39mdo_commit(\u001B[38;5;28mself\u001B[39m\u001B[38;5;241m.\u001B[39mconnection)\n\u001B[0;32m   1143\u001B[0m \u001B[38;5;28;01mexcept\u001B[39;00m \u001B[38;5;167;01mBaseException\u001B[39;00m \u001B[38;5;28;01mas\u001B[39;00m e:\n\u001B[1;32m-> 1144\u001B[0m     \u001B[38;5;28mself\u001B[39m\u001B[38;5;241m.\u001B[39m_handle_dbapi_exception(e, \u001B[38;5;28;01mNone\u001B[39;00m, \u001B[38;5;28;01mNone\u001B[39;00m, \u001B[38;5;28;01mNone\u001B[39;00m, \u001B[38;5;28;01mNone\u001B[39;00m)\n",
      "File \u001B[1;32m~\\anaconda3\\envs\\GRPM_env\\Lib\\site-packages\\sqlalchemy\\engine\\base.py:2355\u001B[0m, in \u001B[0;36mConnection._handle_dbapi_exception\u001B[1;34m(self, e, statement, parameters, cursor, context, is_sub_exec)\u001B[0m\n\u001B[0;32m   2353\u001B[0m     \u001B[38;5;28;01melse\u001B[39;00m:\n\u001B[0;32m   2354\u001B[0m         \u001B[38;5;28;01massert\u001B[39;00m exc_info[\u001B[38;5;241m1\u001B[39m] \u001B[38;5;129;01mis\u001B[39;00m \u001B[38;5;129;01mnot\u001B[39;00m \u001B[38;5;28;01mNone\u001B[39;00m\n\u001B[1;32m-> 2355\u001B[0m         \u001B[38;5;28;01mraise\u001B[39;00m exc_info[\u001B[38;5;241m1\u001B[39m]\u001B[38;5;241m.\u001B[39mwith_traceback(exc_info[\u001B[38;5;241m2\u001B[39m])\n\u001B[0;32m   2356\u001B[0m \u001B[38;5;28;01mfinally\u001B[39;00m:\n\u001B[0;32m   2357\u001B[0m     \u001B[38;5;28;01mdel\u001B[39;00m \u001B[38;5;28mself\u001B[39m\u001B[38;5;241m.\u001B[39m_reentrant_error\n",
      "File \u001B[1;32m~\\anaconda3\\envs\\GRPM_env\\Lib\\site-packages\\sqlalchemy\\engine\\base.py:1142\u001B[0m, in \u001B[0;36mConnection._commit_impl\u001B[1;34m(self)\u001B[0m\n\u001B[0;32m   1140\u001B[0m         \u001B[38;5;28mself\u001B[39m\u001B[38;5;241m.\u001B[39m_log_info(\u001B[38;5;124m\"\u001B[39m\u001B[38;5;124mCOMMIT\u001B[39m\u001B[38;5;124m\"\u001B[39m)\n\u001B[0;32m   1141\u001B[0m \u001B[38;5;28;01mtry\u001B[39;00m:\n\u001B[1;32m-> 1142\u001B[0m     \u001B[38;5;28mself\u001B[39m\u001B[38;5;241m.\u001B[39mengine\u001B[38;5;241m.\u001B[39mdialect\u001B[38;5;241m.\u001B[39mdo_commit(\u001B[38;5;28mself\u001B[39m\u001B[38;5;241m.\u001B[39mconnection)\n\u001B[0;32m   1143\u001B[0m \u001B[38;5;28;01mexcept\u001B[39;00m \u001B[38;5;167;01mBaseException\u001B[39;00m \u001B[38;5;28;01mas\u001B[39;00m e:\n\u001B[0;32m   1144\u001B[0m     \u001B[38;5;28mself\u001B[39m\u001B[38;5;241m.\u001B[39m_handle_dbapi_exception(e, \u001B[38;5;28;01mNone\u001B[39;00m, \u001B[38;5;28;01mNone\u001B[39;00m, \u001B[38;5;28;01mNone\u001B[39;00m, \u001B[38;5;28;01mNone\u001B[39;00m)\n",
      "File \u001B[1;32m~\\anaconda3\\envs\\GRPM_env\\Lib\\site-packages\\sqlalchemy\\engine\\base.py:584\u001B[0m, in \u001B[0;36mConnection.connection\u001B[1;34m(self)\u001B[0m\n\u001B[0;32m    582\u001B[0m \u001B[38;5;28;01mif\u001B[39;00m \u001B[38;5;28mself\u001B[39m\u001B[38;5;241m.\u001B[39m_dbapi_connection \u001B[38;5;129;01mis\u001B[39;00m \u001B[38;5;28;01mNone\u001B[39;00m:\n\u001B[0;32m    583\u001B[0m     \u001B[38;5;28;01mtry\u001B[39;00m:\n\u001B[1;32m--> 584\u001B[0m         \u001B[38;5;28;01mreturn\u001B[39;00m \u001B[38;5;28mself\u001B[39m\u001B[38;5;241m.\u001B[39m_revalidate_connection()\n\u001B[0;32m    585\u001B[0m     \u001B[38;5;28;01mexcept\u001B[39;00m (exc\u001B[38;5;241m.\u001B[39mPendingRollbackError, exc\u001B[38;5;241m.\u001B[39mResourceClosedError):\n\u001B[0;32m    586\u001B[0m         \u001B[38;5;28;01mraise\u001B[39;00m\n",
      "File \u001B[1;32m~\\anaconda3\\envs\\GRPM_env\\Lib\\site-packages\\sqlalchemy\\engine\\base.py:676\u001B[0m, in \u001B[0;36mConnection._revalidate_connection\u001B[1;34m(self)\u001B[0m\n\u001B[0;32m    674\u001B[0m \u001B[38;5;28;01mif\u001B[39;00m \u001B[38;5;28mself\u001B[39m\u001B[38;5;241m.\u001B[39m__can_reconnect \u001B[38;5;129;01mand\u001B[39;00m \u001B[38;5;28mself\u001B[39m\u001B[38;5;241m.\u001B[39minvalidated:\n\u001B[0;32m    675\u001B[0m     \u001B[38;5;28;01mif\u001B[39;00m \u001B[38;5;28mself\u001B[39m\u001B[38;5;241m.\u001B[39m_transaction \u001B[38;5;129;01mis\u001B[39;00m \u001B[38;5;129;01mnot\u001B[39;00m \u001B[38;5;28;01mNone\u001B[39;00m:\n\u001B[1;32m--> 676\u001B[0m         \u001B[38;5;28mself\u001B[39m\u001B[38;5;241m.\u001B[39m_invalid_transaction()\n\u001B[0;32m    677\u001B[0m     \u001B[38;5;28mself\u001B[39m\u001B[38;5;241m.\u001B[39m_dbapi_connection \u001B[38;5;241m=\u001B[39m \u001B[38;5;28mself\u001B[39m\u001B[38;5;241m.\u001B[39mengine\u001B[38;5;241m.\u001B[39mraw_connection()\n\u001B[0;32m    678\u001B[0m     \u001B[38;5;28;01mreturn\u001B[39;00m \u001B[38;5;28mself\u001B[39m\u001B[38;5;241m.\u001B[39m_dbapi_connection\n",
      "File \u001B[1;32m~\\anaconda3\\envs\\GRPM_env\\Lib\\site-packages\\sqlalchemy\\engine\\base.py:666\u001B[0m, in \u001B[0;36mConnection._invalid_transaction\u001B[1;34m(self)\u001B[0m\n\u001B[0;32m    665\u001B[0m \u001B[38;5;28;01mdef\u001B[39;00m \u001B[38;5;21m_invalid_transaction\u001B[39m(\u001B[38;5;28mself\u001B[39m) \u001B[38;5;241m-\u001B[39m\u001B[38;5;241m>\u001B[39m NoReturn:\n\u001B[1;32m--> 666\u001B[0m     \u001B[38;5;28;01mraise\u001B[39;00m exc\u001B[38;5;241m.\u001B[39mPendingRollbackError(\n\u001B[0;32m    667\u001B[0m         \u001B[38;5;124m\"\u001B[39m\u001B[38;5;124mCan\u001B[39m\u001B[38;5;124m'\u001B[39m\u001B[38;5;124mt reconnect until invalid \u001B[39m\u001B[38;5;132;01m%s\u001B[39;00m\u001B[38;5;124mtransaction is rolled \u001B[39m\u001B[38;5;124m\"\u001B[39m\n\u001B[0;32m    668\u001B[0m         \u001B[38;5;124m\"\u001B[39m\u001B[38;5;124mback.  Please rollback() fully before proceeding\u001B[39m\u001B[38;5;124m\"\u001B[39m\n\u001B[0;32m    669\u001B[0m         \u001B[38;5;241m%\u001B[39m (\u001B[38;5;124m\"\u001B[39m\u001B[38;5;124msavepoint \u001B[39m\u001B[38;5;124m\"\u001B[39m \u001B[38;5;28;01mif\u001B[39;00m \u001B[38;5;28mself\u001B[39m\u001B[38;5;241m.\u001B[39m_nested_transaction \u001B[38;5;129;01mis\u001B[39;00m \u001B[38;5;129;01mnot\u001B[39;00m \u001B[38;5;28;01mNone\u001B[39;00m \u001B[38;5;28;01melse\u001B[39;00m \u001B[38;5;124m\"\u001B[39m\u001B[38;5;124m\"\u001B[39m),\n\u001B[0;32m    670\u001B[0m         code\u001B[38;5;241m=\u001B[39m\u001B[38;5;124m\"\u001B[39m\u001B[38;5;124m8s2b\u001B[39m\u001B[38;5;124m\"\u001B[39m,\n\u001B[0;32m    671\u001B[0m     )\n",
      "\u001B[1;31mPendingRollbackError\u001B[0m: Can't reconnect until invalid transaction is rolled back.  Please rollback() fully before proceeding (Background on this error at: https://sqlalche.me/e/20/8s2b)"
     ]
    }
   ],
   "source": [
    "%%time\n",
    "!pip install pandasql\n",
    "import pandas as pd\n",
    "import pandasql as ps\n",
    "\n",
    "ref_mesh_tuple = tuple(ref_mesh_list)\n",
    "grpm_dataset_ = grpm_dataset[:len(grpm_dataset)//1]\n",
    "\"\"\"\n",
    "Complete SQL Query time:\n",
    "CPU times: total: 3min 40s\n",
    "Wall time: 4min 16s\n",
    "\"\"\"\n",
    "\n",
    "# Define SQL query\n",
    "query = f\"\"\"\n",
    "SELECT DISTINCT * FROM grpm_dataset_\n",
    "WHERE mesh IN {ref_mesh_tuple}\n",
    "\"\"\"\n",
    "\n",
    "# Run SQL query\n",
    "grpm_match_full = ps.sqldf(query, locals())\n",
    "grpm_match_full[['gene', 'rsid', 'pmid', 'mesh']].head()"
   ],
   "metadata": {
    "collapsed": false
   },
   "execution_count": 16
  }
 ],
 "metadata": {
  "kernelspec": {
   "display_name": "Python 3 (ipykernel)",
   "language": "python",
   "name": "python3"
  },
  "language_info": {
   "codemirror_mode": {
    "name": "ipython",
    "version": 3
   },
   "file_extension": ".py",
   "mimetype": "text/x-python",
   "name": "python",
   "nbconvert_exporter": "python",
   "pygments_lexer": "ipython3",
   "version": "3.11.3"
  }
 },
 "nbformat": 4,
 "nbformat_minor": 4
}
