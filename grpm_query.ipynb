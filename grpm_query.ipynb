{
 "cells": [
  {
   "cell_type": "markdown",
   "source": [
    "# Import modules"
   ],
   "metadata": {
    "collapsed": false
   },
   "id": "df38d2663d0b5b2e"
  },
  {
   "cell_type": "code",
   "outputs": [],
   "source": [
    "import os\n",
    "import pickle\n",
    "import importlib\n",
    "import subprocess\n",
    "import pandas as pd\n",
    "\n",
    "try:\n",
    "    importlib.import_module('pygrpm')\n",
    "except ImportError:\n",
    "    subprocess.check_call([\"pip\", \"install\", \"git+https://github.com/johndef64/GRPM_system.git\"])\n",
    "    \n",
    "from pygrpm import *"
   ],
   "metadata": {
    "collapsed": false,
    "ExecuteTime": {
     "end_time": "2025-02-18T08:15:52.059269500Z",
     "start_time": "2025-02-18T08:15:40.633983100Z"
    }
   },
   "id": "b49a1c9885565c8",
   "execution_count": 1
  },
  {
   "cell_type": "markdown",
   "source": [
    "# GET Datasets"
   ],
   "metadata": {
    "collapsed": false
   },
   "id": "72ba3275c7199e3"
  },
  {
   "cell_type": "code",
   "outputs": [],
   "source": [
    "### GET Datasets ###\n",
    "if not os.path.exists('grpm_dataset/grpm_dataset.parquet'):\n",
    "    get_and_extract('grpm_dataset', record_id='14052302')\n",
    "    get_and_extract('nutrigenetic_dataset', record_id='14052302')"
   ],
   "metadata": {
    "collapsed": false,
    "ExecuteTime": {
     "end_time": "2025-02-17T19:36:52.254905900Z",
     "start_time": "2025-02-17T19:36:52.203053600Z"
    }
   },
   "id": "ee2f83b09bfae9b9",
   "execution_count": 4
  },
  {
   "cell_type": "markdown",
   "source": [
    "# LOAD Datasets"
   ],
   "metadata": {
    "collapsed": false
   },
   "id": "d949e679493bcbd9"
  },
  {
   "cell_type": "code",
   "outputs": [
    {
     "name": "stdout",
     "output_type": "stream",
     "text": [
      "Importing time:  0:00:06.737058\n",
      "pcg: 776.19 MB\n",
      "rna: 58.18 MB\n",
      "pseudo: 1.93 MB\n",
      "nutrigen dataset: 87.13 MB\n",
      "nutrigen dataset filtered: 53.62 MB\n",
      "nutrigen gwas dataset: 20.56 MB\n"
     ]
    },
    {
     "data": {
      "text/plain": "          gene          rsid      pmid                               mesh  \\\n0          FTO     rs9972653  32393786                    Body Mass Index   \n1          FTO     rs9972653  32393786          Diabetes Mellitus, Type 2   \n2          FTO     rs9972653  32393786                               Diet   \n3          FTO     rs9972653  33128006                    Body Mass Index   \n4          FTO     rs9972653  33128006            Cardiovascular Diseases   \n...        ...           ...       ...                                ...   \n1171244  FADS1      rs174545  23221573                   Lipid Metabolism   \n1171245  FADS1      rs174545  30120404                              Liver   \n1171246  FADS1      rs174545  30120404  Non-alcoholic Fatty Liver Disease   \n1171247  FADS1      rs174544  20565855                   Lipid Metabolism   \n1171248  FADS1  rs1185231229  23306188                   Lipid Metabolism   \n\n                          topic  interest_index  \n0             General Nutrition         1.00000  \n1             General Nutrition         1.00000  \n2             General Nutrition         1.00000  \n3             General Nutrition         1.00000  \n4             General Nutrition         1.00000  \n...                         ...             ...  \n1171244  Xenobiotics Metabolism         0.01255  \n1171245  Xenobiotics Metabolism         0.01255  \n1171246  Xenobiotics Metabolism         0.01255  \n1171247  Xenobiotics Metabolism         0.01255  \n1171248  Xenobiotics Metabolism         0.01255  \n\n[1171249 rows x 6 columns]",
      "text/html": "<div>\n<style scoped>\n    .dataframe tbody tr th:only-of-type {\n        vertical-align: middle;\n    }\n\n    .dataframe tbody tr th {\n        vertical-align: top;\n    }\n\n    .dataframe thead th {\n        text-align: right;\n    }\n</style>\n<table border=\"1\" class=\"dataframe\">\n  <thead>\n    <tr style=\"text-align: right;\">\n      <th></th>\n      <th>gene</th>\n      <th>rsid</th>\n      <th>pmid</th>\n      <th>mesh</th>\n      <th>topic</th>\n      <th>interest_index</th>\n    </tr>\n  </thead>\n  <tbody>\n    <tr>\n      <th>0</th>\n      <td>FTO</td>\n      <td>rs9972653</td>\n      <td>32393786</td>\n      <td>Body Mass Index</td>\n      <td>General Nutrition</td>\n      <td>1.00000</td>\n    </tr>\n    <tr>\n      <th>1</th>\n      <td>FTO</td>\n      <td>rs9972653</td>\n      <td>32393786</td>\n      <td>Diabetes Mellitus, Type 2</td>\n      <td>General Nutrition</td>\n      <td>1.00000</td>\n    </tr>\n    <tr>\n      <th>2</th>\n      <td>FTO</td>\n      <td>rs9972653</td>\n      <td>32393786</td>\n      <td>Diet</td>\n      <td>General Nutrition</td>\n      <td>1.00000</td>\n    </tr>\n    <tr>\n      <th>3</th>\n      <td>FTO</td>\n      <td>rs9972653</td>\n      <td>33128006</td>\n      <td>Body Mass Index</td>\n      <td>General Nutrition</td>\n      <td>1.00000</td>\n    </tr>\n    <tr>\n      <th>4</th>\n      <td>FTO</td>\n      <td>rs9972653</td>\n      <td>33128006</td>\n      <td>Cardiovascular Diseases</td>\n      <td>General Nutrition</td>\n      <td>1.00000</td>\n    </tr>\n    <tr>\n      <th>...</th>\n      <td>...</td>\n      <td>...</td>\n      <td>...</td>\n      <td>...</td>\n      <td>...</td>\n      <td>...</td>\n    </tr>\n    <tr>\n      <th>1171244</th>\n      <td>FADS1</td>\n      <td>rs174545</td>\n      <td>23221573</td>\n      <td>Lipid Metabolism</td>\n      <td>Xenobiotics Metabolism</td>\n      <td>0.01255</td>\n    </tr>\n    <tr>\n      <th>1171245</th>\n      <td>FADS1</td>\n      <td>rs174545</td>\n      <td>30120404</td>\n      <td>Liver</td>\n      <td>Xenobiotics Metabolism</td>\n      <td>0.01255</td>\n    </tr>\n    <tr>\n      <th>1171246</th>\n      <td>FADS1</td>\n      <td>rs174545</td>\n      <td>30120404</td>\n      <td>Non-alcoholic Fatty Liver Disease</td>\n      <td>Xenobiotics Metabolism</td>\n      <td>0.01255</td>\n    </tr>\n    <tr>\n      <th>1171247</th>\n      <td>FADS1</td>\n      <td>rs174544</td>\n      <td>20565855</td>\n      <td>Lipid Metabolism</td>\n      <td>Xenobiotics Metabolism</td>\n      <td>0.01255</td>\n    </tr>\n    <tr>\n      <th>1171248</th>\n      <td>FADS1</td>\n      <td>rs1185231229</td>\n      <td>23306188</td>\n      <td>Lipid Metabolism</td>\n      <td>Xenobiotics Metabolism</td>\n      <td>0.01255</td>\n    </tr>\n  </tbody>\n</table>\n<p>1171249 rows × 6 columns</p>\n</div>"
     },
     "metadata": {},
     "output_type": "display_data"
    }
   ],
   "source": [
    "### LOAD Datasets ###\n",
    "pcg_grpm, rna_grpm, pseudo_grpm = grpm_importer()\n",
    "grpm_nutrigen, grpm_nutrigen_int, grpm_nutrigen_int_gwas = nutrig_importer()\n",
    "\n",
    "display(grpm_nutrigen_int)"
   ],
   "metadata": {
    "collapsed": false,
    "ExecuteTime": {
     "end_time": "2025-02-18T08:16:32.122196900Z",
     "start_time": "2025-02-18T08:16:17.365113700Z"
    }
   },
   "id": "83f43553f9bd7c3b",
   "execution_count": 2
  },
  {
   "cell_type": "markdown",
   "source": [
    "# SHOW Stats"
   ],
   "metadata": {
    "collapsed": false
   },
   "id": "c1308e809f14ab8c"
  },
  {
   "cell_type": "code",
   "outputs": [
    {
     "name": "stdout",
     "output_type": "stream",
     "text": [
      "Computing Stats...\n"
     ]
    }
   ],
   "source": [
    "%%time\n",
    "pcg_grpm_stats = get_stats(pcg_grpm, group_by = 'gene')\n",
    "display(pcg_grpm_stats)"
   ],
   "metadata": {
    "collapsed": false,
    "is_executing": true,
    "ExecuteTime": {
     "start_time": "2025-02-17T11:24:35.433167900Z"
    }
   },
   "id": "7c3ba98a0f4586ad"
  },
  {
   "cell_type": "code",
   "outputs": [],
   "source": [
    "%%time\n",
    "grpm_nutrigen_stats = get_stats(grpm_nutrigen, group_by = 'gene')\n",
    "display(grpm_nutrigen_stats)"
   ],
   "metadata": {
    "collapsed": false,
    "is_executing": true
   },
   "id": "53b8d4bd3b022b39",
   "execution_count": null
  },
  {
   "cell_type": "markdown",
   "source": [
    "# QUERY GRPM Dataset "
   ],
   "metadata": {
    "collapsed": false
   },
   "id": "6f89129f4d7121c8"
  },
  {
   "cell_type": "markdown",
   "source": [
    "## MeSH Query Example"
   ],
   "metadata": {
    "collapsed": false
   },
   "id": "9cfaf0ddcbcaffd0"
  },
  {
   "cell_type": "code",
   "outputs": [],
   "source": [
    "## GET MeSH Dataset ##\n",
    "if not os.path.exists('ref-mesh/MESH_STY_LITVAR1.csv'):\n",
    "    get_and_extract('ref-mesh', record_id='14052302')\n",
    "    get_topic_terms()"
   ],
   "metadata": {
    "collapsed": false,
    "ExecuteTime": {
     "end_time": "2025-02-18T08:17:23.630931300Z",
     "start_time": "2025-02-18T08:17:17.016780400Z"
    }
   },
   "id": "a620278819072935",
   "execution_count": 3
  },
  {
   "cell_type": "code",
   "outputs": [
    {
     "name": "stdout",
     "output_type": "stream",
     "text": [
      "GRPM MeSH count: 21705\n",
      "semantic types: 125\n"
     ]
    },
    {
     "data": {
      "text/plain": "             Preferred Label  Semantic Types Label  \\\n1  Electronic Health Records  Intellectual Product   \n2              Consent Forms  Intellectual Product   \n3     Genealogy and Heraldry  Intellectual Product   \n4               Publications  Intellectual Product   \n5    Pharmaceutical Services  Intellectual Product   \n\n                                            Class ID  mesh_id Semantic Types  \n1  http://purl.bioontology.org/ontology/MESH/D057286  D057286           T170  \n2  http://purl.bioontology.org/ontology/MESH/D032962  D032962           T170  \n3  http://purl.bioontology.org/ontology/MESH/D005789  D005789           T170  \n4  http://purl.bioontology.org/ontology/MESH/D011642  D011642           T170  \n5  http://purl.bioontology.org/ontology/MESH/D010593  D010593           T170  ",
      "text/html": "<div>\n<style scoped>\n    .dataframe tbody tr th:only-of-type {\n        vertical-align: middle;\n    }\n\n    .dataframe tbody tr th {\n        vertical-align: top;\n    }\n\n    .dataframe thead th {\n        text-align: right;\n    }\n</style>\n<table border=\"1\" class=\"dataframe\">\n  <thead>\n    <tr style=\"text-align: right;\">\n      <th></th>\n      <th>Preferred Label</th>\n      <th>Semantic Types Label</th>\n      <th>Class ID</th>\n      <th>mesh_id</th>\n      <th>Semantic Types</th>\n    </tr>\n  </thead>\n  <tbody>\n    <tr>\n      <th>1</th>\n      <td>Electronic Health Records</td>\n      <td>Intellectual Product</td>\n      <td>http://purl.bioontology.org/ontology/MESH/D057286</td>\n      <td>D057286</td>\n      <td>T170</td>\n    </tr>\n    <tr>\n      <th>2</th>\n      <td>Consent Forms</td>\n      <td>Intellectual Product</td>\n      <td>http://purl.bioontology.org/ontology/MESH/D032962</td>\n      <td>D032962</td>\n      <td>T170</td>\n    </tr>\n    <tr>\n      <th>3</th>\n      <td>Genealogy and Heraldry</td>\n      <td>Intellectual Product</td>\n      <td>http://purl.bioontology.org/ontology/MESH/D005789</td>\n      <td>D005789</td>\n      <td>T170</td>\n    </tr>\n    <tr>\n      <th>4</th>\n      <td>Publications</td>\n      <td>Intellectual Product</td>\n      <td>http://purl.bioontology.org/ontology/MESH/D011642</td>\n      <td>D011642</td>\n      <td>T170</td>\n    </tr>\n    <tr>\n      <th>5</th>\n      <td>Pharmaceutical Services</td>\n      <td>Intellectual Product</td>\n      <td>http://purl.bioontology.org/ontology/MESH/D010593</td>\n      <td>D010593</td>\n      <td>T170</td>\n    </tr>\n  </tbody>\n</table>\n</div>"
     },
     "execution_count": 4,
     "metadata": {},
     "output_type": "execute_result"
    }
   ],
   "source": [
    "# LOAD MeSH\n",
    "grpm_mesh = mesh_importer()\n",
    "grpm_mesh.head()"
   ],
   "metadata": {
    "collapsed": false,
    "ExecuteTime": {
     "end_time": "2025-02-18T08:17:27.651653600Z",
     "start_time": "2025-02-18T08:17:27.262983700Z"
    }
   },
   "id": "8fc5532611717398",
   "execution_count": 4
  },
  {
   "cell_type": "code",
   "outputs": [
    {
     "name": "stdout",
     "output_type": "stream",
     "text": [
      "Computing Stats...\n",
      "runtime:  0:00:00.646001\n"
     ]
    },
    {
     "data": {
      "text/plain": "                                    Preferred Label Class ID mesh_id  \\\n                                             unique   unique  unique   \nSemantic Types Label                                                   \nAcquired Abnormality                             41       41      41   \nActivity                                         38       38      38   \nAge Group                                        15       15      15   \nAmino Acid Sequence                              45       45      45   \nAmino Acid, Peptide, or Protein                4625     4625    4625   \n...                                             ...      ...     ...   \nTherapeutic or Preventive Procedure             693      693     693   \nTissue                                           89       89      89   \nVertebrate                                        4        4       4   \nVirus                                           370      370     370   \nVitamin                                          65       65      65   \n\n                                    Semantic Types  \n                                            unique  \nSemantic Types Label                                \nAcquired Abnormality                             1  \nActivity                                         1  \nAge Group                                        1  \nAmino Acid Sequence                              1  \nAmino Acid, Peptide, or Protein                  1  \n...                                            ...  \nTherapeutic or Preventive Procedure              1  \nTissue                                           1  \nVertebrate                                       1  \nVirus                                            1  \nVitamin                                          1  \n\n[125 rows x 4 columns]",
      "text/html": "<div>\n<style scoped>\n    .dataframe tbody tr th:only-of-type {\n        vertical-align: middle;\n    }\n\n    .dataframe tbody tr th {\n        vertical-align: top;\n    }\n\n    .dataframe thead tr th {\n        text-align: left;\n    }\n\n    .dataframe thead tr:last-of-type th {\n        text-align: right;\n    }\n</style>\n<table border=\"1\" class=\"dataframe\">\n  <thead>\n    <tr>\n      <th></th>\n      <th>Preferred Label</th>\n      <th>Class ID</th>\n      <th>mesh_id</th>\n      <th>Semantic Types</th>\n    </tr>\n    <tr>\n      <th></th>\n      <th>unique</th>\n      <th>unique</th>\n      <th>unique</th>\n      <th>unique</th>\n    </tr>\n    <tr>\n      <th>Semantic Types Label</th>\n      <th></th>\n      <th></th>\n      <th></th>\n      <th></th>\n    </tr>\n  </thead>\n  <tbody>\n    <tr>\n      <th>Acquired Abnormality</th>\n      <td>41</td>\n      <td>41</td>\n      <td>41</td>\n      <td>1</td>\n    </tr>\n    <tr>\n      <th>Activity</th>\n      <td>38</td>\n      <td>38</td>\n      <td>38</td>\n      <td>1</td>\n    </tr>\n    <tr>\n      <th>Age Group</th>\n      <td>15</td>\n      <td>15</td>\n      <td>15</td>\n      <td>1</td>\n    </tr>\n    <tr>\n      <th>Amino Acid Sequence</th>\n      <td>45</td>\n      <td>45</td>\n      <td>45</td>\n      <td>1</td>\n    </tr>\n    <tr>\n      <th>Amino Acid, Peptide, or Protein</th>\n      <td>4625</td>\n      <td>4625</td>\n      <td>4625</td>\n      <td>1</td>\n    </tr>\n    <tr>\n      <th>...</th>\n      <td>...</td>\n      <td>...</td>\n      <td>...</td>\n      <td>...</td>\n    </tr>\n    <tr>\n      <th>Therapeutic or Preventive Procedure</th>\n      <td>693</td>\n      <td>693</td>\n      <td>693</td>\n      <td>1</td>\n    </tr>\n    <tr>\n      <th>Tissue</th>\n      <td>89</td>\n      <td>89</td>\n      <td>89</td>\n      <td>1</td>\n    </tr>\n    <tr>\n      <th>Vertebrate</th>\n      <td>4</td>\n      <td>4</td>\n      <td>4</td>\n      <td>1</td>\n    </tr>\n    <tr>\n      <th>Virus</th>\n      <td>370</td>\n      <td>370</td>\n      <td>370</td>\n      <td>1</td>\n    </tr>\n    <tr>\n      <th>Vitamin</th>\n      <td>65</td>\n      <td>65</td>\n      <td>65</td>\n      <td>1</td>\n    </tr>\n  </tbody>\n</table>\n<p>125 rows × 4 columns</p>\n</div>"
     },
     "execution_count": 5,
     "metadata": {},
     "output_type": "execute_result"
    }
   ],
   "source": [
    "get_stats(grpm_mesh, \"Semantic Types Label\")"
   ],
   "metadata": {
    "collapsed": false,
    "ExecuteTime": {
     "end_time": "2025-02-18T08:18:52.298719300Z",
     "start_time": "2025-02-18T08:18:51.631660500Z"
    }
   },
   "id": "bdc21c82d5297ef8",
   "execution_count": 5
  },
  {
   "cell_type": "code",
   "outputs": [
    {
     "data": {
      "text/plain": "             gene type       rsid      pmid           mesh qualifier  major\n38033      MT-CO3  PCG  rs2853826  34576000      Epigenome      None   True\n45210      MT-ND3  PCG  rs2853826  34576000      Epigenome      None   True\n52523     MT-ND4L  PCG  rs2853826  34576000      Epigenome      None   True\n62152      MT-ND4  PCG  rs2853826  34576000      Epigenome      None   True\n73836      MT-ND5  PCG  rs2853826  34576000      Epigenome      None   True\n...           ...  ...        ...       ...            ...       ...    ...\n16595876    CXCL8  PCG  rs2227532  29105764  Interleukin-1  genetics  False\n16595895    CXCL8  PCG     rs4073  29105764  Interleukin-1  genetics  False\n16597205    CXCL8  PCG  rs2227306  16719905  Interleukin-1  genetics  False\n16597221    CXCL8  PCG     rs4073  16719905  Interleukin-1  genetics  False\n16604856    CXCL8  PCG     rs4073  18273643  Interleukin-1  genetics  False\n\n[3839 rows x 7 columns]",
      "text/html": "<div>\n<style scoped>\n    .dataframe tbody tr th:only-of-type {\n        vertical-align: middle;\n    }\n\n    .dataframe tbody tr th {\n        vertical-align: top;\n    }\n\n    .dataframe thead th {\n        text-align: right;\n    }\n</style>\n<table border=\"1\" class=\"dataframe\">\n  <thead>\n    <tr style=\"text-align: right;\">\n      <th></th>\n      <th>gene</th>\n      <th>type</th>\n      <th>rsid</th>\n      <th>pmid</th>\n      <th>mesh</th>\n      <th>qualifier</th>\n      <th>major</th>\n    </tr>\n  </thead>\n  <tbody>\n    <tr>\n      <th>38033</th>\n      <td>MT-CO3</td>\n      <td>PCG</td>\n      <td>rs2853826</td>\n      <td>34576000</td>\n      <td>Epigenome</td>\n      <td>None</td>\n      <td>True</td>\n    </tr>\n    <tr>\n      <th>45210</th>\n      <td>MT-ND3</td>\n      <td>PCG</td>\n      <td>rs2853826</td>\n      <td>34576000</td>\n      <td>Epigenome</td>\n      <td>None</td>\n      <td>True</td>\n    </tr>\n    <tr>\n      <th>52523</th>\n      <td>MT-ND4L</td>\n      <td>PCG</td>\n      <td>rs2853826</td>\n      <td>34576000</td>\n      <td>Epigenome</td>\n      <td>None</td>\n      <td>True</td>\n    </tr>\n    <tr>\n      <th>62152</th>\n      <td>MT-ND4</td>\n      <td>PCG</td>\n      <td>rs2853826</td>\n      <td>34576000</td>\n      <td>Epigenome</td>\n      <td>None</td>\n      <td>True</td>\n    </tr>\n    <tr>\n      <th>73836</th>\n      <td>MT-ND5</td>\n      <td>PCG</td>\n      <td>rs2853826</td>\n      <td>34576000</td>\n      <td>Epigenome</td>\n      <td>None</td>\n      <td>True</td>\n    </tr>\n    <tr>\n      <th>...</th>\n      <td>...</td>\n      <td>...</td>\n      <td>...</td>\n      <td>...</td>\n      <td>...</td>\n      <td>...</td>\n      <td>...</td>\n    </tr>\n    <tr>\n      <th>16595876</th>\n      <td>CXCL8</td>\n      <td>PCG</td>\n      <td>rs2227532</td>\n      <td>29105764</td>\n      <td>Interleukin-1</td>\n      <td>genetics</td>\n      <td>False</td>\n    </tr>\n    <tr>\n      <th>16595895</th>\n      <td>CXCL8</td>\n      <td>PCG</td>\n      <td>rs4073</td>\n      <td>29105764</td>\n      <td>Interleukin-1</td>\n      <td>genetics</td>\n      <td>False</td>\n    </tr>\n    <tr>\n      <th>16597205</th>\n      <td>CXCL8</td>\n      <td>PCG</td>\n      <td>rs2227306</td>\n      <td>16719905</td>\n      <td>Interleukin-1</td>\n      <td>genetics</td>\n      <td>False</td>\n    </tr>\n    <tr>\n      <th>16597221</th>\n      <td>CXCL8</td>\n      <td>PCG</td>\n      <td>rs4073</td>\n      <td>16719905</td>\n      <td>Interleukin-1</td>\n      <td>genetics</td>\n      <td>False</td>\n    </tr>\n    <tr>\n      <th>16604856</th>\n      <td>CXCL8</td>\n      <td>PCG</td>\n      <td>rs4073</td>\n      <td>18273643</td>\n      <td>Interleukin-1</td>\n      <td>genetics</td>\n      <td>False</td>\n    </tr>\n  </tbody>\n</table>\n<p>3839 rows × 7 columns</p>\n</div>"
     },
     "metadata": {},
     "output_type": "display_data"
    }
   ],
   "source": [
    "# Random Query Example\n",
    "mesh_query =  grpm_mesh['Preferred Label'].drop_duplicates().sample(10).to_list()\n",
    "\n",
    "# Filter and get unique results\n",
    "result = query_dataset(pcg_grpm, mesh_query, 'mesh')\n",
    "display(result)"
   ],
   "metadata": {
    "collapsed": false,
    "ExecuteTime": {
     "end_time": "2025-02-17T12:57:20.691910Z",
     "start_time": "2025-02-17T12:57:19.461966500Z"
    }
   },
   "id": "31dce3eb083906e",
   "execution_count": 8
  },
  {
   "cell_type": "markdown",
   "source": [
    "## Build MeSH Query [CUDA recommended]\n",
    "In Colab:: load Runtime with GPU "
   ],
   "metadata": {
    "collapsed": false
   },
   "id": "94e480d1caae2077"
  },
  {
   "cell_type": "code",
   "outputs": [],
   "source": [
    "import torch\n",
    "print(\"Torch version:\",torch.__version__)\n",
    "print(\"Is CUDA enabled?\",torch.cuda.is_available())\n",
    "if torch.cuda.is_available():\n",
    "    print(torch.randn(1).cuda())\n",
    "    \n",
    "# if not CUDA and Windows system: unintall torch and install \"pip3 install torch torchvision torchaudio --index-url https://download.pytorch.org/whl/cu118\""
   ],
   "metadata": {
    "collapsed": false
   },
   "id": "f4dd80c156a3b103",
   "execution_count": null
  },
  {
   "cell_type": "code",
   "outputs": [
    {
     "name": "stderr",
     "output_type": "stream",
     "text": [
      "No sentence-transformers model found with name dmis-lab/biobert-v1.1. Creating a new one with mean pooling.\n"
     ]
    }
   ],
   "source": [
    "import torch\n",
    "# LOAD Language Model\n",
    "MODEL = 'dmis-lab/biobert-v1.1'\n",
    "model = load_language_model(MODEL)\n",
    "file_path = 'ref-mesh/GrpmMeshEmbeddings_biobert-v1.1.pkl'\n",
    "\n",
    "# Get MeSH embeddings\n",
    "if torch.cuda.is_available() and not os.path.isfile(file_path):\n",
    "    # Generate MeSH Embeddings\n",
    "    grpm_meshes = list(grpm_mesh['Preferred Label'].drop_duplicates().reset_index(drop=True))\n",
    "    mesh_embeddings = extract_embedding(grpm_meshes, model)\n",
    "    grpm_mesh_embeddings = {\"meshes\":grpm_meshes, \"embeddings\":mesh_embeddings}\n",
    "\n",
    "    # Open the file in write-binary mode to store the pickle\n",
    "    with open(file_path, 'wb') as file:\n",
    "        # Use pickle to dump the dictionary into the file\n",
    "        pickle.dump(grpm_mesh_embeddings, file)\n",
    "else:\n",
    "    # Download and import MeSH Embeddings\n",
    "    grpm_mesh_embeddings = import_mesh_embeddings()\n",
    "    \n",
    "grpm_meshes = grpm_mesh_embeddings['meshes']\n",
    "mesh_embeddings = grpm_mesh_embeddings['embeddings']"
   ],
   "metadata": {
    "collapsed": false,
    "ExecuteTime": {
     "end_time": "2025-02-19T10:14:27.233715200Z",
     "start_time": "2025-02-19T10:14:24.468074600Z"
    }
   },
   "id": "485b46e4bca5f354",
   "execution_count": 108
  },
  {
   "cell_type": "code",
   "outputs": [],
   "source": [
    "# User defined Topic Terms\n",
    "\n",
    "user_query = \"diet ketogenic, diet reducing, diet sodium-restricted, diet, dietary, dietetics, dyslipidemias, eating disorders, feeding and eating disorde, food hypersensitivity, foodborne diseases, gastrointestinal diseases, hypercholesterolemia, hyperglycemia, hyperlipidemias, hyperphagia, hypoglycemia, hypophagia, insulin resistance\"  # comma separated list\n",
    "\n",
    "topic_terms_list = user_query.split(',')\n",
    "topic_terms = pd.Series(topic_terms_list)"
   ],
   "metadata": {
    "collapsed": false,
    "ExecuteTime": {
     "end_time": "2025-02-18T15:12:25.887837500Z",
     "start_time": "2025-02-18T15:12:25.871756600Z"
    }
   },
   "id": "751f64883192ca2f",
   "execution_count": 91
  },
  {
   "cell_type": "code",
   "outputs": [],
   "source": [
    "# Extract MeSH Query\n",
    "tab = create_corr_table(topic_terms, grpm_meshes, model, mesh_embeddings)\n",
    "\n",
    "threshold = 0.90 # set similarity threshold\n",
    "mesh_query = tab[tab.similarity >= threshold].list2.to_list()\n",
    "print('\\n\\nMeSH Query:', mesh_query)"
   ],
   "metadata": {
    "collapsed": false
   },
   "id": "dc4336e994ce6fc",
   "execution_count": null
  },
  {
   "cell_type": "markdown",
   "source": [
    "## Execute MeSH Query"
   ],
   "metadata": {
    "collapsed": false
   },
   "id": "5ac558dffc7156ad"
  },
  {
   "cell_type": "code",
   "outputs": [
    {
     "data": {
      "text/plain": "            gene type         rsid      pmid             mesh  \\\n5434      MT-ND1  PCG  rs200319905  25579139  Hyperlipidemias   \n5435      MT-ND1  PCG  rs200319905  25579139  Hyperlipidemias   \n5436      MT-ND1  PCG  rs200319905  25579139  Hyperlipidemias   \n13642     MT-ND2  PCG  rs200319905  25579139  Hyperlipidemias   \n13643     MT-ND2  PCG  rs200319905  25579139  Hyperlipidemias   \n...          ...  ...          ...       ...              ...   \n16606654   CXCL8  PCG  rs572157399  20508232     Hypoglycemia   \n16606655   CXCL8  PCG  rs572157399  20508232     Hypoglycemia   \n16606656   CXCL8  PCG  rs572157399  20508232     Hypoglycemia   \n16607143   CXCL8  PCG  rs572157399  21357364    Hyperglycemia   \n16607144   CXCL8  PCG  rs572157399  21357364    Hyperglycemia   \n\n                qualifier  major  \n5434             genetics  False  \n5435           metabolism  False  \n5436            pathology  False  \n13642            genetics  False  \n13643          metabolism  False  \n...                   ...    ...  \n16606654    complications  False  \n16606655        diagnosis  False  \n16606656     epidemiology   True  \n16607143       metabolism  False  \n16607144  physiopathology  False  \n\n[23166 rows x 7 columns]",
      "text/html": "<div>\n<style scoped>\n    .dataframe tbody tr th:only-of-type {\n        vertical-align: middle;\n    }\n\n    .dataframe tbody tr th {\n        vertical-align: top;\n    }\n\n    .dataframe thead th {\n        text-align: right;\n    }\n</style>\n<table border=\"1\" class=\"dataframe\">\n  <thead>\n    <tr style=\"text-align: right;\">\n      <th></th>\n      <th>gene</th>\n      <th>type</th>\n      <th>rsid</th>\n      <th>pmid</th>\n      <th>mesh</th>\n      <th>qualifier</th>\n      <th>major</th>\n    </tr>\n  </thead>\n  <tbody>\n    <tr>\n      <th>5434</th>\n      <td>MT-ND1</td>\n      <td>PCG</td>\n      <td>rs200319905</td>\n      <td>25579139</td>\n      <td>Hyperlipidemias</td>\n      <td>genetics</td>\n      <td>False</td>\n    </tr>\n    <tr>\n      <th>5435</th>\n      <td>MT-ND1</td>\n      <td>PCG</td>\n      <td>rs200319905</td>\n      <td>25579139</td>\n      <td>Hyperlipidemias</td>\n      <td>metabolism</td>\n      <td>False</td>\n    </tr>\n    <tr>\n      <th>5436</th>\n      <td>MT-ND1</td>\n      <td>PCG</td>\n      <td>rs200319905</td>\n      <td>25579139</td>\n      <td>Hyperlipidemias</td>\n      <td>pathology</td>\n      <td>False</td>\n    </tr>\n    <tr>\n      <th>13642</th>\n      <td>MT-ND2</td>\n      <td>PCG</td>\n      <td>rs200319905</td>\n      <td>25579139</td>\n      <td>Hyperlipidemias</td>\n      <td>genetics</td>\n      <td>False</td>\n    </tr>\n    <tr>\n      <th>13643</th>\n      <td>MT-ND2</td>\n      <td>PCG</td>\n      <td>rs200319905</td>\n      <td>25579139</td>\n      <td>Hyperlipidemias</td>\n      <td>metabolism</td>\n      <td>False</td>\n    </tr>\n    <tr>\n      <th>...</th>\n      <td>...</td>\n      <td>...</td>\n      <td>...</td>\n      <td>...</td>\n      <td>...</td>\n      <td>...</td>\n      <td>...</td>\n    </tr>\n    <tr>\n      <th>16606654</th>\n      <td>CXCL8</td>\n      <td>PCG</td>\n      <td>rs572157399</td>\n      <td>20508232</td>\n      <td>Hypoglycemia</td>\n      <td>complications</td>\n      <td>False</td>\n    </tr>\n    <tr>\n      <th>16606655</th>\n      <td>CXCL8</td>\n      <td>PCG</td>\n      <td>rs572157399</td>\n      <td>20508232</td>\n      <td>Hypoglycemia</td>\n      <td>diagnosis</td>\n      <td>False</td>\n    </tr>\n    <tr>\n      <th>16606656</th>\n      <td>CXCL8</td>\n      <td>PCG</td>\n      <td>rs572157399</td>\n      <td>20508232</td>\n      <td>Hypoglycemia</td>\n      <td>epidemiology</td>\n      <td>True</td>\n    </tr>\n    <tr>\n      <th>16607143</th>\n      <td>CXCL8</td>\n      <td>PCG</td>\n      <td>rs572157399</td>\n      <td>21357364</td>\n      <td>Hyperglycemia</td>\n      <td>metabolism</td>\n      <td>False</td>\n    </tr>\n    <tr>\n      <th>16607144</th>\n      <td>CXCL8</td>\n      <td>PCG</td>\n      <td>rs572157399</td>\n      <td>21357364</td>\n      <td>Hyperglycemia</td>\n      <td>physiopathology</td>\n      <td>False</td>\n    </tr>\n  </tbody>\n</table>\n<p>23166 rows × 7 columns</p>\n</div>"
     },
     "metadata": {},
     "output_type": "display_data"
    }
   ],
   "source": [
    "# Filter and get unique results\n",
    "result = query_dataset(pcg_grpm, mesh_query, 'mesh')\n",
    "display(result)"
   ],
   "metadata": {
    "collapsed": false,
    "ExecuteTime": {
     "end_time": "2025-02-19T10:15:18.432369200Z",
     "start_time": "2025-02-19T10:15:17.976282200Z"
    }
   },
   "id": "96db33e16dc2dc20",
   "execution_count": 112
  },
  {
   "cell_type": "markdown",
   "source": [
    "# QUERY Nutrigenetic Dataset"
   ],
   "metadata": {
    "collapsed": false
   },
   "id": "249fdde0095caff5"
  },
  {
   "cell_type": "code",
   "outputs": [
    {
     "name": "stdout",
     "output_type": "stream",
     "text": [
      "Computing Stats...\n",
      "runtime:  0:00:01.267998\n"
     ]
    },
    {
     "data": {
      "text/plain": "                                                     gene   rsid   pmid   mesh\n                                                   unique unique unique unique\ntopic                                                                         \nCardiovascular Health and Lipid Metabolism            975  41931  66113    521\nDiabetes Mellitus Type II and Metabolic Syndrome      603  22270  36198    297\nDiet-induced Oxidative Stress                          75   2559  10058     60\nEating Behavior and Taste Sensation                   211   4252   7241    256\nFood Allergies                                        451   6289   7762     64\nFood Intolerances                                     392   5008   4726    125\nGeneral Nutrition                                     686  26456  44859    397\nObesity, Weight Control and Compulsive Eating         317  10842  22123    230\nVitamin and Micronutrients Metabolism and Defic...     89   3525   6882    147\nXenobiotics Metabolism                                173   7159  14171    151",
      "text/html": "<div>\n<style scoped>\n    .dataframe tbody tr th:only-of-type {\n        vertical-align: middle;\n    }\n\n    .dataframe tbody tr th {\n        vertical-align: top;\n    }\n\n    .dataframe thead tr th {\n        text-align: left;\n    }\n\n    .dataframe thead tr:last-of-type th {\n        text-align: right;\n    }\n</style>\n<table border=\"1\" class=\"dataframe\">\n  <thead>\n    <tr>\n      <th></th>\n      <th>gene</th>\n      <th>rsid</th>\n      <th>pmid</th>\n      <th>mesh</th>\n    </tr>\n    <tr>\n      <th></th>\n      <th>unique</th>\n      <th>unique</th>\n      <th>unique</th>\n      <th>unique</th>\n    </tr>\n    <tr>\n      <th>topic</th>\n      <th></th>\n      <th></th>\n      <th></th>\n      <th></th>\n    </tr>\n  </thead>\n  <tbody>\n    <tr>\n      <th>Cardiovascular Health and Lipid Metabolism</th>\n      <td>975</td>\n      <td>41931</td>\n      <td>66113</td>\n      <td>521</td>\n    </tr>\n    <tr>\n      <th>Diabetes Mellitus Type II and Metabolic Syndrome</th>\n      <td>603</td>\n      <td>22270</td>\n      <td>36198</td>\n      <td>297</td>\n    </tr>\n    <tr>\n      <th>Diet-induced Oxidative Stress</th>\n      <td>75</td>\n      <td>2559</td>\n      <td>10058</td>\n      <td>60</td>\n    </tr>\n    <tr>\n      <th>Eating Behavior and Taste Sensation</th>\n      <td>211</td>\n      <td>4252</td>\n      <td>7241</td>\n      <td>256</td>\n    </tr>\n    <tr>\n      <th>Food Allergies</th>\n      <td>451</td>\n      <td>6289</td>\n      <td>7762</td>\n      <td>64</td>\n    </tr>\n    <tr>\n      <th>Food Intolerances</th>\n      <td>392</td>\n      <td>5008</td>\n      <td>4726</td>\n      <td>125</td>\n    </tr>\n    <tr>\n      <th>General Nutrition</th>\n      <td>686</td>\n      <td>26456</td>\n      <td>44859</td>\n      <td>397</td>\n    </tr>\n    <tr>\n      <th>Obesity, Weight Control and Compulsive Eating</th>\n      <td>317</td>\n      <td>10842</td>\n      <td>22123</td>\n      <td>230</td>\n    </tr>\n    <tr>\n      <th>Vitamin and Micronutrients Metabolism and Deficiency-Related Diseases</th>\n      <td>89</td>\n      <td>3525</td>\n      <td>6882</td>\n      <td>147</td>\n    </tr>\n    <tr>\n      <th>Xenobiotics Metabolism</th>\n      <td>173</td>\n      <td>7159</td>\n      <td>14171</td>\n      <td>151</td>\n    </tr>\n  </tbody>\n</table>\n</div>"
     },
     "execution_count": 113,
     "metadata": {},
     "output_type": "execute_result"
    }
   ],
   "source": [
    "get_stats(grpm_nutrigen_int, 'topic')"
   ],
   "metadata": {
    "collapsed": false
   },
   "id": "8ab5daf28e758919",
   "execution_count": 113
  },
  {
   "cell_type": "code",
   "outputs": [
    {
     "name": "stdout",
     "output_type": "stream",
     "text": [
      "Displaying \"Vitamin and Micronutrients Metabolism and Deficiency-Related Diseases\" topic\n"
     ]
    },
    {
     "data": {
      "text/plain": "          gene          rsid      pmid  \\\n967603     VDR      rs987849  34578986   \n967604     VDR      rs987849  34578986   \n967605     VDR      rs987849  34578986   \n967606     VDR      rs987849  34578986   \n967607     VDR      rs987849  34578986   \n...        ...           ...       ...   \n1002198  ITPR1   rs121912425  21555639   \n1002199  ITPR1   rs121912425  22986007   \n1002200  ITPR1   rs121912425  18579805   \n1002201  ITPR1   rs121912425  27108798   \n1002202  ITPR1  rs1114167316  28488678   \n\n                                           mesh  \\\n967603                       Nutritional Status   \n967604                    Receptors, Calcitriol   \n967605                                Vitamin D   \n967606                     Vitamin D Deficiency   \n967607                Vitamin D-Binding Protein   \n...                                         ...   \n1002198  Inositol 1,4,5-Trisphosphate Receptors   \n1002199  Inositol 1,4,5-Trisphosphate Receptors   \n1002200  Inositol 1,4,5-Trisphosphate Receptors   \n1002201  Inositol 1,4,5-Trisphosphate Receptors   \n1002202  Inositol 1,4,5-Trisphosphate Receptors   \n\n                                                     topic  interest_index  \n967603   Vitamin and Micronutrients Metabolism and Defi...         1.00000  \n967604   Vitamin and Micronutrients Metabolism and Defi...         1.00000  \n967605   Vitamin and Micronutrients Metabolism and Defi...         1.00000  \n967606   Vitamin and Micronutrients Metabolism and Defi...         1.00000  \n967607   Vitamin and Micronutrients Metabolism and Defi...         1.00000  \n...                                                    ...             ...  \n1002198  Vitamin and Micronutrients Metabolism and Defi...         0.01255  \n1002199  Vitamin and Micronutrients Metabolism and Defi...         0.01255  \n1002200  Vitamin and Micronutrients Metabolism and Defi...         0.01255  \n1002201  Vitamin and Micronutrients Metabolism and Defi...         0.01255  \n1002202  Vitamin and Micronutrients Metabolism and Defi...         0.01255  \n\n[34600 rows x 6 columns]",
      "text/html": "<div>\n<style scoped>\n    .dataframe tbody tr th:only-of-type {\n        vertical-align: middle;\n    }\n\n    .dataframe tbody tr th {\n        vertical-align: top;\n    }\n\n    .dataframe thead th {\n        text-align: right;\n    }\n</style>\n<table border=\"1\" class=\"dataframe\">\n  <thead>\n    <tr style=\"text-align: right;\">\n      <th></th>\n      <th>gene</th>\n      <th>rsid</th>\n      <th>pmid</th>\n      <th>mesh</th>\n      <th>topic</th>\n      <th>interest_index</th>\n    </tr>\n  </thead>\n  <tbody>\n    <tr>\n      <th>967603</th>\n      <td>VDR</td>\n      <td>rs987849</td>\n      <td>34578986</td>\n      <td>Nutritional Status</td>\n      <td>Vitamin and Micronutrients Metabolism and Defi...</td>\n      <td>1.00000</td>\n    </tr>\n    <tr>\n      <th>967604</th>\n      <td>VDR</td>\n      <td>rs987849</td>\n      <td>34578986</td>\n      <td>Receptors, Calcitriol</td>\n      <td>Vitamin and Micronutrients Metabolism and Defi...</td>\n      <td>1.00000</td>\n    </tr>\n    <tr>\n      <th>967605</th>\n      <td>VDR</td>\n      <td>rs987849</td>\n      <td>34578986</td>\n      <td>Vitamin D</td>\n      <td>Vitamin and Micronutrients Metabolism and Defi...</td>\n      <td>1.00000</td>\n    </tr>\n    <tr>\n      <th>967606</th>\n      <td>VDR</td>\n      <td>rs987849</td>\n      <td>34578986</td>\n      <td>Vitamin D Deficiency</td>\n      <td>Vitamin and Micronutrients Metabolism and Defi...</td>\n      <td>1.00000</td>\n    </tr>\n    <tr>\n      <th>967607</th>\n      <td>VDR</td>\n      <td>rs987849</td>\n      <td>34578986</td>\n      <td>Vitamin D-Binding Protein</td>\n      <td>Vitamin and Micronutrients Metabolism and Defi...</td>\n      <td>1.00000</td>\n    </tr>\n    <tr>\n      <th>...</th>\n      <td>...</td>\n      <td>...</td>\n      <td>...</td>\n      <td>...</td>\n      <td>...</td>\n      <td>...</td>\n    </tr>\n    <tr>\n      <th>1002198</th>\n      <td>ITPR1</td>\n      <td>rs121912425</td>\n      <td>21555639</td>\n      <td>Inositol 1,4,5-Trisphosphate Receptors</td>\n      <td>Vitamin and Micronutrients Metabolism and Defi...</td>\n      <td>0.01255</td>\n    </tr>\n    <tr>\n      <th>1002199</th>\n      <td>ITPR1</td>\n      <td>rs121912425</td>\n      <td>22986007</td>\n      <td>Inositol 1,4,5-Trisphosphate Receptors</td>\n      <td>Vitamin and Micronutrients Metabolism and Defi...</td>\n      <td>0.01255</td>\n    </tr>\n    <tr>\n      <th>1002200</th>\n      <td>ITPR1</td>\n      <td>rs121912425</td>\n      <td>18579805</td>\n      <td>Inositol 1,4,5-Trisphosphate Receptors</td>\n      <td>Vitamin and Micronutrients Metabolism and Defi...</td>\n      <td>0.01255</td>\n    </tr>\n    <tr>\n      <th>1002201</th>\n      <td>ITPR1</td>\n      <td>rs121912425</td>\n      <td>27108798</td>\n      <td>Inositol 1,4,5-Trisphosphate Receptors</td>\n      <td>Vitamin and Micronutrients Metabolism and Defi...</td>\n      <td>0.01255</td>\n    </tr>\n    <tr>\n      <th>1002202</th>\n      <td>ITPR1</td>\n      <td>rs1114167316</td>\n      <td>28488678</td>\n      <td>Inositol 1,4,5-Trisphosphate Receptors</td>\n      <td>Vitamin and Micronutrients Metabolism and Defi...</td>\n      <td>0.01255</td>\n    </tr>\n  </tbody>\n</table>\n<p>34600 rows × 6 columns</p>\n</div>"
     },
     "metadata": {},
     "output_type": "display_data"
    }
   ],
   "source": [
    "# Select Topic\n",
    "topic = \"Vitamin and Micronutrients Metabolism and Deficiency-Related Diseases\"\n",
    "\n",
    "# Filter and get unique results\n",
    "topic_data = query_dataset(grpm_nutrigen_int, [topic], 'topic')\n",
    "print(f'Displaying \"{topic}\" topic')\n",
    "display(topic_data)"
   ],
   "metadata": {
    "collapsed": false,
    "ExecuteTime": {
     "end_time": "2025-02-19T10:27:54.317068Z",
     "start_time": "2025-02-19T10:27:54.227987Z"
    }
   },
   "id": "c06bdbbe6d035bb6",
   "execution_count": 114
  },
  {
   "cell_type": "code",
   "outputs": [
    {
     "name": "stdout",
     "output_type": "stream",
     "text": [
      "Computing Stats...\n",
      "runtime:  0:00:00.404005\n"
     ]
    },
    {
     "data": {
      "text/plain": "          rsid   pmid   mesh  topic\n        unique unique unique unique\ngene                               \nVDR        185    922     41      1\nMTHFR      105   1622     79      1\nGSTP1       25    711     29      1\nGC          76    476     28      1\nCYP2R1      25    289     20      1\n...        ...    ...    ...    ...\nSLC19A3     18     20     10      1\nACADM       51     43     14      1\nGSTM3       12     22      7      1\nSARM1       13     25     11      1\nITPR1       42     28      4      1\n\n[89 rows x 4 columns]",
      "text/html": "<div>\n<style scoped>\n    .dataframe tbody tr th:only-of-type {\n        vertical-align: middle;\n    }\n\n    .dataframe tbody tr th {\n        vertical-align: top;\n    }\n\n    .dataframe thead tr th {\n        text-align: left;\n    }\n\n    .dataframe thead tr:last-of-type th {\n        text-align: right;\n    }\n</style>\n<table border=\"1\" class=\"dataframe\">\n  <thead>\n    <tr>\n      <th></th>\n      <th>rsid</th>\n      <th>pmid</th>\n      <th>mesh</th>\n      <th>topic</th>\n    </tr>\n    <tr>\n      <th></th>\n      <th>unique</th>\n      <th>unique</th>\n      <th>unique</th>\n      <th>unique</th>\n    </tr>\n    <tr>\n      <th>gene</th>\n      <th></th>\n      <th></th>\n      <th></th>\n      <th></th>\n    </tr>\n  </thead>\n  <tbody>\n    <tr>\n      <th>VDR</th>\n      <td>185</td>\n      <td>922</td>\n      <td>41</td>\n      <td>1</td>\n    </tr>\n    <tr>\n      <th>MTHFR</th>\n      <td>105</td>\n      <td>1622</td>\n      <td>79</td>\n      <td>1</td>\n    </tr>\n    <tr>\n      <th>GSTP1</th>\n      <td>25</td>\n      <td>711</td>\n      <td>29</td>\n      <td>1</td>\n    </tr>\n    <tr>\n      <th>GC</th>\n      <td>76</td>\n      <td>476</td>\n      <td>28</td>\n      <td>1</td>\n    </tr>\n    <tr>\n      <th>CYP2R1</th>\n      <td>25</td>\n      <td>289</td>\n      <td>20</td>\n      <td>1</td>\n    </tr>\n    <tr>\n      <th>...</th>\n      <td>...</td>\n      <td>...</td>\n      <td>...</td>\n      <td>...</td>\n    </tr>\n    <tr>\n      <th>SLC19A3</th>\n      <td>18</td>\n      <td>20</td>\n      <td>10</td>\n      <td>1</td>\n    </tr>\n    <tr>\n      <th>ACADM</th>\n      <td>51</td>\n      <td>43</td>\n      <td>14</td>\n      <td>1</td>\n    </tr>\n    <tr>\n      <th>GSTM3</th>\n      <td>12</td>\n      <td>22</td>\n      <td>7</td>\n      <td>1</td>\n    </tr>\n    <tr>\n      <th>SARM1</th>\n      <td>13</td>\n      <td>25</td>\n      <td>11</td>\n      <td>1</td>\n    </tr>\n    <tr>\n      <th>ITPR1</th>\n      <td>42</td>\n      <td>28</td>\n      <td>4</td>\n      <td>1</td>\n    </tr>\n  </tbody>\n</table>\n<p>89 rows × 4 columns</p>\n</div>"
     },
     "execution_count": 115,
     "metadata": {},
     "output_type": "execute_result"
    }
   ],
   "source": [
    "# Get Topic Data Stats\n",
    "stats = get_stats(topic_data, \"gene\")\n",
    "# Create a sorted index by finding the order of elements in 'gene_sorted_gi'\n",
    "gene_sorted_gi = track_data.gene.drop_duplicates().to_list()\n",
    "sorted_index = stats.index.map(lambda x: gene_sorted_gi.index(x) if x in gene_sorted_gi else float('inf'))\n",
    "\n",
    "# Sort 'stats' based on the created sorted index\n",
    "stats_sorted = stats.iloc[sorted_index.argsort()]\n",
    "stats_sorted"
   ],
   "metadata": {
    "collapsed": false,
    "ExecuteTime": {
     "end_time": "2025-02-19T10:31:28.017685300Z",
     "start_time": "2025-02-19T10:31:27.598201300Z"
    }
   },
   "id": "8d51fcef87fc292",
   "execution_count": 115
  },
  {
   "cell_type": "markdown",
   "source": [
    "## 1. Gene Query Example"
   ],
   "metadata": {
    "collapsed": false
   },
   "id": "122c6c47ce1d843b"
  },
  {
   "cell_type": "code",
   "outputs": [
    {
     "data": {
      "text/plain": "       gene        rsid      pmid                       mesh  \\\n967603  VDR    rs987849  34578986         Nutritional Status   \n967604  VDR    rs987849  34578986      Receptors, Calcitriol   \n967605  VDR    rs987849  34578986                  Vitamin D   \n967606  VDR    rs987849  34578986       Vitamin D Deficiency   \n967607  VDR    rs987849  34578986  Vitamin D-Binding Protein   \n...     ...         ...       ...                        ...   \n973278  VDR  rs10083198  34578986       Vitamin D Deficiency   \n973279  VDR  rs10083198  34578986  Vitamin D-Binding Protein   \n973280  VDR  rs10083198  29380949      Receptors, Calcitriol   \n973281  VDR  rs10083198  29380949                  Vitamin D   \n973282  VDR  rs10083198  29380949  Vitamin D-Binding Protein   \n\n                                                    topic  interest_index  \n967603  Vitamin and Micronutrients Metabolism and Defi...             1.0  \n967604  Vitamin and Micronutrients Metabolism and Defi...             1.0  \n967605  Vitamin and Micronutrients Metabolism and Defi...             1.0  \n967606  Vitamin and Micronutrients Metabolism and Defi...             1.0  \n967607  Vitamin and Micronutrients Metabolism and Defi...             1.0  \n...                                                   ...             ...  \n973278  Vitamin and Micronutrients Metabolism and Defi...             1.0  \n973279  Vitamin and Micronutrients Metabolism and Defi...             1.0  \n973280  Vitamin and Micronutrients Metabolism and Defi...             1.0  \n973281  Vitamin and Micronutrients Metabolism and Defi...             1.0  \n973282  Vitamin and Micronutrients Metabolism and Defi...             1.0  \n\n[5680 rows x 6 columns]",
      "text/html": "<div>\n<style scoped>\n    .dataframe tbody tr th:only-of-type {\n        vertical-align: middle;\n    }\n\n    .dataframe tbody tr th {\n        vertical-align: top;\n    }\n\n    .dataframe thead th {\n        text-align: right;\n    }\n</style>\n<table border=\"1\" class=\"dataframe\">\n  <thead>\n    <tr style=\"text-align: right;\">\n      <th></th>\n      <th>gene</th>\n      <th>rsid</th>\n      <th>pmid</th>\n      <th>mesh</th>\n      <th>topic</th>\n      <th>interest_index</th>\n    </tr>\n  </thead>\n  <tbody>\n    <tr>\n      <th>967603</th>\n      <td>VDR</td>\n      <td>rs987849</td>\n      <td>34578986</td>\n      <td>Nutritional Status</td>\n      <td>Vitamin and Micronutrients Metabolism and Defi...</td>\n      <td>1.0</td>\n    </tr>\n    <tr>\n      <th>967604</th>\n      <td>VDR</td>\n      <td>rs987849</td>\n      <td>34578986</td>\n      <td>Receptors, Calcitriol</td>\n      <td>Vitamin and Micronutrients Metabolism and Defi...</td>\n      <td>1.0</td>\n    </tr>\n    <tr>\n      <th>967605</th>\n      <td>VDR</td>\n      <td>rs987849</td>\n      <td>34578986</td>\n      <td>Vitamin D</td>\n      <td>Vitamin and Micronutrients Metabolism and Defi...</td>\n      <td>1.0</td>\n    </tr>\n    <tr>\n      <th>967606</th>\n      <td>VDR</td>\n      <td>rs987849</td>\n      <td>34578986</td>\n      <td>Vitamin D Deficiency</td>\n      <td>Vitamin and Micronutrients Metabolism and Defi...</td>\n      <td>1.0</td>\n    </tr>\n    <tr>\n      <th>967607</th>\n      <td>VDR</td>\n      <td>rs987849</td>\n      <td>34578986</td>\n      <td>Vitamin D-Binding Protein</td>\n      <td>Vitamin and Micronutrients Metabolism and Defi...</td>\n      <td>1.0</td>\n    </tr>\n    <tr>\n      <th>...</th>\n      <td>...</td>\n      <td>...</td>\n      <td>...</td>\n      <td>...</td>\n      <td>...</td>\n      <td>...</td>\n    </tr>\n    <tr>\n      <th>973278</th>\n      <td>VDR</td>\n      <td>rs10083198</td>\n      <td>34578986</td>\n      <td>Vitamin D Deficiency</td>\n      <td>Vitamin and Micronutrients Metabolism and Defi...</td>\n      <td>1.0</td>\n    </tr>\n    <tr>\n      <th>973279</th>\n      <td>VDR</td>\n      <td>rs10083198</td>\n      <td>34578986</td>\n      <td>Vitamin D-Binding Protein</td>\n      <td>Vitamin and Micronutrients Metabolism and Defi...</td>\n      <td>1.0</td>\n    </tr>\n    <tr>\n      <th>973280</th>\n      <td>VDR</td>\n      <td>rs10083198</td>\n      <td>29380949</td>\n      <td>Receptors, Calcitriol</td>\n      <td>Vitamin and Micronutrients Metabolism and Defi...</td>\n      <td>1.0</td>\n    </tr>\n    <tr>\n      <th>973281</th>\n      <td>VDR</td>\n      <td>rs10083198</td>\n      <td>29380949</td>\n      <td>Vitamin D</td>\n      <td>Vitamin and Micronutrients Metabolism and Defi...</td>\n      <td>1.0</td>\n    </tr>\n    <tr>\n      <th>973282</th>\n      <td>VDR</td>\n      <td>rs10083198</td>\n      <td>29380949</td>\n      <td>Vitamin D-Binding Protein</td>\n      <td>Vitamin and Micronutrients Metabolism and Defi...</td>\n      <td>1.0</td>\n    </tr>\n  </tbody>\n</table>\n<p>5680 rows × 6 columns</p>\n</div>"
     },
     "metadata": {},
     "output_type": "display_data"
    }
   ],
   "source": [
    "# Gene Query on Nutrigenetic Topic\n",
    "my_genes = \"VDR, G6PD, GSTP1\"\n",
    "\n",
    "# Filter and get unique results\n",
    "result = query_dataset(topic_data, my_genes.split(','), 'gene')\n",
    "display(result)"
   ],
   "metadata": {
    "collapsed": false,
    "ExecuteTime": {
     "end_time": "2025-02-19T10:33:38.603072200Z",
     "start_time": "2025-02-19T10:33:38.504710Z"
    }
   },
   "id": "847848c87e42f770",
   "execution_count": 117
  },
  {
   "cell_type": "code",
   "outputs": [],
   "source": [
    "# Gene Query on Nutrigenetic-GWAS ds\n",
    "result = query_dataset(grpm_nutrigen_int_gwas, my_genes, 'GRPM_GENE')\n",
    "display(result)"
   ],
   "metadata": {
    "collapsed": false,
    "is_executing": true
   },
   "id": "9bc895ffb3fa09e8",
   "execution_count": null
  },
  {
   "cell_type": "markdown",
   "source": [
    "## 3. Advanced query example\n",
    "\n",
    "Let's explore the Relationship between nutritional status (micronutrients) and the systemic inflammatory response at genetic level:  \\cite{https://pubmed.ncbi.nlm.nih.gov/30220267/}\n",
    "\n",
    "Build a composite query:\n",
    "1. Impact of Systemic Inflammatory Response on Plasma Micronutrient Levels\n",
    "2. Methods for Adjusting Micronutrient Measurements in the Presence of Inflammation"
   ],
   "metadata": {
    "collapsed": false
   },
   "id": "2b21cf86211b297e"
  },
  {
   "cell_type": "code",
   "outputs": [
    {
     "data": {
      "text/plain": "['',\n 'Impact of Systemic Inflammatory Response on Plasma Micronutrient Levels',\n 'Methods for Adjusting Micronutrient Measurements in the Presence of Inflammation',\n '']"
     },
     "execution_count": 130,
     "metadata": {},
     "output_type": "execute_result"
    }
   ],
   "source": [
    "QUERIES"
   ],
   "metadata": {
    "collapsed": false,
    "ExecuteTime": {
     "end_time": "2025-02-19T11:03:50.098880700Z",
     "start_time": "2025-02-19T11:03:50.029992Z"
    }
   },
   "id": "12a498285cc1e819",
   "execution_count": 130
  },
  {
   "cell_type": "code",
   "outputs": [
    {
     "data": {
      "text/plain": "Batches:   0%|          | 0/1 [00:00<?, ?it/s]",
      "application/vnd.jupyter.widget-view+json": {
       "version_major": 2,
       "version_minor": 0,
       "model_id": "1d2d13f427054c738ece90055e743ac9"
      }
     },
     "metadata": {},
     "output_type": "display_data"
    },
    {
     "name": "stdout",
     "output_type": "stream",
     "text": [
      "Relevant terms: ['Calcium-Regulating Hormones and Agents', 'Anti-Inflammatory Agents', 'Anti-Inflammatory Agents, Non-Steroidal', 'Melanocyte-Stimulating Hormones', 'Inducible T-Cell Co-Stimulator Protein', 'Oxidative Phosphorylation Coupling Factors', 'Intracellular Calcium-Sensing Proteins', 'Immune Checkpoint Proteins', 'Plasma Membrane Calcium-Transporting ATPases', 'Immunoglobulins, Thyroid-Stimulating', 'Glycine Plasma Membrane Transport Proteins', 'Serotonin Plasma Membrane Transport Proteins', 'Norepinephrine Plasma Membrane Transport Proteins', 'Plasma Membrane Neurotransmitter Transport Proteins', 'Catecholamine Plasma Membrane Transport Proteins', 'GABA Plasma Membrane Transport Proteins', 'Dopamine Plasma Membrane Transport Proteins', 'Pulmonary Surfactant-Associated Protein A', 'Pulmonary Surfactant-Associated Proteins', 'Immunoglobulin J Recombination Signal Sequence-Binding Protein', 'Seminal Plasma Proteins', 'Pregnancy-Associated Plasma Protein-A', 'Equilibrative Nucleoside Transport Proteins', 'Hyperpolarization-Activated Cyclic Nucleotide-Gated Channels', 'Eosinophil Granule Proteins', 'Costimulatory and Inhibitory T-Cell Receptors', 'Salivary Proteins and Peptides', 'Tumor Necrosis Factor Receptor-Associated Peptides and Proteins', 'Receptors, Vasoactive Intestinal Peptide', 'Pregnancy-Associated alpha 2-Macroglobulins', 'Complement C3b Inactivator Proteins', 'Triggering Receptor Expressed on Myeloid Cells-1', 'Pulmonary Surfactant-Associated Protein C', 'Neuronal Calcium-Sensor Proteins', 'Eosinophil Cationic Protein', 'Intercellular Signaling Peptides and Proteins', 'Cyclic AMP-Dependent Protein Kinase RIbeta Subunit', 'Cyclic AMP-Dependent Protein Kinase RIalpha Subunit', 'Cyclic AMP-Dependent Protein Kinase Catalytic Subunits', 'Retinol-Binding Proteins, Plasma', 'Glucocorticoid-Induced TNFR-Related Protein', 'Glutamate Plasma Membrane Transport Proteins', 'Vesicular Inhibitory Amino Acid Transport Proteins', 'Dopamine and cAMP-Regulated Phosphoprotein 32', 'Antimicrobial Cationic Peptides', 'Intracellular Signaling Peptides and Proteins', 'Salivary Proline-Rich Proteins', 'Circadian Rhythm Signaling Peptides and Proteins', 'Macrophage Inflammatory Proteins', 'Bacterial Outer Membrane Proteins', 'Myelin and Lymphocyte-Associated Proteolipid Proteins', 'Suppressor of Cytokine Signaling Proteins', 'Anti-Citrullinated Protein Antibodies', 'Periplasmic Binding Proteins', 'High-Temperature Requirement A Serine Peptidase 2', 'High-Temperature Requirement A Serine Peptidase 1', 'Dietary Approaches To Stop Hypertension', 'Chemical and Drug Induced Liver Injury', 'Neurogenic Inflammation', 'Calcium Metabolism Disorders', 'Anti-Neutrophil Cytoplasmic Antibody-Associated Vasculitis', 'Neuroinflammatory Diseases', 'Glucose Metabolism Disorders', 'Systemic Inflammatory Response Syndrome', 'Autoimmune Diseases of the Nervous System', 'Polyradiculoneuropathy, Chronic Inflammatory Demyelinating', 'Cardiomegaly, Exercise-Induced', 'Bisphosphonate-Associated Osteonecrosis of the Jaw', 'Iron Metabolism Disorders', 'Chemical and Drug Induced Liver Injury, Chronic', 'Simian Acquired Immunodeficiency Syndrome', 'Central Nervous System Viral Diseases', 'Central Nervous System Bacterial Infections', 'Pelvic Inflammatory Disease', 'Vasculitis, Central Nervous System', 'Central Nervous System Fungal Infections', 'Immune Reconstitution Inflammatory Syndrome', 'Hypertension, Pregnancy-Induced', 'Vitamin K Deficiency Bleeding', 'Lupus Vasculitis, Central Nervous System', 'Nut and Peanut Hypersensitivity', 'Immunologic Deficiency Syndromes', 'Chemotherapy-Related Cognitive Impairment', 'Complement Pathway, Mannose-Binding Lectin', 'Postoperative Nausea and Vomiting', 'Mitochondrial Transmembrane Permeability-Driven Necrosis', 'Antibody-Dependent Cell Cytotoxicity', 'Chemotherapy-Induced Febrile Neutropenia', 'Inflammatory Breast Neoplasms', 'Neoplasms, Hormone-Dependent', 'Cytokine-Induced Killer Cells', 'Mucosal-Associated Invariant T Cells', 'Immunity, Maternally-Acquired', 'Murine Acquired Immunodeficiency Syndrome', 'Immunoreceptor Tyrosine-Based Activation Motif']\n"
     ]
    },
    {
     "data": {
      "text/plain": "Batches:   0%|          | 0/1 [00:00<?, ?it/s]",
      "application/vnd.jupyter.widget-view+json": {
       "version_major": 2,
       "version_minor": 0,
       "model_id": "2e6ebc0a937e4e1b89bd85062488c031"
      }
     },
     "metadata": {},
     "output_type": "display_data"
    },
    {
     "name": "stdout",
     "output_type": "stream",
     "text": [
      "Relevant terms: ['Response Evaluation Criteria in Solid Tumors', 'Anti-Inflammatory Agents, Non-Steroidal', 'Intracellular Calcium-Sensing Proteins', 'Norepinephrine Plasma Membrane Transport Proteins', 'Plasma Membrane Neurotransmitter Transport Proteins', 'Equilibrative Nucleoside Transport Proteins', 'Soluble N-Ethylmaleimide-Sensitive Factor Attachment Proteins', 'Salivary Proteins and Peptides', 'Neuronal Calcium-Sensor Proteins', 'Circadian Rhythm Signaling Peptides and Proteins', 'High-Temperature Requirement A Serine Peptidase 2', 'High-Temperature Requirement A Serine Peptidase 1', 'Dietary Approaches To Stop Hypertension', 'Calcium Metabolism Disorders', 'Congenital Disorders of Glycosylation', 'Autoimmune Diseases of the Nervous System', 'Steroid Metabolism, Inborn Errors', 'Bisphosphonate-Associated Osteonecrosis of the Jaw', 'Simian Acquired Immunodeficiency Syndrome', 'Metal Metabolism, Inborn Errors', 'Central Nervous System Bacterial Infections', 'Feline Acquired Immunodeficiency Syndrome', 'Lipid Metabolism, Inborn Errors', 'Bovine Virus Diarrhea-Mucosal Disease', 'Carbohydrate Metabolism, Inborn Errors', 'Amino Acid Metabolism, Inborn Errors', 'Chemotherapy-Related Cognitive Impairment', 'Feeding and Eating Disorders of Childhood', 'Abnormalities, Drug-Induced', 'Position-Specific Scoring Matrices', 'Antibody-Dependent Cell Cytotoxicity', 'Prostatic Neoplasms, Castration-Resistant', 'Neoplasms, Hormone-Dependent', 'Metabolic Detoxication, Phase I', 'Immunity, Maternally-Acquired', 'Microorganisms, Genetically-Modified', 'Antibody-Dependent Enhancement', 'Immunoreceptor Tyrosine-Based Activation Motif']\n"
     ]
    },
    {
     "data": {
      "text/plain": "['Calcium-Regulating Hormones and Agents',\n 'Anti-Inflammatory Agents',\n 'Anti-Inflammatory Agents, Non-Steroidal',\n 'Melanocyte-Stimulating Hormones',\n 'Inducible T-Cell Co-Stimulator Protein',\n 'Oxidative Phosphorylation Coupling Factors',\n 'Intracellular Calcium-Sensing Proteins',\n 'Immune Checkpoint Proteins',\n 'Plasma Membrane Calcium-Transporting ATPases',\n 'Immunoglobulins, Thyroid-Stimulating',\n 'Glycine Plasma Membrane Transport Proteins',\n 'Serotonin Plasma Membrane Transport Proteins',\n 'Norepinephrine Plasma Membrane Transport Proteins',\n 'Plasma Membrane Neurotransmitter Transport Proteins',\n 'Catecholamine Plasma Membrane Transport Proteins',\n 'GABA Plasma Membrane Transport Proteins',\n 'Dopamine Plasma Membrane Transport Proteins',\n 'Pulmonary Surfactant-Associated Protein A',\n 'Pulmonary Surfactant-Associated Proteins',\n 'Immunoglobulin J Recombination Signal Sequence-Binding Protein',\n 'Seminal Plasma Proteins',\n 'Pregnancy-Associated Plasma Protein-A',\n 'Equilibrative Nucleoside Transport Proteins',\n 'Hyperpolarization-Activated Cyclic Nucleotide-Gated Channels',\n 'Eosinophil Granule Proteins',\n 'Costimulatory and Inhibitory T-Cell Receptors',\n 'Salivary Proteins and Peptides',\n 'Tumor Necrosis Factor Receptor-Associated Peptides and Proteins',\n 'Receptors, Vasoactive Intestinal Peptide',\n 'Pregnancy-Associated alpha 2-Macroglobulins',\n 'Complement C3b Inactivator Proteins',\n 'Triggering Receptor Expressed on Myeloid Cells-1',\n 'Pulmonary Surfactant-Associated Protein C',\n 'Neuronal Calcium-Sensor Proteins',\n 'Eosinophil Cationic Protein',\n 'Intercellular Signaling Peptides and Proteins',\n 'Cyclic AMP-Dependent Protein Kinase RIbeta Subunit',\n 'Cyclic AMP-Dependent Protein Kinase RIalpha Subunit',\n 'Cyclic AMP-Dependent Protein Kinase Catalytic Subunits',\n 'Retinol-Binding Proteins, Plasma',\n 'Glucocorticoid-Induced TNFR-Related Protein',\n 'Glutamate Plasma Membrane Transport Proteins',\n 'Vesicular Inhibitory Amino Acid Transport Proteins',\n 'Dopamine and cAMP-Regulated Phosphoprotein 32',\n 'Antimicrobial Cationic Peptides',\n 'Intracellular Signaling Peptides and Proteins',\n 'Salivary Proline-Rich Proteins',\n 'Circadian Rhythm Signaling Peptides and Proteins',\n 'Macrophage Inflammatory Proteins',\n 'Bacterial Outer Membrane Proteins',\n 'Myelin and Lymphocyte-Associated Proteolipid Proteins',\n 'Suppressor of Cytokine Signaling Proteins',\n 'Anti-Citrullinated Protein Antibodies',\n 'Periplasmic Binding Proteins',\n 'High-Temperature Requirement A Serine Peptidase 2',\n 'High-Temperature Requirement A Serine Peptidase 1',\n 'Dietary Approaches To Stop Hypertension',\n 'Chemical and Drug Induced Liver Injury',\n 'Neurogenic Inflammation',\n 'Calcium Metabolism Disorders',\n 'Anti-Neutrophil Cytoplasmic Antibody-Associated Vasculitis',\n 'Neuroinflammatory Diseases',\n 'Glucose Metabolism Disorders',\n 'Systemic Inflammatory Response Syndrome',\n 'Autoimmune Diseases of the Nervous System',\n 'Polyradiculoneuropathy, Chronic Inflammatory Demyelinating',\n 'Cardiomegaly, Exercise-Induced',\n 'Bisphosphonate-Associated Osteonecrosis of the Jaw',\n 'Iron Metabolism Disorders',\n 'Chemical and Drug Induced Liver Injury, Chronic',\n 'Simian Acquired Immunodeficiency Syndrome',\n 'Central Nervous System Viral Diseases',\n 'Central Nervous System Bacterial Infections',\n 'Pelvic Inflammatory Disease',\n 'Vasculitis, Central Nervous System',\n 'Central Nervous System Fungal Infections',\n 'Immune Reconstitution Inflammatory Syndrome',\n 'Hypertension, Pregnancy-Induced',\n 'Vitamin K Deficiency Bleeding',\n 'Lupus Vasculitis, Central Nervous System',\n 'Nut and Peanut Hypersensitivity',\n 'Immunologic Deficiency Syndromes',\n 'Chemotherapy-Related Cognitive Impairment',\n 'Complement Pathway, Mannose-Binding Lectin',\n 'Postoperative Nausea and Vomiting',\n 'Mitochondrial Transmembrane Permeability-Driven Necrosis',\n 'Antibody-Dependent Cell Cytotoxicity',\n 'Chemotherapy-Induced Febrile Neutropenia',\n 'Inflammatory Breast Neoplasms',\n 'Neoplasms, Hormone-Dependent',\n 'Cytokine-Induced Killer Cells',\n 'Mucosal-Associated Invariant T Cells',\n 'Immunity, Maternally-Acquired',\n 'Murine Acquired Immunodeficiency Syndrome',\n 'Immunoreceptor Tyrosine-Based Activation Motif',\n 'Response Evaluation Criteria in Solid Tumors',\n 'Anti-Inflammatory Agents, Non-Steroidal',\n 'Intracellular Calcium-Sensing Proteins',\n 'Norepinephrine Plasma Membrane Transport Proteins',\n 'Plasma Membrane Neurotransmitter Transport Proteins',\n 'Equilibrative Nucleoside Transport Proteins',\n 'Soluble N-Ethylmaleimide-Sensitive Factor Attachment Proteins',\n 'Salivary Proteins and Peptides',\n 'Neuronal Calcium-Sensor Proteins',\n 'Circadian Rhythm Signaling Peptides and Proteins',\n 'High-Temperature Requirement A Serine Peptidase 2',\n 'High-Temperature Requirement A Serine Peptidase 1',\n 'Dietary Approaches To Stop Hypertension',\n 'Calcium Metabolism Disorders',\n 'Congenital Disorders of Glycosylation',\n 'Autoimmune Diseases of the Nervous System',\n 'Steroid Metabolism, Inborn Errors',\n 'Bisphosphonate-Associated Osteonecrosis of the Jaw',\n 'Simian Acquired Immunodeficiency Syndrome',\n 'Metal Metabolism, Inborn Errors',\n 'Central Nervous System Bacterial Infections',\n 'Feline Acquired Immunodeficiency Syndrome',\n 'Lipid Metabolism, Inborn Errors',\n 'Bovine Virus Diarrhea-Mucosal Disease',\n 'Carbohydrate Metabolism, Inborn Errors',\n 'Amino Acid Metabolism, Inborn Errors',\n 'Chemotherapy-Related Cognitive Impairment',\n 'Feeding and Eating Disorders of Childhood',\n 'Abnormalities, Drug-Induced',\n 'Position-Specific Scoring Matrices',\n 'Antibody-Dependent Cell Cytotoxicity',\n 'Prostatic Neoplasms, Castration-Resistant',\n 'Neoplasms, Hormone-Dependent',\n 'Metabolic Detoxication, Phase I',\n 'Immunity, Maternally-Acquired',\n 'Microorganisms, Genetically-Modified',\n 'Antibody-Dependent Enhancement',\n 'Immunoreceptor Tyrosine-Based Activation Motif']"
     },
     "execution_count": 133,
     "metadata": {},
     "output_type": "execute_result"
    }
   ],
   "source": [
    "from pygrpm import *\n",
    "\n",
    "# Download and import MeSH Embeddings\n",
    "grpm_mesh_embeddings = import_mesh_embeddings()\n",
    "\n",
    "grpm_meshes = grpm_mesh_embeddings['meshes']\n",
    "mesh_embeddings = grpm_mesh_embeddings['embeddings']\n",
    "\n",
    "QUERY = \"systemic inflammatory response\"\n",
    "QUERIES = \"\"\"\n",
    "Impact of Systemic Inflammatory Response on Plasma Micronutrient Levels;\n",
    "Methods for Adjusting Micronutrient Measurements in the Presence of Inflammation\n",
    "\"\"\".split(\";\")\n",
    "\n",
    "# QUERY = \"Cardiovascualr disease\"\n",
    "composite_query = []\n",
    "for query in QUERIES:\n",
    "    mesh_rankings = get_mesh_rankings(query,\n",
    "                      grpm_meshes,\n",
    "                      model, mesh_embeddings=mesh_embeddings)\n",
    "    threshold = 0.85\n",
    "    mesh_query = filter_mesh_scores(mesh_rankings, threshold)\n",
    "    composite_query.extend(mesh_query)\n",
    "\n",
    "composite_query"
   ],
   "metadata": {
    "collapsed": false,
    "ExecuteTime": {
     "end_time": "2025-02-19T11:05:15.196817400Z",
     "start_time": "2025-02-19T11:05:14.800243200Z"
    }
   },
   "id": "27baf39903f3f980",
   "execution_count": 133
  },
  {
   "cell_type": "code",
   "outputs": [
    {
     "data": {
      "text/plain": "['Calcium-Regulating Hormones and Agents',\n 'Anti-Inflammatory Agents',\n 'Anti-Inflammatory Agents, Non-Steroidal',\n 'Melanocyte-Stimulating Hormones',\n 'Inducible T-Cell Co-Stimulator Protein',\n 'Oxidative Phosphorylation Coupling Factors',\n 'Intracellular Calcium-Sensing Proteins',\n 'Immune Checkpoint Proteins',\n 'Plasma Membrane Calcium-Transporting ATPases',\n 'Immunoglobulins, Thyroid-Stimulating',\n 'Glycine Plasma Membrane Transport Proteins',\n 'Serotonin Plasma Membrane Transport Proteins',\n 'Norepinephrine Plasma Membrane Transport Proteins',\n 'Plasma Membrane Neurotransmitter Transport Proteins',\n 'Catecholamine Plasma Membrane Transport Proteins',\n 'GABA Plasma Membrane Transport Proteins',\n 'Dopamine Plasma Membrane Transport Proteins',\n 'Pulmonary Surfactant-Associated Protein A',\n 'Pulmonary Surfactant-Associated Proteins',\n 'Immunoglobulin J Recombination Signal Sequence-Binding Protein',\n 'Seminal Plasma Proteins',\n 'Pregnancy-Associated Plasma Protein-A',\n 'Equilibrative Nucleoside Transport Proteins',\n 'Hyperpolarization-Activated Cyclic Nucleotide-Gated Channels',\n 'Eosinophil Granule Proteins',\n 'Costimulatory and Inhibitory T-Cell Receptors',\n 'Salivary Proteins and Peptides',\n 'Tumor Necrosis Factor Receptor-Associated Peptides and Proteins',\n 'Receptors, Vasoactive Intestinal Peptide',\n 'Pregnancy-Associated alpha 2-Macroglobulins',\n 'Complement C3b Inactivator Proteins',\n 'Triggering Receptor Expressed on Myeloid Cells-1',\n 'Pulmonary Surfactant-Associated Protein C',\n 'Neuronal Calcium-Sensor Proteins',\n 'Eosinophil Cationic Protein',\n 'Intercellular Signaling Peptides and Proteins',\n 'Cyclic AMP-Dependent Protein Kinase RIbeta Subunit',\n 'Cyclic AMP-Dependent Protein Kinase RIalpha Subunit',\n 'Cyclic AMP-Dependent Protein Kinase Catalytic Subunits',\n 'Retinol-Binding Proteins, Plasma',\n 'Glucocorticoid-Induced TNFR-Related Protein',\n 'Glutamate Plasma Membrane Transport Proteins',\n 'Vesicular Inhibitory Amino Acid Transport Proteins',\n 'Dopamine and cAMP-Regulated Phosphoprotein 32',\n 'Antimicrobial Cationic Peptides',\n 'Intracellular Signaling Peptides and Proteins',\n 'Salivary Proline-Rich Proteins',\n 'Circadian Rhythm Signaling Peptides and Proteins',\n 'Macrophage Inflammatory Proteins',\n 'Bacterial Outer Membrane Proteins',\n 'Myelin and Lymphocyte-Associated Proteolipid Proteins',\n 'Suppressor of Cytokine Signaling Proteins',\n 'Anti-Citrullinated Protein Antibodies',\n 'Periplasmic Binding Proteins',\n 'High-Temperature Requirement A Serine Peptidase 2',\n 'High-Temperature Requirement A Serine Peptidase 1',\n 'Dietary Approaches To Stop Hypertension',\n 'Chemical and Drug Induced Liver Injury',\n 'Neurogenic Inflammation',\n 'Calcium Metabolism Disorders',\n 'Anti-Neutrophil Cytoplasmic Antibody-Associated Vasculitis',\n 'Neuroinflammatory Diseases',\n 'Glucose Metabolism Disorders',\n 'Systemic Inflammatory Response Syndrome',\n 'Autoimmune Diseases of the Nervous System',\n 'Polyradiculoneuropathy, Chronic Inflammatory Demyelinating',\n 'Cardiomegaly, Exercise-Induced',\n 'Bisphosphonate-Associated Osteonecrosis of the Jaw',\n 'Iron Metabolism Disorders',\n 'Chemical and Drug Induced Liver Injury, Chronic',\n 'Simian Acquired Immunodeficiency Syndrome',\n 'Central Nervous System Viral Diseases',\n 'Central Nervous System Bacterial Infections',\n 'Pelvic Inflammatory Disease',\n 'Vasculitis, Central Nervous System',\n 'Central Nervous System Fungal Infections',\n 'Immune Reconstitution Inflammatory Syndrome',\n 'Hypertension, Pregnancy-Induced',\n 'Vitamin K Deficiency Bleeding',\n 'Lupus Vasculitis, Central Nervous System',\n 'Nut and Peanut Hypersensitivity',\n 'Immunologic Deficiency Syndromes',\n 'Chemotherapy-Related Cognitive Impairment',\n 'Complement Pathway, Mannose-Binding Lectin',\n 'Postoperative Nausea and Vomiting',\n 'Mitochondrial Transmembrane Permeability-Driven Necrosis',\n 'Antibody-Dependent Cell Cytotoxicity',\n 'Chemotherapy-Induced Febrile Neutropenia',\n 'Inflammatory Breast Neoplasms',\n 'Neoplasms, Hormone-Dependent',\n 'Cytokine-Induced Killer Cells',\n 'Mucosal-Associated Invariant T Cells',\n 'Immunity, Maternally-Acquired',\n 'Murine Acquired Immunodeficiency Syndrome',\n 'Immunoreceptor Tyrosine-Based Activation Motif',\n 'Response Evaluation Criteria in Solid Tumors',\n 'Anti-Inflammatory Agents, Non-Steroidal',\n 'Intracellular Calcium-Sensing Proteins',\n 'Norepinephrine Plasma Membrane Transport Proteins',\n 'Plasma Membrane Neurotransmitter Transport Proteins',\n 'Equilibrative Nucleoside Transport Proteins',\n 'Soluble N-Ethylmaleimide-Sensitive Factor Attachment Proteins',\n 'Salivary Proteins and Peptides',\n 'Neuronal Calcium-Sensor Proteins',\n 'Circadian Rhythm Signaling Peptides and Proteins',\n 'High-Temperature Requirement A Serine Peptidase 2',\n 'High-Temperature Requirement A Serine Peptidase 1',\n 'Dietary Approaches To Stop Hypertension',\n 'Calcium Metabolism Disorders',\n 'Congenital Disorders of Glycosylation',\n 'Autoimmune Diseases of the Nervous System',\n 'Steroid Metabolism, Inborn Errors',\n 'Bisphosphonate-Associated Osteonecrosis of the Jaw',\n 'Simian Acquired Immunodeficiency Syndrome',\n 'Metal Metabolism, Inborn Errors',\n 'Central Nervous System Bacterial Infections',\n 'Feline Acquired Immunodeficiency Syndrome',\n 'Lipid Metabolism, Inborn Errors',\n 'Bovine Virus Diarrhea-Mucosal Disease',\n 'Carbohydrate Metabolism, Inborn Errors',\n 'Amino Acid Metabolism, Inborn Errors',\n 'Chemotherapy-Related Cognitive Impairment',\n 'Feeding and Eating Disorders of Childhood',\n 'Abnormalities, Drug-Induced',\n 'Position-Specific Scoring Matrices',\n 'Antibody-Dependent Cell Cytotoxicity',\n 'Prostatic Neoplasms, Castration-Resistant',\n 'Neoplasms, Hormone-Dependent',\n 'Metabolic Detoxication, Phase I',\n 'Immunity, Maternally-Acquired',\n 'Microorganisms, Genetically-Modified',\n 'Antibody-Dependent Enhancement',\n 'Immunoreceptor Tyrosine-Based Activation Motif']"
     },
     "execution_count": 134,
     "metadata": {},
     "output_type": "execute_result"
    }
   ],
   "source": [
    "composite_query"
   ],
   "metadata": {
    "collapsed": false,
    "ExecuteTime": {
     "end_time": "2025-02-19T11:05:18.342145300Z",
     "start_time": "2025-02-19T11:05:18.335902200Z"
    }
   },
   "id": "dea527be613de15a",
   "execution_count": 134
  },
  {
   "cell_type": "markdown",
   "source": [
    "Gat Genes and Variants possibly realted to the Query"
   ],
   "metadata": {
    "collapsed": false
   },
   "id": "175a96ba3fb3bba8"
  },
  {
   "cell_type": "code",
   "outputs": [],
   "source": [
    "# Filter and get unique results\n",
    "result = query_dataset(grpm_nutrigen_int, mesh_query, 'mesh')\n",
    "display(result)"
   ],
   "metadata": {
    "collapsed": false
   },
   "id": "4d8f5d8e861fbd92"
  },
  {
   "cell_type": "code",
   "outputs": [
    {
     "name": "stdout",
     "output_type": "stream",
     "text": [
      "*chat cleared*\n",
      "1. Impact of Systemic Inflammatory Response on Plasma Micronutrient Levels\n",
      "2. Methods for Adjusting Micronutrient Measurements in the Presence of Inflammation"
     ]
    }
   ],
   "source": [
    "mendel.c(\"\"\"@\n",
    "Your task is to extract two main topics in the form of a compact and meaningful query from this work below:\n",
    "\n",
    "\"\"\"+TITABS, 4)"
   ],
   "metadata": {
    "collapsed": false,
    "ExecuteTime": {
     "end_time": "2025-02-19T10:58:24.909083300Z",
     "start_time": "2025-02-19T10:58:22.660225500Z"
    }
   },
   "id": "72a6bcb3bf7eeed",
   "execution_count": 127
  },
  {
   "cell_type": "code",
   "outputs": [
    {
     "data": {
      "text/plain": "Batches:   0%|          | 0/1 [00:00<?, ?it/s]",
      "application/vnd.jupyter.widget-view+json": {
       "version_major": 2,
       "version_minor": 0,
       "model_id": "0fb2f85f7711463eb79df3c8cd0e6b4c"
      }
     },
     "metadata": {},
     "output_type": "display_data"
    },
    {
     "name": "stderr",
     "output_type": "stream",
     "text": [
      "100%|██████████| 1/1 [00:00<00:00,  4.95it/s]"
     ]
    },
    {
     "name": "stdout",
     "output_type": "stream",
     "text": [
      "\n",
      "\n",
      "MeSH Query: []\n"
     ]
    },
    {
     "name": "stderr",
     "output_type": "stream",
     "text": [
      "\n"
     ]
    },
    {
     "data": {
      "text/plain": "                                               list1  \\\n0  \\nRelationship between nutritional status and ...   \n\n                                    list2  similarity  \n0  Carbohydrate Metabolism, Inborn Errors    0.856713  ",
      "text/html": "<div>\n<style scoped>\n    .dataframe tbody tr th:only-of-type {\n        vertical-align: middle;\n    }\n\n    .dataframe tbody tr th {\n        vertical-align: top;\n    }\n\n    .dataframe thead th {\n        text-align: right;\n    }\n</style>\n<table border=\"1\" class=\"dataframe\">\n  <thead>\n    <tr style=\"text-align: right;\">\n      <th></th>\n      <th>list1</th>\n      <th>list2</th>\n      <th>similarity</th>\n    </tr>\n  </thead>\n  <tbody>\n    <tr>\n      <th>0</th>\n      <td>\\nRelationship between nutritional status and ...</td>\n      <td>Carbohydrate Metabolism, Inborn Errors</td>\n      <td>0.856713</td>\n    </tr>\n  </tbody>\n</table>\n</div>"
     },
     "execution_count": 126,
     "metadata": {},
     "output_type": "execute_result"
    }
   ],
   "source": [
    "TITABS = \"\"\"\n",
    "Relationship between nutritional status and the systemic inflammatory response: micronutrients\n",
    "\n",
    "Abstract\n",
    "Micronutrients such as trace elements and vitamins are important as enzyme cofactors in the metabolism of all cells in the body and therefore key to determining nutritional status. The present systematic review examined the evidence of the impact of the systemic inflammatory response on plasma micronutrient status in acute (surgical) and chronic tissue injury. A literature review using targeted subject headings was carried out. Plasma C-reactive protein was used to classify minor (80 mg/l) inflammation. The literature search produced 2344 publications and plasma vitamin D, zinc and carotenoids were most commonly studied and plasma vitamins K, B2 and B6 were least studied. In acute injury thirteen studies (all prospective) and in chronic injury twenty-four studies (largely retrospective) were included in the review. There was consistent evidence that most common measured micronutrients in the plasma (zinc, selenium, vitamins A, D, E, K, B2, B6, B12, C, lutein, lycopene, α- and β-carotene) were significantly lowered from minor to moderate to major inflammation. The results of the present systematic review indicate that most plasma micronutrients fall as part of the systemic inflammatory response irrespective of acute or chronic injury. Therefore, in the presence of a systemic inflammation, plasma micronutrient concentrations should be interpreted with caution. There are a number of methods applied to adjust plasma micronutrient concentrations to avoid misdiagnosis of deficiency. Alternatively, intracellular measurements appear to obviate the need for such plasma adjustment to assess micronutrient status.\n",
    "\n",
    "Keywords: CRP C-reactive protein; C-reactive protein; Micronutrient status; Systemic inflammation; Trace elements; vitamins.\n",
    "\"\"\"\n",
    "# TITABS=\"Diabetic glucose\"\n",
    "topic_terms=pd.Series([TITABS])\n",
    "\n",
    "# Extract MeSH Query\n",
    "tab = create_corr_table(topic_terms, grpm_meshes, model, mesh_embeddings)\n",
    "\n",
    "threshold = 0.99# set similarity threshold\n",
    "mesh_query = tab[tab.similarity >= threshold].list2.to_list()\n",
    "print('\\n\\nMeSH Query:', mesh_query)\n",
    "tab"
   ],
   "metadata": {
    "collapsed": false,
    "ExecuteTime": {
     "end_time": "2025-02-19T10:58:18.809656200Z",
     "start_time": "2025-02-19T10:58:18.312273800Z"
    }
   },
   "id": "df895a86f52be4f3",
   "execution_count": 126
  },
  {
   "cell_type": "markdown",
   "source": [
    "    \\item [1)] Although the paper provides a link to a directory containing\\textit{ sample queries}, it would be very helpful to provide a few examples of  particularly interesting queries that can be written with this system.\n",
    "\n",
    "    \\item [R:] \\textcolor{violet}{Si riferisce ala directori tests e al notebook tests.ipynb. alcuni esempi di query particolarmente interessanti che possono essere scritte con questo sistema.  \n",
    "    Una query di interesse sul datase nutrientico complessivo potrebbe essere la ricerca di varianti putatiamente correlate a due diverse condizioni nutrizionali assemblando una query composita:\n",
    "    .\n",
    "    esempio: Relationship between nutritional status and the systemic inflammatory response: micronutrients a livello genetico \\cite{https://pubmed.ncbi.nlm.nih.gov/30220267/}\n",
    "    .\n",
    "    Query composita di questo tipo può essere composta con l'ausilio di BioBERT embedding per slezionare MESH partendo da una descrizione testuale (come proposto nel notebook \"test.ipynb\"), una funzinoe utile per l'implementazione di un interfaccia utente. \n",
    "    . \n",
    "    }\n",
    "    % c'è tempo per un ultimaimplemetaione?"
   ],
   "metadata": {
    "collapsed": false
   },
   "id": "2237cce709a20718"
  }
 ],
 "metadata": {
  "kernelspec": {
   "display_name": "Python 3",
   "language": "python",
   "name": "python3"
  },
  "language_info": {
   "codemirror_mode": {
    "name": "ipython",
    "version": 2
   },
   "file_extension": ".py",
   "mimetype": "text/x-python",
   "name": "python",
   "nbconvert_exporter": "python",
   "pygments_lexer": "ipython2",
   "version": "2.7.6"
  }
 },
 "nbformat": 4,
 "nbformat_minor": 5
}
