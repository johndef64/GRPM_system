{
 "cells": [
  {
   "cell_type": "markdown",
   "source": [
    "# Import modules"
   ],
   "metadata": {
    "collapsed": false
   },
   "id": "df38d2663d0b5b2e"
  },
  {
   "cell_type": "code",
   "outputs": [],
   "source": [
    "import importlib\n",
    "import subprocess\n",
    "\n",
    "try:\n",
    "    importlib.import_module('pygrpm')\n",
    "except ImportError:\n",
    "    subprocess.check_call([\"pip\", \"install\", \"git+https://github.com/johndef64/GRPM_system.git\"])\n",
    "    \n",
    "from pygrpm import *"
   ],
   "metadata": {
    "collapsed": false,
    "ExecuteTime": {
     "end_time": "2025-02-19T21:57:54.503962900Z",
     "start_time": "2025-02-19T21:57:44.418665100Z"
    }
   },
   "id": "b49a1c9885565c8",
   "execution_count": 1
  },
  {
   "cell_type": "markdown",
   "source": [
    "# GET Datasets"
   ],
   "metadata": {
    "collapsed": false
   },
   "id": "72ba3275c7199e3"
  },
  {
   "cell_type": "code",
   "outputs": [],
   "source": [
    "### GET Datasets ###\n",
    "if not os.path.exists('grpm_dataset/grpm_dataset.parquet'):\n",
    "    get_and_extract('grpm_dataset', record_id='14052302')\n",
    "    get_and_extract('nutrigenetic_dataset', record_id='14052302')"
   ],
   "metadata": {
    "collapsed": false,
    "ExecuteTime": {
     "end_time": "2025-02-19T18:09:55.860740500Z",
     "start_time": "2025-02-19T18:09:55.829964Z"
    }
   },
   "id": "ee2f83b09bfae9b9",
   "execution_count": 3
  },
  {
   "cell_type": "markdown",
   "source": [
    "# LOAD Datasets"
   ],
   "metadata": {
    "collapsed": false
   },
   "id": "d949e679493bcbd9"
  },
  {
   "cell_type": "code",
   "outputs": [
    {
     "name": "stdout",
     "output_type": "stream",
     "text": [
      "Importing time:  0:00:07.151996\n",
      "pcg: 776.19 MB\n",
      "rna: 58.18 MB\n",
      "pseudo: 1.93 MB\n",
      "nutrigen dataset: 87.13 MB\n",
      "nutrigen dataset filtered: 53.62 MB\n",
      "nutrigen gwas dataset: 20.56 MB\n"
     ]
    },
    {
     "data": {
      "text/plain": "          gene          rsid      pmid                               mesh  \\\n0          FTO     rs9972653  32393786                    Body Mass Index   \n1          FTO     rs9972653  32393786          Diabetes Mellitus, Type 2   \n2          FTO     rs9972653  32393786                               Diet   \n3          FTO     rs9972653  33128006                    Body Mass Index   \n4          FTO     rs9972653  33128006            Cardiovascular Diseases   \n...        ...           ...       ...                                ...   \n1171244  FADS1      rs174545  23221573                   Lipid Metabolism   \n1171245  FADS1      rs174545  30120404                              Liver   \n1171246  FADS1      rs174545  30120404  Non-alcoholic Fatty Liver Disease   \n1171247  FADS1      rs174544  20565855                   Lipid Metabolism   \n1171248  FADS1  rs1185231229  23306188                   Lipid Metabolism   \n\n                          topic  interest_index  \n0             General Nutrition         1.00000  \n1             General Nutrition         1.00000  \n2             General Nutrition         1.00000  \n3             General Nutrition         1.00000  \n4             General Nutrition         1.00000  \n...                         ...             ...  \n1171244  Xenobiotics Metabolism         0.01255  \n1171245  Xenobiotics Metabolism         0.01255  \n1171246  Xenobiotics Metabolism         0.01255  \n1171247  Xenobiotics Metabolism         0.01255  \n1171248  Xenobiotics Metabolism         0.01255  \n\n[1171249 rows x 6 columns]",
      "text/html": "<div>\n<style scoped>\n    .dataframe tbody tr th:only-of-type {\n        vertical-align: middle;\n    }\n\n    .dataframe tbody tr th {\n        vertical-align: top;\n    }\n\n    .dataframe thead th {\n        text-align: right;\n    }\n</style>\n<table border=\"1\" class=\"dataframe\">\n  <thead>\n    <tr style=\"text-align: right;\">\n      <th></th>\n      <th>gene</th>\n      <th>rsid</th>\n      <th>pmid</th>\n      <th>mesh</th>\n      <th>topic</th>\n      <th>interest_index</th>\n    </tr>\n  </thead>\n  <tbody>\n    <tr>\n      <th>0</th>\n      <td>FTO</td>\n      <td>rs9972653</td>\n      <td>32393786</td>\n      <td>Body Mass Index</td>\n      <td>General Nutrition</td>\n      <td>1.00000</td>\n    </tr>\n    <tr>\n      <th>1</th>\n      <td>FTO</td>\n      <td>rs9972653</td>\n      <td>32393786</td>\n      <td>Diabetes Mellitus, Type 2</td>\n      <td>General Nutrition</td>\n      <td>1.00000</td>\n    </tr>\n    <tr>\n      <th>2</th>\n      <td>FTO</td>\n      <td>rs9972653</td>\n      <td>32393786</td>\n      <td>Diet</td>\n      <td>General Nutrition</td>\n      <td>1.00000</td>\n    </tr>\n    <tr>\n      <th>3</th>\n      <td>FTO</td>\n      <td>rs9972653</td>\n      <td>33128006</td>\n      <td>Body Mass Index</td>\n      <td>General Nutrition</td>\n      <td>1.00000</td>\n    </tr>\n    <tr>\n      <th>4</th>\n      <td>FTO</td>\n      <td>rs9972653</td>\n      <td>33128006</td>\n      <td>Cardiovascular Diseases</td>\n      <td>General Nutrition</td>\n      <td>1.00000</td>\n    </tr>\n    <tr>\n      <th>...</th>\n      <td>...</td>\n      <td>...</td>\n      <td>...</td>\n      <td>...</td>\n      <td>...</td>\n      <td>...</td>\n    </tr>\n    <tr>\n      <th>1171244</th>\n      <td>FADS1</td>\n      <td>rs174545</td>\n      <td>23221573</td>\n      <td>Lipid Metabolism</td>\n      <td>Xenobiotics Metabolism</td>\n      <td>0.01255</td>\n    </tr>\n    <tr>\n      <th>1171245</th>\n      <td>FADS1</td>\n      <td>rs174545</td>\n      <td>30120404</td>\n      <td>Liver</td>\n      <td>Xenobiotics Metabolism</td>\n      <td>0.01255</td>\n    </tr>\n    <tr>\n      <th>1171246</th>\n      <td>FADS1</td>\n      <td>rs174545</td>\n      <td>30120404</td>\n      <td>Non-alcoholic Fatty Liver Disease</td>\n      <td>Xenobiotics Metabolism</td>\n      <td>0.01255</td>\n    </tr>\n    <tr>\n      <th>1171247</th>\n      <td>FADS1</td>\n      <td>rs174544</td>\n      <td>20565855</td>\n      <td>Lipid Metabolism</td>\n      <td>Xenobiotics Metabolism</td>\n      <td>0.01255</td>\n    </tr>\n    <tr>\n      <th>1171248</th>\n      <td>FADS1</td>\n      <td>rs1185231229</td>\n      <td>23306188</td>\n      <td>Lipid Metabolism</td>\n      <td>Xenobiotics Metabolism</td>\n      <td>0.01255</td>\n    </tr>\n  </tbody>\n</table>\n<p>1171249 rows × 6 columns</p>\n</div>"
     },
     "metadata": {},
     "output_type": "display_data"
    }
   ],
   "source": [
    "### LOAD Datasets ###\n",
    "pcg_grpm, rna_grpm, pseudo_grpm = grpm_importer()\n",
    "grpm_nutrigen, grpm_nutrigen_int, grpm_nutrigen_int_gwas = nutrig_importer()\n",
    "\n",
    "display(grpm_nutrigen_int)"
   ],
   "metadata": {
    "collapsed": false,
    "ExecuteTime": {
     "end_time": "2025-02-19T21:58:09.436879700Z",
     "start_time": "2025-02-19T21:57:54.507963700Z"
    }
   },
   "id": "83f43553f9bd7c3b",
   "execution_count": 2
  },
  {
   "cell_type": "markdown",
   "source": [
    "# SHOW Stats"
   ],
   "metadata": {
    "collapsed": false
   },
   "id": "c1308e809f14ab8c"
  },
  {
   "cell_type": "code",
   "outputs": [],
   "source": [
    "%%time\n",
    "pcg_grpm_stats = get_stats(pcg_grpm, group_by = 'gene')\n",
    "display(pcg_grpm_stats)"
   ],
   "metadata": {
    "collapsed": false,
    "ExecuteTime": {
     "end_time": "2025-02-19T15:38:52.672040Z",
     "start_time": "2025-02-19T15:38:52.568040500Z"
    }
   },
   "id": "7c3ba98a0f4586ad"
  },
  {
   "cell_type": "code",
   "outputs": [],
   "source": [
    "%%time\n",
    "grpm_nutrigen_stats = get_stats(grpm_nutrigen, group_by = 'gene')\n",
    "display(grpm_nutrigen_stats)"
   ],
   "metadata": {
    "collapsed": false,
    "ExecuteTime": {
     "start_time": "2025-02-19T15:38:52.571043500Z"
    }
   },
   "id": "53b8d4bd3b022b39",
   "execution_count": null
  },
  {
   "cell_type": "markdown",
   "source": [
    "# QUERY GRPM Dataset "
   ],
   "metadata": {
    "collapsed": false
   },
   "id": "6f89129f4d7121c8"
  },
  {
   "cell_type": "markdown",
   "source": [
    "## MeSH Query Example"
   ],
   "metadata": {
    "collapsed": false
   },
   "id": "9cfaf0ddcbcaffd0"
  },
  {
   "cell_type": "code",
   "outputs": [
    {
     "name": "stdout",
     "output_type": "stream",
     "text": [
      "GRPM MeSH count: 21705\n"
     ]
    },
    {
     "data": {
      "text/plain": "             Preferred Label  \\\n0  Electronic Health Records   \n1              Consent Forms   \n2     Genealogy and Heraldry   \n3               Publications   \n4    Pharmaceutical Services   \n\n                                            Class ID  \\\n0  http://purl.bioontology.org/ontology/MESH/D057286   \n1  http://purl.bioontology.org/ontology/MESH/D032962   \n2  http://purl.bioontology.org/ontology/MESH/D005789   \n3  http://purl.bioontology.org/ontology/MESH/D011642   \n4  http://purl.bioontology.org/ontology/MESH/D010593   \n\n                                            Synonyms  \\\n0  Electronic Medical Record|Medical Record, Elec...   \n1  Informed Consent Documents|Informed Consent Fo...   \n2  Geneology and Heraldry|Heraldry and Genealogy|...   \n3                                        Publication   \n4  Pharmaceutical Service|Services, Pharmaceutic|...   \n\n                                         Definitions  \n0  Media that facilitate transportability of pert...  \n1  Documents describing a medical treatment or re...  \n2  Descent of a person, family, or group from an ...  \n3  Copies of a work or document distributed to th...  \n4  Total pharmaceutical services provided by qual...  ",
      "text/html": "<div>\n<style scoped>\n    .dataframe tbody tr th:only-of-type {\n        vertical-align: middle;\n    }\n\n    .dataframe tbody tr th {\n        vertical-align: top;\n    }\n\n    .dataframe thead th {\n        text-align: right;\n    }\n</style>\n<table border=\"1\" class=\"dataframe\">\n  <thead>\n    <tr style=\"text-align: right;\">\n      <th></th>\n      <th>Preferred Label</th>\n      <th>Class ID</th>\n      <th>Synonyms</th>\n      <th>Definitions</th>\n    </tr>\n  </thead>\n  <tbody>\n    <tr>\n      <th>0</th>\n      <td>Electronic Health Records</td>\n      <td>http://purl.bioontology.org/ontology/MESH/D057286</td>\n      <td>Electronic Medical Record|Medical Record, Elec...</td>\n      <td>Media that facilitate transportability of pert...</td>\n    </tr>\n    <tr>\n      <th>1</th>\n      <td>Consent Forms</td>\n      <td>http://purl.bioontology.org/ontology/MESH/D032962</td>\n      <td>Informed Consent Documents|Informed Consent Fo...</td>\n      <td>Documents describing a medical treatment or re...</td>\n    </tr>\n    <tr>\n      <th>2</th>\n      <td>Genealogy and Heraldry</td>\n      <td>http://purl.bioontology.org/ontology/MESH/D005789</td>\n      <td>Geneology and Heraldry|Heraldry and Genealogy|...</td>\n      <td>Descent of a person, family, or group from an ...</td>\n    </tr>\n    <tr>\n      <th>3</th>\n      <td>Publications</td>\n      <td>http://purl.bioontology.org/ontology/MESH/D011642</td>\n      <td>Publication</td>\n      <td>Copies of a work or document distributed to th...</td>\n    </tr>\n    <tr>\n      <th>4</th>\n      <td>Pharmaceutical Services</td>\n      <td>http://purl.bioontology.org/ontology/MESH/D010593</td>\n      <td>Pharmaceutical Service|Services, Pharmaceutic|...</td>\n      <td>Total pharmaceutical services provided by qual...</td>\n    </tr>\n  </tbody>\n</table>\n</div>"
     },
     "execution_count": 2,
     "metadata": {},
     "output_type": "execute_result"
    }
   ],
   "source": [
    "# LOAD MeSH\n",
    "\n",
    "grpm_mesh= import_grpm_mesh()\n",
    "grpm_mesh.head()"
   ],
   "metadata": {
    "collapsed": false,
    "ExecuteTime": {
     "end_time": "2025-02-19T20:49:19.896706900Z",
     "start_time": "2025-02-19T20:49:19.748836600Z"
    }
   },
   "id": "8fc5532611717398",
   "execution_count": 2
  },
  {
   "cell_type": "code",
   "outputs": [
    {
     "data": {
      "text/plain": "             gene type         rsid      pmid                  mesh  \\\n178386      KRT23  PCG  rs140407470  21874024         CD28 Antigens   \n222732      MMEL1  PCG    rs3890745  19898481         CD28 Antigens   \n361776    HLA-DRA  PCG    rs3135392  33058932        Cephalosporins   \n400814        TNF  PCG    rs1800629  25510954         CD28 Antigens   \n589282      PTPRC  PCG   rs10919563  19898481         CD28 Antigens   \n...           ...  ...          ...       ...                   ...   \n16415706    TNPO3  PCG   rs10488631  31030958         CD28 Antigens   \n16416142    TNPO3  PCG   rs10488631  27092776         CD28 Antigens   \n16416202    TNPO3  PCG   rs10488631  34017081         CD28 Antigens   \n16488218   ALOX15  PCG   rs34210653  31301373            Turbinates   \n16606737    CXCL8  PCG  rs572157399  27502767  Haemophilus parasuis   \n\n                         qualifier  major  \n178386                  physiology  False  \n222732                    genetics   True  \n361776             adverse effects   True  \n400814                    analysis  False  \n589282                    genetics   True  \n...                            ...    ...  \n16415706  antagonists & inhibitors  False  \n16416142                  genetics   True  \n16416202                  genetics   True  \n16488218                metabolism   True  \n16606737                      None   True  \n\n[856 rows x 7 columns]",
      "text/html": "<div>\n<style scoped>\n    .dataframe tbody tr th:only-of-type {\n        vertical-align: middle;\n    }\n\n    .dataframe tbody tr th {\n        vertical-align: top;\n    }\n\n    .dataframe thead th {\n        text-align: right;\n    }\n</style>\n<table border=\"1\" class=\"dataframe\">\n  <thead>\n    <tr style=\"text-align: right;\">\n      <th></th>\n      <th>gene</th>\n      <th>type</th>\n      <th>rsid</th>\n      <th>pmid</th>\n      <th>mesh</th>\n      <th>qualifier</th>\n      <th>major</th>\n    </tr>\n  </thead>\n  <tbody>\n    <tr>\n      <th>178386</th>\n      <td>KRT23</td>\n      <td>PCG</td>\n      <td>rs140407470</td>\n      <td>21874024</td>\n      <td>CD28 Antigens</td>\n      <td>physiology</td>\n      <td>False</td>\n    </tr>\n    <tr>\n      <th>222732</th>\n      <td>MMEL1</td>\n      <td>PCG</td>\n      <td>rs3890745</td>\n      <td>19898481</td>\n      <td>CD28 Antigens</td>\n      <td>genetics</td>\n      <td>True</td>\n    </tr>\n    <tr>\n      <th>361776</th>\n      <td>HLA-DRA</td>\n      <td>PCG</td>\n      <td>rs3135392</td>\n      <td>33058932</td>\n      <td>Cephalosporins</td>\n      <td>adverse effects</td>\n      <td>True</td>\n    </tr>\n    <tr>\n      <th>400814</th>\n      <td>TNF</td>\n      <td>PCG</td>\n      <td>rs1800629</td>\n      <td>25510954</td>\n      <td>CD28 Antigens</td>\n      <td>analysis</td>\n      <td>False</td>\n    </tr>\n    <tr>\n      <th>589282</th>\n      <td>PTPRC</td>\n      <td>PCG</td>\n      <td>rs10919563</td>\n      <td>19898481</td>\n      <td>CD28 Antigens</td>\n      <td>genetics</td>\n      <td>True</td>\n    </tr>\n    <tr>\n      <th>...</th>\n      <td>...</td>\n      <td>...</td>\n      <td>...</td>\n      <td>...</td>\n      <td>...</td>\n      <td>...</td>\n      <td>...</td>\n    </tr>\n    <tr>\n      <th>16415706</th>\n      <td>TNPO3</td>\n      <td>PCG</td>\n      <td>rs10488631</td>\n      <td>31030958</td>\n      <td>CD28 Antigens</td>\n      <td>antagonists &amp; inhibitors</td>\n      <td>False</td>\n    </tr>\n    <tr>\n      <th>16416142</th>\n      <td>TNPO3</td>\n      <td>PCG</td>\n      <td>rs10488631</td>\n      <td>27092776</td>\n      <td>CD28 Antigens</td>\n      <td>genetics</td>\n      <td>True</td>\n    </tr>\n    <tr>\n      <th>16416202</th>\n      <td>TNPO3</td>\n      <td>PCG</td>\n      <td>rs10488631</td>\n      <td>34017081</td>\n      <td>CD28 Antigens</td>\n      <td>genetics</td>\n      <td>True</td>\n    </tr>\n    <tr>\n      <th>16488218</th>\n      <td>ALOX15</td>\n      <td>PCG</td>\n      <td>rs34210653</td>\n      <td>31301373</td>\n      <td>Turbinates</td>\n      <td>metabolism</td>\n      <td>True</td>\n    </tr>\n    <tr>\n      <th>16606737</th>\n      <td>CXCL8</td>\n      <td>PCG</td>\n      <td>rs572157399</td>\n      <td>27502767</td>\n      <td>Haemophilus parasuis</td>\n      <td>None</td>\n      <td>True</td>\n    </tr>\n  </tbody>\n</table>\n<p>856 rows × 7 columns</p>\n</div>"
     },
     "metadata": {},
     "output_type": "display_data"
    }
   ],
   "source": [
    "# Random Query Example\n",
    "mesh_query =  grpm_mesh['Preferred Label'].drop_duplicates().sample(10).to_list()\n",
    "\n",
    "# Filter and get unique results\n",
    "result = query_dataset(pcg_grpm, mesh_query, 'mesh')\n",
    "display(result)"
   ],
   "metadata": {
    "collapsed": false,
    "ExecuteTime": {
     "end_time": "2025-02-19T17:56:09.828902200Z",
     "start_time": "2025-02-19T17:56:08.883968500Z"
    }
   },
   "id": "31dce3eb083906e",
   "execution_count": 5
  },
  {
   "cell_type": "markdown",
   "source": [
    "## Build MeSH Query \n",
    "[CUDA recommended] - In Colab:: load Runtime with GPU "
   ],
   "metadata": {
    "collapsed": false
   },
   "id": "94e480d1caae2077"
  },
  {
   "cell_type": "code",
   "outputs": [
    {
     "name": "stderr",
     "output_type": "stream",
     "text": [
      "No sentence-transformers model found with name dmis-lab/biobert-v1.1. Creating a new one with mean pooling.\n"
     ]
    },
    {
     "name": "stdout",
     "output_type": "stream",
     "text": [
      "Torch version: 2.6.0+cu118\n",
      "Is CUDA enabled? True\n",
      "Is CUDA enabled? True\n",
      "No embeddings. Generating embeddings...\n"
     ]
    },
    {
     "data": {
      "text/plain": "Batches:   0%|          | 0/679 [00:00<?, ?it/s]",
      "application/vnd.jupyter.widget-view+json": {
       "version_major": 2,
       "version_minor": 0,
       "model_id": "0439df50a6894e20bccdfc0b1de91d2a"
      }
     },
     "metadata": {},
     "output_type": "display_data"
    },
    {
     "name": "stdout",
     "output_type": "stream",
     "text": [
      "Saving embeddings in ref-mesh/GrpmMeshSynEmbeddings_biobert-v1.1.pkl\n",
      "Importing pretrained embeddings...\n",
      "Done\n"
     ]
    }
   ],
   "source": [
    "# LOAD Language Model\n",
    "MODEL = 'dmis-lab/biobert-v1.1'\n",
    "model = load_language_model(MODEL)\n",
    "file_path = 'ref-mesh/GrpmMeshSynEmbeddings_biobert-v1.1.pkl'\n",
    "\n",
    "# Get MeSH embeddings\n",
    "test_cuda()\n",
    "grpm_mesh_embeddings = get_mesh_embeddings(grpm_mesh, model, file_path, retrain=True, synonyms=True)\n",
    "\n",
    "grpm_meshes = grpm_mesh_embeddings['meshes']\n",
    "mesh_embeddings = grpm_mesh_embeddings['embeddings']\n",
    "\n",
    "##################################################################\n",
    "file_path = 'ref-mesh/GrpmMeshDefEmbeddings_biobert-v1.1.pkl'\n",
    "grpm_mesh_embeddings_ = get_mesh_embeddings(grpm_mesh, model, file_path)#, retrain=True, full_lenght=True)\n",
    "\n",
    "grpm_meshes_ = grpm_mesh_embeddings_['meshes']\n",
    "mesh_embeddings_ = grpm_mesh_embeddings_['embeddings']"
   ],
   "metadata": {
    "collapsed": false,
    "ExecuteTime": {
     "end_time": "2025-02-19T20:59:32.493673200Z",
     "start_time": "2025-02-19T20:49:34.019815200Z"
    }
   },
   "id": "485b46e4bca5f354",
   "execution_count": 3
  },
  {
   "cell_type": "code",
   "outputs": [
    {
     "data": {
      "text/plain": "21705"
     },
     "execution_count": 15,
     "metadata": {},
     "output_type": "execute_result"
    }
   ],
   "source": [
    "len(grpm_meshes)"
   ],
   "metadata": {
    "collapsed": false,
    "ExecuteTime": {
     "end_time": "2025-02-19T18:17:42.167705Z",
     "start_time": "2025-02-19T18:17:42.107218800Z"
    }
   },
   "id": "f1e3bb02f74cb0e7",
   "execution_count": 15
  },
  {
   "cell_type": "code",
   "outputs": [
    {
     "data": {
      "text/plain": "Batches:   0%|          | 0/1 [00:00<?, ?it/s]",
      "application/vnd.jupyter.widget-view+json": {
       "version_major": 2,
       "version_minor": 0,
       "model_id": "005b365dcec0442ea4234f8114c148a4"
      }
     },
     "metadata": {},
     "output_type": "display_data"
    },
    {
     "name": "stderr",
     "output_type": "stream",
     "text": [
      "100%|██████████| 19/19 [00:03<00:00,  5.59it/s]"
     ]
    },
    {
     "name": "stdout",
     "output_type": "stream",
     "text": [
      "\n",
      "\n",
      "MeSH Query: ['Diet, Carbohydrate-Restricted', 'Hyperlipidemias', 'Feeding and Eating Disorders of Childhood', 'Egg Hypersensitivity', 'Endoscopy, Gastrointestinal', 'Hypercholesterolemia', 'Hypertriglyceridemia', 'Hyperlipidemias', 'Hypoglycemic Agents']\n"
     ]
    },
    {
     "name": "stderr",
     "output_type": "stream",
     "text": [
      "\n"
     ]
    }
   ],
   "source": [
    "# User defined Topic Terms\n",
    "\n",
    "user_query = \"diet ketogenic, diet reducing, diet sodium-restricted, diet, dietary, dietetics, dyslipidemias, eating disorders, feeding and eating disorde, food hypersensitivity, foodborne diseases, gastrointestinal diseases, hypercholesterolemia, hyperglycemia, hyperlipidemias, hyperphagia, hypoglycemia, hypophagia, insulin resistance\"  # comma separated list\n",
    "\n",
    "topic_terms_list = user_query.split(',')\n",
    "topic_terms = pd.Series(topic_terms_list)\n",
    "\n",
    "# mesh_query = get_mesh_query(user_query, grpm_meshes, model, mesh_embeddings=mesh_embeddings, threshold=0.90)\n",
    "\n",
    "# Extract MeSH Query\n",
    "tab = create_corr_table(topic_terms, grpm_meshes, model, mesh_embeddings_)\n",
    "\n",
    "threshold = 0.84 # set similarity threshold\n",
    "mesh_query = tab[tab.similarity >= threshold].list2.to_list()\n",
    "print('\\n\\nMeSH Query:', mesh_query)"
   ],
   "metadata": {
    "collapsed": false,
    "ExecuteTime": {
     "end_time": "2025-02-19T20:45:10.950907500Z",
     "start_time": "2025-02-19T20:45:07.447889500Z"
    }
   },
   "id": "a40091d0648f72f5",
   "execution_count": 14
  },
  {
   "cell_type": "markdown",
   "source": [
    "Batches:   0%|          | 0/1 [00:00<?, ?it/s]\n",
    "100%|██████████| 19/19 [00:03<00:00,  5.67it/s]\n",
    "\n",
    "\n",
    "MeSH Query: ['Hyperlipidemias', 'Feeding and Eating Disorders of Childhood', 'Egg Hypersensitivity', 'Endoscopy, Gastrointestinal', 'Hypercholesterolemia', 'Hyperlipidemias', 'Hypoglycemic Agents']\n",
    "\n"
   ],
   "metadata": {
    "collapsed": false
   },
   "id": "aa9928e0dc7b9902"
  },
  {
   "cell_type": "markdown",
   "source": [
    "MeSH Query: ['Diet', 'Diet', 'Dyslipidemias', 'Hypersensitivity', 'Gastrointestinal Diseases', 'Hypercholesterolemia', 'Hyperglycemia', 'Hyperlipidemias', 'Hyperphagia', 'Hypoglycemia']"
   ],
   "metadata": {
    "collapsed": false
   },
   "id": "6b4622752beb614a"
  },
  {
   "cell_type": "markdown",
   "source": [
    "## Execute MeSH Query"
   ],
   "metadata": {
    "collapsed": false
   },
   "id": "5ac558dffc7156ad"
  },
  {
   "cell_type": "code",
   "outputs": [],
   "source": [
    "# Filter and get unique results\n",
    "result = query_dataset(pcg_grpm, mesh_query, 'mesh')\n",
    "display(result)"
   ],
   "metadata": {
    "collapsed": false,
    "ExecuteTime": {
     "start_time": "2025-02-19T15:38:52.617148400Z"
    }
   },
   "id": "96db33e16dc2dc20",
   "execution_count": null
  },
  {
   "cell_type": "markdown",
   "source": [
    "# QUERY Nutrigenetic Dataset"
   ],
   "metadata": {
    "collapsed": false
   },
   "id": "249fdde0095caff5"
  },
  {
   "cell_type": "code",
   "outputs": [],
   "source": [
    "get_stats(grpm_nutrigen_int, 'topic')"
   ],
   "metadata": {
    "collapsed": false,
    "ExecuteTime": {
     "start_time": "2025-02-19T15:38:52.620043600Z"
    }
   },
   "id": "8ab5daf28e758919",
   "execution_count": null
  },
  {
   "cell_type": "code",
   "outputs": [
    {
     "name": "stdout",
     "output_type": "stream",
     "text": [
      "Displaying \"Vitamin and Micronutrients Metabolism and Deficiency-Related Diseases\" topic\n"
     ]
    },
    {
     "data": {
      "text/plain": "          gene          rsid      pmid  \\\n967603     VDR      rs987849  34578986   \n967604     VDR      rs987849  34578986   \n967605     VDR      rs987849  34578986   \n967606     VDR      rs987849  34578986   \n967607     VDR      rs987849  34578986   \n...        ...           ...       ...   \n1002198  ITPR1   rs121912425  21555639   \n1002199  ITPR1   rs121912425  22986007   \n1002200  ITPR1   rs121912425  18579805   \n1002201  ITPR1   rs121912425  27108798   \n1002202  ITPR1  rs1114167316  28488678   \n\n                                           mesh  \\\n967603                       Nutritional Status   \n967604                    Receptors, Calcitriol   \n967605                                Vitamin D   \n967606                     Vitamin D Deficiency   \n967607                Vitamin D-Binding Protein   \n...                                         ...   \n1002198  Inositol 1,4,5-Trisphosphate Receptors   \n1002199  Inositol 1,4,5-Trisphosphate Receptors   \n1002200  Inositol 1,4,5-Trisphosphate Receptors   \n1002201  Inositol 1,4,5-Trisphosphate Receptors   \n1002202  Inositol 1,4,5-Trisphosphate Receptors   \n\n                                                     topic  interest_index  \n967603   Vitamin and Micronutrients Metabolism and Defi...         1.00000  \n967604   Vitamin and Micronutrients Metabolism and Defi...         1.00000  \n967605   Vitamin and Micronutrients Metabolism and Defi...         1.00000  \n967606   Vitamin and Micronutrients Metabolism and Defi...         1.00000  \n967607   Vitamin and Micronutrients Metabolism and Defi...         1.00000  \n...                                                    ...             ...  \n1002198  Vitamin and Micronutrients Metabolism and Defi...         0.01255  \n1002199  Vitamin and Micronutrients Metabolism and Defi...         0.01255  \n1002200  Vitamin and Micronutrients Metabolism and Defi...         0.01255  \n1002201  Vitamin and Micronutrients Metabolism and Defi...         0.01255  \n1002202  Vitamin and Micronutrients Metabolism and Defi...         0.01255  \n\n[34600 rows x 6 columns]",
      "text/html": "<div>\n<style scoped>\n    .dataframe tbody tr th:only-of-type {\n        vertical-align: middle;\n    }\n\n    .dataframe tbody tr th {\n        vertical-align: top;\n    }\n\n    .dataframe thead th {\n        text-align: right;\n    }\n</style>\n<table border=\"1\" class=\"dataframe\">\n  <thead>\n    <tr style=\"text-align: right;\">\n      <th></th>\n      <th>gene</th>\n      <th>rsid</th>\n      <th>pmid</th>\n      <th>mesh</th>\n      <th>topic</th>\n      <th>interest_index</th>\n    </tr>\n  </thead>\n  <tbody>\n    <tr>\n      <th>967603</th>\n      <td>VDR</td>\n      <td>rs987849</td>\n      <td>34578986</td>\n      <td>Nutritional Status</td>\n      <td>Vitamin and Micronutrients Metabolism and Defi...</td>\n      <td>1.00000</td>\n    </tr>\n    <tr>\n      <th>967604</th>\n      <td>VDR</td>\n      <td>rs987849</td>\n      <td>34578986</td>\n      <td>Receptors, Calcitriol</td>\n      <td>Vitamin and Micronutrients Metabolism and Defi...</td>\n      <td>1.00000</td>\n    </tr>\n    <tr>\n      <th>967605</th>\n      <td>VDR</td>\n      <td>rs987849</td>\n      <td>34578986</td>\n      <td>Vitamin D</td>\n      <td>Vitamin and Micronutrients Metabolism and Defi...</td>\n      <td>1.00000</td>\n    </tr>\n    <tr>\n      <th>967606</th>\n      <td>VDR</td>\n      <td>rs987849</td>\n      <td>34578986</td>\n      <td>Vitamin D Deficiency</td>\n      <td>Vitamin and Micronutrients Metabolism and Defi...</td>\n      <td>1.00000</td>\n    </tr>\n    <tr>\n      <th>967607</th>\n      <td>VDR</td>\n      <td>rs987849</td>\n      <td>34578986</td>\n      <td>Vitamin D-Binding Protein</td>\n      <td>Vitamin and Micronutrients Metabolism and Defi...</td>\n      <td>1.00000</td>\n    </tr>\n    <tr>\n      <th>...</th>\n      <td>...</td>\n      <td>...</td>\n      <td>...</td>\n      <td>...</td>\n      <td>...</td>\n      <td>...</td>\n    </tr>\n    <tr>\n      <th>1002198</th>\n      <td>ITPR1</td>\n      <td>rs121912425</td>\n      <td>21555639</td>\n      <td>Inositol 1,4,5-Trisphosphate Receptors</td>\n      <td>Vitamin and Micronutrients Metabolism and Defi...</td>\n      <td>0.01255</td>\n    </tr>\n    <tr>\n      <th>1002199</th>\n      <td>ITPR1</td>\n      <td>rs121912425</td>\n      <td>22986007</td>\n      <td>Inositol 1,4,5-Trisphosphate Receptors</td>\n      <td>Vitamin and Micronutrients Metabolism and Defi...</td>\n      <td>0.01255</td>\n    </tr>\n    <tr>\n      <th>1002200</th>\n      <td>ITPR1</td>\n      <td>rs121912425</td>\n      <td>18579805</td>\n      <td>Inositol 1,4,5-Trisphosphate Receptors</td>\n      <td>Vitamin and Micronutrients Metabolism and Defi...</td>\n      <td>0.01255</td>\n    </tr>\n    <tr>\n      <th>1002201</th>\n      <td>ITPR1</td>\n      <td>rs121912425</td>\n      <td>27108798</td>\n      <td>Inositol 1,4,5-Trisphosphate Receptors</td>\n      <td>Vitamin and Micronutrients Metabolism and Defi...</td>\n      <td>0.01255</td>\n    </tr>\n    <tr>\n      <th>1002202</th>\n      <td>ITPR1</td>\n      <td>rs1114167316</td>\n      <td>28488678</td>\n      <td>Inositol 1,4,5-Trisphosphate Receptors</td>\n      <td>Vitamin and Micronutrients Metabolism and Defi...</td>\n      <td>0.01255</td>\n    </tr>\n  </tbody>\n</table>\n<p>34600 rows × 6 columns</p>\n</div>"
     },
     "metadata": {},
     "output_type": "display_data"
    }
   ],
   "source": [
    "# Select Topic\n",
    "topic = \"Vitamin and Micronutrients Metabolism and Deficiency-Related Diseases\"\n",
    "\n",
    "# Filter and get unique results\n",
    "topic_data = query_dataset(grpm_nutrigen_int, [topic], 'topic')\n",
    "print(f'Displaying \"{topic}\" topic')\n",
    "display(topic_data)"
   ],
   "metadata": {
    "collapsed": false,
    "ExecuteTime": {
     "end_time": "2025-02-19T18:18:15.681151600Z",
     "start_time": "2025-02-19T18:18:15.611519700Z"
    }
   },
   "id": "c06bdbbe6d035bb6",
   "execution_count": 17
  },
  {
   "cell_type": "code",
   "outputs": [],
   "source": [
    "# Get Topic Data Stats\n",
    "stats = get_stats(topic_data, \"gene\", gi_sort=True)\n",
    "\n",
    "stats"
   ],
   "metadata": {
    "collapsed": false,
    "ExecuteTime": {
     "start_time": "2025-02-19T15:38:52.625043100Z"
    }
   },
   "id": "8d51fcef87fc292",
   "execution_count": null
  },
  {
   "cell_type": "markdown",
   "source": [
    "## 1. Gene Query Example"
   ],
   "metadata": {
    "collapsed": false
   },
   "id": "122c6c47ce1d843b"
  },
  {
   "cell_type": "code",
   "outputs": [],
   "source": [
    "# Gene Query on Nutrigenetic Topic\n",
    "my_genes = \"VDR, G6PD, GSTP1\"\n",
    "\n",
    "# Filter and get unique results\n",
    "result = query_dataset(topic_data, my_genes.split(','), 'gene')\n",
    "display(result)"
   ],
   "metadata": {
    "collapsed": false,
    "ExecuteTime": {
     "start_time": "2025-02-19T15:38:52.627042200Z"
    }
   },
   "id": "847848c87e42f770",
   "execution_count": null
  },
  {
   "cell_type": "code",
   "outputs": [],
   "source": [
    "# Gene Query on Nutrigenetic-GWAS ds\n",
    "result = query_dataset(grpm_nutrigen_int_gwas, my_genes, 'GRPM_GENE')\n",
    "display(result)"
   ],
   "metadata": {
    "collapsed": false,
    "ExecuteTime": {
     "start_time": "2025-02-19T15:38:52.631043500Z"
    }
   },
   "id": "9bc895ffb3fa09e8",
   "execution_count": null
  },
  {
   "cell_type": "markdown",
   "source": [
    "## 2. Advanced query example\n",
    "\n",
    "Exploring the genetic determinants of nutritional status involves understanding how genetic variations influence the intake and utilization of micronutrients, impacting nutrient transport, metabolism, and cellular uptake.\n",
    "\n",
    "\"\"\"\n",
    "Micronutrients such as trace elements and vitamins are important as enzyme cofactors in the metabolism of all cells in the body and therefore key to determining nutritional status. \n",
    "\"\"\"\n",
    "\n",
    "Build a composite query:\n",
    "- Nutritional Status, Mechanisms of Micronutrient Metabolism, and Micronutrient Measurement"
   ],
   "metadata": {
    "collapsed": false
   },
   "id": "2b21cf86211b297e"
  },
  {
   "cell_type": "code",
   "outputs": [
    {
     "name": "stdout",
     "output_type": "stream",
     "text": [
      "Done\n",
      "\n",
      " ['Measurement of nutritional status', 0.85]\n"
     ]
    },
    {
     "data": {
      "text/plain": "Batches:   0%|          | 0/1 [00:00<?, ?it/s]",
      "application/vnd.jupyter.widget-view+json": {
       "version_major": 2,
       "version_minor": 0,
       "model_id": "8416c2ce71c6469d996b76c9eab989c8"
      }
     },
     "metadata": {},
     "output_type": "display_data"
    },
    {
     "name": "stdout",
     "output_type": "stream",
     "text": [
      "Related MeSH: ['Nutritional Support', 'Malnutrition', 'Nutritional Status', 'Lung Volume Measurements', 'Speech Production Measurement', 'Eye Movement Measurements', 'Nutritional Requirements', 'Educational Measurement']\n",
      "\n",
      " ['Assess essential micronutrients', 0.84]\n"
     ]
    },
    {
     "data": {
      "text/plain": "Batches:   0%|          | 0/1 [00:00<?, ?it/s]",
      "application/vnd.jupyter.widget-view+json": {
       "version_major": 2,
       "version_minor": 0,
       "model_id": "ccd44a04f16b420b85b4a5bd3084c36f"
      }
     },
     "metadata": {},
     "output_type": "display_data"
    },
    {
     "name": "stdout",
     "output_type": "stream",
     "text": [
      "Related MeSH: ['Dietary Proteins', 'Micronutrients', 'Malnutrition', 'Vitamin A Deficiency', 'Nutrition Disorders', 'Nutritional Status', 'Nutrients', 'Sports Nutritional Sciences', 'Nutritional Requirements']\n",
      "\n",
      " ['Focus on vitamins like vitamin A, D, and B-vitamins.', 0.84]\n"
     ]
    },
    {
     "data": {
      "text/plain": "Batches:   0%|          | 0/1 [00:00<?, ?it/s]",
      "application/vnd.jupyter.widget-view+json": {
       "version_major": 2,
       "version_minor": 0,
       "model_id": "651fe6d5fa9c4747b7cdcdda4c10ab1d"
      }
     },
     "metadata": {},
     "output_type": "display_data"
    },
    {
     "name": "stdout",
     "output_type": "stream",
     "text": [
      "Related MeSH: ['Vitamin E', 'Cholagogues and Choleretics', 'Anti-Infective Agents, Urinary', 'Anti-Infective Agents, Local', 'Fatty Acids, Omega-3', 'Vitamin B 12', 'Vitamin B Complex', 'Vitamin A', 'Vitamin D', 'Diuretics, Potassium Sparing', 'Vaccines, Virus-Like Particle', 'Amino Acids, Essential', 'Vitamin K 3', 'Vitamin K 2', 'Vitamin B 6', 'Contraceptives, Oral, Hormonal', 'Receptors, OSM-LIF', 'Salivary Proteins and Peptides', 'Retinol-Binding Proteins, Cellular', 'Retinol-Binding Proteins, Plasma', 'Amino Acids, Basic', 'Fatty Acids, Essential', 'Fatty Acids, Omega-6', 'Micronutrients', 'Diet, Vegetarian', 'Intestinal Diseases, Parasitic', 'Vitamin E Deficiency', 'Vitamin K Deficiency', 'Liver Diseases, Parasitic', 'Liver Diseases, Alcoholic', 'Hypervitaminosis A', 'Vitamin B 6 Deficiency', 'Skin Diseases, Bacterial', 'Skin Diseases, Viral', 'Vitamin A Deficiency', 'Vitamin B 12 Deficiency', 'Vitamin D Deficiency', 'Vitamin B Deficiency', 'Hepatitis, Viral, Animal', 'Hepatitis, Viral, Human', 'Dysentery, Bacillary', 'Genes, erbB-1', 'Genes, erbB-2']\n",
      "\n",
      " ['Include trace minerals such as iron, zinc, and iodine.', 0.87]\n"
     ]
    },
    {
     "data": {
      "text/plain": "Batches:   0%|          | 0/1 [00:00<?, ?it/s]",
      "application/vnd.jupyter.widget-view+json": {
       "version_major": 2,
       "version_minor": 0,
       "model_id": "cde00347ec5f475b8ea937cc5a070ece"
      }
     },
     "metadata": {},
     "output_type": "display_data"
    },
    {
     "name": "stdout",
     "output_type": "stream",
     "text": [
      "Related MeSH: []\n",
      "\n",
      " ['cellular processes for micronutrient absorption.', 0.87]\n"
     ]
    },
    {
     "data": {
      "text/plain": "Batches:   0%|          | 0/1 [00:00<?, ?it/s]",
      "application/vnd.jupyter.widget-view+json": {
       "version_major": 2,
       "version_minor": 0,
       "model_id": "1e247bf2bb6d4e4395983b68a2a63d90"
      }
     },
     "metadata": {},
     "output_type": "display_data"
    },
    {
     "name": "stdout",
     "output_type": "stream",
     "text": [
      "Related MeSH: ['Glucose Transport Proteins, Facilitative', 'Receptors, OSM-LIF', 'Activation, Metabolic']\n",
      "\n",
      " ['transport and transformation of nutrients.', 0.84]\n"
     ]
    },
    {
     "data": {
      "text/plain": "Batches:   0%|          | 0/1 [00:00<?, ?it/s]",
      "application/vnd.jupyter.widget-view+json": {
       "version_major": 2,
       "version_minor": 0,
       "model_id": "5236e6e770ea4779ac20b26991f0c64b"
      }
     },
     "metadata": {},
     "output_type": "display_data"
    },
    {
     "name": "stdout",
     "output_type": "stream",
     "text": [
      "Related MeSH: ['Sulfate Transporters', 'Nitrate Transporters', 'Biodegradation, Environmental', 'Protein Transport', 'Chemoautotrophic Growth']\n",
      "\n",
      " ['nutrients storage mechanisms.', 0.84]\n"
     ]
    },
    {
     "data": {
      "text/plain": "Batches:   0%|          | 0/1 [00:00<?, ?it/s]",
      "application/vnd.jupyter.widget-view+json": {
       "version_major": 2,
       "version_minor": 0,
       "model_id": "1e0207e5a7fb42e7bb03bf6907c788d0"
      }
     },
     "metadata": {},
     "output_type": "display_data"
    },
    {
     "name": "stdout",
     "output_type": "stream",
     "text": [
      "Related MeSH: ['Glycine Agents', 'Receptors, GABA-A', 'Receptors, GABA-B', 'R Factors', 'Inhibition, Psychological', 'Conditioning, Classical', 'Starvation', 'Protein Transport', 'Chemoautotrophic Growth', 'Autotrophic Processes', 'Activation, Metabolic', 'Secretory Rate', 'Cell Respiration', 'Osmoregulation', 'Plant Transpiration', 'Germination']\n",
      "\n",
      " ['cofactors in nutrient utilization.', 0.84]\n"
     ]
    },
    {
     "data": {
      "text/plain": "Batches:   0%|          | 0/1 [00:00<?, ?it/s]",
      "application/vnd.jupyter.widget-view+json": {
       "version_major": 2,
       "version_minor": 0,
       "model_id": "9c890904802044f9952f6d011d9a545d"
      }
     },
     "metadata": {},
     "output_type": "display_data"
    },
    {
     "name": "stdout",
     "output_type": "stream",
     "text": [
      "Related MeSH: ['Glycine Decarboxylase Complex H-Protein', 'Nitrate Reductases', 'Glycine Decarboxylase Complex', 'Sulfate Transporters', 'Pyruvate Dehydrogenase Complex', 'Pyruvate Decarboxylase', 'Pyruvate Carboxylase', 'Glucose Transport Proteins, Facilitative', 'PII Nitrogen Regulatory Proteins', 'NADH, NADPH Oxidoreductases', 'Ketoglutarate Dehydrogenase Complex', 'Nitrite Reductases', 'Pyruvate Kinase', 'Nitrate Transporters', 'Citrate (si)-Synthase', 'Porphobilinogen Synthase', 'Nitroreductases', 'Hydroxymethylglutaryl-CoA-Reductases, NADP-dependent', 'Carbonyl Reductase (NADPH)', 'Carbamoyl-Phosphate Synthase (Ammonia)', 'Pyruvate Carboxylase Deficiency Disease', 'Chemoautotrophic Growth', 'Autotrophic Processes', 'Catabolite Repression']\n",
      "\n",
      " ['homeostasis of nutrients.', 0.84]\n"
     ]
    },
    {
     "data": {
      "text/plain": "Batches:   0%|          | 0/1 [00:00<?, ?it/s]",
      "application/vnd.jupyter.widget-view+json": {
       "version_major": 2,
       "version_minor": 0,
       "model_id": "59f67823e96247edb32ca9326d4a919b"
      }
     },
     "metadata": {},
     "output_type": "display_data"
    },
    {
     "name": "stdout",
     "output_type": "stream",
     "text": [
      "Related MeSH: ['Receptors, OSM-LIF', 'Decerebrate State', 'Intracellular Space', 'Inactivation, Metabolic', 'Intestinal Reabsorption', 'Protein Transport', 'Activation, Metabolic', 'Proteostasis', 'Metabolic Flux Analysis', 'Organism Hydration Status', 'Osmoregulation', 'Energy Metabolism', 'Basal Metabolism', 'Catabolite Repression', 'Plasma Volume', 'Homeostasis']\n"
     ]
    },
    {
     "data": {
      "text/plain": "['Nutritional Support',\n 'Malnutrition',\n 'Nutritional Status',\n 'Lung Volume Measurements',\n 'Speech Production Measurement',\n 'Eye Movement Measurements',\n 'Nutritional Requirements',\n 'Educational Measurement',\n 'Dietary Proteins',\n 'Micronutrients',\n 'Malnutrition',\n 'Vitamin A Deficiency',\n 'Nutrition Disorders',\n 'Nutritional Status',\n 'Nutrients',\n 'Sports Nutritional Sciences',\n 'Nutritional Requirements',\n 'Vitamin E',\n 'Cholagogues and Choleretics',\n 'Anti-Infective Agents, Urinary',\n 'Anti-Infective Agents, Local',\n 'Fatty Acids, Omega-3',\n 'Vitamin B 12',\n 'Vitamin B Complex',\n 'Vitamin A',\n 'Vitamin D',\n 'Diuretics, Potassium Sparing',\n 'Vaccines, Virus-Like Particle',\n 'Amino Acids, Essential',\n 'Vitamin K 3',\n 'Vitamin K 2',\n 'Vitamin B 6',\n 'Contraceptives, Oral, Hormonal',\n 'Receptors, OSM-LIF',\n 'Salivary Proteins and Peptides',\n 'Retinol-Binding Proteins, Cellular',\n 'Retinol-Binding Proteins, Plasma',\n 'Amino Acids, Basic',\n 'Fatty Acids, Essential',\n 'Fatty Acids, Omega-6',\n 'Micronutrients',\n 'Diet, Vegetarian',\n 'Intestinal Diseases, Parasitic',\n 'Vitamin E Deficiency',\n 'Vitamin K Deficiency',\n 'Liver Diseases, Parasitic',\n 'Liver Diseases, Alcoholic',\n 'Hypervitaminosis A',\n 'Vitamin B 6 Deficiency',\n 'Skin Diseases, Bacterial',\n 'Skin Diseases, Viral',\n 'Vitamin A Deficiency',\n 'Vitamin B 12 Deficiency',\n 'Vitamin D Deficiency',\n 'Vitamin B Deficiency',\n 'Hepatitis, Viral, Animal',\n 'Hepatitis, Viral, Human',\n 'Dysentery, Bacillary',\n 'Genes, erbB-1',\n 'Genes, erbB-2',\n 'Glucose Transport Proteins, Facilitative',\n 'Receptors, OSM-LIF',\n 'Activation, Metabolic',\n 'Sulfate Transporters',\n 'Nitrate Transporters',\n 'Biodegradation, Environmental',\n 'Protein Transport',\n 'Chemoautotrophic Growth',\n 'Glycine Agents',\n 'Receptors, GABA-A',\n 'Receptors, GABA-B',\n 'R Factors',\n 'Inhibition, Psychological',\n 'Conditioning, Classical',\n 'Starvation',\n 'Protein Transport',\n 'Chemoautotrophic Growth',\n 'Autotrophic Processes',\n 'Activation, Metabolic',\n 'Secretory Rate',\n 'Cell Respiration',\n 'Osmoregulation',\n 'Plant Transpiration',\n 'Germination',\n 'Glycine Decarboxylase Complex H-Protein',\n 'Nitrate Reductases',\n 'Glycine Decarboxylase Complex',\n 'Sulfate Transporters',\n 'Pyruvate Dehydrogenase Complex',\n 'Pyruvate Decarboxylase',\n 'Pyruvate Carboxylase',\n 'Glucose Transport Proteins, Facilitative',\n 'PII Nitrogen Regulatory Proteins',\n 'NADH, NADPH Oxidoreductases',\n 'Ketoglutarate Dehydrogenase Complex',\n 'Nitrite Reductases',\n 'Pyruvate Kinase',\n 'Nitrate Transporters',\n 'Citrate (si)-Synthase',\n 'Porphobilinogen Synthase',\n 'Nitroreductases',\n 'Hydroxymethylglutaryl-CoA-Reductases, NADP-dependent',\n 'Carbonyl Reductase (NADPH)',\n 'Carbamoyl-Phosphate Synthase (Ammonia)',\n 'Pyruvate Carboxylase Deficiency Disease',\n 'Chemoautotrophic Growth',\n 'Autotrophic Processes',\n 'Catabolite Repression',\n 'Receptors, OSM-LIF',\n 'Decerebrate State',\n 'Intracellular Space',\n 'Inactivation, Metabolic',\n 'Intestinal Reabsorption',\n 'Protein Transport',\n 'Activation, Metabolic',\n 'Proteostasis',\n 'Metabolic Flux Analysis',\n 'Organism Hydration Status',\n 'Osmoregulation',\n 'Energy Metabolism',\n 'Basal Metabolism',\n 'Catabolite Repression',\n 'Plasma Volume',\n 'Homeostasis']"
     },
     "execution_count": 22,
     "metadata": {},
     "output_type": "execute_result"
    }
   ],
   "source": [
    "from pygrpm import *\n",
    "\n",
    "# Download and import MeSH Embeddings\n",
    "grpm_mesh_embeddings = import_mesh_embeddings()\n",
    "\n",
    "grpm_meshes = grpm_mesh_embeddings['meshes']\n",
    "mesh_embeddings = grpm_mesh_embeddings['embeddings']\n",
    "\n",
    "# Define queries using natural language\n",
    "QUERIES =[\n",
    "     # 1. **Nutritional Status**:\n",
    "     [\"Measurement of nutritional status\", 0.85],\n",
    "     [\"Assess essential micronutrients\", 0.84],\n",
    "     [\"Focus on vitamins like vitamin A, D, and B-vitamins.\", 0.84],\n",
    "     [\"Include trace minerals such as iron, zinc, and iodine.\", 0.87],\n",
    "\n",
    "    # 2\"**Mechanisms of Micronutrient Metabolism**:\n",
    "     [\"cellular processes for micronutrient absorption.\", 0.87],\n",
    "     [\"transport and transformation of nutrients.\", 0.84],\n",
    "     [\"nutrients storage mechanisms.\", 0.84],\n",
    "     [\"cofactors in nutrient utilization.\", 0.84],\n",
    "     [\"homeostasis of nutrients.\", 0.84],\n",
    "]\n",
    "\n",
    "\n",
    "mesh_query = []\n",
    "for i in range(len(QUERIES)):\n",
    "    query =  QUERIES[i]\n",
    "    print(\"\\n\",query)\n",
    "    meshes = get_mesh_query(query[0], grpm_meshes, model, mesh_embeddings=mesh_embeddings, threshold=query[1])\n",
    "    mesh_query.extend(meshes)\n",
    "\n",
    "mesh_query"
   ],
   "metadata": {
    "collapsed": false,
    "ExecuteTime": {
     "end_time": "2025-02-19T21:53:09.918697400Z",
     "start_time": "2025-02-19T21:53:09.117977800Z"
    }
   },
   "id": "df9d387deb9befaf",
   "execution_count": 22
  },
  {
   "cell_type": "code",
   "outputs": [
    {
     "data": {
      "text/plain": "(124, 105)"
     },
     "execution_count": 24,
     "metadata": {},
     "output_type": "execute_result"
    }
   ],
   "source": [
    "len(mesh_query), len(set(mesh_query))"
   ],
   "metadata": {
    "collapsed": false,
    "ExecuteTime": {
     "end_time": "2025-02-19T21:54:32.017374200Z",
     "start_time": "2025-02-19T21:54:31.947960700Z"
    }
   },
   "id": "cdd69bea90fd377c",
   "execution_count": 24
  },
  {
   "cell_type": "code",
   "outputs": [
    {
     "data": {
      "text/plain": "Batches:   0%|          | 0/1 [00:00<?, ?it/s]",
      "application/vnd.jupyter.widget-view+json": {
       "version_major": 2,
       "version_minor": 0,
       "model_id": "1acb41241f454989942c44eb054852de"
      }
     },
     "metadata": {},
     "output_type": "display_data"
    },
    {
     "ename": "ValueError",
     "evalue": "The truth value of an array with more than one element is ambiguous. Use a.any() or a.all()",
     "output_type": "error",
     "traceback": [
      "\u001B[1;31m---------------------------------------------------------------------------\u001B[0m",
      "\u001B[1;31mValueError\u001B[0m                                Traceback (most recent call last)",
      "Cell \u001B[1;32mIn[18], line 18\u001B[0m\n\u001B[0;32m     16\u001B[0m composite_query \u001B[38;5;241m=\u001B[39m []\n\u001B[0;32m     17\u001B[0m \u001B[38;5;28;01mfor\u001B[39;00m query \u001B[38;5;129;01min\u001B[39;00m QUERIES:\n\u001B[1;32m---> 18\u001B[0m     mesh_rankings \u001B[38;5;241m=\u001B[39m get_mesh_rankings(query,\n\u001B[0;32m     19\u001B[0m                       grpm_meshes,\n\u001B[0;32m     20\u001B[0m                       model, mesh_embeddings\u001B[38;5;241m=\u001B[39mmesh_embeddings)\n\u001B[0;32m     21\u001B[0m     threshold \u001B[38;5;241m=\u001B[39m \u001B[38;5;241m0.85\u001B[39m\n\u001B[0;32m     22\u001B[0m     mesh_query \u001B[38;5;241m=\u001B[39m filter_mesh_scores(mesh_rankings, threshold)\n",
      "File \u001B[1;32mG:\\Altri computer\\Horizon\\horizon_workspace\\projects\\work\\#computer_science\\GRPM\\GRPM_system\\pygrpm\\main.py:373\u001B[0m, in \u001B[0;36mget_mesh_rankings\u001B[1;34m(user_query, mesh_terms, model, mesh_embeddings)\u001B[0m\n\u001B[0;32m    369\u001B[0m \u001B[38;5;66;03m# User query\u001B[39;00m\n\u001B[0;32m    370\u001B[0m \n\u001B[0;32m    371\u001B[0m \u001B[38;5;66;03m# Get embeddings for the query and MESH terms\u001B[39;00m\n\u001B[0;32m    372\u001B[0m query_embedding \u001B[38;5;241m=\u001B[39m model\u001B[38;5;241m.\u001B[39mencode(user_query, convert_to_tensor\u001B[38;5;241m=\u001B[39m\u001B[38;5;28;01mTrue\u001B[39;00m, show_progress_bar\u001B[38;5;241m=\u001B[39m\u001B[38;5;28;01mTrue\u001B[39;00m)\n\u001B[1;32m--> 373\u001B[0m \u001B[38;5;28;01mif\u001B[39;00m mesh_embeddings:\n\u001B[0;32m    374\u001B[0m     mesh_embeddings \u001B[38;5;241m=\u001B[39m torch\u001B[38;5;241m.\u001B[39mfrom_numpy(mesh_embeddings)\n\u001B[0;32m    375\u001B[0m \u001B[38;5;28;01melse\u001B[39;00m:\n",
      "\u001B[1;31mValueError\u001B[0m: The truth value of an array with more than one element is ambiguous. Use a.any() or a.all()"
     ]
    }
   ],
   "source": [
    "\n",
    "# QUERY = \"Cardiovascualr disease\"\n",
    "composite_query = []\n",
    "for query in QUERIES:\n",
    "    mesh_rankings = get_mesh_rankings(query,\n",
    "                      grpm_meshes,\n",
    "                      model, mesh_embeddings=mesh_embeddings)\n",
    "    threshold = 0.85\n",
    "    mesh_query = filter_mesh_scores(mesh_rankings, threshold)\n",
    "    composite_query.extend(mesh_query)\n",
    "\n",
    "composite_query"
   ],
   "metadata": {
    "collapsed": false,
    "ExecuteTime": {
     "end_time": "2025-02-19T18:18:22.827657700Z",
     "start_time": "2025-02-19T18:18:22.638671Z"
    }
   },
   "id": "27baf39903f3f980",
   "execution_count": 18
  },
  {
   "cell_type": "code",
   "outputs": [],
   "source": [
    "composite_query"
   ],
   "metadata": {
    "collapsed": false,
    "ExecuteTime": {
     "start_time": "2025-02-19T15:38:52.640045300Z"
    }
   },
   "id": "dea527be613de15a",
   "execution_count": null
  },
  {
   "cell_type": "markdown",
   "source": [
    "Get Genes and Variants possibly related to the Query"
   ],
   "metadata": {
    "collapsed": false
   },
   "id": "175a96ba3fb3bba8"
  },
  {
   "cell_type": "code",
   "outputs": [],
   "source": [
    "# Filter and get unique results\n",
    "result = query_dataset(grpm_nutrigen_int, mesh_query, 'mesh')\n",
    "display(result)"
   ],
   "metadata": {
    "collapsed": false,
    "ExecuteTime": {
     "start_time": "2025-02-19T15:38:52.642044500Z"
    }
   },
   "id": "4d8f5d8e861fbd92",
   "execution_count": null
  },
  {
   "cell_type": "code",
   "outputs": [],
   "source": [
    "get_stats(result, \"gene\")"
   ],
   "metadata": {
    "collapsed": false,
    "ExecuteTime": {
     "start_time": "2025-02-19T15:38:52.644041100Z"
    }
   },
   "id": "762676152bbc8684",
   "execution_count": null
  },
  {
   "cell_type": "code",
   "outputs": [],
   "source": [
    "TITABS = \"\"\"\n",
    "Relationship between nutritional status and the systemic inflammatory response: micronutrients\n",
    "\n",
    "Abstract\n",
    "Micronutrients such as trace elements and vitamins are important as enzyme cofactors in the metabolism of all cells in the body and therefore key to determining nutritional status. The present systematic review examined the evidence of the impact of the systemic inflammatory response on plasma micronutrient status in acute (surgical) and chronic tissue injury. A literature review using targeted subject headings was carried out. Plasma C-reactive protein was used to classify minor (80 mg/l) inflammation. The literature search produced 2344 publications and plasma vitamin D, zinc and carotenoids were most commonly studied and plasma vitamins K, B2 and B6 were least studied. In acute injury thirteen studies (all prospective) and in chronic injury twenty-four studies (largely retrospective) were included in the review. There was consistent evidence that most common measured micronutrients in the plasma (zinc, selenium, vitamins A, D, E, K, B2, B6, B12, C, lutein, lycopene, α- and β-carotene) were significantly lowered from minor to moderate to major inflammation. The results of the present systematic review indicate that most plasma micronutrients fall as part of the systemic inflammatory response irrespective of acute or chronic injury. Therefore, in the presence of a systemic inflammation, plasma micronutrient concentrations should be interpreted with caution. There are a number of methods applied to adjust plasma micronutrient concentrations to avoid misdiagnosis of deficiency. Alternatively, intracellular measurements appear to obviate the need for such plasma adjustment to assess micronutrient status.\n",
    "\n",
    "Keywords: CRP C-reactive protein; C-reactive protein; Micronutrient status; Systemic inflammation; Trace elements; vitamins.\n",
    "\"\"\"\n",
    "# TITABS=\"Diabetic glucose\"\n",
    "topic_terms=pd.Series([TITABS])\n",
    "\n",
    "# Extract MeSH Query\n",
    "tab = create_corr_table(topic_terms, grpm_meshes, model, mesh_embeddings)\n",
    "\n",
    "threshold = 0.99# set similarity threshold\n",
    "mesh_query = tab[tab.similarity >= threshold].list2.to_list()\n",
    "print('\\n\\nMeSH Query:', mesh_query)\n",
    "tab"
   ],
   "metadata": {
    "collapsed": false,
    "ExecuteTime": {
     "start_time": "2025-02-19T15:38:52.647071500Z"
    }
   },
   "id": "df895a86f52be4f3",
   "execution_count": null
  },
  {
   "cell_type": "markdown",
   "source": [
    "    \\item [1)] Although the paper provides a link to a directory containing\\textit{ sample queries}, it would be very helpful to provide a few examples of  particularly interesting queries that can be written with this system.\n",
    "\n",
    "    \\item [R:] \\textcolor{violet}{Si riferisce ala directori tests e al notebook tests.ipynb. alcuni esempi di query particolarmente interessanti che possono essere scritte con questo sistema.  \n",
    "    Una query di interesse sul datase nutrientico complessivo potrebbe essere la ricerca di varianti putatiamente correlate a due diverse condizioni nutrizionali assemblando una query composita:\n",
    "    .\n",
    "    esempio: Relationship between nutritional status and the systemic inflammatory response: micronutrients a livello genetico \\cite{https://pubmed.ncbi.nlm.nih.gov/30220267/}\n",
    "    .\n",
    "    Query composita di questo tipo può essere composta con l'ausilio di BioBERT embedding per slezionare MESH partendo da una descrizione testuale (come proposto nel notebook \"test.ipynb\"), una funzinoe utile per l'implementazione di un interfaccia utente. \n",
    "    . \n",
    "    }\n",
    "    % c'è tempo per un ultimaimplemetaione?"
   ],
   "metadata": {
    "collapsed": false
   },
   "id": "2237cce709a20718"
  }
 ],
 "metadata": {
  "kernelspec": {
   "display_name": "Python 3",
   "language": "python",
   "name": "python3"
  },
  "language_info": {
   "codemirror_mode": {
    "name": "ipython",
    "version": 2
   },
   "file_extension": ".py",
   "mimetype": "text/x-python",
   "name": "python",
   "nbconvert_exporter": "python",
   "pygments_lexer": "ipython2",
   "version": "2.7.6"
  }
 },
 "nbformat": 4,
 "nbformat_minor": 5
}
