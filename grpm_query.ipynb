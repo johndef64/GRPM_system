{
 "cells": [
  {
   "cell_type": "markdown",
   "source": [
    "# Import modules"
   ],
   "metadata": {
    "collapsed": false
   },
   "id": "df38d2663d0b5b2e"
  },
  {
   "cell_type": "code",
   "outputs": [],
   "source": [
    "import importlib\n",
    "import subprocess\n",
    "\n",
    "try:\n",
    "    importlib.import_module('pygrpm')\n",
    "except ImportError:\n",
    "    subprocess.check_call([\"pip\", \"install\", \"git+https://github.com/johndef64/GRPM_system.git\"])\n",
    "    \n",
    "from pygrpm import *"
   ],
   "metadata": {
    "collapsed": false,
    "ExecuteTime": {
     "end_time": "2025-02-25T19:17:23.562233200Z",
     "start_time": "2025-02-25T19:17:14.949395300Z"
    }
   },
   "id": "b49a1c9885565c8",
   "execution_count": 1
  },
  {
   "cell_type": "markdown",
   "source": [
    "# GET Datasets"
   ],
   "metadata": {
    "collapsed": false
   },
   "id": "72ba3275c7199e3"
  },
  {
   "cell_type": "code",
   "outputs": [],
   "source": [
    "### GET Datasets ###\n",
    "if not os.path.exists('grpm_dataset/grpm_dataset.parquet'):\n",
    "    get_and_extract('grpm_dataset', record_id='14052302')\n",
    "    get_and_extract('nutrigenetic_dataset', record_id='14052302')"
   ],
   "metadata": {
    "collapsed": false,
    "ExecuteTime": {
     "end_time": "2025-02-19T18:09:55.860740500Z",
     "start_time": "2025-02-19T18:09:55.829964Z"
    }
   },
   "id": "ee2f83b09bfae9b9",
   "execution_count": 3
  },
  {
   "cell_type": "markdown",
   "source": [
    "# LOAD Datasets"
   ],
   "metadata": {
    "collapsed": false
   },
   "id": "d949e679493bcbd9"
  },
  {
   "cell_type": "code",
   "outputs": [
    {
     "name": "stdout",
     "output_type": "stream",
     "text": [
      "Importing time:  0:00:06.059999\n",
      "pcg: 776.19 MB\n",
      "rna: 58.18 MB\n",
      "pseudo: 1.93 MB\n",
      "nutrigen dataset: 87.13 MB\n",
      "nutrigen dataset filtered: 53.62 MB\n",
      "nutrigen gwas dataset: 20.56 MB\n"
     ]
    },
    {
     "data": {
      "text/plain": "          gene          rsid      pmid                               mesh  \\\n0          FTO     rs9972653  32393786                    Body Mass Index   \n1          FTO     rs9972653  32393786          Diabetes Mellitus, Type 2   \n2          FTO     rs9972653  32393786                               Diet   \n3          FTO     rs9972653  33128006                    Body Mass Index   \n4          FTO     rs9972653  33128006            Cardiovascular Diseases   \n...        ...           ...       ...                                ...   \n1171244  FADS1      rs174545  23221573                   Lipid Metabolism   \n1171245  FADS1      rs174545  30120404                              Liver   \n1171246  FADS1      rs174545  30120404  Non-alcoholic Fatty Liver Disease   \n1171247  FADS1      rs174544  20565855                   Lipid Metabolism   \n1171248  FADS1  rs1185231229  23306188                   Lipid Metabolism   \n\n                          topic  interest_index  \n0             General Nutrition         1.00000  \n1             General Nutrition         1.00000  \n2             General Nutrition         1.00000  \n3             General Nutrition         1.00000  \n4             General Nutrition         1.00000  \n...                         ...             ...  \n1171244  Xenobiotics Metabolism         0.01255  \n1171245  Xenobiotics Metabolism         0.01255  \n1171246  Xenobiotics Metabolism         0.01255  \n1171247  Xenobiotics Metabolism         0.01255  \n1171248  Xenobiotics Metabolism         0.01255  \n\n[1171249 rows x 6 columns]",
      "text/html": "<div>\n<style scoped>\n    .dataframe tbody tr th:only-of-type {\n        vertical-align: middle;\n    }\n\n    .dataframe tbody tr th {\n        vertical-align: top;\n    }\n\n    .dataframe thead th {\n        text-align: right;\n    }\n</style>\n<table border=\"1\" class=\"dataframe\">\n  <thead>\n    <tr style=\"text-align: right;\">\n      <th></th>\n      <th>gene</th>\n      <th>rsid</th>\n      <th>pmid</th>\n      <th>mesh</th>\n      <th>topic</th>\n      <th>interest_index</th>\n    </tr>\n  </thead>\n  <tbody>\n    <tr>\n      <th>0</th>\n      <td>FTO</td>\n      <td>rs9972653</td>\n      <td>32393786</td>\n      <td>Body Mass Index</td>\n      <td>General Nutrition</td>\n      <td>1.00000</td>\n    </tr>\n    <tr>\n      <th>1</th>\n      <td>FTO</td>\n      <td>rs9972653</td>\n      <td>32393786</td>\n      <td>Diabetes Mellitus, Type 2</td>\n      <td>General Nutrition</td>\n      <td>1.00000</td>\n    </tr>\n    <tr>\n      <th>2</th>\n      <td>FTO</td>\n      <td>rs9972653</td>\n      <td>32393786</td>\n      <td>Diet</td>\n      <td>General Nutrition</td>\n      <td>1.00000</td>\n    </tr>\n    <tr>\n      <th>3</th>\n      <td>FTO</td>\n      <td>rs9972653</td>\n      <td>33128006</td>\n      <td>Body Mass Index</td>\n      <td>General Nutrition</td>\n      <td>1.00000</td>\n    </tr>\n    <tr>\n      <th>4</th>\n      <td>FTO</td>\n      <td>rs9972653</td>\n      <td>33128006</td>\n      <td>Cardiovascular Diseases</td>\n      <td>General Nutrition</td>\n      <td>1.00000</td>\n    </tr>\n    <tr>\n      <th>...</th>\n      <td>...</td>\n      <td>...</td>\n      <td>...</td>\n      <td>...</td>\n      <td>...</td>\n      <td>...</td>\n    </tr>\n    <tr>\n      <th>1171244</th>\n      <td>FADS1</td>\n      <td>rs174545</td>\n      <td>23221573</td>\n      <td>Lipid Metabolism</td>\n      <td>Xenobiotics Metabolism</td>\n      <td>0.01255</td>\n    </tr>\n    <tr>\n      <th>1171245</th>\n      <td>FADS1</td>\n      <td>rs174545</td>\n      <td>30120404</td>\n      <td>Liver</td>\n      <td>Xenobiotics Metabolism</td>\n      <td>0.01255</td>\n    </tr>\n    <tr>\n      <th>1171246</th>\n      <td>FADS1</td>\n      <td>rs174545</td>\n      <td>30120404</td>\n      <td>Non-alcoholic Fatty Liver Disease</td>\n      <td>Xenobiotics Metabolism</td>\n      <td>0.01255</td>\n    </tr>\n    <tr>\n      <th>1171247</th>\n      <td>FADS1</td>\n      <td>rs174544</td>\n      <td>20565855</td>\n      <td>Lipid Metabolism</td>\n      <td>Xenobiotics Metabolism</td>\n      <td>0.01255</td>\n    </tr>\n    <tr>\n      <th>1171248</th>\n      <td>FADS1</td>\n      <td>rs1185231229</td>\n      <td>23306188</td>\n      <td>Lipid Metabolism</td>\n      <td>Xenobiotics Metabolism</td>\n      <td>0.01255</td>\n    </tr>\n  </tbody>\n</table>\n<p>1171249 rows × 6 columns</p>\n</div>"
     },
     "metadata": {},
     "output_type": "display_data"
    }
   ],
   "source": [
    "### LOAD Datasets ###\n",
    "\"\"\"\n",
    "1. GRPM Datset\n",
    "2. Nutrigenetic Dataset\n",
    "3. Nutrigenetic Dataset + GWAS\n",
    "\"\"\"\n",
    "\n",
    "pcg_grpm, rna_grpm, pseudo_grpm = grpm_importer()\n",
    "grpm_nutrigen, grpm_nutrigen_int, grpm_nutrigen_int_gwas = nutrig_importer()\n"
   ],
   "metadata": {
    "collapsed": false,
    "ExecuteTime": {
     "end_time": "2025-02-25T19:17:37.014241500Z",
     "start_time": "2025-02-25T19:17:23.565233400Z"
    }
   },
   "id": "83f43553f9bd7c3b",
   "execution_count": 2
  },
  {
   "cell_type": "markdown",
   "source": [
    "# SHOW Stats"
   ],
   "metadata": {
    "collapsed": false
   },
   "id": "c1308e809f14ab8c"
  },
  {
   "cell_type": "code",
   "outputs": [
    {
     "name": "stdout",
     "output_type": "stream",
     "text": [
      "Computing Stats...\n",
      "runtime:  0:01:18.116845\n"
     ]
    },
    {
     "data": {
      "text/plain": "          type   rsid   pmid   mesh qualifier\n        unique unique unique unique    unique\ngene                                         \nA1BG         1      4      7     75        14\nA1CF         1      7     23    137        18\nA2M          1     21     57    365        32\nA2ML1        1     32     13    117        16\nA3GALT2      1      1      1     11         4\n...        ...    ...    ...    ...       ...\nZXDC         1      5      3     44         5\nZYG11B       1      1      1     19         2\nZYX          1      5      4     45         8\nZZEF1        1      9     12    111        13\nZZZ3         1      3      5     49         5\n\n[15519 rows x 5 columns]",
      "text/html": "<div>\n<style scoped>\n    .dataframe tbody tr th:only-of-type {\n        vertical-align: middle;\n    }\n\n    .dataframe tbody tr th {\n        vertical-align: top;\n    }\n\n    .dataframe thead tr th {\n        text-align: left;\n    }\n\n    .dataframe thead tr:last-of-type th {\n        text-align: right;\n    }\n</style>\n<table border=\"1\" class=\"dataframe\">\n  <thead>\n    <tr>\n      <th></th>\n      <th>type</th>\n      <th>rsid</th>\n      <th>pmid</th>\n      <th>mesh</th>\n      <th>qualifier</th>\n    </tr>\n    <tr>\n      <th></th>\n      <th>unique</th>\n      <th>unique</th>\n      <th>unique</th>\n      <th>unique</th>\n      <th>unique</th>\n    </tr>\n    <tr>\n      <th>gene</th>\n      <th></th>\n      <th></th>\n      <th></th>\n      <th></th>\n      <th></th>\n    </tr>\n  </thead>\n  <tbody>\n    <tr>\n      <th>A1BG</th>\n      <td>1</td>\n      <td>4</td>\n      <td>7</td>\n      <td>75</td>\n      <td>14</td>\n    </tr>\n    <tr>\n      <th>A1CF</th>\n      <td>1</td>\n      <td>7</td>\n      <td>23</td>\n      <td>137</td>\n      <td>18</td>\n    </tr>\n    <tr>\n      <th>A2M</th>\n      <td>1</td>\n      <td>21</td>\n      <td>57</td>\n      <td>365</td>\n      <td>32</td>\n    </tr>\n    <tr>\n      <th>A2ML1</th>\n      <td>1</td>\n      <td>32</td>\n      <td>13</td>\n      <td>117</td>\n      <td>16</td>\n    </tr>\n    <tr>\n      <th>A3GALT2</th>\n      <td>1</td>\n      <td>1</td>\n      <td>1</td>\n      <td>11</td>\n      <td>4</td>\n    </tr>\n    <tr>\n      <th>...</th>\n      <td>...</td>\n      <td>...</td>\n      <td>...</td>\n      <td>...</td>\n      <td>...</td>\n    </tr>\n    <tr>\n      <th>ZXDC</th>\n      <td>1</td>\n      <td>5</td>\n      <td>3</td>\n      <td>44</td>\n      <td>5</td>\n    </tr>\n    <tr>\n      <th>ZYG11B</th>\n      <td>1</td>\n      <td>1</td>\n      <td>1</td>\n      <td>19</td>\n      <td>2</td>\n    </tr>\n    <tr>\n      <th>ZYX</th>\n      <td>1</td>\n      <td>5</td>\n      <td>4</td>\n      <td>45</td>\n      <td>8</td>\n    </tr>\n    <tr>\n      <th>ZZEF1</th>\n      <td>1</td>\n      <td>9</td>\n      <td>12</td>\n      <td>111</td>\n      <td>13</td>\n    </tr>\n    <tr>\n      <th>ZZZ3</th>\n      <td>1</td>\n      <td>3</td>\n      <td>5</td>\n      <td>49</td>\n      <td>5</td>\n    </tr>\n  </tbody>\n</table>\n<p>15519 rows × 5 columns</p>\n</div>"
     },
     "metadata": {},
     "output_type": "display_data"
    },
    {
     "name": "stdout",
     "output_type": "stream",
     "text": [
      "CPU times: total: 1min 17s\n",
      "Wall time: 1min 18s\n"
     ]
    }
   ],
   "source": [
    "%%time\n",
    "# Full GRPM Dataset Build\n",
    "pcg_grpm_stats = get_stats(pcg_grpm, group_by = 'gene')\n",
    "display(grpm_nutrigen_int.head(10))\n",
    "display(pcg_grpm_stats.head(20))"
   ],
   "metadata": {
    "collapsed": false,
    "ExecuteTime": {
     "end_time": "2025-02-25T19:11:59.308831300Z",
     "start_time": "2025-02-25T19:10:41.161762100Z"
    }
   },
   "id": "7c3ba98a0f4586ad",
   "execution_count": 4
  },
  {
   "cell_type": "code",
   "outputs": [
    {
     "name": "stdout",
     "output_type": "stream",
     "text": [
      "Computing Stats...\n",
      "runtime:  0:00:52.760797\n"
     ]
    },
    {
     "data": {
      "text/plain": "  gene       rsid      pmid                       mesh              topic  \\\n0  FTO  rs9972653  32393786            Body Mass Index  General Nutrition   \n1  FTO  rs9972653  32393786  Diabetes Mellitus, Type 2  General Nutrition   \n2  FTO  rs9972653  32393786                       Diet  General Nutrition   \n3  FTO  rs9972653  33128006            Body Mass Index  General Nutrition   \n4  FTO  rs9972653  33128006    Cardiovascular Diseases  General Nutrition   \n5  FTO  rs9941349  22084931                    Obesity  General Nutrition   \n6  FTO  rs9941349  20442772           Body Composition  General Nutrition   \n7  FTO  rs9941349  20442772                    Obesity  General Nutrition   \n8  FTO  rs9941349  24879436                    Obesity  General Nutrition   \n9  FTO  rs9941349  21552555            Body Mass Index  General Nutrition   \n\n   interest_index  \n0             1.0  \n1             1.0  \n2             1.0  \n3             1.0  \n4             1.0  \n5             1.0  \n6             1.0  \n7             1.0  \n8             1.0  \n9             1.0  ",
      "text/html": "<div>\n<style scoped>\n    .dataframe tbody tr th:only-of-type {\n        vertical-align: middle;\n    }\n\n    .dataframe tbody tr th {\n        vertical-align: top;\n    }\n\n    .dataframe thead th {\n        text-align: right;\n    }\n</style>\n<table border=\"1\" class=\"dataframe\">\n  <thead>\n    <tr style=\"text-align: right;\">\n      <th></th>\n      <th>gene</th>\n      <th>rsid</th>\n      <th>pmid</th>\n      <th>mesh</th>\n      <th>topic</th>\n      <th>interest_index</th>\n    </tr>\n  </thead>\n  <tbody>\n    <tr>\n      <th>0</th>\n      <td>FTO</td>\n      <td>rs9972653</td>\n      <td>32393786</td>\n      <td>Body Mass Index</td>\n      <td>General Nutrition</td>\n      <td>1.0</td>\n    </tr>\n    <tr>\n      <th>1</th>\n      <td>FTO</td>\n      <td>rs9972653</td>\n      <td>32393786</td>\n      <td>Diabetes Mellitus, Type 2</td>\n      <td>General Nutrition</td>\n      <td>1.0</td>\n    </tr>\n    <tr>\n      <th>2</th>\n      <td>FTO</td>\n      <td>rs9972653</td>\n      <td>32393786</td>\n      <td>Diet</td>\n      <td>General Nutrition</td>\n      <td>1.0</td>\n    </tr>\n    <tr>\n      <th>3</th>\n      <td>FTO</td>\n      <td>rs9972653</td>\n      <td>33128006</td>\n      <td>Body Mass Index</td>\n      <td>General Nutrition</td>\n      <td>1.0</td>\n    </tr>\n    <tr>\n      <th>4</th>\n      <td>FTO</td>\n      <td>rs9972653</td>\n      <td>33128006</td>\n      <td>Cardiovascular Diseases</td>\n      <td>General Nutrition</td>\n      <td>1.0</td>\n    </tr>\n    <tr>\n      <th>5</th>\n      <td>FTO</td>\n      <td>rs9941349</td>\n      <td>22084931</td>\n      <td>Obesity</td>\n      <td>General Nutrition</td>\n      <td>1.0</td>\n    </tr>\n    <tr>\n      <th>6</th>\n      <td>FTO</td>\n      <td>rs9941349</td>\n      <td>20442772</td>\n      <td>Body Composition</td>\n      <td>General Nutrition</td>\n      <td>1.0</td>\n    </tr>\n    <tr>\n      <th>7</th>\n      <td>FTO</td>\n      <td>rs9941349</td>\n      <td>20442772</td>\n      <td>Obesity</td>\n      <td>General Nutrition</td>\n      <td>1.0</td>\n    </tr>\n    <tr>\n      <th>8</th>\n      <td>FTO</td>\n      <td>rs9941349</td>\n      <td>24879436</td>\n      <td>Obesity</td>\n      <td>General Nutrition</td>\n      <td>1.0</td>\n    </tr>\n    <tr>\n      <th>9</th>\n      <td>FTO</td>\n      <td>rs9941349</td>\n      <td>21552555</td>\n      <td>Body Mass Index</td>\n      <td>General Nutrition</td>\n      <td>1.0</td>\n    </tr>\n  </tbody>\n</table>\n</div>"
     },
     "metadata": {},
     "output_type": "display_data"
    },
    {
     "data": {
      "text/plain": "          rsid   pmid   mesh  topic\n        unique unique unique unique\ngene                               \nFTO        309   1350    411     10\nMTHFR      148   3598    669     10\nVDR        190   1024    297     10\nTCF7L2     142   1054    357     10\nHFE         58   1434    364     10\nPNPLA3      36   1109    370     10\nPPARG      207    983    389     10\nADIPOQ      75    682    300     10\nKCNJ11     115    658    257     10\nGCKR        40    637    293     10\nGC          80    519    212     10\nLEPR       248    547    291     10\nSLC30A8     49    462    219     10\nINS        104    450    294     10\nAGT        105    898    326     10\nLPL        153    621    299     10\nCDKAL1     145    442    192     10\nAPOA5       51    469    253     10\nGCK        238    418    210     10\nLEPROT      46    431    250     10",
      "text/html": "<div>\n<style scoped>\n    .dataframe tbody tr th:only-of-type {\n        vertical-align: middle;\n    }\n\n    .dataframe tbody tr th {\n        vertical-align: top;\n    }\n\n    .dataframe thead tr th {\n        text-align: left;\n    }\n\n    .dataframe thead tr:last-of-type th {\n        text-align: right;\n    }\n</style>\n<table border=\"1\" class=\"dataframe\">\n  <thead>\n    <tr>\n      <th></th>\n      <th>rsid</th>\n      <th>pmid</th>\n      <th>mesh</th>\n      <th>topic</th>\n    </tr>\n    <tr>\n      <th></th>\n      <th>unique</th>\n      <th>unique</th>\n      <th>unique</th>\n      <th>unique</th>\n    </tr>\n    <tr>\n      <th>gene</th>\n      <th></th>\n      <th></th>\n      <th></th>\n      <th></th>\n    </tr>\n  </thead>\n  <tbody>\n    <tr>\n      <th>FTO</th>\n      <td>309</td>\n      <td>1350</td>\n      <td>411</td>\n      <td>10</td>\n    </tr>\n    <tr>\n      <th>MTHFR</th>\n      <td>148</td>\n      <td>3598</td>\n      <td>669</td>\n      <td>10</td>\n    </tr>\n    <tr>\n      <th>VDR</th>\n      <td>190</td>\n      <td>1024</td>\n      <td>297</td>\n      <td>10</td>\n    </tr>\n    <tr>\n      <th>TCF7L2</th>\n      <td>142</td>\n      <td>1054</td>\n      <td>357</td>\n      <td>10</td>\n    </tr>\n    <tr>\n      <th>HFE</th>\n      <td>58</td>\n      <td>1434</td>\n      <td>364</td>\n      <td>10</td>\n    </tr>\n    <tr>\n      <th>PNPLA3</th>\n      <td>36</td>\n      <td>1109</td>\n      <td>370</td>\n      <td>10</td>\n    </tr>\n    <tr>\n      <th>PPARG</th>\n      <td>207</td>\n      <td>983</td>\n      <td>389</td>\n      <td>10</td>\n    </tr>\n    <tr>\n      <th>ADIPOQ</th>\n      <td>75</td>\n      <td>682</td>\n      <td>300</td>\n      <td>10</td>\n    </tr>\n    <tr>\n      <th>KCNJ11</th>\n      <td>115</td>\n      <td>658</td>\n      <td>257</td>\n      <td>10</td>\n    </tr>\n    <tr>\n      <th>GCKR</th>\n      <td>40</td>\n      <td>637</td>\n      <td>293</td>\n      <td>10</td>\n    </tr>\n    <tr>\n      <th>GC</th>\n      <td>80</td>\n      <td>519</td>\n      <td>212</td>\n      <td>10</td>\n    </tr>\n    <tr>\n      <th>LEPR</th>\n      <td>248</td>\n      <td>547</td>\n      <td>291</td>\n      <td>10</td>\n    </tr>\n    <tr>\n      <th>SLC30A8</th>\n      <td>49</td>\n      <td>462</td>\n      <td>219</td>\n      <td>10</td>\n    </tr>\n    <tr>\n      <th>INS</th>\n      <td>104</td>\n      <td>450</td>\n      <td>294</td>\n      <td>10</td>\n    </tr>\n    <tr>\n      <th>AGT</th>\n      <td>105</td>\n      <td>898</td>\n      <td>326</td>\n      <td>10</td>\n    </tr>\n    <tr>\n      <th>LPL</th>\n      <td>153</td>\n      <td>621</td>\n      <td>299</td>\n      <td>10</td>\n    </tr>\n    <tr>\n      <th>CDKAL1</th>\n      <td>145</td>\n      <td>442</td>\n      <td>192</td>\n      <td>10</td>\n    </tr>\n    <tr>\n      <th>APOA5</th>\n      <td>51</td>\n      <td>469</td>\n      <td>253</td>\n      <td>10</td>\n    </tr>\n    <tr>\n      <th>GCK</th>\n      <td>238</td>\n      <td>418</td>\n      <td>210</td>\n      <td>10</td>\n    </tr>\n    <tr>\n      <th>LEPROT</th>\n      <td>46</td>\n      <td>431</td>\n      <td>250</td>\n      <td>10</td>\n    </tr>\n  </tbody>\n</table>\n</div>"
     },
     "metadata": {},
     "output_type": "display_data"
    },
    {
     "name": "stdout",
     "output_type": "stream",
     "text": [
      "CPU times: total: 55 s\n",
      "Wall time: 56.5 s\n"
     ]
    }
   ],
   "source": [
    "%%time\n",
    "# Nutrigenetic Dataset (10 Topics)\n",
    "grpm_nutrigen_stats = get_stats(grpm_nutrigen, group_by = 'gene', gi_sort=True)\n",
    "display(grpm_nutrigen.head(10))\n",
    "display(grpm_nutrigen_stats.head(20))"
   ],
   "metadata": {
    "collapsed": false,
    "ExecuteTime": {
     "end_time": "2025-02-25T19:22:59.721105500Z",
     "start_time": "2025-02-25T19:22:03.312096200Z"
    }
   },
   "id": "53b8d4bd3b022b39",
   "execution_count": 7
  },
  {
   "cell_type": "code",
   "outputs": [
    {
     "name": "stdout",
     "output_type": "stream",
     "text": [
      "Computing Stats...\n",
      "runtime:  0:00:04.428999\n"
     ]
    },
    {
     "data": {
      "text/plain": "  GRPM_GENE  GRPM_RSID GRPM_PMID GRPM_MESH         GRPM_TOPIC  GRPM_GI  \\\n0       FTO  rs9941349  22084931   Obesity  General Nutrition      1.0   \n1       FTO  rs9941349  20442772   Obesity  General Nutrition      1.0   \n2       FTO  rs9941349  24879436   Obesity  General Nutrition      1.0   \n3       FTO  rs9941349  21552555   Obesity  General Nutrition      1.0   \n4       FTO  rs9941349  25014319   Obesity  General Nutrition      1.0   \n5       FTO  rs9941349  27449576   Obesity  General Nutrition      1.0   \n6       FTO  rs9941349  22531089   Obesity  General Nutrition      1.0   \n7       FTO  rs9941349  32193455   Obesity  General Nutrition      1.0   \n8       FTO  rs9941349  31772290   Obesity  General Nutrition      1.0   \n9       FTO  rs9941349  21438147   Obesity  General Nutrition      1.0   \n\n   SEMANTIC_SIMILARITY GWAS_DISEASE/TRAIT GWAS_MAPPED_TRAIT GWAS_MAPPED_GENE  \\\n0             0.909086  Obesity (extreme)           obesity              FTO   \n1             0.909086  Obesity (extreme)           obesity              FTO   \n2             0.909086  Obesity (extreme)           obesity              FTO   \n3             0.909086  Obesity (extreme)           obesity              FTO   \n4             0.909086  Obesity (extreme)           obesity              FTO   \n5             0.909086  Obesity (extreme)           obesity              FTO   \n6             0.909086  Obesity (extreme)           obesity              FTO   \n7             0.909086  Obesity (extreme)           obesity              FTO   \n8             0.909086  Obesity (extreme)           obesity              FTO   \n9             0.909086  Obesity (extreme)           obesity              FTO   \n\n     GWAS_CONTEXT GWAS_STRONGEST_SNP-RISK_ALLELE  GWAS_OR-BETA  \\\n0  intron_variant                    rs9941349-T          1.48   \n1  intron_variant                    rs9941349-T          1.48   \n2  intron_variant                    rs9941349-T          1.48   \n3  intron_variant                    rs9941349-T          1.48   \n4  intron_variant                    rs9941349-T          1.48   \n5  intron_variant                    rs9941349-T          1.48   \n6  intron_variant                    rs9941349-T          1.48   \n7  intron_variant                    rs9941349-T          1.48   \n8  intron_variant                    rs9941349-T          1.48   \n9  intron_variant                    rs9941349-T          1.48   \n\n                                          GWAS_STUDY GWAS_STUDY_ID  \n0  Common body mass index-associated variants con...    GCST000426  \n1  Common body mass index-associated variants con...    GCST000426  \n2  Common body mass index-associated variants con...    GCST000426  \n3  Common body mass index-associated variants con...    GCST000426  \n4  Common body mass index-associated variants con...    GCST000426  \n5  Common body mass index-associated variants con...    GCST000426  \n6  Common body mass index-associated variants con...    GCST000426  \n7  Common body mass index-associated variants con...    GCST000426  \n8  Common body mass index-associated variants con...    GCST000426  \n9  Common body mass index-associated variants con...    GCST000426  ",
      "text/html": "<div>\n<style scoped>\n    .dataframe tbody tr th:only-of-type {\n        vertical-align: middle;\n    }\n\n    .dataframe tbody tr th {\n        vertical-align: top;\n    }\n\n    .dataframe thead th {\n        text-align: right;\n    }\n</style>\n<table border=\"1\" class=\"dataframe\">\n  <thead>\n    <tr style=\"text-align: right;\">\n      <th></th>\n      <th>GRPM_GENE</th>\n      <th>GRPM_RSID</th>\n      <th>GRPM_PMID</th>\n      <th>GRPM_MESH</th>\n      <th>GRPM_TOPIC</th>\n      <th>GRPM_GI</th>\n      <th>SEMANTIC_SIMILARITY</th>\n      <th>GWAS_DISEASE/TRAIT</th>\n      <th>GWAS_MAPPED_TRAIT</th>\n      <th>GWAS_MAPPED_GENE</th>\n      <th>GWAS_CONTEXT</th>\n      <th>GWAS_STRONGEST_SNP-RISK_ALLELE</th>\n      <th>GWAS_OR-BETA</th>\n      <th>GWAS_STUDY</th>\n      <th>GWAS_STUDY_ID</th>\n    </tr>\n  </thead>\n  <tbody>\n    <tr>\n      <th>0</th>\n      <td>FTO</td>\n      <td>rs9941349</td>\n      <td>22084931</td>\n      <td>Obesity</td>\n      <td>General Nutrition</td>\n      <td>1.0</td>\n      <td>0.909086</td>\n      <td>Obesity (extreme)</td>\n      <td>obesity</td>\n      <td>FTO</td>\n      <td>intron_variant</td>\n      <td>rs9941349-T</td>\n      <td>1.48</td>\n      <td>Common body mass index-associated variants con...</td>\n      <td>GCST000426</td>\n    </tr>\n    <tr>\n      <th>1</th>\n      <td>FTO</td>\n      <td>rs9941349</td>\n      <td>20442772</td>\n      <td>Obesity</td>\n      <td>General Nutrition</td>\n      <td>1.0</td>\n      <td>0.909086</td>\n      <td>Obesity (extreme)</td>\n      <td>obesity</td>\n      <td>FTO</td>\n      <td>intron_variant</td>\n      <td>rs9941349-T</td>\n      <td>1.48</td>\n      <td>Common body mass index-associated variants con...</td>\n      <td>GCST000426</td>\n    </tr>\n    <tr>\n      <th>2</th>\n      <td>FTO</td>\n      <td>rs9941349</td>\n      <td>24879436</td>\n      <td>Obesity</td>\n      <td>General Nutrition</td>\n      <td>1.0</td>\n      <td>0.909086</td>\n      <td>Obesity (extreme)</td>\n      <td>obesity</td>\n      <td>FTO</td>\n      <td>intron_variant</td>\n      <td>rs9941349-T</td>\n      <td>1.48</td>\n      <td>Common body mass index-associated variants con...</td>\n      <td>GCST000426</td>\n    </tr>\n    <tr>\n      <th>3</th>\n      <td>FTO</td>\n      <td>rs9941349</td>\n      <td>21552555</td>\n      <td>Obesity</td>\n      <td>General Nutrition</td>\n      <td>1.0</td>\n      <td>0.909086</td>\n      <td>Obesity (extreme)</td>\n      <td>obesity</td>\n      <td>FTO</td>\n      <td>intron_variant</td>\n      <td>rs9941349-T</td>\n      <td>1.48</td>\n      <td>Common body mass index-associated variants con...</td>\n      <td>GCST000426</td>\n    </tr>\n    <tr>\n      <th>4</th>\n      <td>FTO</td>\n      <td>rs9941349</td>\n      <td>25014319</td>\n      <td>Obesity</td>\n      <td>General Nutrition</td>\n      <td>1.0</td>\n      <td>0.909086</td>\n      <td>Obesity (extreme)</td>\n      <td>obesity</td>\n      <td>FTO</td>\n      <td>intron_variant</td>\n      <td>rs9941349-T</td>\n      <td>1.48</td>\n      <td>Common body mass index-associated variants con...</td>\n      <td>GCST000426</td>\n    </tr>\n    <tr>\n      <th>5</th>\n      <td>FTO</td>\n      <td>rs9941349</td>\n      <td>27449576</td>\n      <td>Obesity</td>\n      <td>General Nutrition</td>\n      <td>1.0</td>\n      <td>0.909086</td>\n      <td>Obesity (extreme)</td>\n      <td>obesity</td>\n      <td>FTO</td>\n      <td>intron_variant</td>\n      <td>rs9941349-T</td>\n      <td>1.48</td>\n      <td>Common body mass index-associated variants con...</td>\n      <td>GCST000426</td>\n    </tr>\n    <tr>\n      <th>6</th>\n      <td>FTO</td>\n      <td>rs9941349</td>\n      <td>22531089</td>\n      <td>Obesity</td>\n      <td>General Nutrition</td>\n      <td>1.0</td>\n      <td>0.909086</td>\n      <td>Obesity (extreme)</td>\n      <td>obesity</td>\n      <td>FTO</td>\n      <td>intron_variant</td>\n      <td>rs9941349-T</td>\n      <td>1.48</td>\n      <td>Common body mass index-associated variants con...</td>\n      <td>GCST000426</td>\n    </tr>\n    <tr>\n      <th>7</th>\n      <td>FTO</td>\n      <td>rs9941349</td>\n      <td>32193455</td>\n      <td>Obesity</td>\n      <td>General Nutrition</td>\n      <td>1.0</td>\n      <td>0.909086</td>\n      <td>Obesity (extreme)</td>\n      <td>obesity</td>\n      <td>FTO</td>\n      <td>intron_variant</td>\n      <td>rs9941349-T</td>\n      <td>1.48</td>\n      <td>Common body mass index-associated variants con...</td>\n      <td>GCST000426</td>\n    </tr>\n    <tr>\n      <th>8</th>\n      <td>FTO</td>\n      <td>rs9941349</td>\n      <td>31772290</td>\n      <td>Obesity</td>\n      <td>General Nutrition</td>\n      <td>1.0</td>\n      <td>0.909086</td>\n      <td>Obesity (extreme)</td>\n      <td>obesity</td>\n      <td>FTO</td>\n      <td>intron_variant</td>\n      <td>rs9941349-T</td>\n      <td>1.48</td>\n      <td>Common body mass index-associated variants con...</td>\n      <td>GCST000426</td>\n    </tr>\n    <tr>\n      <th>9</th>\n      <td>FTO</td>\n      <td>rs9941349</td>\n      <td>21438147</td>\n      <td>Obesity</td>\n      <td>General Nutrition</td>\n      <td>1.0</td>\n      <td>0.909086</td>\n      <td>Obesity (extreme)</td>\n      <td>obesity</td>\n      <td>FTO</td>\n      <td>intron_variant</td>\n      <td>rs9941349-T</td>\n      <td>1.48</td>\n      <td>Common body mass index-associated variants con...</td>\n      <td>GCST000426</td>\n    </tr>\n  </tbody>\n</table>\n</div>"
     },
     "metadata": {},
     "output_type": "display_data"
    },
    {
     "data": {
      "text/plain": "          GRPM_RSID GRPM_PMID GRPM_MESH GRPM_TOPIC GWAS_DISEASE/TRAIT  \\\n             unique    unique    unique     unique             unique   \nGRPM_GENE                                                               \nFTO              37       632        18          5                 22   \nTCF7L2            7       272        10          5                 10   \nPNPLA3            4       847         9          4                 13   \nPPARG             3       107         4          5                  4   \nADIPOQ            3        60         1          3                  2   \nKCNJ11            2        44         2          4                  2   \nGCKR              4       333        33          6                251   \nGC                7       345         4          6                  7   \nLEPR              8        16         3          4                  3   \nSLC30A8           3        43         5          5                  5   \nAGT               1        36         1          3                  1   \nLPL              20       254        13          4                 84   \nCDKAL1           10        23         5          5                  5   \nAPOA5             6       190        11          5                 23   \nGCK               3        10         4          5                  5   \nLDLR              4        53         7          3                 36   \nACE               2         7         3          5                  3   \nNOS3              4        65         5          5                  5   \nTM6SF2            1       319        15          6                 61   \nPCSK9            11       218        16          4                185   \n\n          GWAS_MAPPED_TRAIT GWAS_MAPPED_GENE GWAS_CONTEXT  \\\n                     unique           unique       unique   \nGRPM_GENE                                                   \nFTO                      19                1            2   \nTCF7L2                   11                1            1   \nPNPLA3                   11                1            3   \nPPARG                     4                1            3   \nADIPOQ                    2                1            2   \nKCNJ11                    2                1            2   \nGCKR                    137                1            2   \nGC                        5                1            2   \nLEPR                      3                1            2   \nSLC30A8                   5                1            2   \nAGT                       1                1            1   \nLPL                      46                1            4   \nCDKAL1                    5                1            1   \nAPOA5                    17                1            5   \nGCK                       5                1            1   \nLDLR                     28                1            3   \nACE                       3                1            2   \nNOS3                      5                1            2   \nTM6SF2                   37                1            1   \nPCSK9                    94                1            4   \n\n          GWAS_STRONGEST_SNP-RISK_ALLELE GWAS_STUDY GWAS_STUDY_ID  \n                                  unique     unique        unique  \nGRPM_GENE                                                          \nFTO                                   47         60            87  \nTCF7L2                                10         23            29  \nPNPLA3                                 5         25            30  \nPPARG                                  4          6             6  \nADIPOQ                                 4          5             5  \nKCNJ11                                 2          4             4  \nGCKR                                  12         73           360  \nGC                                     9          9            11  \nLEPR                                   9          5             5  \nSLC30A8                                5          9            11  \nAGT                                    1          1             1  \nLPL                                   30         32           121  \nCDKAL1                                11          9            10  \nAPOA5                                 13         26            52  \nGCK                                    4          8            10  \nLDLR                                   7         19            48  \nACE                                    2          3             3  \nNOS3                                   4          8            11  \nTM6SF2                                 2         20            85  \nPCSK9                                 14         33           256  ",
      "text/html": "<div>\n<style scoped>\n    .dataframe tbody tr th:only-of-type {\n        vertical-align: middle;\n    }\n\n    .dataframe tbody tr th {\n        vertical-align: top;\n    }\n\n    .dataframe thead tr th {\n        text-align: left;\n    }\n\n    .dataframe thead tr:last-of-type th {\n        text-align: right;\n    }\n</style>\n<table border=\"1\" class=\"dataframe\">\n  <thead>\n    <tr>\n      <th></th>\n      <th>GRPM_RSID</th>\n      <th>GRPM_PMID</th>\n      <th>GRPM_MESH</th>\n      <th>GRPM_TOPIC</th>\n      <th>GWAS_DISEASE/TRAIT</th>\n      <th>GWAS_MAPPED_TRAIT</th>\n      <th>GWAS_MAPPED_GENE</th>\n      <th>GWAS_CONTEXT</th>\n      <th>GWAS_STRONGEST_SNP-RISK_ALLELE</th>\n      <th>GWAS_STUDY</th>\n      <th>GWAS_STUDY_ID</th>\n    </tr>\n    <tr>\n      <th></th>\n      <th>unique</th>\n      <th>unique</th>\n      <th>unique</th>\n      <th>unique</th>\n      <th>unique</th>\n      <th>unique</th>\n      <th>unique</th>\n      <th>unique</th>\n      <th>unique</th>\n      <th>unique</th>\n      <th>unique</th>\n    </tr>\n    <tr>\n      <th>GRPM_GENE</th>\n      <th></th>\n      <th></th>\n      <th></th>\n      <th></th>\n      <th></th>\n      <th></th>\n      <th></th>\n      <th></th>\n      <th></th>\n      <th></th>\n      <th></th>\n    </tr>\n  </thead>\n  <tbody>\n    <tr>\n      <th>FTO</th>\n      <td>37</td>\n      <td>632</td>\n      <td>18</td>\n      <td>5</td>\n      <td>22</td>\n      <td>19</td>\n      <td>1</td>\n      <td>2</td>\n      <td>47</td>\n      <td>60</td>\n      <td>87</td>\n    </tr>\n    <tr>\n      <th>TCF7L2</th>\n      <td>7</td>\n      <td>272</td>\n      <td>10</td>\n      <td>5</td>\n      <td>10</td>\n      <td>11</td>\n      <td>1</td>\n      <td>1</td>\n      <td>10</td>\n      <td>23</td>\n      <td>29</td>\n    </tr>\n    <tr>\n      <th>PNPLA3</th>\n      <td>4</td>\n      <td>847</td>\n      <td>9</td>\n      <td>4</td>\n      <td>13</td>\n      <td>11</td>\n      <td>1</td>\n      <td>3</td>\n      <td>5</td>\n      <td>25</td>\n      <td>30</td>\n    </tr>\n    <tr>\n      <th>PPARG</th>\n      <td>3</td>\n      <td>107</td>\n      <td>4</td>\n      <td>5</td>\n      <td>4</td>\n      <td>4</td>\n      <td>1</td>\n      <td>3</td>\n      <td>4</td>\n      <td>6</td>\n      <td>6</td>\n    </tr>\n    <tr>\n      <th>ADIPOQ</th>\n      <td>3</td>\n      <td>60</td>\n      <td>1</td>\n      <td>3</td>\n      <td>2</td>\n      <td>2</td>\n      <td>1</td>\n      <td>2</td>\n      <td>4</td>\n      <td>5</td>\n      <td>5</td>\n    </tr>\n    <tr>\n      <th>KCNJ11</th>\n      <td>2</td>\n      <td>44</td>\n      <td>2</td>\n      <td>4</td>\n      <td>2</td>\n      <td>2</td>\n      <td>1</td>\n      <td>2</td>\n      <td>2</td>\n      <td>4</td>\n      <td>4</td>\n    </tr>\n    <tr>\n      <th>GCKR</th>\n      <td>4</td>\n      <td>333</td>\n      <td>33</td>\n      <td>6</td>\n      <td>251</td>\n      <td>137</td>\n      <td>1</td>\n      <td>2</td>\n      <td>12</td>\n      <td>73</td>\n      <td>360</td>\n    </tr>\n    <tr>\n      <th>GC</th>\n      <td>7</td>\n      <td>345</td>\n      <td>4</td>\n      <td>6</td>\n      <td>7</td>\n      <td>5</td>\n      <td>1</td>\n      <td>2</td>\n      <td>9</td>\n      <td>9</td>\n      <td>11</td>\n    </tr>\n    <tr>\n      <th>LEPR</th>\n      <td>8</td>\n      <td>16</td>\n      <td>3</td>\n      <td>4</td>\n      <td>3</td>\n      <td>3</td>\n      <td>1</td>\n      <td>2</td>\n      <td>9</td>\n      <td>5</td>\n      <td>5</td>\n    </tr>\n    <tr>\n      <th>SLC30A8</th>\n      <td>3</td>\n      <td>43</td>\n      <td>5</td>\n      <td>5</td>\n      <td>5</td>\n      <td>5</td>\n      <td>1</td>\n      <td>2</td>\n      <td>5</td>\n      <td>9</td>\n      <td>11</td>\n    </tr>\n    <tr>\n      <th>AGT</th>\n      <td>1</td>\n      <td>36</td>\n      <td>1</td>\n      <td>3</td>\n      <td>1</td>\n      <td>1</td>\n      <td>1</td>\n      <td>1</td>\n      <td>1</td>\n      <td>1</td>\n      <td>1</td>\n    </tr>\n    <tr>\n      <th>LPL</th>\n      <td>20</td>\n      <td>254</td>\n      <td>13</td>\n      <td>4</td>\n      <td>84</td>\n      <td>46</td>\n      <td>1</td>\n      <td>4</td>\n      <td>30</td>\n      <td>32</td>\n      <td>121</td>\n    </tr>\n    <tr>\n      <th>CDKAL1</th>\n      <td>10</td>\n      <td>23</td>\n      <td>5</td>\n      <td>5</td>\n      <td>5</td>\n      <td>5</td>\n      <td>1</td>\n      <td>1</td>\n      <td>11</td>\n      <td>9</td>\n      <td>10</td>\n    </tr>\n    <tr>\n      <th>APOA5</th>\n      <td>6</td>\n      <td>190</td>\n      <td>11</td>\n      <td>5</td>\n      <td>23</td>\n      <td>17</td>\n      <td>1</td>\n      <td>5</td>\n      <td>13</td>\n      <td>26</td>\n      <td>52</td>\n    </tr>\n    <tr>\n      <th>GCK</th>\n      <td>3</td>\n      <td>10</td>\n      <td>4</td>\n      <td>5</td>\n      <td>5</td>\n      <td>5</td>\n      <td>1</td>\n      <td>1</td>\n      <td>4</td>\n      <td>8</td>\n      <td>10</td>\n    </tr>\n    <tr>\n      <th>LDLR</th>\n      <td>4</td>\n      <td>53</td>\n      <td>7</td>\n      <td>3</td>\n      <td>36</td>\n      <td>28</td>\n      <td>1</td>\n      <td>3</td>\n      <td>7</td>\n      <td>19</td>\n      <td>48</td>\n    </tr>\n    <tr>\n      <th>ACE</th>\n      <td>2</td>\n      <td>7</td>\n      <td>3</td>\n      <td>5</td>\n      <td>3</td>\n      <td>3</td>\n      <td>1</td>\n      <td>2</td>\n      <td>2</td>\n      <td>3</td>\n      <td>3</td>\n    </tr>\n    <tr>\n      <th>NOS3</th>\n      <td>4</td>\n      <td>65</td>\n      <td>5</td>\n      <td>5</td>\n      <td>5</td>\n      <td>5</td>\n      <td>1</td>\n      <td>2</td>\n      <td>4</td>\n      <td>8</td>\n      <td>11</td>\n    </tr>\n    <tr>\n      <th>TM6SF2</th>\n      <td>1</td>\n      <td>319</td>\n      <td>15</td>\n      <td>6</td>\n      <td>61</td>\n      <td>37</td>\n      <td>1</td>\n      <td>1</td>\n      <td>2</td>\n      <td>20</td>\n      <td>85</td>\n    </tr>\n    <tr>\n      <th>PCSK9</th>\n      <td>11</td>\n      <td>218</td>\n      <td>16</td>\n      <td>4</td>\n      <td>185</td>\n      <td>94</td>\n      <td>1</td>\n      <td>4</td>\n      <td>14</td>\n      <td>33</td>\n      <td>256</td>\n    </tr>\n  </tbody>\n</table>\n</div>"
     },
     "metadata": {},
     "output_type": "display_data"
    },
    {
     "name": "stdout",
     "output_type": "stream",
     "text": [
      "CPU times: total: 4.06 s\n",
      "Wall time: 4.47 s\n"
     ]
    }
   ],
   "source": [
    "%%time\n",
    "# Nutrigenetic Dataset + GWAS\n",
    "grpm_nutrigen_int_gwas_stats = get_stats(grpm_nutrigen_int_gwas, group_by='GRPM_GENE', gi_sort=True)\n",
    "display(grpm_nutrigen_int_gwas.head(10))\n",
    "display(grpm_nutrigen_int_gwas_stats.head(20))"
   ],
   "metadata": {
    "collapsed": false,
    "ExecuteTime": {
     "end_time": "2025-02-25T19:19:51.211034600Z",
     "start_time": "2025-02-25T19:19:46.728747900Z"
    }
   },
   "id": "b6c528f189df7d07",
   "execution_count": 5
  },
  {
   "cell_type": "markdown",
   "source": [
    "# QUERY GRPM Dataset "
   ],
   "metadata": {
    "collapsed": false
   },
   "id": "6f89129f4d7121c8"
  },
  {
   "cell_type": "markdown",
   "source": [
    "## MeSH Query Example"
   ],
   "metadata": {
    "collapsed": false
   },
   "id": "9cfaf0ddcbcaffd0"
  },
  {
   "cell_type": "code",
   "outputs": [
    {
     "name": "stdout",
     "output_type": "stream",
     "text": [
      "GRPM MeSH count: 21705\n"
     ]
    },
    {
     "data": {
      "text/plain": "             Preferred Label  \\\n0  Electronic Health Records   \n1              Consent Forms   \n2     Genealogy and Heraldry   \n3               Publications   \n4    Pharmaceutical Services   \n\n                                            Class ID  \\\n0  http://purl.bioontology.org/ontology/MESH/D057286   \n1  http://purl.bioontology.org/ontology/MESH/D032962   \n2  http://purl.bioontology.org/ontology/MESH/D005789   \n3  http://purl.bioontology.org/ontology/MESH/D011642   \n4  http://purl.bioontology.org/ontology/MESH/D010593   \n\n                                            Synonyms  \\\n0  Electronic Medical Record|Medical Record, Elec...   \n1  Informed Consent Documents|Informed Consent Fo...   \n2  Geneology and Heraldry|Heraldry and Genealogy|...   \n3                                        Publication   \n4  Pharmaceutical Service|Services, Pharmaceutic|...   \n\n                                         Definitions  \n0  Media that facilitate transportability of pert...  \n1  Documents describing a medical treatment or re...  \n2  Descent of a person, family, or group from an ...  \n3  Copies of a work or document distributed to th...  \n4  Total pharmaceutical services provided by qual...  ",
      "text/html": "<div>\n<style scoped>\n    .dataframe tbody tr th:only-of-type {\n        vertical-align: middle;\n    }\n\n    .dataframe tbody tr th {\n        vertical-align: top;\n    }\n\n    .dataframe thead th {\n        text-align: right;\n    }\n</style>\n<table border=\"1\" class=\"dataframe\">\n  <thead>\n    <tr style=\"text-align: right;\">\n      <th></th>\n      <th>Preferred Label</th>\n      <th>Class ID</th>\n      <th>Synonyms</th>\n      <th>Definitions</th>\n    </tr>\n  </thead>\n  <tbody>\n    <tr>\n      <th>0</th>\n      <td>Electronic Health Records</td>\n      <td>http://purl.bioontology.org/ontology/MESH/D057286</td>\n      <td>Electronic Medical Record|Medical Record, Elec...</td>\n      <td>Media that facilitate transportability of pert...</td>\n    </tr>\n    <tr>\n      <th>1</th>\n      <td>Consent Forms</td>\n      <td>http://purl.bioontology.org/ontology/MESH/D032962</td>\n      <td>Informed Consent Documents|Informed Consent Fo...</td>\n      <td>Documents describing a medical treatment or re...</td>\n    </tr>\n    <tr>\n      <th>2</th>\n      <td>Genealogy and Heraldry</td>\n      <td>http://purl.bioontology.org/ontology/MESH/D005789</td>\n      <td>Geneology and Heraldry|Heraldry and Genealogy|...</td>\n      <td>Descent of a person, family, or group from an ...</td>\n    </tr>\n    <tr>\n      <th>3</th>\n      <td>Publications</td>\n      <td>http://purl.bioontology.org/ontology/MESH/D011642</td>\n      <td>Publication</td>\n      <td>Copies of a work or document distributed to th...</td>\n    </tr>\n    <tr>\n      <th>4</th>\n      <td>Pharmaceutical Services</td>\n      <td>http://purl.bioontology.org/ontology/MESH/D010593</td>\n      <td>Pharmaceutical Service|Services, Pharmaceutic|...</td>\n      <td>Total pharmaceutical services provided by qual...</td>\n    </tr>\n  </tbody>\n</table>\n</div>"
     },
     "execution_count": 3,
     "metadata": {},
     "output_type": "execute_result"
    }
   ],
   "source": [
    "# LOAD MeSH\n",
    "\n",
    "grpm_mesh= import_grpm_mesh()\n",
    "grpm_mesh.head()"
   ],
   "metadata": {
    "collapsed": false,
    "ExecuteTime": {
     "end_time": "2025-02-19T21:58:36.628876300Z",
     "start_time": "2025-02-19T21:58:36.513009400Z"
    }
   },
   "id": "8fc5532611717398",
   "execution_count": 3
  },
  {
   "cell_type": "code",
   "outputs": [
    {
     "data": {
      "text/plain": "             gene type         rsid      pmid                  mesh  \\\n178386      KRT23  PCG  rs140407470  21874024         CD28 Antigens   \n222732      MMEL1  PCG    rs3890745  19898481         CD28 Antigens   \n361776    HLA-DRA  PCG    rs3135392  33058932        Cephalosporins   \n400814        TNF  PCG    rs1800629  25510954         CD28 Antigens   \n589282      PTPRC  PCG   rs10919563  19898481         CD28 Antigens   \n...           ...  ...          ...       ...                   ...   \n16415706    TNPO3  PCG   rs10488631  31030958         CD28 Antigens   \n16416142    TNPO3  PCG   rs10488631  27092776         CD28 Antigens   \n16416202    TNPO3  PCG   rs10488631  34017081         CD28 Antigens   \n16488218   ALOX15  PCG   rs34210653  31301373            Turbinates   \n16606737    CXCL8  PCG  rs572157399  27502767  Haemophilus parasuis   \n\n                         qualifier  major  \n178386                  physiology  False  \n222732                    genetics   True  \n361776             adverse effects   True  \n400814                    analysis  False  \n589282                    genetics   True  \n...                            ...    ...  \n16415706  antagonists & inhibitors  False  \n16416142                  genetics   True  \n16416202                  genetics   True  \n16488218                metabolism   True  \n16606737                      None   True  \n\n[856 rows x 7 columns]",
      "text/html": "<div>\n<style scoped>\n    .dataframe tbody tr th:only-of-type {\n        vertical-align: middle;\n    }\n\n    .dataframe tbody tr th {\n        vertical-align: top;\n    }\n\n    .dataframe thead th {\n        text-align: right;\n    }\n</style>\n<table border=\"1\" class=\"dataframe\">\n  <thead>\n    <tr style=\"text-align: right;\">\n      <th></th>\n      <th>gene</th>\n      <th>type</th>\n      <th>rsid</th>\n      <th>pmid</th>\n      <th>mesh</th>\n      <th>qualifier</th>\n      <th>major</th>\n    </tr>\n  </thead>\n  <tbody>\n    <tr>\n      <th>178386</th>\n      <td>KRT23</td>\n      <td>PCG</td>\n      <td>rs140407470</td>\n      <td>21874024</td>\n      <td>CD28 Antigens</td>\n      <td>physiology</td>\n      <td>False</td>\n    </tr>\n    <tr>\n      <th>222732</th>\n      <td>MMEL1</td>\n      <td>PCG</td>\n      <td>rs3890745</td>\n      <td>19898481</td>\n      <td>CD28 Antigens</td>\n      <td>genetics</td>\n      <td>True</td>\n    </tr>\n    <tr>\n      <th>361776</th>\n      <td>HLA-DRA</td>\n      <td>PCG</td>\n      <td>rs3135392</td>\n      <td>33058932</td>\n      <td>Cephalosporins</td>\n      <td>adverse effects</td>\n      <td>True</td>\n    </tr>\n    <tr>\n      <th>400814</th>\n      <td>TNF</td>\n      <td>PCG</td>\n      <td>rs1800629</td>\n      <td>25510954</td>\n      <td>CD28 Antigens</td>\n      <td>analysis</td>\n      <td>False</td>\n    </tr>\n    <tr>\n      <th>589282</th>\n      <td>PTPRC</td>\n      <td>PCG</td>\n      <td>rs10919563</td>\n      <td>19898481</td>\n      <td>CD28 Antigens</td>\n      <td>genetics</td>\n      <td>True</td>\n    </tr>\n    <tr>\n      <th>...</th>\n      <td>...</td>\n      <td>...</td>\n      <td>...</td>\n      <td>...</td>\n      <td>...</td>\n      <td>...</td>\n      <td>...</td>\n    </tr>\n    <tr>\n      <th>16415706</th>\n      <td>TNPO3</td>\n      <td>PCG</td>\n      <td>rs10488631</td>\n      <td>31030958</td>\n      <td>CD28 Antigens</td>\n      <td>antagonists &amp; inhibitors</td>\n      <td>False</td>\n    </tr>\n    <tr>\n      <th>16416142</th>\n      <td>TNPO3</td>\n      <td>PCG</td>\n      <td>rs10488631</td>\n      <td>27092776</td>\n      <td>CD28 Antigens</td>\n      <td>genetics</td>\n      <td>True</td>\n    </tr>\n    <tr>\n      <th>16416202</th>\n      <td>TNPO3</td>\n      <td>PCG</td>\n      <td>rs10488631</td>\n      <td>34017081</td>\n      <td>CD28 Antigens</td>\n      <td>genetics</td>\n      <td>True</td>\n    </tr>\n    <tr>\n      <th>16488218</th>\n      <td>ALOX15</td>\n      <td>PCG</td>\n      <td>rs34210653</td>\n      <td>31301373</td>\n      <td>Turbinates</td>\n      <td>metabolism</td>\n      <td>True</td>\n    </tr>\n    <tr>\n      <th>16606737</th>\n      <td>CXCL8</td>\n      <td>PCG</td>\n      <td>rs572157399</td>\n      <td>27502767</td>\n      <td>Haemophilus parasuis</td>\n      <td>None</td>\n      <td>True</td>\n    </tr>\n  </tbody>\n</table>\n<p>856 rows × 7 columns</p>\n</div>"
     },
     "metadata": {},
     "output_type": "display_data"
    }
   ],
   "source": [
    "# Random Query Example\n",
    "mesh_query =  grpm_mesh['Preferred Label'].drop_duplicates().sample(10).to_list()\n",
    "\n",
    "# Filter and get unique results\n",
    "result = query_dataset(pcg_grpm, mesh_query, 'mesh')\n",
    "display(result)"
   ],
   "metadata": {
    "collapsed": false,
    "ExecuteTime": {
     "end_time": "2025-02-19T17:56:09.828902200Z",
     "start_time": "2025-02-19T17:56:08.883968500Z"
    }
   },
   "id": "31dce3eb083906e",
   "execution_count": 5
  },
  {
   "cell_type": "markdown",
   "source": [
    "## Build MeSH Query \n",
    "[CUDA recommended] - In Colab:: load Runtime with GPU "
   ],
   "metadata": {
    "collapsed": false
   },
   "id": "94e480d1caae2077"
  },
  {
   "cell_type": "code",
   "outputs": [
    {
     "name": "stderr",
     "output_type": "stream",
     "text": [
      "No sentence-transformers model found with name dmis-lab/biobert-v1.1. Creating a new one with mean pooling.\n"
     ]
    },
    {
     "name": "stdout",
     "output_type": "stream",
     "text": [
      "Torch version: 2.6.0+cu118\n",
      "Is CUDA enabled? True\n",
      "Importing pretrained embeddings...\n",
      "Done\n"
     ]
    }
   ],
   "source": [
    "# LOAD Language Model\n",
    "MODEL = 'dmis-lab/biobert-v1.1'\n",
    "model = load_language_model(MODEL)\n",
    "file_path = 'ref-mesh/GrpmMeshSynEmbeddings_biobert-v1.1.pkl'\n",
    "\n",
    "# Get MeSH embeddings\n",
    "test_cuda()\n",
    "grpm_mesh_embeddings = get_mesh_embeddings(grpm_mesh, model, file_path)\n",
    "\n",
    "grpm_meshes = grpm_mesh_embeddings['meshes']\n",
    "mesh_embeddings = grpm_mesh_embeddings['embeddings']"
   ],
   "metadata": {
    "collapsed": false
   },
   "id": "485b46e4bca5f354",
   "execution_count": 5
  },
  {
   "cell_type": "code",
   "outputs": [
    {
     "data": {
      "text/plain": "Batches:   0%|          | 0/1 [00:00<?, ?it/s]",
      "application/vnd.jupyter.widget-view+json": {
       "version_major": 2,
       "version_minor": 0,
       "model_id": "005b365dcec0442ea4234f8114c148a4"
      }
     },
     "metadata": {},
     "output_type": "display_data"
    },
    {
     "name": "stderr",
     "output_type": "stream",
     "text": [
      "100%|██████████| 19/19 [00:03<00:00,  5.59it/s]"
     ]
    },
    {
     "name": "stdout",
     "output_type": "stream",
     "text": [
      "\n",
      "\n",
      "MeSH Query: ['Diet, Carbohydrate-Restricted', 'Hyperlipidemias', 'Feeding and Eating Disorders of Childhood', 'Egg Hypersensitivity', 'Endoscopy, Gastrointestinal', 'Hypercholesterolemia', 'Hypertriglyceridemia', 'Hyperlipidemias', 'Hypoglycemic Agents']\n"
     ]
    },
    {
     "name": "stderr",
     "output_type": "stream",
     "text": [
      "\n"
     ]
    }
   ],
   "source": [
    "# User defined Topic Terms\n",
    "\n",
    "user_query = \"diet ketogenic, diet reducing, diet sodium-restricted, diet, dietary, dietetics, dyslipidemias, eating disorders, feeding and eating disorder, food hypersensitivity, foodborne diseases, gastrointestinal diseases, hypercholesterolemia, hyperglycemia, hyperlipidemias, hyperphagia, hypoglycemia, hypophagia, insulin resistance\"  # comma separated list\n",
    "\n",
    "topic_terms_list = user_query.split(',')\n",
    "topic_terms = pd.Series(topic_terms_list)\n",
    "\n",
    "\n",
    "# Extract MeSH Query\n",
    "tab = create_corr_table(topic_terms, grpm_meshes, model, mesh_embeddings)\n",
    "\n",
    "threshold = 0.84 # set similarity threshold\n",
    "mesh_query = tab[tab.similarity >= threshold].list2.to_list()\n",
    "print('\\n\\nMeSH Query:', mesh_query)"
   ],
   "metadata": {
    "collapsed": false
   },
   "id": "a40091d0648f72f5",
   "execution_count": 14
  },
  {
   "cell_type": "markdown",
   "source": [
    "MeSH Query: ['Diet', 'Diet', 'Dyslipidemias', 'Hypersensitivity', 'Gastrointestinal Diseases', 'Hypercholesterolemia', 'Hyperglycemia', 'Hyperlipidemias', 'Hyperphagia', 'Hypoglycemia']"
   ],
   "metadata": {
    "collapsed": false
   },
   "id": "6b4622752beb614a"
  },
  {
   "cell_type": "markdown",
   "source": [
    "## Execute MeSH Query"
   ],
   "metadata": {
    "collapsed": false
   },
   "id": "5ac558dffc7156ad"
  },
  {
   "cell_type": "code",
   "outputs": [],
   "source": [
    "# Filter and get unique results\n",
    "result = query_dataset(pcg_grpm, mesh_query, 'mesh')\n",
    "display(result)"
   ],
   "metadata": {
    "collapsed": false,
    "ExecuteTime": {
     "start_time": "2025-02-19T15:38:52.617148400Z"
    }
   },
   "id": "96db33e16dc2dc20",
   "execution_count": null
  },
  {
   "cell_type": "markdown",
   "source": [],
   "metadata": {
    "collapsed": false
   },
   "id": "3344d6a0d98b322b"
  },
  {
   "cell_type": "markdown",
   "source": [
    "# QUERY Nutrigenetic Dataset"
   ],
   "metadata": {
    "collapsed": false
   },
   "id": "249fdde0095caff5"
  },
  {
   "cell_type": "code",
   "outputs": [
    {
     "name": "stdout",
     "output_type": "stream",
     "text": [
      "Computing Stats...\n",
      "runtime:  0:00:01.133999\n"
     ]
    },
    {
     "data": {
      "text/plain": "                                                     gene   rsid   pmid   mesh\n                                                   unique unique unique unique\ntopic                                                                         \nCardiovascular Health and Lipid Metabolism            975  41931  66113    521\nDiabetes Mellitus Type II and Metabolic Syndrome      603  22270  36198    297\nDiet-induced Oxidative Stress                          75   2559  10058     60\nEating Behavior and Taste Sensation                   211   4252   7241    256\nFood Allergies                                        451   6289   7762     64\nFood Intolerances                                     392   5008   4726    125\nGeneral Nutrition                                     686  26456  44859    397\nObesity, Weight Control and Compulsive Eating         317  10842  22123    230\nVitamin and Micronutrients Metabolism and Defic...     89   3525   6882    147\nXenobiotics Metabolism                                173   7159  14171    151",
      "text/html": "<div>\n<style scoped>\n    .dataframe tbody tr th:only-of-type {\n        vertical-align: middle;\n    }\n\n    .dataframe tbody tr th {\n        vertical-align: top;\n    }\n\n    .dataframe thead tr th {\n        text-align: left;\n    }\n\n    .dataframe thead tr:last-of-type th {\n        text-align: right;\n    }\n</style>\n<table border=\"1\" class=\"dataframe\">\n  <thead>\n    <tr>\n      <th></th>\n      <th>gene</th>\n      <th>rsid</th>\n      <th>pmid</th>\n      <th>mesh</th>\n    </tr>\n    <tr>\n      <th></th>\n      <th>unique</th>\n      <th>unique</th>\n      <th>unique</th>\n      <th>unique</th>\n    </tr>\n    <tr>\n      <th>topic</th>\n      <th></th>\n      <th></th>\n      <th></th>\n      <th></th>\n    </tr>\n  </thead>\n  <tbody>\n    <tr>\n      <th>Cardiovascular Health and Lipid Metabolism</th>\n      <td>975</td>\n      <td>41931</td>\n      <td>66113</td>\n      <td>521</td>\n    </tr>\n    <tr>\n      <th>Diabetes Mellitus Type II and Metabolic Syndrome</th>\n      <td>603</td>\n      <td>22270</td>\n      <td>36198</td>\n      <td>297</td>\n    </tr>\n    <tr>\n      <th>Diet-induced Oxidative Stress</th>\n      <td>75</td>\n      <td>2559</td>\n      <td>10058</td>\n      <td>60</td>\n    </tr>\n    <tr>\n      <th>Eating Behavior and Taste Sensation</th>\n      <td>211</td>\n      <td>4252</td>\n      <td>7241</td>\n      <td>256</td>\n    </tr>\n    <tr>\n      <th>Food Allergies</th>\n      <td>451</td>\n      <td>6289</td>\n      <td>7762</td>\n      <td>64</td>\n    </tr>\n    <tr>\n      <th>Food Intolerances</th>\n      <td>392</td>\n      <td>5008</td>\n      <td>4726</td>\n      <td>125</td>\n    </tr>\n    <tr>\n      <th>General Nutrition</th>\n      <td>686</td>\n      <td>26456</td>\n      <td>44859</td>\n      <td>397</td>\n    </tr>\n    <tr>\n      <th>Obesity, Weight Control and Compulsive Eating</th>\n      <td>317</td>\n      <td>10842</td>\n      <td>22123</td>\n      <td>230</td>\n    </tr>\n    <tr>\n      <th>Vitamin and Micronutrients Metabolism and Deficiency-Related Diseases</th>\n      <td>89</td>\n      <td>3525</td>\n      <td>6882</td>\n      <td>147</td>\n    </tr>\n    <tr>\n      <th>Xenobiotics Metabolism</th>\n      <td>173</td>\n      <td>7159</td>\n      <td>14171</td>\n      <td>151</td>\n    </tr>\n  </tbody>\n</table>\n</div>"
     },
     "execution_count": 6,
     "metadata": {},
     "output_type": "execute_result"
    }
   ],
   "source": [
    "get_stats(grpm_nutrigen_int, 'topic')"
   ],
   "metadata": {
    "collapsed": false,
    "ExecuteTime": {
     "end_time": "2025-02-19T21:59:39.677574600Z",
     "start_time": "2025-02-19T21:59:38.527886800Z"
    }
   },
   "id": "8ab5daf28e758919",
   "execution_count": 6
  },
  {
   "cell_type": "markdown",
   "source": [
    "## 1. Query by Nutritional Topic "
   ],
   "metadata": {
    "collapsed": false
   },
   "id": "1bd1b8bf947aebf9"
  },
  {
   "cell_type": "code",
   "outputs": [
    {
     "name": "stdout",
     "output_type": "stream",
     "text": [
      "Displaying \"Vitamin and Micronutrients Metabolism and Deficiency-Related Diseases\" topic\n"
     ]
    },
    {
     "data": {
      "text/plain": "          gene          rsid      pmid  \\\n967603     VDR      rs987849  34578986   \n967604     VDR      rs987849  34578986   \n967605     VDR      rs987849  34578986   \n967606     VDR      rs987849  34578986   \n967607     VDR      rs987849  34578986   \n...        ...           ...       ...   \n1002198  ITPR1   rs121912425  21555639   \n1002199  ITPR1   rs121912425  22986007   \n1002200  ITPR1   rs121912425  18579805   \n1002201  ITPR1   rs121912425  27108798   \n1002202  ITPR1  rs1114167316  28488678   \n\n                                           mesh  \\\n967603                       Nutritional Status   \n967604                    Receptors, Calcitriol   \n967605                                Vitamin D   \n967606                     Vitamin D Deficiency   \n967607                Vitamin D-Binding Protein   \n...                                         ...   \n1002198  Inositol 1,4,5-Trisphosphate Receptors   \n1002199  Inositol 1,4,5-Trisphosphate Receptors   \n1002200  Inositol 1,4,5-Trisphosphate Receptors   \n1002201  Inositol 1,4,5-Trisphosphate Receptors   \n1002202  Inositol 1,4,5-Trisphosphate Receptors   \n\n                                                     topic  interest_index  \n967603   Vitamin and Micronutrients Metabolism and Defi...         1.00000  \n967604   Vitamin and Micronutrients Metabolism and Defi...         1.00000  \n967605   Vitamin and Micronutrients Metabolism and Defi...         1.00000  \n967606   Vitamin and Micronutrients Metabolism and Defi...         1.00000  \n967607   Vitamin and Micronutrients Metabolism and Defi...         1.00000  \n...                                                    ...             ...  \n1002198  Vitamin and Micronutrients Metabolism and Defi...         0.01255  \n1002199  Vitamin and Micronutrients Metabolism and Defi...         0.01255  \n1002200  Vitamin and Micronutrients Metabolism and Defi...         0.01255  \n1002201  Vitamin and Micronutrients Metabolism and Defi...         0.01255  \n1002202  Vitamin and Micronutrients Metabolism and Defi...         0.01255  \n\n[34600 rows x 6 columns]",
      "text/html": "<div>\n<style scoped>\n    .dataframe tbody tr th:only-of-type {\n        vertical-align: middle;\n    }\n\n    .dataframe tbody tr th {\n        vertical-align: top;\n    }\n\n    .dataframe thead th {\n        text-align: right;\n    }\n</style>\n<table border=\"1\" class=\"dataframe\">\n  <thead>\n    <tr style=\"text-align: right;\">\n      <th></th>\n      <th>gene</th>\n      <th>rsid</th>\n      <th>pmid</th>\n      <th>mesh</th>\n      <th>topic</th>\n      <th>interest_index</th>\n    </tr>\n  </thead>\n  <tbody>\n    <tr>\n      <th>967603</th>\n      <td>VDR</td>\n      <td>rs987849</td>\n      <td>34578986</td>\n      <td>Nutritional Status</td>\n      <td>Vitamin and Micronutrients Metabolism and Defi...</td>\n      <td>1.00000</td>\n    </tr>\n    <tr>\n      <th>967604</th>\n      <td>VDR</td>\n      <td>rs987849</td>\n      <td>34578986</td>\n      <td>Receptors, Calcitriol</td>\n      <td>Vitamin and Micronutrients Metabolism and Defi...</td>\n      <td>1.00000</td>\n    </tr>\n    <tr>\n      <th>967605</th>\n      <td>VDR</td>\n      <td>rs987849</td>\n      <td>34578986</td>\n      <td>Vitamin D</td>\n      <td>Vitamin and Micronutrients Metabolism and Defi...</td>\n      <td>1.00000</td>\n    </tr>\n    <tr>\n      <th>967606</th>\n      <td>VDR</td>\n      <td>rs987849</td>\n      <td>34578986</td>\n      <td>Vitamin D Deficiency</td>\n      <td>Vitamin and Micronutrients Metabolism and Defi...</td>\n      <td>1.00000</td>\n    </tr>\n    <tr>\n      <th>967607</th>\n      <td>VDR</td>\n      <td>rs987849</td>\n      <td>34578986</td>\n      <td>Vitamin D-Binding Protein</td>\n      <td>Vitamin and Micronutrients Metabolism and Defi...</td>\n      <td>1.00000</td>\n    </tr>\n    <tr>\n      <th>...</th>\n      <td>...</td>\n      <td>...</td>\n      <td>...</td>\n      <td>...</td>\n      <td>...</td>\n      <td>...</td>\n    </tr>\n    <tr>\n      <th>1002198</th>\n      <td>ITPR1</td>\n      <td>rs121912425</td>\n      <td>21555639</td>\n      <td>Inositol 1,4,5-Trisphosphate Receptors</td>\n      <td>Vitamin and Micronutrients Metabolism and Defi...</td>\n      <td>0.01255</td>\n    </tr>\n    <tr>\n      <th>1002199</th>\n      <td>ITPR1</td>\n      <td>rs121912425</td>\n      <td>22986007</td>\n      <td>Inositol 1,4,5-Trisphosphate Receptors</td>\n      <td>Vitamin and Micronutrients Metabolism and Defi...</td>\n      <td>0.01255</td>\n    </tr>\n    <tr>\n      <th>1002200</th>\n      <td>ITPR1</td>\n      <td>rs121912425</td>\n      <td>18579805</td>\n      <td>Inositol 1,4,5-Trisphosphate Receptors</td>\n      <td>Vitamin and Micronutrients Metabolism and Defi...</td>\n      <td>0.01255</td>\n    </tr>\n    <tr>\n      <th>1002201</th>\n      <td>ITPR1</td>\n      <td>rs121912425</td>\n      <td>27108798</td>\n      <td>Inositol 1,4,5-Trisphosphate Receptors</td>\n      <td>Vitamin and Micronutrients Metabolism and Defi...</td>\n      <td>0.01255</td>\n    </tr>\n    <tr>\n      <th>1002202</th>\n      <td>ITPR1</td>\n      <td>rs1114167316</td>\n      <td>28488678</td>\n      <td>Inositol 1,4,5-Trisphosphate Receptors</td>\n      <td>Vitamin and Micronutrients Metabolism and Defi...</td>\n      <td>0.01255</td>\n    </tr>\n  </tbody>\n</table>\n<p>34600 rows × 6 columns</p>\n</div>"
     },
     "metadata": {},
     "output_type": "display_data"
    }
   ],
   "source": [
    "# Select Topic\n",
    "topic = \"Vitamin and Micronutrients Metabolism and Deficiency-Related Diseases\"\n",
    "\n",
    "# Filter and get unique results\n",
    "topic_data = query_dataset(grpm_nutrigen_int, [topic], 'topic')\n",
    "print(f'Displaying \"{topic}\" topic')\n",
    "display(topic_data)"
   ],
   "metadata": {
    "collapsed": false,
    "ExecuteTime": {
     "end_time": "2025-02-19T18:18:15.681151600Z",
     "start_time": "2025-02-19T18:18:15.611519700Z"
    }
   },
   "id": "c06bdbbe6d035bb6",
   "execution_count": 17
  },
  {
   "cell_type": "code",
   "outputs": [],
   "source": [
    "# Get Topic Data Stats\n",
    "stats = get_stats(topic_data, \"gene\", gi_sort=True)\n",
    "stats"
   ],
   "metadata": {
    "collapsed": false,
    "ExecuteTime": {
     "start_time": "2025-02-19T15:38:52.625043100Z"
    }
   },
   "id": "8d51fcef87fc292",
   "execution_count": null
  },
  {
   "cell_type": "markdown",
   "source": [
    "### Select Topic on Nutrigenetic-GWAS dataset"
   ],
   "metadata": {
    "collapsed": false
   },
   "id": "190728bffc684308"
  },
  {
   "cell_type": "code",
   "outputs": [
    {
     "data": {
      "text/plain": "       GRPM_GENE  GRPM_RSID GRPM_PMID     GRPM_MESH  \\\n164708     MTHFR  rs1801133  26025547  Vitamin B 12   \n164709     MTHFR  rs1801133  33290257  Vitamin B 12   \n164710     MTHFR  rs1801133  33799553  Vitamin B 12   \n164711     MTHFR  rs1801133  33347560  Vitamin B 12   \n164712     MTHFR  rs1801133  17277043  Vitamin B 12   \n\n                                               GRPM_TOPIC  GRPM_GI  \\\n164708  Vitamin and Micronutrients Metabolism and Defi...  0.64677   \n164709  Vitamin and Micronutrients Metabolism and Defi...  0.64677   \n164710  Vitamin and Micronutrients Metabolism and Defi...  0.64677   \n164711  Vitamin and Micronutrients Metabolism and Defi...  0.64677   \n164712  Vitamin and Micronutrients Metabolism and Defi...  0.64677   \n\n        SEMANTIC_SIMILARITY GWAS_DISEASE/TRAIT       GWAS_MAPPED_TRAIT  \\\n164708             0.952817  Vitamin B9 levels  folic acid measurement   \n164709             0.952817  Vitamin B9 levels  folic acid measurement   \n164710             0.952817  Vitamin B9 levels  folic acid measurement   \n164711             0.952817  Vitamin B9 levels  folic acid measurement   \n164712             0.952817  Vitamin B9 levels  folic acid measurement   \n\n       GWAS_MAPPED_GENE      GWAS_CONTEXT GWAS_STRONGEST_SNP-RISK_ALLELE  \\\n164708            MTHFR  missense_variant                    rs1801133-A   \n164709            MTHFR  missense_variant                    rs1801133-A   \n164710            MTHFR  missense_variant                    rs1801133-A   \n164711            MTHFR  missense_variant                    rs1801133-A   \n164712            MTHFR  missense_variant                    rs1801133-A   \n\n        GWAS_OR-BETA                                         GWAS_STUDY  \\\n164708          0.12  The STROMICS genome study: deep whole-genome s...   \n164709          0.12  The STROMICS genome study: deep whole-genome s...   \n164710          0.12  The STROMICS genome study: deep whole-genome s...   \n164711          0.12  The STROMICS genome study: deep whole-genome s...   \n164712          0.12  The STROMICS genome study: deep whole-genome s...   \n\n       GWAS_STUDY_ID  \n164708  GCST90319528  \n164709  GCST90319528  \n164710  GCST90319528  \n164711  GCST90319528  \n164712  GCST90319528  ",
      "text/html": "<div>\n<style scoped>\n    .dataframe tbody tr th:only-of-type {\n        vertical-align: middle;\n    }\n\n    .dataframe tbody tr th {\n        vertical-align: top;\n    }\n\n    .dataframe thead th {\n        text-align: right;\n    }\n</style>\n<table border=\"1\" class=\"dataframe\">\n  <thead>\n    <tr style=\"text-align: right;\">\n      <th></th>\n      <th>GRPM_GENE</th>\n      <th>GRPM_RSID</th>\n      <th>GRPM_PMID</th>\n      <th>GRPM_MESH</th>\n      <th>GRPM_TOPIC</th>\n      <th>GRPM_GI</th>\n      <th>SEMANTIC_SIMILARITY</th>\n      <th>GWAS_DISEASE/TRAIT</th>\n      <th>GWAS_MAPPED_TRAIT</th>\n      <th>GWAS_MAPPED_GENE</th>\n      <th>GWAS_CONTEXT</th>\n      <th>GWAS_STRONGEST_SNP-RISK_ALLELE</th>\n      <th>GWAS_OR-BETA</th>\n      <th>GWAS_STUDY</th>\n      <th>GWAS_STUDY_ID</th>\n    </tr>\n  </thead>\n  <tbody>\n    <tr>\n      <th>164708</th>\n      <td>MTHFR</td>\n      <td>rs1801133</td>\n      <td>26025547</td>\n      <td>Vitamin B 12</td>\n      <td>Vitamin and Micronutrients Metabolism and Defi...</td>\n      <td>0.64677</td>\n      <td>0.952817</td>\n      <td>Vitamin B9 levels</td>\n      <td>folic acid measurement</td>\n      <td>MTHFR</td>\n      <td>missense_variant</td>\n      <td>rs1801133-A</td>\n      <td>0.12</td>\n      <td>The STROMICS genome study: deep whole-genome s...</td>\n      <td>GCST90319528</td>\n    </tr>\n    <tr>\n      <th>164709</th>\n      <td>MTHFR</td>\n      <td>rs1801133</td>\n      <td>33290257</td>\n      <td>Vitamin B 12</td>\n      <td>Vitamin and Micronutrients Metabolism and Defi...</td>\n      <td>0.64677</td>\n      <td>0.952817</td>\n      <td>Vitamin B9 levels</td>\n      <td>folic acid measurement</td>\n      <td>MTHFR</td>\n      <td>missense_variant</td>\n      <td>rs1801133-A</td>\n      <td>0.12</td>\n      <td>The STROMICS genome study: deep whole-genome s...</td>\n      <td>GCST90319528</td>\n    </tr>\n    <tr>\n      <th>164710</th>\n      <td>MTHFR</td>\n      <td>rs1801133</td>\n      <td>33799553</td>\n      <td>Vitamin B 12</td>\n      <td>Vitamin and Micronutrients Metabolism and Defi...</td>\n      <td>0.64677</td>\n      <td>0.952817</td>\n      <td>Vitamin B9 levels</td>\n      <td>folic acid measurement</td>\n      <td>MTHFR</td>\n      <td>missense_variant</td>\n      <td>rs1801133-A</td>\n      <td>0.12</td>\n      <td>The STROMICS genome study: deep whole-genome s...</td>\n      <td>GCST90319528</td>\n    </tr>\n    <tr>\n      <th>164711</th>\n      <td>MTHFR</td>\n      <td>rs1801133</td>\n      <td>33347560</td>\n      <td>Vitamin B 12</td>\n      <td>Vitamin and Micronutrients Metabolism and Defi...</td>\n      <td>0.64677</td>\n      <td>0.952817</td>\n      <td>Vitamin B9 levels</td>\n      <td>folic acid measurement</td>\n      <td>MTHFR</td>\n      <td>missense_variant</td>\n      <td>rs1801133-A</td>\n      <td>0.12</td>\n      <td>The STROMICS genome study: deep whole-genome s...</td>\n      <td>GCST90319528</td>\n    </tr>\n    <tr>\n      <th>164712</th>\n      <td>MTHFR</td>\n      <td>rs1801133</td>\n      <td>17277043</td>\n      <td>Vitamin B 12</td>\n      <td>Vitamin and Micronutrients Metabolism and Defi...</td>\n      <td>0.64677</td>\n      <td>0.952817</td>\n      <td>Vitamin B9 levels</td>\n      <td>folic acid measurement</td>\n      <td>MTHFR</td>\n      <td>missense_variant</td>\n      <td>rs1801133-A</td>\n      <td>0.12</td>\n      <td>The STROMICS genome study: deep whole-genome s...</td>\n      <td>GCST90319528</td>\n    </tr>\n  </tbody>\n</table>\n</div>"
     },
     "metadata": {},
     "output_type": "display_data"
    },
    {
     "name": "stdout",
     "output_type": "stream",
     "text": [
      "Computing Stats...\n",
      "runtime:  0:00:00.161999\n"
     ]
    },
    {
     "data": {
      "text/plain": "          GRPM_RSID GRPM_PMID GRPM_MESH GRPM_TOPIC GWAS_DISEASE/TRAIT  \\\n             unique    unique    unique     unique             unique   \nGRPM_GENE                                                               \nAMDHD1            1        21         2          1                  2   \nBTD               2        25         1          1                  1   \nCUBN              1         8         1          1                  1   \nCYP24A1           2        24         1          1                  1   \nCYP2R1            1         5         2          1                  2   \nCYP4F2            1        10         1          1                  1   \nGC                7       345         3          1                  6   \nGSTP1             1       484         1          1                  1   \nMTHFR             1       319         1          1                  1   \nNADSYN1           5       160         2          1                  3   \nPDE3B             3         9         1          1                  1   \nSEC23A            1        21         1          1                  1   \nSLC22A5           2         1         1          1                  2   \nSLC23A1           1        16         1          1                  1   \nTCN1              1         5         1          1                  1   \nTCN2              1         5         1          1                  1   \n\n          GWAS_MAPPED_TRAIT GWAS_MAPPED_GENE GWAS_CONTEXT  \\\n                     unique           unique       unique   \nGRPM_GENE                                                   \nAMDHD1                    2                1            1   \nBTD                       1                1            1   \nCUBN                      1                1            1   \nCYP24A1                   1                1            2   \nCYP2R1                    2                1            1   \nCYP4F2                    1                1            1   \nGC                        4                1            2   \nGSTP1                     1                1            1   \nMTHFR                     1                1            1   \nNADSYN1                   3                1            2   \nPDE3B                     1                1            1   \nSEC23A                    1                1            1   \nSLC22A5                   2                1            2   \nSLC23A1                   1                1            1   \nTCN1                      1                1            1   \nTCN2                      1                1            1   \n\n          GWAS_STRONGEST_SNP-RISK_ALLELE GWAS_STUDY GWAS_STUDY_ID  \n                                  unique     unique        unique  \nGRPM_GENE                                                          \nAMDHD1                                 1          1             2  \nBTD                                    2          1             1  \nCUBN                                   1          1             1  \nCYP24A1                                2          1             1  \nCYP2R1                                 1          2             2  \nCYP4F2                                 1          1             1  \nGC                                     9          8            10  \nGSTP1                                  1          1             1  \nMTHFR                                  1          1             1  \nNADSYN1                                5          4             5  \nPDE3B                                  3          2             2  \nSEC23A                                 1          1             1  \nSLC22A5                                2          2             2  \nSLC23A1                                1          1             1  \nTCN1                                   2          2             2  \nTCN2                                   1          1             1  ",
      "text/html": "<div>\n<style scoped>\n    .dataframe tbody tr th:only-of-type {\n        vertical-align: middle;\n    }\n\n    .dataframe tbody tr th {\n        vertical-align: top;\n    }\n\n    .dataframe thead tr th {\n        text-align: left;\n    }\n\n    .dataframe thead tr:last-of-type th {\n        text-align: right;\n    }\n</style>\n<table border=\"1\" class=\"dataframe\">\n  <thead>\n    <tr>\n      <th></th>\n      <th>GRPM_RSID</th>\n      <th>GRPM_PMID</th>\n      <th>GRPM_MESH</th>\n      <th>GRPM_TOPIC</th>\n      <th>GWAS_DISEASE/TRAIT</th>\n      <th>GWAS_MAPPED_TRAIT</th>\n      <th>GWAS_MAPPED_GENE</th>\n      <th>GWAS_CONTEXT</th>\n      <th>GWAS_STRONGEST_SNP-RISK_ALLELE</th>\n      <th>GWAS_STUDY</th>\n      <th>GWAS_STUDY_ID</th>\n    </tr>\n    <tr>\n      <th></th>\n      <th>unique</th>\n      <th>unique</th>\n      <th>unique</th>\n      <th>unique</th>\n      <th>unique</th>\n      <th>unique</th>\n      <th>unique</th>\n      <th>unique</th>\n      <th>unique</th>\n      <th>unique</th>\n      <th>unique</th>\n    </tr>\n    <tr>\n      <th>GRPM_GENE</th>\n      <th></th>\n      <th></th>\n      <th></th>\n      <th></th>\n      <th></th>\n      <th></th>\n      <th></th>\n      <th></th>\n      <th></th>\n      <th></th>\n      <th></th>\n    </tr>\n  </thead>\n  <tbody>\n    <tr>\n      <th>AMDHD1</th>\n      <td>1</td>\n      <td>21</td>\n      <td>2</td>\n      <td>1</td>\n      <td>2</td>\n      <td>2</td>\n      <td>1</td>\n      <td>1</td>\n      <td>1</td>\n      <td>1</td>\n      <td>2</td>\n    </tr>\n    <tr>\n      <th>BTD</th>\n      <td>2</td>\n      <td>25</td>\n      <td>1</td>\n      <td>1</td>\n      <td>1</td>\n      <td>1</td>\n      <td>1</td>\n      <td>1</td>\n      <td>2</td>\n      <td>1</td>\n      <td>1</td>\n    </tr>\n    <tr>\n      <th>CUBN</th>\n      <td>1</td>\n      <td>8</td>\n      <td>1</td>\n      <td>1</td>\n      <td>1</td>\n      <td>1</td>\n      <td>1</td>\n      <td>1</td>\n      <td>1</td>\n      <td>1</td>\n      <td>1</td>\n    </tr>\n    <tr>\n      <th>CYP24A1</th>\n      <td>2</td>\n      <td>24</td>\n      <td>1</td>\n      <td>1</td>\n      <td>1</td>\n      <td>1</td>\n      <td>1</td>\n      <td>2</td>\n      <td>2</td>\n      <td>1</td>\n      <td>1</td>\n    </tr>\n    <tr>\n      <th>CYP2R1</th>\n      <td>1</td>\n      <td>5</td>\n      <td>2</td>\n      <td>1</td>\n      <td>2</td>\n      <td>2</td>\n      <td>1</td>\n      <td>1</td>\n      <td>1</td>\n      <td>2</td>\n      <td>2</td>\n    </tr>\n    <tr>\n      <th>CYP4F2</th>\n      <td>1</td>\n      <td>10</td>\n      <td>1</td>\n      <td>1</td>\n      <td>1</td>\n      <td>1</td>\n      <td>1</td>\n      <td>1</td>\n      <td>1</td>\n      <td>1</td>\n      <td>1</td>\n    </tr>\n    <tr>\n      <th>GC</th>\n      <td>7</td>\n      <td>345</td>\n      <td>3</td>\n      <td>1</td>\n      <td>6</td>\n      <td>4</td>\n      <td>1</td>\n      <td>2</td>\n      <td>9</td>\n      <td>8</td>\n      <td>10</td>\n    </tr>\n    <tr>\n      <th>GSTP1</th>\n      <td>1</td>\n      <td>484</td>\n      <td>1</td>\n      <td>1</td>\n      <td>1</td>\n      <td>1</td>\n      <td>1</td>\n      <td>1</td>\n      <td>1</td>\n      <td>1</td>\n      <td>1</td>\n    </tr>\n    <tr>\n      <th>MTHFR</th>\n      <td>1</td>\n      <td>319</td>\n      <td>1</td>\n      <td>1</td>\n      <td>1</td>\n      <td>1</td>\n      <td>1</td>\n      <td>1</td>\n      <td>1</td>\n      <td>1</td>\n      <td>1</td>\n    </tr>\n    <tr>\n      <th>NADSYN1</th>\n      <td>5</td>\n      <td>160</td>\n      <td>2</td>\n      <td>1</td>\n      <td>3</td>\n      <td>3</td>\n      <td>1</td>\n      <td>2</td>\n      <td>5</td>\n      <td>4</td>\n      <td>5</td>\n    </tr>\n    <tr>\n      <th>PDE3B</th>\n      <td>3</td>\n      <td>9</td>\n      <td>1</td>\n      <td>1</td>\n      <td>1</td>\n      <td>1</td>\n      <td>1</td>\n      <td>1</td>\n      <td>3</td>\n      <td>2</td>\n      <td>2</td>\n    </tr>\n    <tr>\n      <th>SEC23A</th>\n      <td>1</td>\n      <td>21</td>\n      <td>1</td>\n      <td>1</td>\n      <td>1</td>\n      <td>1</td>\n      <td>1</td>\n      <td>1</td>\n      <td>1</td>\n      <td>1</td>\n      <td>1</td>\n    </tr>\n    <tr>\n      <th>SLC22A5</th>\n      <td>2</td>\n      <td>1</td>\n      <td>1</td>\n      <td>1</td>\n      <td>2</td>\n      <td>2</td>\n      <td>1</td>\n      <td>2</td>\n      <td>2</td>\n      <td>2</td>\n      <td>2</td>\n    </tr>\n    <tr>\n      <th>SLC23A1</th>\n      <td>1</td>\n      <td>16</td>\n      <td>1</td>\n      <td>1</td>\n      <td>1</td>\n      <td>1</td>\n      <td>1</td>\n      <td>1</td>\n      <td>1</td>\n      <td>1</td>\n      <td>1</td>\n    </tr>\n    <tr>\n      <th>TCN1</th>\n      <td>1</td>\n      <td>5</td>\n      <td>1</td>\n      <td>1</td>\n      <td>1</td>\n      <td>1</td>\n      <td>1</td>\n      <td>1</td>\n      <td>2</td>\n      <td>2</td>\n      <td>2</td>\n    </tr>\n    <tr>\n      <th>TCN2</th>\n      <td>1</td>\n      <td>5</td>\n      <td>1</td>\n      <td>1</td>\n      <td>1</td>\n      <td>1</td>\n      <td>1</td>\n      <td>1</td>\n      <td>1</td>\n      <td>1</td>\n      <td>1</td>\n    </tr>\n  </tbody>\n</table>\n</div>"
     },
     "execution_count": 36,
     "metadata": {},
     "output_type": "execute_result"
    }
   ],
   "source": [
    "# Select Topic on Nutrigenetic-GWAS dataset\n",
    "topic = \"Vitamin and Micronutrients Metabolism and Deficiency-Related Diseases\"\n",
    "\n",
    "topic_data_gwas = query_dataset(grpm_nutrigen_int_gwas, [topic], 'GRPM_TOPIC')\n",
    "display(topic_data_gwas.head())\n",
    "# Get Topic Data Stats\n",
    "stats = get_stats(topic_data_gwas, group_by = \"GRPM_GENE\")\n",
    "stats"
   ],
   "metadata": {
    "collapsed": false,
    "ExecuteTime": {
     "end_time": "2025-02-19T22:18:29.602635200Z",
     "start_time": "2025-02-19T22:18:29.321908400Z"
    }
   },
   "id": "cc8583946c8dcad",
   "execution_count": 36
  },
  {
   "cell_type": "markdown",
   "source": [],
   "metadata": {
    "collapsed": false
   },
   "id": "1f621beaefdb0c5d"
  },
  {
   "cell_type": "markdown",
   "source": [
    "## 2. Advanced query (use case)\n",
    "\n",
    "Exploring the genetic determinants of nutritional status involves understanding how genetic variations influence the intake and utilization of micronutrients, impacting nutrient transport, metabolism, and cellular uptake.\n",
    "\n",
    "> *Micronutrients such as trace elements and vitamins are important as enzyme cofactors in the metabolism of all cells in the body and therefore key to determining nutritional status.*\n",
    "\n",
    "\n",
    "Build a composite query:\n",
    "- Nutritional Status, Mechanisms of Micronutrient Metabolism, and Micronutrient Measurement"
   ],
   "metadata": {
    "collapsed": false
   },
   "id": "2b21cf86211b297e"
  },
  {
   "cell_type": "code",
   "outputs": [
    {
     "name": "stdout",
     "output_type": "stream",
     "text": [
      "Done\n",
      "\n",
      " ['Measurement of nutritional status', 0.85]\n",
      "Related MeSH: ['Nutritional Support', 'Malnutrition', 'Nutritional Status', 'Lung Volume Measurements', 'Speech Production Measurement', 'Eye Movement Measurements', 'Nutritional Requirements', 'Educational Measurement']\n",
      "\n",
      " ['Assess essential micronutrients', 0.84]\n",
      "Related MeSH: ['Dietary Proteins', 'Micronutrients', 'Malnutrition', 'Vitamin A Deficiency', 'Nutrition Disorders', 'Nutritional Status', 'Nutrients', 'Sports Nutritional Sciences', 'Nutritional Requirements']\n",
      "\n",
      " ['Focus on vitamins like vitamin A, D, and B-vitamins.', 0.84]\n",
      "Related MeSH: ['Vitamin E', 'Cholagogues and Choleretics', 'Anti-Infective Agents, Urinary', 'Anti-Infective Agents, Local', 'Fatty Acids, Omega-3', 'Vitamin B 12', 'Vitamin B Complex', 'Vitamin A', 'Vitamin D', 'Diuretics, Potassium Sparing', 'Vaccines, Virus-Like Particle', 'Amino Acids, Essential', 'Vitamin K 3', 'Vitamin K 2', 'Vitamin B 6', 'Contraceptives, Oral, Hormonal', 'Receptors, OSM-LIF', 'Salivary Proteins and Peptides', 'Retinol-Binding Proteins, Cellular', 'Retinol-Binding Proteins, Plasma', 'Amino Acids, Basic', 'Fatty Acids, Essential', 'Fatty Acids, Omega-6', 'Micronutrients', 'Diet, Vegetarian', 'Intestinal Diseases, Parasitic', 'Vitamin E Deficiency', 'Vitamin K Deficiency', 'Liver Diseases, Parasitic', 'Liver Diseases, Alcoholic', 'Hypervitaminosis A', 'Vitamin B 6 Deficiency', 'Skin Diseases, Bacterial', 'Skin Diseases, Viral', 'Vitamin A Deficiency', 'Vitamin B 12 Deficiency', 'Vitamin D Deficiency', 'Vitamin B Deficiency', 'Hepatitis, Viral, Animal', 'Hepatitis, Viral, Human', 'Dysentery, Bacillary', 'Genes, erbB-1', 'Genes, erbB-2']\n",
      "\n",
      " ['trace minerals such as iron, zinc, and iodine.', 0.84]\n",
      "Related MeSH: ['Potassium Iodide', 'Ferric Oxide, Saccharated', 'Amino Acids, Sulfur', 'Selenoprotein W', 'Hydrocarbons, Iodinated', 'Fatty Acids, Essential', 'Chlorodiphenyl (54% Chlorine)', 'Zinc Compounds', 'Metals, Alkaline Earth', 'Iodine Isotopes']\n",
      "\n",
      " ['cellular processes for micronutrient absorption.', 0.87]\n",
      "Related MeSH: ['Glucose Transport Proteins, Facilitative', 'Receptors, OSM-LIF', 'Activation, Metabolic']\n",
      "\n",
      " ['transport and transformation of nutrients.', 0.84]\n",
      "Related MeSH: ['Sulfate Transporters', 'Nitrate Transporters', 'Biodegradation, Environmental', 'Protein Transport', 'Chemoautotrophic Growth']\n",
      "\n",
      " ['nutrients storage mechanisms.', 0.84]\n",
      "Related MeSH: ['Glycine Agents', 'Receptors, GABA-A', 'Receptors, GABA-B', 'R Factors', 'Inhibition, Psychological', 'Conditioning, Classical', 'Starvation', 'Protein Transport', 'Chemoautotrophic Growth', 'Autotrophic Processes', 'Activation, Metabolic', 'Secretory Rate', 'Cell Respiration', 'Osmoregulation', 'Plant Transpiration', 'Germination']\n",
      "\n",
      " ['cofactors in nutrient utilization.', 0.84]\n",
      "Related MeSH: ['Glycine Decarboxylase Complex H-Protein', 'Nitrate Reductases', 'Glycine Decarboxylase Complex', 'Sulfate Transporters', 'Pyruvate Dehydrogenase Complex', 'Pyruvate Decarboxylase', 'Pyruvate Carboxylase', 'Glucose Transport Proteins, Facilitative', 'PII Nitrogen Regulatory Proteins', 'NADH, NADPH Oxidoreductases', 'Ketoglutarate Dehydrogenase Complex', 'Nitrite Reductases', 'Pyruvate Kinase', 'Nitrate Transporters', 'Citrate (si)-Synthase', 'Porphobilinogen Synthase', 'Nitroreductases', 'Hydroxymethylglutaryl-CoA-Reductases, NADP-dependent', 'Carbonyl Reductase (NADPH)', 'Carbamoyl-Phosphate Synthase (Ammonia)', 'Pyruvate Carboxylase Deficiency Disease', 'Chemoautotrophic Growth', 'Autotrophic Processes', 'Catabolite Repression']\n",
      "\n",
      " ['homeostasis of nutrients.', 0.84]\n",
      "Related MeSH: ['Receptors, OSM-LIF', 'Decerebrate State', 'Intracellular Space', 'Inactivation, Metabolic', 'Intestinal Reabsorption', 'Protein Transport', 'Activation, Metabolic', 'Proteostasis', 'Metabolic Flux Analysis', 'Organism Hydration Status', 'Osmoregulation', 'Energy Metabolism', 'Basal Metabolism', 'Catabolite Repression', 'Plasma Volume', 'Homeostasis']\n"
     ]
    }
   ],
   "source": [
    "from pygrpm import *\n",
    "\n",
    "# Download and import MeSH Embeddings\n",
    "grpm_mesh_embeddings = import_mesh_embeddings()\n",
    "\n",
    "grpm_meshes = grpm_mesh_embeddings['meshes']\n",
    "mesh_embeddings = grpm_mesh_embeddings['embeddings']\n",
    "\n",
    "# Define queries using natural language\n",
    "QUERIES =[\n",
    "     # 1. **Nutritional Status**:\n",
    "     [\"Measurement of nutritional status\", 0.85],\n",
    "     [\"Assess essential micronutrients\", 0.84],\n",
    "     [\"Focus on vitamins like vitamin A, D, and B-vitamins.\", 0.84],\n",
    "     [\"trace minerals such as iron, zinc, and iodine.\", 0.84],\n",
    "\n",
    "    # 2\"**Mechanisms of Micronutrient Metabolism**:\n",
    "     [\"cellular processes for micronutrient absorption.\", 0.87],\n",
    "     [\"transport and transformation of nutrients.\", 0.84],\n",
    "     [\"nutrients storage mechanisms.\", 0.84],\n",
    "     [\"cofactors in nutrient utilization.\", 0.84],\n",
    "     [\"homeostasis of nutrients.\", 0.84],\n",
    "]\n",
    "\n",
    "\n",
    "mesh_query = []\n",
    "for i in range(len(QUERIES)):\n",
    "    query =  QUERIES[i]\n",
    "    print(\"\\n\",query)\n",
    "    meshes = get_mesh_query(query[0], grpm_meshes, model, mesh_embeddings=mesh_embeddings, threshold=query[1])\n",
    "    mesh_query.extend(meshes)\n",
    "\n",
    "mesh_query = list(set(mesh_query))"
   ],
   "metadata": {
    "collapsed": false,
    "ExecuteTime": {
     "end_time": "2025-02-19T22:02:56.291750500Z",
     "start_time": "2025-02-19T22:02:55.758756100Z"
    }
   },
   "id": "df9d387deb9befaf",
   "execution_count": 11
  },
  {
   "cell_type": "markdown",
   "source": [
    "Get Genes and Variants possibly related to the Query"
   ],
   "metadata": {
    "collapsed": false
   },
   "id": "175a96ba3fb3bba8"
  },
  {
   "cell_type": "code",
   "outputs": [
    {
     "ename": "NameError",
     "evalue": "name 'query_dataset' is not defined",
     "output_type": "error",
     "traceback": [
      "\u001B[1;31m---------------------------------------------------------------------------\u001B[0m",
      "\u001B[1;31mNameError\u001B[0m                                 Traceback (most recent call last)",
      "Cell \u001B[1;32mIn[1], line 2\u001B[0m\n\u001B[0;32m      1\u001B[0m \u001B[38;5;66;03m# Filter and get unique results\u001B[39;00m\n\u001B[1;32m----> 2\u001B[0m query_result \u001B[38;5;241m=\u001B[39m query_dataset(grpm_nutrigen_int, mesh_query, \u001B[38;5;124m'\u001B[39m\u001B[38;5;124mmesh\u001B[39m\u001B[38;5;124m'\u001B[39m)\n\u001B[0;32m      3\u001B[0m query_result\n",
      "\u001B[1;31mNameError\u001B[0m: name 'query_dataset' is not defined"
     ]
    }
   ],
   "source": [
    "# Filter and get unique results\n",
    "query_result = query_dataset(grpm_nutrigen_int, mesh_query, 'mesh')\n",
    "query_result"
   ],
   "metadata": {
    "collapsed": false,
    "ExecuteTime": {
     "end_time": "2025-02-25T19:10:09.525189700Z",
     "start_time": "2025-02-25T19:10:08.600410800Z"
    }
   },
   "id": "990f375dcbf36f95",
   "execution_count": 1
  },
  {
   "cell_type": "code",
   "outputs": [
    {
     "name": "stdout",
     "output_type": "stream",
     "text": [
      "Computing Stats...\n",
      "runtime:  0:00:02.702022\n"
     ]
    },
    {
     "data": {
      "text/plain": "         rsid   pmid   mesh  topic\n       unique unique unique unique\ngene                              \nFTO        28     95     16      6\nMTHFR      56    614     25      9\nVDR       152    376      9      7\nTCF7L2      9     56     12      6\nHFE        11    100     11      7\n...       ...    ...    ...    ...\nUGT1A3      1      1      1      1\nMPO         1      1      1      1\nUGT1A1      1      1      1      1\nAKR1D1      7      1      1      1\nNR1I3       1      1      1      1\n\n[729 rows x 4 columns]",
      "text/html": "<div>\n<style scoped>\n    .dataframe tbody tr th:only-of-type {\n        vertical-align: middle;\n    }\n\n    .dataframe tbody tr th {\n        vertical-align: top;\n    }\n\n    .dataframe thead tr th {\n        text-align: left;\n    }\n\n    .dataframe thead tr:last-of-type th {\n        text-align: right;\n    }\n</style>\n<table border=\"1\" class=\"dataframe\">\n  <thead>\n    <tr>\n      <th></th>\n      <th>rsid</th>\n      <th>pmid</th>\n      <th>mesh</th>\n      <th>topic</th>\n    </tr>\n    <tr>\n      <th></th>\n      <th>unique</th>\n      <th>unique</th>\n      <th>unique</th>\n      <th>unique</th>\n    </tr>\n    <tr>\n      <th>gene</th>\n      <th></th>\n      <th></th>\n      <th></th>\n      <th></th>\n    </tr>\n  </thead>\n  <tbody>\n    <tr>\n      <th>FTO</th>\n      <td>28</td>\n      <td>95</td>\n      <td>16</td>\n      <td>6</td>\n    </tr>\n    <tr>\n      <th>MTHFR</th>\n      <td>56</td>\n      <td>614</td>\n      <td>25</td>\n      <td>9</td>\n    </tr>\n    <tr>\n      <th>VDR</th>\n      <td>152</td>\n      <td>376</td>\n      <td>9</td>\n      <td>7</td>\n    </tr>\n    <tr>\n      <th>TCF7L2</th>\n      <td>9</td>\n      <td>56</td>\n      <td>12</td>\n      <td>6</td>\n    </tr>\n    <tr>\n      <th>HFE</th>\n      <td>11</td>\n      <td>100</td>\n      <td>11</td>\n      <td>7</td>\n    </tr>\n    <tr>\n      <th>...</th>\n      <td>...</td>\n      <td>...</td>\n      <td>...</td>\n      <td>...</td>\n    </tr>\n    <tr>\n      <th>UGT1A3</th>\n      <td>1</td>\n      <td>1</td>\n      <td>1</td>\n      <td>1</td>\n    </tr>\n    <tr>\n      <th>MPO</th>\n      <td>1</td>\n      <td>1</td>\n      <td>1</td>\n      <td>1</td>\n    </tr>\n    <tr>\n      <th>UGT1A1</th>\n      <td>1</td>\n      <td>1</td>\n      <td>1</td>\n      <td>1</td>\n    </tr>\n    <tr>\n      <th>AKR1D1</th>\n      <td>7</td>\n      <td>1</td>\n      <td>1</td>\n      <td>1</td>\n    </tr>\n    <tr>\n      <th>NR1I3</th>\n      <td>1</td>\n      <td>1</td>\n      <td>1</td>\n      <td>1</td>\n    </tr>\n  </tbody>\n</table>\n<p>729 rows × 4 columns</p>\n</div>"
     },
     "execution_count": 20,
     "metadata": {},
     "output_type": "execute_result"
    }
   ],
   "source": [
    "get_stats(query_result, \"gene\", gi_sort=True)"
   ],
   "metadata": {
    "collapsed": false,
    "ExecuteTime": {
     "end_time": "2025-02-19T22:09:35.308049300Z",
     "start_time": "2025-02-19T22:09:32.501582500Z"
    }
   },
   "id": "4d8f5d8e861fbd92",
   "execution_count": 20
  },
  {
   "cell_type": "code",
   "outputs": [
    {
     "data": {
      "text/plain": "        gene        rsid      pmid                  mesh              topic  \\\n12321    VDR    rs987849  34578986    Nutritional Status  General Nutrition   \n12323    VDR    rs987849  34578986             Vitamin D  General Nutrition   \n12324    VDR    rs987849  34578986  Vitamin D Deficiency  General Nutrition   \n12327    VDR    rs987849  22046258             Vitamin D  General Nutrition   \n12332    VDR    rs987849  20086113             Vitamin D  General Nutrition   \n...      ...         ...       ...                   ...                ...   \n1043634  VDR  rs10875694  34578986    Nutritional Status  Food Intolerances   \n1043635  VDR  rs10875693  34578986    Nutritional Status  Food Intolerances   \n1043636  VDR  rs10783219  34578986    Nutritional Status  Food Intolerances   \n1043637  VDR  rs10783218  34578986    Nutritional Status  Food Intolerances   \n1043638  VDR  rs10083198  34578986    Nutritional Status  Food Intolerances   \n\n         interest_index  \n12321           0.78441  \n12323           0.78441  \n12324           0.78441  \n12327           0.78441  \n12332           0.78441  \n...                 ...  \n1043634         0.02603  \n1043635         0.02603  \n1043636         0.02603  \n1043637         0.02603  \n1043638         0.02603  \n\n[5989 rows x 6 columns]",
      "text/html": "<div>\n<style scoped>\n    .dataframe tbody tr th:only-of-type {\n        vertical-align: middle;\n    }\n\n    .dataframe tbody tr th {\n        vertical-align: top;\n    }\n\n    .dataframe thead th {\n        text-align: right;\n    }\n</style>\n<table border=\"1\" class=\"dataframe\">\n  <thead>\n    <tr style=\"text-align: right;\">\n      <th></th>\n      <th>gene</th>\n      <th>rsid</th>\n      <th>pmid</th>\n      <th>mesh</th>\n      <th>topic</th>\n      <th>interest_index</th>\n    </tr>\n  </thead>\n  <tbody>\n    <tr>\n      <th>12321</th>\n      <td>VDR</td>\n      <td>rs987849</td>\n      <td>34578986</td>\n      <td>Nutritional Status</td>\n      <td>General Nutrition</td>\n      <td>0.78441</td>\n    </tr>\n    <tr>\n      <th>12323</th>\n      <td>VDR</td>\n      <td>rs987849</td>\n      <td>34578986</td>\n      <td>Vitamin D</td>\n      <td>General Nutrition</td>\n      <td>0.78441</td>\n    </tr>\n    <tr>\n      <th>12324</th>\n      <td>VDR</td>\n      <td>rs987849</td>\n      <td>34578986</td>\n      <td>Vitamin D Deficiency</td>\n      <td>General Nutrition</td>\n      <td>0.78441</td>\n    </tr>\n    <tr>\n      <th>12327</th>\n      <td>VDR</td>\n      <td>rs987849</td>\n      <td>22046258</td>\n      <td>Vitamin D</td>\n      <td>General Nutrition</td>\n      <td>0.78441</td>\n    </tr>\n    <tr>\n      <th>12332</th>\n      <td>VDR</td>\n      <td>rs987849</td>\n      <td>20086113</td>\n      <td>Vitamin D</td>\n      <td>General Nutrition</td>\n      <td>0.78441</td>\n    </tr>\n    <tr>\n      <th>...</th>\n      <td>...</td>\n      <td>...</td>\n      <td>...</td>\n      <td>...</td>\n      <td>...</td>\n      <td>...</td>\n    </tr>\n    <tr>\n      <th>1043634</th>\n      <td>VDR</td>\n      <td>rs10875694</td>\n      <td>34578986</td>\n      <td>Nutritional Status</td>\n      <td>Food Intolerances</td>\n      <td>0.02603</td>\n    </tr>\n    <tr>\n      <th>1043635</th>\n      <td>VDR</td>\n      <td>rs10875693</td>\n      <td>34578986</td>\n      <td>Nutritional Status</td>\n      <td>Food Intolerances</td>\n      <td>0.02603</td>\n    </tr>\n    <tr>\n      <th>1043636</th>\n      <td>VDR</td>\n      <td>rs10783219</td>\n      <td>34578986</td>\n      <td>Nutritional Status</td>\n      <td>Food Intolerances</td>\n      <td>0.02603</td>\n    </tr>\n    <tr>\n      <th>1043637</th>\n      <td>VDR</td>\n      <td>rs10783218</td>\n      <td>34578986</td>\n      <td>Nutritional Status</td>\n      <td>Food Intolerances</td>\n      <td>0.02603</td>\n    </tr>\n    <tr>\n      <th>1043638</th>\n      <td>VDR</td>\n      <td>rs10083198</td>\n      <td>34578986</td>\n      <td>Nutritional Status</td>\n      <td>Food Intolerances</td>\n      <td>0.02603</td>\n    </tr>\n  </tbody>\n</table>\n<p>5989 rows × 6 columns</p>\n</div>"
     },
     "metadata": {},
     "output_type": "display_data"
    }
   ],
   "source": [
    "## Select specific genes\n",
    "\n",
    "# Gene Query \n",
    "my_genes = \"VDR, PNPLA3, PNPLA3\"\n",
    "\n",
    "# Filter and get unique results\n",
    "gene_panel = query_dataset(query_result, my_genes.split(','), 'gene')\n",
    "display(gene_panel)"
   ],
   "metadata": {
    "collapsed": false,
    "ExecuteTime": {
     "end_time": "2025-02-19T22:12:23.360029400Z",
     "start_time": "2025-02-19T22:12:23.332526400Z"
    }
   },
   "id": "49f467ec000d5cd9",
   "execution_count": 26
  }
 ],
 "metadata": {
  "kernelspec": {
   "display_name": "Python 3",
   "language": "python",
   "name": "python3"
  },
  "language_info": {
   "codemirror_mode": {
    "name": "ipython",
    "version": 2
   },
   "file_extension": ".py",
   "mimetype": "text/x-python",
   "name": "python",
   "nbconvert_exporter": "python",
   "pygments_lexer": "ipython2",
   "version": "2.7.6"
  }
 },
 "nbformat": 4,
 "nbformat_minor": 5
}
